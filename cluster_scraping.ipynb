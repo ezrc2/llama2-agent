{
 "cells": [
  {
   "cell_type": "code",
   "execution_count": 1,
   "id": "e6d2ba63-d529-47a9-a0e2-b777ba67e698",
   "metadata": {},
   "outputs": [],
   "source": [
    "import utils\n",
    "from bs4 import BeautifulSoup\n",
    "import requests\n",
    "import trafilatura\n",
    "from trafilatura import fetch_url, extract\n",
    "from trafilatura.settings import use_config"
   ]
  },
  {
   "cell_type": "code",
   "execution_count": 2,
   "id": "e809effb-b7ec-4da6-b586-96d8ef0a1592",
   "metadata": {},
   "outputs": [],
   "source": [
    "headers = {'user-agent': 'Mozilla/5.0 (X11; Linux x86_64) AppleWebKit/537.36 (KHTML, like Gecko) Chrome/86.0.4240.111 Safari/537.36'}\n",
    "\n",
    "### testing links\n",
    "tab_links = ['https://cs.illinois.edu/', \n",
    "             'https://cs.illinois.edu/about/people/department-faculty', \n",
    "             'https://cs.illinois.edu/academics/undergraduate/degree-program-options'\n",
    "             'https://cs.illinois.edu/academics/courses',\n",
    "             'https://cs.illinois.edu/research'\n",
    "            ]\n",
    "text_links = ['https://cs.illinois.edu/research/areas/artificial-intelligence', \n",
    "              'https://cs.illinois.edu/research/areas/data-and-information-systems',\n",
    "              'https://cs.illinois.edu/academics/undergraduate/registration',\n",
    "              'https://cs.illinois.edu/student-life/student-organizations',\n",
    "              'https://cs.illinois.edu/academics/graduate',\n",
    "              'http://catalog.illinois.edu/courses-of-instruction/cs/'\n",
    "             ]"
   ]
  },
  {
   "cell_type": "markdown",
   "id": "da99a969-419c-4ec0-a9a0-e2338015dc3d",
   "metadata": {},
   "source": [
    "### Previous methods"
   ]
  },
  {
   "cell_type": "code",
   "execution_count": 3,
   "id": "ea9f64da-b991-4f9d-9e94-152a45718c91",
   "metadata": {},
   "outputs": [
    {
     "data": {
      "text/plain": [
       "['Undergraduates at Illinois Computer Science are an important part of our world-renowned research. From summer programs to paid research positions with faculty, there are multiple ways for our students to contribute to high impact research early in their careers.',\n",
       " 'Lectures and discussions on current work in research and development in nuclear engineering and related fields by staff, advanced students, and visiting speakers.',\n",
       " '3038 Campus Instructional Facility, 1405 W. Springfield Avenue, Urbana, IL',\n",
       " 'CHBE 565 Seminar, Prof. Matthew Gebbie, University of Wisconsin-Madison (host: Kenis), \"Exploring How Ionic Correlations Influence Ion Transport and Electron Transfer in Electrochemical Systems\"',\n",
       " '100 Materials Science and Engineering Building, 1304 W. Green Street',\n",
       " 'Thomas M. Siebel Center for Computer Science']"
      ]
     },
     "execution_count": 3,
     "metadata": {},
     "output_type": "execute_result"
    }
   ],
   "source": [
    "test = 'https://cs.illinois.edu/research/undergraduate-research'\n",
    "utils.extract_paragraphs(test) # <p> tags only"
   ]
  },
  {
   "cell_type": "code",
   "execution_count": 4,
   "id": "5c99a5c3-b2bb-4e37-9c08-65b74fd19074",
   "metadata": {},
   "outputs": [
    {
     "data": {
      "text/plain": [
       "'Apply to UIUC Make a Gift Undergraduates at Illinois Computer Science are an important part of our world-renowned research. From summer programs to paid research positions with faculty, there are multiple ways for our students to contribute to high impact research early in their careers. No events found Physics Colloquium: \"Efficient Programmable Quantum Simulation of Correlated Bosons and Lattice Gauge Theories\" Steven Girvin (Yale) Loomis Lab 141 and via Zoom NPRE Special Seminar - Bo Feng Lectures and discussions on current work in research and development in nuclear engineering and related fields by staff, advanced students, and visiting speakers. Bo Feng, National Technical Director for DOE-NE Fast Reactor R&D Program; Reactor and Fuel Cycle Analysis Manager at Argonne National Laboratory 3038 Campus Instructional Facility, 1405 W. Springfield Avenue, Urbana, IL SE 290 - Rob Cotner 151 Loomis Mathematical and Theoretical Physics Seminar: Aspect of Symmetry and Branes in Holography Ibrahima Bah, Johns Hopkins University Loomis Room 464 CHBE 565 Seminar, Prof. Matthew Gebbie, University of Wisconsin-Madison (host: Kenis), \"Exploring How Ionic Correlations Influence Ion Transport and Electron Transfer in Electrochemical Systems\" 116 Roger Adams Laboratory Hard Materials Seminar - \"Isolating the Effects of Thixotropy in Geopolymer Pastes\" Ally Brandvold (Kriven) 100 Materials Science and Engineering Building, 1304 W. Green Street'"
      ]
     },
     "execution_count": 4,
     "metadata": {},
     "output_type": "execute_result"
    }
   ],
   "source": [
    "utils.extract_paragraphs_trafilatura(test) # trafilatura baseline function"
   ]
  },
  {
   "cell_type": "code",
   "execution_count": 5,
   "id": "72bcd64a-66f8-46ee-b5d1-1665d788c065",
   "metadata": {},
   "outputs": [
    {
     "data": {
      "text/plain": [
       "'Research Opportunities for Undergraduates\\nUndergraduates at Illinois Computer Science are an important part of our world-renowned research. From summer programs to paid research positions with faculty, there are multiple ways for our students to contribute to high impact research early in their careers.\\nYear Long Research Opportunities\\n- CS Student Ambassador/Research Scholars (CS STARS) - A CS department program designed for University of Illinois undergraduate students who are interested in pursuing research while also serving as departmental leaders and community builders.\\n- Illinois Scholars Undergraduate Research (ISUR) Program - A college of engineering wide program. ISUR includes multiple components, from a research focused seminar to a number of paid undergraduate research programs. ISUR programs follow an apprenticeship model, where students work closely with faculty mentors. Some distinct programs supported by ISUR include:\\n- Clare Boothe Luce Research Scholars - An ISUR affiliated program to support women undergraduates in research and teaching in science, mathematics, and engineering. Eight scholars are selected and funded each year.\\n- C3SR-Undergraduate Research in Artificial Intelligence - An IBM-ILLINOIS and ISUR partnership which funds undergraduate research on AI and cognitive computing, from theory to practical application. Students additionally worked with a C3SR faculty mentor.\\n- The National Center for Supercomputing Applications (NCSA) SPIN - An academic year long internship program where Illinois undergraduate students get to participate in high-impact work in the fields of supercomputing, visualization, data analytics, and other similar fields. Pay covers 5 hours a week toward exciting research opportunities.\\nSemester Long Research Opportunities\\n- CS Job Portal - Our department\\'s employment opportunities include course assistant and undergraduate research positions.\\n- PURE - Promoting Undergraduate Research in Engineering is a semester long , student-run research program where freshmen and sophomore students are connected with graduate student mentors to get an early jump-start in their research career.\\nSummer Research Opportunities\\n- DaRin Butz Research Scholars - An ISUR-affliated program which offers undergraduate women funding for a 10 week summer research program. The program uses a learning-by-apprenticeship model for high impact work in computer science, aerospace, engineering, physics, or astronomy.\\n- The National Center for Supercomputing Applications (NCSA) INCLUSION program - INCLUSION is a 10 week program for applicants from underrepresented communities to work in pairs with mentors on research aimed towards social impact. All work is based around open source software development.\\n- Summer Research Program for Undergraduates (SRP) - In the SRP, students work on high impact research with university faculty while also attending professional development programming aimed at helping students become stronger researchers and strong candidates for graduate school.\\n- Mind in Vitro Undergraduate Summer Research Program - Undergraduate students in the program will work with faculty mentors and graduate students on topics related to the Mind in Vitro Expeditions in Computing Project. Students will participate in Illinois summer research program activities including networking and social events, weekly lunch and learn seminars covering topics such as research skills, presentation skills, information about graduate school, including applications, career opportunities, etc.\\nMentorship Opportunities\\n- Mentoring Undergraduates in Science and Engineering (MUSE) - A mentoring program for The Grainger College of Engineering. Undergraduates may apply to be mentored for a range of reasons, such as career development or research and thesis guidance.\\nShowcase Opportunities\\n- Engineering Research Fair - A research fair hosted by the College of Engineering every semester. The goal of this fair is for researchers to share their work, labs and companies to recruit researchers, and continue to inspire future generations of excellent research at Illinois.\\n- Undergraduate Research Symposium - A campus wide research symposium for undergraduate researchers to present the results of their research endeavors and gain valuable experience presenting work to a wide audience. Typically held in the late Spring.\\nComputer Science Undergraduate Research Events\\nNov 1, 2023 - Nov 1, 2024\\nNo events found\\nGrainger Engineering Seminars and Speakers\\nNov 1, 2023 - Nov 1, 2024\\nPhysics Colloquium: \"Efficient Programmable Quantum Simulation of Correlated Bosons and Lattice Gauge Theories\"\\nSteven Girvin (Yale)\\nLoomis Lab 141 and via Zoom\\nNPRE Special Seminar - Bo Feng\\nLectures and discussions on current work in research and development in nuclear engineering and related fields by staff, advanced students, and visiting speakers.\\nBo Feng, National Technical Director for DOE-NE Fast Reactor R&D Program; Reactor and Fuel Cycle Analysis Manager at Argonne National Laboratory\\n3038 Campus Instructional Facility, 1405 W. Springfield Avenue, Urbana, IL\\nMathematical and Theoretical Physics Seminar: Aspect of Symmetry and Branes in Holography\\nIbrahima Bah, Johns Hopkins University\\nLoomis Room 464\\nHard Materials Seminar - \"Isolating the Effects of Thixotropy in Geopolymer Pastes\"\\nAlly Brandvold (Kriven)\\n100 Materials Science and Engineering Building, 1304 W. Green Street'"
      ]
     },
     "execution_count": 5,
     "metadata": {},
     "output_type": "execute_result"
    }
   ],
   "source": [
    "downloaded = fetch_url(test)\n",
    "extract(downloaded) # trafilatura"
   ]
  },
  {
   "cell_type": "code",
   "execution_count": 6,
   "id": "8754d6f2-1614-4004-be10-4b5a73adddc2",
   "metadata": {},
   "outputs": [
    {
     "data": {
      "text/plain": [
       "'Research Opportunities for Undergraduates\\nUndergraduates at Illinois Computer Science are an important part of our world-renowned research. From summer programs to paid research positions with faculty, there are multiple ways for our students to contribute to high impact research early in their careers.\\nYear Long Research Opportunities\\n- CS Student Ambassador/Research Scholars (CS STARS) - A CS department program designed for University of Illinois undergraduate students who are interested in pursuing research while also serving as departmental leaders and community builders.\\n- Illinois Scholars Undergraduate Research (ISUR) Program - A college of engineering wide program. ISUR includes multiple components, from a research focused seminar to a number of paid undergraduate research programs. ISUR programs follow an apprenticeship model, where students work closely with faculty mentors. Some distinct programs supported by ISUR include:\\n- Clare Boothe Luce Research Scholars - An ISUR affiliated program to support women undergraduates in research and teaching in science, mathematics, and engineering. Eight scholars are selected and funded each year.\\n- C3SR-Undergraduate Research in Artificial Intelligence - An IBM-ILLINOIS and ISUR partnership which funds undergraduate research on AI and cognitive computing, from theory to practical application. Students additionally worked with a C3SR faculty mentor.\\n- The National Center for Supercomputing Applications (NCSA) SPIN - An academic year long internship program where Illinois undergraduate students get to participate in high-impact work in the fields of supercomputing, visualization, data analytics, and other similar fields. Pay covers 5 hours a week toward exciting research opportunities.\\nSemester Long Research Opportunities\\n- CS Job Portal - Our department\\'s employment opportunities include course assistant and undergraduate research positions.\\n- PURE - Promoting Undergraduate Research in Engineering is a semester long , student-run research program where freshmen and sophomore students are connected with graduate student mentors to get an early jump-start in their research career.\\nSummer Research Opportunities\\n- DaRin Butz Research Scholars - An ISUR-affliated program which offers undergraduate women funding for a 10 week summer research program. The program uses a learning-by-apprenticeship model for high impact work in computer science, aerospace, engineering, physics, or astronomy.\\n- The National Center for Supercomputing Applications (NCSA) INCLUSION program - INCLUSION is a 10 week program for applicants from underrepresented communities to work in pairs with mentors on research aimed towards social impact. All work is based around open source software development.\\n- Summer Research Program for Undergraduates (SRP) - In the SRP, students work on high impact research with university faculty while also attending professional development programming aimed at helping students become stronger researchers and strong candidates for graduate school.\\n- Mind in Vitro Undergraduate Summer Research Program - Undergraduate students in the program will work with faculty mentors and graduate students on topics related to the Mind in Vitro Expeditions in Computing Project. Students will participate in Illinois summer research program activities including networking and social events, weekly lunch and learn seminars covering topics such as research skills, presentation skills, information about graduate school, including applications, career opportunities, etc.\\nMentorship Opportunities\\n- Mentoring Undergraduates in Science and Engineering (MUSE) - A mentoring program for The Grainger College of Engineering. Undergraduates may apply to be mentored for a range of reasons, such as career development or research and thesis guidance.\\nShowcase Opportunities\\n- Engineering Research Fair - A research fair hosted by the College of Engineering every semester. The goal of this fair is for researchers to share their work, labs and companies to recruit researchers, and continue to inspire future generations of excellent research at Illinois.\\n- Undergraduate Research Symposium - A campus wide research symposium for undergraduate researchers to present the results of their research endeavors and gain valuable experience presenting work to a wide audience. Typically held in the late Spring.\\nNov 1, 2023 - Nov 1, 2024\\nNo events found\\nGrainger Engineering Seminars and Speakers\\nNov 1, 2023 - Nov 1, 2024\\nPhysics Colloquium: \"Efficient Programmable Quantum Simulation of Correlated Bosons and Lattice Gauge Theories\"\\nSteven Girvin (Yale)\\nLoomis Lab 141 and via Zoom\\nLectures and discussions on current work in research and development in nuclear engineering and related fields by staff, advanced students, and visiting speakers.\\nBo Feng, National Technical Director for DOE-NE Fast Reactor R&D Program; Reactor and Fuel Cycle Analysis Manager at Argonne National Laboratory\\n3038 Campus Instructional Facility, 1405 W. Springfield Avenue, Urbana, IL\\nIbrahima Bah, Johns Hopkins University\\nLoomis Room 464'"
      ]
     },
     "execution_count": 6,
     "metadata": {},
     "output_type": "execute_result"
    }
   ],
   "source": [
    "extract(downloaded, favor_precision=True, deduplicate=True)"
   ]
  },
  {
   "cell_type": "markdown",
   "id": "e7aec9fb-02f7-46eb-9bda-d453da2714b1",
   "metadata": {},
   "source": [
    "### Paragraphs + Lists + Clustering"
   ]
  },
  {
   "cell_type": "code",
   "execution_count": 8,
   "id": "a68f3014-2e72-48fd-b92e-0d32412aebe9",
   "metadata": {},
   "outputs": [
    {
     "data": {
      "text/plain": [
       "['Undergraduates at Illinois Computer Science are an important part of our world-renowned research. From summer programs to paid research positions with faculty, there are multiple ways for our students to contribute to high impact research early in their careers.',\n",
       " 'Lectures and discussions on current work in research and development in nuclear engineering and related fields by staff, advanced students, and visiting speakers.',\n",
       " '3038 Campus Instructional Facility, 1405 W. Springfield Avenue, Urbana, IL',\n",
       " 'CHBE 565 Seminar, Prof. Matthew Gebbie, University of Wisconsin-Madison (host: Kenis), \"Exploring How Ionic Correlations Influence Ion Transport and Electron Transfer in Electrochemical Systems\"',\n",
       " '100 Materials Science and Engineering Building, 1304 W. Green Street',\n",
       " 'Thomas M. Siebel Center for Computer Science']"
      ]
     },
     "execution_count": 8,
     "metadata": {},
     "output_type": "execute_result"
    }
   ],
   "source": [
    "page = requests.get(test, headers=headers)\n",
    "soup = BeautifulSoup(page.text, 'lxml')\n",
    "paragraphs = []\n",
    "for p in soup.find_all('p'):\n",
    "    text = p.get_text(strip=True, separator='\\n')\n",
    "    if '.' in text:\n",
    "        paragraphs.append(text)\n",
    "\n",
    "paragraphs"
   ]
  },
  {
   "cell_type": "code",
   "execution_count": 9,
   "id": "8ea7dfa5-47ab-40a4-a28d-73c9ef808976",
   "metadata": {},
   "outputs": [
    {
     "data": {
      "text/plain": [
       "['My.CS',\n",
       " 'Your path begins here.',\n",
       " 'Your path begins here.',\n",
       " 'B.S. in Computer Science',\n",
       " 'B.S. in Mathematics & Computer Science',\n",
       " 'B.S. in Statistics & Computer Science',\n",
       " 'Guidelines for Forming Ph.D. Committee',\n",
       " 'Ph.D. / M.S. Thesis Format Review Guidelines',\n",
       " 'B.S. in Computer Science',\n",
       " 'B.S. in Mathematics & Computer Science',\n",
       " 'B.S. in Statistics & Computer Science',\n",
       " 'B.S. in Computer Science',\n",
       " 'B.S. in Mathematics & Computer Science',\n",
       " 'B.S. in Statistics & Computer Science',\n",
       " 'B.S. in Computer Science',\n",
       " 'B.S. in Mathematics & Computer Science',\n",
       " 'B.S. in Statistics & Computer Science',\n",
       " 'Guidelines for Forming Ph.D. Committee',\n",
       " 'Ph.D. / M.S. Thesis Format Review Guidelines',\n",
       " 'Guidelines for Forming Ph.D. Committee',\n",
       " 'Ph.D. / M.S. Thesis Format Review Guidelines',\n",
       " 'Guidelines for Forming Ph.D. Committee',\n",
       " 'Ph.D. / M.S. Thesis Format Review Guidelines',\n",
       " 'Donald B. Gillies Memorial Lecture',\n",
       " 'Donald B. Gillies Memorial Lecture',\n",
       " 'Donald B. Gillies Memorial Lecture',\n",
       " 'Help ensure that Illinois continues to set a global standard for CS research and education.',\n",
       " 'B.S. in Computer Science',\n",
       " 'B.S. in Mathematics & Computer Science',\n",
       " 'B.S. in Statistics & Computer Science',\n",
       " 'B.S. in Computer Science',\n",
       " 'B.S. in Mathematics & Computer Science',\n",
       " 'B.S. in Statistics & Computer Science',\n",
       " 'B.S. in Computer Science',\n",
       " 'B.S. in Mathematics & Computer Science',\n",
       " 'B.S. in Statistics & Computer Science',\n",
       " 'B.S. in Computer Science',\n",
       " 'B.S. in Mathematics & Computer Science',\n",
       " 'B.S. in Statistics & Computer Science',\n",
       " 'B.S. in Computer Science',\n",
       " 'B.S. in Mathematics & Computer Science',\n",
       " 'B.S. in Statistics & Computer Science',\n",
       " 'B.S. in Computer Science',\n",
       " 'B.S. in Mathematics & Computer Science',\n",
       " 'B.S. in Statistics & Computer Science',\n",
       " 'Guidelines for Forming Ph.D. Committee',\n",
       " 'Ph.D. / M.S. Thesis Format Review Guidelines',\n",
       " 'Guidelines for Forming Ph.D. Committee',\n",
       " 'Ph.D. / M.S. Thesis Format Review Guidelines',\n",
       " 'Guidelines for Forming Ph.D. Committee',\n",
       " 'Ph.D. / M.S. Thesis Format Review Guidelines',\n",
       " 'Guidelines for Forming Ph.D. Committee',\n",
       " 'Ph.D. / M.S. Thesis Format Review Guidelines',\n",
       " 'Guidelines for Forming Ph.D. Committee',\n",
       " 'Ph.D. / M.S. Thesis Format Review Guidelines',\n",
       " 'Guidelines for Forming Ph.D. Committee',\n",
       " 'Ph.D. / M.S. Thesis Format Review Guidelines',\n",
       " 'Donald B. Gillies Memorial Lecture',\n",
       " 'Donald B. Gillies Memorial Lecture',\n",
       " 'Donald B. Gillies Memorial Lecture',\n",
       " 'Research Opportunities for Und...',\n",
       " 'Research Opportunities for Und...',\n",
       " '- A CS department program designed for University of Illinois undergraduate students who are interested in pursuing research while also serving as departmental leaders and community builders.',\n",
       " '- A college of engineering wide program. ISUR includes multiple components, from a research focused seminar to a number of paid undergraduate research programs. ISUR programs follow an apprenticeship model, where students work closely with faculty mentors. Some distinct programs supported by\\xa0ISUR include:',\n",
       " '- An ISUR affiliated program to support women undergraduates in research and teaching in science, mathematics, and engineering. Eight scholars are selected and funded each year.',\n",
       " '- An IBM-ILLINOIS and ISUR partnership which funds undergraduate research on AI and cognitive computing, from theory to practical application. Students additionally worked with a C3SR faculty mentor.',\n",
       " '- An ISUR affiliated program to support women undergraduates in research and teaching in science, mathematics, and engineering. Eight scholars are selected and funded each year.',\n",
       " '- An IBM-ILLINOIS and ISUR partnership which funds undergraduate research on AI and cognitive computing, from theory to practical application. Students additionally worked with a C3SR faculty mentor.',\n",
       " '- An academic year long internship program where Illinois undergraduate students get to participate in high-impact work in the fields of supercomputing, visualization, data analytics, and other similar fields. Pay covers 5 hours a week toward exciting research opportunities.',\n",
       " '- An ISUR affiliated program to support women undergraduates in research and teaching in science, mathematics, and engineering. Eight scholars are selected and funded each year.',\n",
       " '- An IBM-ILLINOIS and ISUR partnership which funds undergraduate research on AI and cognitive computing, from theory to practical application. Students additionally worked with a C3SR faculty mentor.',\n",
       " \"- Our department's employment opportunities include course assistant and undergraduate research positions.\",\n",
       " '- Promoting Undergraduate Research in Engineering is a semester long , student-run research program where freshmen and sophomore students are connected with graduate student mentors to get an early jump-start in their research career.',\n",
       " '- An ISUR-affliated program which offers undergraduate women funding for a 10 week summer research program. The program uses a learning-by-apprenticeship model for high impact work in computer science, aerospace, engineering, physics, or astronomy.',\n",
       " 'program - INCLUSION is a 10 week program for applicants from underrepresented communities to work in pairs with mentors on research aimed towards social impact. All work is based around open source software development.',\n",
       " '- In the SRP, students work on high impact research with university faculty while also attending professional development programming aimed at helping students become stronger researchers and strong candidates for graduate school.',\n",
       " '- \\xa0Undergraduate students in the program will work with faculty mentors and graduate students on topics related to the Mind in Vitro Expeditions in Computing Project.\\xa0 Students will participate in Illinois summer research program activities including networking and social events, weekly lunch and learn seminars covering topics such as research skills, presentation skills, information about graduate school, including applications, career opportunities, etc.',\n",
       " '- A mentoring program for The Grainger College of Engineering. Undergraduates may apply to be mentored for a range of reasons, such as career development or research and thesis guidance.',\n",
       " '- A research fair hosted by the College of Engineering every semester. The goal of this fair is for researchers to share their work, labs and companies to recruit researchers, and continue to inspire future generations of excellent research at Illinois.',\n",
       " '- A campus wide research symposium for undergraduate researchers to present the results of their research endeavors and gain valuable experience presenting work to a wide audience. Typically held in the late Spring.',\n",
       " 'head@cs.illinois.edu',\n",
       " 'academic@cs.illinois.edu',\n",
       " 'undergrad@cs.illinois.edu',\n",
       " 'grainger-marcom@illinois.edu']"
      ]
     },
     "execution_count": 9,
     "metadata": {},
     "output_type": "execute_result"
    }
   ],
   "source": [
    "elements = []\n",
    "uls = soup.find_all('ul')\n",
    "for ul in uls:\n",
    "    for li in ul.findAll('li'):\n",
    "        text = li.get_text(strip=True, separator='\\n')\n",
    "        arr = text.split('\\n')\n",
    "        for a in arr:\n",
    "            if '.' in a:\n",
    "                elements.append(a)\n",
    "\n",
    "elements"
   ]
  },
  {
   "cell_type": "markdown",
   "id": "ab515a99-a584-4167-b44c-1588951612ee",
   "metadata": {},
   "source": [
    "### Clustering"
   ]
  },
  {
   "cell_type": "code",
   "execution_count": 51,
   "id": "8c3a9667-2393-42e4-8bcc-7d8ed0ce2a21",
   "metadata": {},
   "outputs": [],
   "source": [
    "import numpy as np\n",
    "from sklearn.feature_extraction.text import TfidfVectorizer\n",
    "from sklearn.cluster import KMeans\n",
    "from sklearn.metrics import silhouette_score\n",
    "from sklearn.preprocessing import StandardScaler"
   ]
  },
  {
   "cell_type": "code",
   "execution_count": 52,
   "id": "ce607db9-8a15-4be4-8b44-70da60e602a0",
   "metadata": {},
   "outputs": [],
   "source": [
    "total = paragraphs + elements\n",
    "total = list(set(total))\n",
    "\n",
    "tfidf_vectorizer = TfidfVectorizer()\n",
    "tfidf_matrix = tfidf_vectorizer.fit_transform(total)"
   ]
  },
  {
   "cell_type": "code",
   "execution_count": 53,
   "id": "9b1ecf04-bc2b-48a7-bfee-be41a3bd4fce",
   "metadata": {},
   "outputs": [
    {
     "data": {
      "text/html": [
       "<style>#sk-container-id-2 {color: black;background-color: white;}#sk-container-id-2 pre{padding: 0;}#sk-container-id-2 div.sk-toggleable {background-color: white;}#sk-container-id-2 label.sk-toggleable__label {cursor: pointer;display: block;width: 100%;margin-bottom: 0;padding: 0.3em;box-sizing: border-box;text-align: center;}#sk-container-id-2 label.sk-toggleable__label-arrow:before {content: \"▸\";float: left;margin-right: 0.25em;color: #696969;}#sk-container-id-2 label.sk-toggleable__label-arrow:hover:before {color: black;}#sk-container-id-2 div.sk-estimator:hover label.sk-toggleable__label-arrow:before {color: black;}#sk-container-id-2 div.sk-toggleable__content {max-height: 0;max-width: 0;overflow: hidden;text-align: left;background-color: #f0f8ff;}#sk-container-id-2 div.sk-toggleable__content pre {margin: 0.2em;color: black;border-radius: 0.25em;background-color: #f0f8ff;}#sk-container-id-2 input.sk-toggleable__control:checked~div.sk-toggleable__content {max-height: 200px;max-width: 100%;overflow: auto;}#sk-container-id-2 input.sk-toggleable__control:checked~label.sk-toggleable__label-arrow:before {content: \"▾\";}#sk-container-id-2 div.sk-estimator input.sk-toggleable__control:checked~label.sk-toggleable__label {background-color: #d4ebff;}#sk-container-id-2 div.sk-label input.sk-toggleable__control:checked~label.sk-toggleable__label {background-color: #d4ebff;}#sk-container-id-2 input.sk-hidden--visually {border: 0;clip: rect(1px 1px 1px 1px);clip: rect(1px, 1px, 1px, 1px);height: 1px;margin: -1px;overflow: hidden;padding: 0;position: absolute;width: 1px;}#sk-container-id-2 div.sk-estimator {font-family: monospace;background-color: #f0f8ff;border: 1px dotted black;border-radius: 0.25em;box-sizing: border-box;margin-bottom: 0.5em;}#sk-container-id-2 div.sk-estimator:hover {background-color: #d4ebff;}#sk-container-id-2 div.sk-parallel-item::after {content: \"\";width: 100%;border-bottom: 1px solid gray;flex-grow: 1;}#sk-container-id-2 div.sk-label:hover label.sk-toggleable__label {background-color: #d4ebff;}#sk-container-id-2 div.sk-serial::before {content: \"\";position: absolute;border-left: 1px solid gray;box-sizing: border-box;top: 0;bottom: 0;left: 50%;z-index: 0;}#sk-container-id-2 div.sk-serial {display: flex;flex-direction: column;align-items: center;background-color: white;padding-right: 0.2em;padding-left: 0.2em;position: relative;}#sk-container-id-2 div.sk-item {position: relative;z-index: 1;}#sk-container-id-2 div.sk-parallel {display: flex;align-items: stretch;justify-content: center;background-color: white;position: relative;}#sk-container-id-2 div.sk-item::before, #sk-container-id-2 div.sk-parallel-item::before {content: \"\";position: absolute;border-left: 1px solid gray;box-sizing: border-box;top: 0;bottom: 0;left: 50%;z-index: -1;}#sk-container-id-2 div.sk-parallel-item {display: flex;flex-direction: column;z-index: 1;position: relative;background-color: white;}#sk-container-id-2 div.sk-parallel-item:first-child::after {align-self: flex-end;width: 50%;}#sk-container-id-2 div.sk-parallel-item:last-child::after {align-self: flex-start;width: 50%;}#sk-container-id-2 div.sk-parallel-item:only-child::after {width: 0;}#sk-container-id-2 div.sk-dashed-wrapped {border: 1px dashed gray;margin: 0 0.4em 0.5em 0.4em;box-sizing: border-box;padding-bottom: 0.4em;background-color: white;}#sk-container-id-2 div.sk-label label {font-family: monospace;font-weight: bold;display: inline-block;line-height: 1.2em;}#sk-container-id-2 div.sk-label-container {text-align: center;}#sk-container-id-2 div.sk-container {/* jupyter's `normalize.less` sets `[hidden] { display: none; }` but bootstrap.min.css set `[hidden] { display: none !important; }` so we also need the `!important` here to be able to override the default hidden behavior on the sphinx rendered scikit-learn.org. See: https://github.com/scikit-learn/scikit-learn/issues/21755 */display: inline-block !important;position: relative;}#sk-container-id-2 div.sk-text-repr-fallback {display: none;}</style><div id=\"sk-container-id-2\" class=\"sk-top-container\"><div class=\"sk-text-repr-fallback\"><pre>KMeans(n_clusters=4, n_init=5, random_state=42)</pre><b>In a Jupyter environment, please rerun this cell to show the HTML representation or trust the notebook. <br />On GitHub, the HTML representation is unable to render, please try loading this page with nbviewer.org.</b></div><div class=\"sk-container\" hidden><div class=\"sk-item\"><div class=\"sk-estimator sk-toggleable\"><input class=\"sk-toggleable__control sk-hidden--visually\" id=\"sk-estimator-id-2\" type=\"checkbox\" checked><label for=\"sk-estimator-id-2\" class=\"sk-toggleable__label sk-toggleable__label-arrow\">KMeans</label><div class=\"sk-toggleable__content\"><pre>KMeans(n_clusters=4, n_init=5, random_state=42)</pre></div></div></div></div></div>"
      ],
      "text/plain": [
       "KMeans(n_clusters=4, n_init=5, random_state=42)"
      ]
     },
     "execution_count": 53,
     "metadata": {},
     "output_type": "execute_result"
    }
   ],
   "source": [
    "k = 4\n",
    "kmeans = KMeans(n_clusters=k, n_init=5, random_state=42)\n",
    "kmeans.fit(tfidf_matrix)"
   ]
  },
  {
   "cell_type": "code",
   "execution_count": 54,
   "id": "6a369961-5593-4a72-a5a7-c7150294241a",
   "metadata": {},
   "outputs": [
    {
     "data": {
      "text/plain": [
       "0.06621329110330104"
      ]
     },
     "execution_count": 54,
     "metadata": {},
     "output_type": "execute_result"
    }
   ],
   "source": [
    "silhouette_avg = silhouette_score(tfidf_matrix, kmeans.labels_)\n",
    "silhouette_avg"
   ]
  },
  {
   "cell_type": "code",
   "execution_count": 56,
   "id": "eb58fd8b-762c-4a38-b7be-f4b88be626cd",
   "metadata": {},
   "outputs": [],
   "source": [
    "clusters = {}\n",
    "for cluster_num in range(k):\n",
    "    clusters[cluster_num] = []\n",
    "    cluster_texts = [total[i] for i in range(len(total)) if kmeans.labels_[i] == cluster_num]\n",
    "    for t in cluster_texts:\n",
    "        clusters[cluster_num].append(t)"
   ]
  },
  {
   "cell_type": "code",
   "execution_count": 57,
   "id": "4be239ec-d8c0-459d-8f53-e4034f68d474",
   "metadata": {},
   "outputs": [
    {
     "name": "stdout",
     "output_type": "stream",
     "text": [
      "Cluster 0:\n",
      "['- An ISUR affiliated program to support women undergraduates in research and teaching in science, mathematics, and engineering. Eight scholars are selected and funded each year.', 'Donald B. Gillies Memorial Lecture', 'Your path begins here.', '3038 Campus Instructional Facility, 1405 W. Springfield Avenue, Urbana, IL', '100 Materials Science and Engineering Building, 1304 W. Green Street', '- An ISUR-affliated program which offers undergraduate women funding for a 10 week summer research program. The program uses a learning-by-apprenticeship model for high impact work in computer science, aerospace, engineering, physics, or astronomy.', 'CHBE 565 Seminar, Prof. Matthew Gebbie, University of Wisconsin-Madison (host: Kenis), \"Exploring How Ionic Correlations Influence Ion Transport and Electron Transfer in Electrochemical Systems\"', '- An IBM-ILLINOIS and ISUR partnership which funds undergraduate research on AI and cognitive computing, from theory to practical application. Students additionally worked with a C3SR faculty mentor.', 'Guidelines for Forming Ph.D. Committee', '- A mentoring program for The Grainger College of Engineering. Undergraduates may apply to be mentored for a range of reasons, such as career development or research and thesis guidance.', 'Ph.D. / M.S. Thesis Format Review Guidelines', 'Lectures and discussions on current work in research and development in nuclear engineering and related fields by staff, advanced students, and visiting speakers.']\n",
      "\n",
      "Cluster 1:\n",
      "['B.S. in Computer Science', 'B.S. in Statistics & Computer Science', 'B.S. in Mathematics & Computer Science', 'Thomas M. Siebel Center for Computer Science']\n",
      "\n",
      "Cluster 2:\n",
      "['academic@cs.illinois.edu', 'Help ensure that Illinois continues to set a global standard for CS research and education.', 'grainger-marcom@illinois.edu', 'My.CS', 'undergrad@cs.illinois.edu', 'head@cs.illinois.edu']\n",
      "\n",
      "Cluster 3:\n",
      "['- Promoting Undergraduate Research in Engineering is a semester long , student-run research program where freshmen and sophomore students are connected with graduate student mentors to get an early jump-start in their research career.', '- A research fair hosted by the College of Engineering every semester. The goal of this fair is for researchers to share their work, labs and companies to recruit researchers, and continue to inspire future generations of excellent research at Illinois.', '- A campus wide research symposium for undergraduate researchers to present the results of their research endeavors and gain valuable experience presenting work to a wide audience. Typically held in the late Spring.', '- A college of engineering wide program. ISUR includes multiple components, from a research focused seminar to a number of paid undergraduate research programs. ISUR programs follow an apprenticeship model, where students work closely with faculty mentors. Some distinct programs supported by\\xa0ISUR include:', '- An academic year long internship program where Illinois undergraduate students get to participate in high-impact work in the fields of supercomputing, visualization, data analytics, and other similar fields. Pay covers 5 hours a week toward exciting research opportunities.', \"- Our department's employment opportunities include course assistant and undergraduate research positions.\", '- \\xa0Undergraduate students in the program will work with faculty mentors and graduate students on topics related to the Mind in Vitro Expeditions in Computing Project.\\xa0 Students will participate in Illinois summer research program activities including networking and social events, weekly lunch and learn seminars covering topics such as research skills, presentation skills, information about graduate school, including applications, career opportunities, etc.', '- A CS department program designed for University of Illinois undergraduate students who are interested in pursuing research while also serving as departmental leaders and community builders.', '- In the SRP, students work on high impact research with university faculty while also attending professional development programming aimed at helping students become stronger researchers and strong candidates for graduate school.', 'Research Opportunities for Und...', 'program - INCLUSION is a 10 week program for applicants from underrepresented communities to work in pairs with mentors on research aimed towards social impact. All work is based around open source software development.', 'Undergraduates at Illinois Computer Science are an important part of our world-renowned research. From summer programs to paid research positions with faculty, there are multiple ways for our students to contribute to high impact research early in their careers.']\n",
      "\n"
     ]
    }
   ],
   "source": [
    "for k in clusters.keys():\n",
    "    print(f'Cluster {k}:')\n",
    "    print(clusters[k])\n",
    "    print()"
   ]
  },
  {
   "cell_type": "markdown",
   "id": "de3e7b21-73ce-4e5f-a98e-4417170b2b9a",
   "metadata": {},
   "source": [
    "### Comparing clustering with different scraping methods"
   ]
  },
  {
   "cell_type": "code",
   "execution_count": 82,
   "id": "d0ade570-b405-4617-894d-eb73a4fc2d0f",
   "metadata": {},
   "outputs": [],
   "source": [
    "def cluster_texts(lst, k=4):\n",
    "    lst = list(set(lst))\n",
    "    tfidf_vectorizer = TfidfVectorizer()\n",
    "    tfidf_matrix = tfidf_vectorizer.fit_transform(lst)\n",
    "    kmeans = KMeans(n_clusters=k, n_init=5, random_state=42)\n",
    "    kmeans.fit(tfidf_matrix)\n",
    "    silhouette_avg = silhouette_score(tfidf_matrix, kmeans.labels_)\n",
    "\n",
    "    clusters = {}\n",
    "    for cluster_num in range(k):\n",
    "        clusters[cluster_num] = []\n",
    "        cluster_texts = [lst[i] for i in range(len(lst)) if kmeans.labels_[i] == cluster_num]\n",
    "        for t in cluster_texts:\n",
    "            clusters[cluster_num].append(t)\n",
    "    \n",
    "    return clusters, silhouette_avg"
   ]
  },
  {
   "cell_type": "code",
   "execution_count": 83,
   "id": "16ccca51-b6e4-4f7e-bd50-7fb07d22b3a6",
   "metadata": {},
   "outputs": [
    {
     "name": "stdout",
     "output_type": "stream",
     "text": [
      "0.06621329110330104\n",
      "Cluster 1:\n",
      " ['- An ISUR affiliated program to support women undergraduates in research and teaching in science, mathematics, and engineering. Eight scholars are selected and funded each year.', 'Donald B. Gillies Memorial Lecture', 'Your path begins here.', '3038 Campus Instructional Facility, 1405 W. Springfield Avenue, Urbana, IL', '100 Materials Science and Engineering Building, 1304 W. Green Street', '- An ISUR-affliated program which offers undergraduate women funding for a 10 week summer research program. The program uses a learning-by-apprenticeship model for high impact work in computer science, aerospace, engineering, physics, or astronomy.', 'CHBE 565 Seminar, Prof. Matthew Gebbie, University of Wisconsin-Madison (host: Kenis), \"Exploring How Ionic Correlations Influence Ion Transport and Electron Transfer in Electrochemical Systems\"', '- An IBM-ILLINOIS and ISUR partnership which funds undergraduate research on AI and cognitive computing, from theory to practical application. Students additionally worked with a C3SR faculty mentor.', 'Guidelines for Forming Ph.D. Committee', '- A mentoring program for The Grainger College of Engineering. Undergraduates may apply to be mentored for a range of reasons, such as career development or research and thesis guidance.', 'Ph.D. / M.S. Thesis Format Review Guidelines', 'Lectures and discussions on current work in research and development in nuclear engineering and related fields by staff, advanced students, and visiting speakers.']\n",
      "\n",
      "Cluster 2:\n",
      " ['B.S. in Computer Science', 'B.S. in Statistics & Computer Science', 'B.S. in Mathematics & Computer Science', 'Thomas M. Siebel Center for Computer Science']\n",
      "\n",
      "Cluster 3:\n",
      " ['academic@cs.illinois.edu', 'Help ensure that Illinois continues to set a global standard for CS research and education.', 'grainger-marcom@illinois.edu', 'My.CS', 'undergrad@cs.illinois.edu', 'head@cs.illinois.edu']\n",
      "\n",
      "Cluster 4:\n",
      " ['- Promoting Undergraduate Research in Engineering is a semester long , student-run research program where freshmen and sophomore students are connected with graduate student mentors to get an early jump-start in their research career.', '- A research fair hosted by the College of Engineering every semester. The goal of this fair is for researchers to share their work, labs and companies to recruit researchers, and continue to inspire future generations of excellent research at Illinois.', '- A campus wide research symposium for undergraduate researchers to present the results of their research endeavors and gain valuable experience presenting work to a wide audience. Typically held in the late Spring.', '- A college of engineering wide program. ISUR includes multiple components, from a research focused seminar to a number of paid undergraduate research programs. ISUR programs follow an apprenticeship model, where students work closely with faculty mentors. Some distinct programs supported by\\xa0ISUR include:', '- An academic year long internship program where Illinois undergraduate students get to participate in high-impact work in the fields of supercomputing, visualization, data analytics, and other similar fields. Pay covers 5 hours a week toward exciting research opportunities.', \"- Our department's employment opportunities include course assistant and undergraduate research positions.\", '- \\xa0Undergraduate students in the program will work with faculty mentors and graduate students on topics related to the Mind in Vitro Expeditions in Computing Project.\\xa0 Students will participate in Illinois summer research program activities including networking and social events, weekly lunch and learn seminars covering topics such as research skills, presentation skills, information about graduate school, including applications, career opportunities, etc.', '- A CS department program designed for University of Illinois undergraduate students who are interested in pursuing research while also serving as departmental leaders and community builders.', '- In the SRP, students work on high impact research with university faculty while also attending professional development programming aimed at helping students become stronger researchers and strong candidates for graduate school.', 'Research Opportunities for Und...', 'program - INCLUSION is a 10 week program for applicants from underrepresented communities to work in pairs with mentors on research aimed towards social impact. All work is based around open source software development.', 'Undergraduates at Illinois Computer Science are an important part of our world-renowned research. From summer programs to paid research positions with faculty, there are multiple ways for our students to contribute to high impact research early in their careers.']\n",
      "\n"
     ]
    }
   ],
   "source": [
    "text = utils.extract_paragraphs_lists(test)\n",
    "clusters, score = cluster_texts(text)\n",
    "print(score)\n",
    "for k in clusters.keys():\n",
    "    print(f'Cluster {k+1}:\\n {clusters[k]}\\n')"
   ]
  },
  {
   "cell_type": "code",
   "execution_count": 84,
   "id": "c1ddc509-c7a5-4a67-8033-64506da91f15",
   "metadata": {},
   "outputs": [
    {
     "name": "stdout",
     "output_type": "stream",
     "text": [
      "0.030369897018214645\n",
      "Cluster 1:\n",
      " ['CHBE 565 Seminar, Prof. Matthew Gebbie, University of Wisconsin-Madison (host: Kenis), \"Exploring How Ionic Correlations Influence Ion Transport and Electron Transfer in Electrochemical Systems\"']\n",
      "\n",
      "Cluster 2:\n",
      " ['Thomas M. Siebel Center for Computer Science', 'Undergraduates at Illinois Computer Science are an important part of our world-renowned research. From summer programs to paid research positions with faculty, there are multiple ways for our students to contribute to high impact research early in their careers.']\n",
      "\n",
      "Cluster 3:\n",
      " ['3038 Campus Instructional Facility, 1405 W. Springfield Avenue, Urbana, IL']\n",
      "\n",
      "Cluster 4:\n",
      " ['100 Materials Science and Engineering Building, 1304 W. Green Street', 'Lectures and discussions on current work in research and development in nuclear engineering and related fields by staff, advanced students, and visiting speakers.']\n",
      "\n"
     ]
    }
   ],
   "source": [
    "text = utils.extract_paragraphs(test) # <p> tags only\n",
    "clusters, score = cluster_texts(text)\n",
    "print(score)\n",
    "for k in clusters.keys():\n",
    "    print(f'Cluster {k+1}:\\n {clusters[k]}\\n')"
   ]
  },
  {
   "cell_type": "code",
   "execution_count": 86,
   "id": "87c8052b-0063-465b-8e83-91d243e65705",
   "metadata": {},
   "outputs": [
    {
     "name": "stdout",
     "output_type": "stream",
     "text": [
      "0.053204351475669445\n",
      "Cluster 1:\n",
      " [' Matthew Gebbie, University of Wisconsin-Madison (host: Kenis), \"Exploring How Ionic Correlations Influence Ion Transport and Electron Transfer in Electrochemical Systems\" 116 Roger Adams Laboratory Hard Materials Seminar - \"Isolating the Effects of Thixotropy in Geopolymer Pastes\" Ally Brandvold (Kriven) 100 Materials Science and Engineering Building, 1304 W', ' No events found Physics Colloquium: \"Efficient Programmable Quantum Simulation of Correlated Bosons and Lattice Gauge Theories\" Steven Girvin (Yale) Loomis Lab 141 and via Zoom NPRE Special Seminar - Bo Feng Lectures and discussions on current work in research and development in nuclear engineering and related fields by staff, advanced students, and visiting speakers', ' Springfield Avenue, Urbana, IL SE 290 - Rob Cotner 151 Loomis Mathematical and Theoretical Physics Seminar: Aspect of Symmetry and Branes in Holography Ibrahima Bah, Johns Hopkins University Loomis Room 464 CHBE 565 Seminar, Prof']\n",
      "\n",
      "Cluster 2:\n",
      " ['Apply to UIUC Make a Gift Undergraduates at Illinois Computer Science are an important part of our world-renowned research', ' From summer programs to paid research positions with faculty, there are multiple ways for our students to contribute to high impact research early in their careers']\n",
      "\n",
      "Cluster 3:\n",
      " [' Bo Feng, National Technical Director for DOE-NE Fast Reactor R&D Program; Reactor and Fuel Cycle Analysis Manager at Argonne National Laboratory 3038 Campus Instructional Facility, 1405 W']\n",
      "\n",
      "Cluster 4:\n",
      " [' Green Street']\n",
      "\n"
     ]
    }
   ],
   "source": [
    "text = utils.extract_paragraphs_trafilatura(test) # trafilatura baseline function\n",
    "clusters, score = cluster_texts(text.split('.'))\n",
    "print(score)\n",
    "for k in clusters.keys():\n",
    "    print(f'Cluster {k+1}:\\n {clusters[k]}\\n')"
   ]
  },
  {
   "cell_type": "code",
   "execution_count": 87,
   "id": "997224c4-97b0-49a4-84c2-b33e69904ee5",
   "metadata": {},
   "outputs": [
    {
     "name": "stdout",
     "output_type": "stream",
     "text": [
      "0.014361945275324587\n",
      "Cluster 1:\n",
      " [' Springfield Avenue, Urbana, IL\\nIbrahima Bah, Johns Hopkins University\\nLoomis Room 464']\n",
      "\n",
      "Cluster 2:\n",
      " ['\\nNov 1, 2023 - Nov 1, 2024\\nNo events found\\nGrainger Engineering Seminars and Speakers\\nNov 1, 2023 - Nov 1, 2024\\nPhysics Colloquium: \"Efficient Programmable Quantum Simulation of Correlated Bosons and Lattice Gauge Theories\"\\nSteven Girvin (Yale)\\nLoomis Lab 141 and via Zoom\\nLectures and discussions on current work in research and development in nuclear engineering and related fields by staff, advanced students, and visiting speakers', ' ISUR includes multiple components, from a research focused seminar to a number of paid undergraduate research programs', ' The program uses a learning-by-apprenticeship model for high impact work in computer science, aerospace, engineering, physics, or astronomy', '\\nBo Feng, National Technical Director for DOE-NE Fast Reactor R&D Program; Reactor and Fuel Cycle Analysis Manager at Argonne National Laboratory\\n3038 Campus Instructional Facility, 1405 W', '\\nSummer Research Opportunities\\n- DaRin Butz Research Scholars - An ISUR-affliated program which offers undergraduate women funding for a 10 week summer research program', '\\nShowcase Opportunities\\n- Engineering Research Fair - A research fair hosted by the College of Engineering every semester', ' Some distinct programs supported by ISUR include:\\n- Clare Boothe Luce Research Scholars - An ISUR affiliated program to support women undergraduates in research and teaching in science, mathematics, and engineering', '\\n- Illinois Scholars Undergraduate Research (ISUR) Program - A college of engineering wide program', '\\nMentorship Opportunities\\n- Mentoring Undergraduates in Science and Engineering (MUSE) - A mentoring program for The Grainger College of Engineering', 'Research Opportunities for Undergraduates\\nUndergraduates at Illinois Computer Science are an important part of our world-renowned research']\n",
      "\n",
      "Cluster 3:\n",
      " [' Undergraduates may apply to be mentored for a range of reasons, such as career development or research and thesis guidance', ' Eight scholars are selected and funded each year', '\\nYear Long Research Opportunities\\n- CS Student Ambassador/Research Scholars (CS STARS) - A CS department program designed for University of Illinois undergraduate students who are interested in pursuing research while also serving as departmental leaders and community builders', \"\\nSemester Long Research Opportunities\\n- CS Job Portal - Our department's employment opportunities include course assistant and undergraduate research positions\", ' Pay covers 5 hours a week toward exciting research opportunities']\n",
      "\n",
      "Cluster 4:\n",
      " ['\\n- Undergraduate Research Symposium - A campus wide research symposium for undergraduate researchers to present the results of their research endeavors and gain valuable experience presenting work to a wide audience', '\\n- The National Center for Supercomputing Applications (NCSA) SPIN - An academic year long internship program where Illinois undergraduate students get to participate in high-impact work in the fields of supercomputing, visualization, data analytics, and other similar fields', ' Students will participate in Illinois summer research program activities including networking and social events, weekly lunch and learn seminars covering topics such as research skills, presentation skills, information about graduate school, including applications, career opportunities, etc', ' Typically held in the late Spring', ' The goal of this fair is for researchers to share their work, labs and companies to recruit researchers, and continue to inspire future generations of excellent research at Illinois', ' ISUR programs follow an apprenticeship model, where students work closely with faculty mentors', ' From summer programs to paid research positions with faculty, there are multiple ways for our students to contribute to high impact research early in their careers', ' Students additionally worked with a C3SR faculty mentor', '\\n- Mind in Vitro Undergraduate Summer Research Program - Undergraduate students in the program will work with faculty mentors and graduate students on topics related to the Mind in Vitro Expeditions in Computing Project', '\\n- The National Center for Supercomputing Applications (NCSA) INCLUSION program - INCLUSION is a 10 week program for applicants from underrepresented communities to work in pairs with mentors on research aimed towards social impact', '\\n- C3SR-Undergraduate Research in Artificial Intelligence - An IBM-ILLINOIS and ISUR partnership which funds undergraduate research on AI and cognitive computing, from theory to practical application', ' All work is based around open source software development', '\\n- Summer Research Program for Undergraduates (SRP) - In the SRP, students work on high impact research with university faculty while also attending professional development programming aimed at helping students become stronger researchers and strong candidates for graduate school', '\\n- PURE - Promoting Undergraduate Research in Engineering is a semester long , student-run research program where freshmen and sophomore students are connected with graduate student mentors to get an early jump-start in their research career']\n",
      "\n"
     ]
    }
   ],
   "source": [
    "text = extract(downloaded, favor_precision=True, deduplicate=True) # trafilatura\n",
    "clusters, score = cluster_texts(text.split('.'))\n",
    "print(score)\n",
    "for k in clusters.keys():\n",
    "    print(f'Cluster {k+1}:\\n {clusters[k]}\\n')"
   ]
  },
  {
   "cell_type": "markdown",
   "id": "a1d9df01-393d-4969-baaf-49f036e84a9b",
   "metadata": {},
   "source": [
    "### Filter clusters"
   ]
  },
  {
   "cell_type": "code",
   "execution_count": 88,
   "id": "b87eacef-c819-49ff-8cf5-b19b785bf376",
   "metadata": {},
   "outputs": [
    {
     "name": "stdout",
     "output_type": "stream",
     "text": [
      "0.04537374758275532\n",
      "Cluster 1:\n",
      " ['- An ISUR affiliated program to support women undergraduates in research and teaching in science, mathematics, and engineering. Eight scholars are selected and funded each year.', '- A college of engineering wide program. ISUR includes multiple components, from a research focused seminar to a number of paid undergraduate research programs. ISUR programs follow an apprenticeship model, where students work closely with faculty mentors. Some distinct programs supported by\\xa0ISUR include:', '- An ISUR-affliated program which offers undergraduate women funding for a 10 week summer research program. The program uses a learning-by-apprenticeship model for high impact work in computer science, aerospace, engineering, physics, or astronomy.', '- An IBM-ILLINOIS and ISUR partnership which funds undergraduate research on AI and cognitive computing, from theory to practical application. Students additionally worked with a C3SR faculty mentor.', 'Guidelines for Forming Ph.D. Committee', '- A mentoring program for The Grainger College of Engineering. Undergraduates may apply to be mentored for a range of reasons, such as career development or research and thesis guidance.', 'program - INCLUSION is a 10 week program for applicants from underrepresented communities to work in pairs with mentors on research aimed towards social impact. All work is based around open source software development.', 'Undergraduates at Illinois Computer Science are an important part of our world-renowned research. From summer programs to paid research positions with faculty, there are multiple ways for our students to contribute to high impact research early in their careers.']\n",
      "\n",
      "Cluster 2:\n",
      " ['- Promoting Undergraduate Research in Engineering is a semester long , student-run research program where freshmen and sophomore students are connected with graduate student mentors to get an early jump-start in their research career.', '- A research fair hosted by the College of Engineering every semester. The goal of this fair is for researchers to share their work, labs and companies to recruit researchers, and continue to inspire future generations of excellent research at Illinois.', '- A campus wide research symposium for undergraduate researchers to present the results of their research endeavors and gain valuable experience presenting work to a wide audience. Typically held in the late Spring.', '- An academic year long internship program where Illinois undergraduate students get to participate in high-impact work in the fields of supercomputing, visualization, data analytics, and other similar fields. Pay covers 5 hours a week toward exciting research opportunities.', \"- Our department's employment opportunities include course assistant and undergraduate research positions.\", 'CHBE 565 Seminar, Prof. Matthew Gebbie, University of Wisconsin-Madison (host: Kenis), \"Exploring How Ionic Correlations Influence Ion Transport and Electron Transfer in Electrochemical Systems\"', '- \\xa0Undergraduate students in the program will work with faculty mentors and graduate students on topics related to the Mind in Vitro Expeditions in Computing Project.\\xa0 Students will participate in Illinois summer research program activities including networking and social events, weekly lunch and learn seminars covering topics such as research skills, presentation skills, information about graduate school, including applications, career opportunities, etc.', '- A CS department program designed for University of Illinois undergraduate students who are interested in pursuing research while also serving as departmental leaders and community builders.', '- In the SRP, students work on high impact research with university faculty while also attending professional development programming aimed at helping students become stronger researchers and strong candidates for graduate school.', 'Research Opportunities for Und...']\n",
      "\n",
      "Cluster 3:\n",
      " ['academic@cs.illinois.edu', 'Help ensure that Illinois continues to set a global standard for CS research and education.', 'grainger-marcom@illinois.edu', 'My.CS', 'Donald B. Gillies Memorial Lecture', 'Your path begins here.', 'undergrad@cs.illinois.edu', 'Ph.D. / M.S. Thesis Format Review Guidelines', 'head@cs.illinois.edu']\n",
      "\n",
      "Cluster 4:\n",
      " ['B.S. in Computer Science', '100 Materials Science and Engineering Building, 1304 W. Green Street', 'B.S. in Statistics & Computer Science', 'B.S. in Mathematics & Computer Science', 'Thomas M. Siebel Center for Computer Science']\n",
      "\n"
     ]
    }
   ],
   "source": [
    "text = utils.extract_paragraphs_lists(test)\n",
    "clusters, score = cluster_texts(text)\n",
    "print(score)\n",
    "for k in clusters.keys():\n",
    "    print(f'Cluster {k+1}:\\n {clusters[k]}\\n')"
   ]
  },
  {
   "cell_type": "code",
   "execution_count": 97,
   "id": "858768f0-e955-4dcf-a93b-6153a0e934dc",
   "metadata": {},
   "outputs": [],
   "source": [
    "avgs = {}\n",
    "for k in clusters.keys():\n",
    "    total = 0\n",
    "    for s in clusters[k]:\n",
    "        total += len(s)\n",
    "    avgs[k] = (total / len(clusters[k]))"
   ]
  },
  {
   "cell_type": "code",
   "execution_count": 98,
   "id": "e164c85f-c8d4-4a2a-9b94-ccf828a38a9a",
   "metadata": {},
   "outputs": [
    {
     "data": {
      "text/plain": [
       "{0: 204.375, 1: 219.1, 2: 32.55555555555556, 3: 42.2}"
      ]
     },
     "execution_count": 98,
     "metadata": {},
     "output_type": "execute_result"
    }
   ],
   "source": [
    "avgs"
   ]
  },
  {
   "cell_type": "code",
   "execution_count": 103,
   "id": "bca365bf-11ef-4d29-90cb-ff517370cf7b",
   "metadata": {},
   "outputs": [
    {
     "data": {
      "text/plain": [
       "124.55763888888889"
      ]
     },
     "execution_count": 103,
     "metadata": {},
     "output_type": "execute_result"
    }
   ],
   "source": [
    "threshold = sum(avgs.values()) / 4\n",
    "threshold"
   ]
  },
  {
   "cell_type": "code",
   "execution_count": 105,
   "id": "83f1feb8-30f7-4d31-8627-d9fc2f945950",
   "metadata": {},
   "outputs": [],
   "source": [
    "result = {}\n",
    "for k in clusters.keys():\n",
    "    if avgs[k] > threshold:\n",
    "        result[k] = clusters[k]"
   ]
  },
  {
   "cell_type": "code",
   "execution_count": 107,
   "id": "a8bb55be-073e-434f-9e24-7209b92fa0b3",
   "metadata": {},
   "outputs": [
    {
     "name": "stdout",
     "output_type": "stream",
     "text": [
      "Cluster 1:\n",
      " ['- An ISUR affiliated program to support women undergraduates in research and teaching in science, mathematics, and engineering. Eight scholars are selected and funded each year.', '- A college of engineering wide program. ISUR includes multiple components, from a research focused seminar to a number of paid undergraduate research programs. ISUR programs follow an apprenticeship model, where students work closely with faculty mentors. Some distinct programs supported by\\xa0ISUR include:', '- An ISUR-affliated program which offers undergraduate women funding for a 10 week summer research program. The program uses a learning-by-apprenticeship model for high impact work in computer science, aerospace, engineering, physics, or astronomy.', '- An IBM-ILLINOIS and ISUR partnership which funds undergraduate research on AI and cognitive computing, from theory to practical application. Students additionally worked with a C3SR faculty mentor.', 'Guidelines for Forming Ph.D. Committee', '- A mentoring program for The Grainger College of Engineering. Undergraduates may apply to be mentored for a range of reasons, such as career development or research and thesis guidance.', 'program - INCLUSION is a 10 week program for applicants from underrepresented communities to work in pairs with mentors on research aimed towards social impact. All work is based around open source software development.', 'Undergraduates at Illinois Computer Science are an important part of our world-renowned research. From summer programs to paid research positions with faculty, there are multiple ways for our students to contribute to high impact research early in their careers.']\n",
      "\n",
      "Cluster 2:\n",
      " ['- Promoting Undergraduate Research in Engineering is a semester long , student-run research program where freshmen and sophomore students are connected with graduate student mentors to get an early jump-start in their research career.', '- A research fair hosted by the College of Engineering every semester. The goal of this fair is for researchers to share their work, labs and companies to recruit researchers, and continue to inspire future generations of excellent research at Illinois.', '- A campus wide research symposium for undergraduate researchers to present the results of their research endeavors and gain valuable experience presenting work to a wide audience. Typically held in the late Spring.', '- An academic year long internship program where Illinois undergraduate students get to participate in high-impact work in the fields of supercomputing, visualization, data analytics, and other similar fields. Pay covers 5 hours a week toward exciting research opportunities.', \"- Our department's employment opportunities include course assistant and undergraduate research positions.\", 'CHBE 565 Seminar, Prof. Matthew Gebbie, University of Wisconsin-Madison (host: Kenis), \"Exploring How Ionic Correlations Influence Ion Transport and Electron Transfer in Electrochemical Systems\"', '- \\xa0Undergraduate students in the program will work with faculty mentors and graduate students on topics related to the Mind in Vitro Expeditions in Computing Project.\\xa0 Students will participate in Illinois summer research program activities including networking and social events, weekly lunch and learn seminars covering topics such as research skills, presentation skills, information about graduate school, including applications, career opportunities, etc.', '- A CS department program designed for University of Illinois undergraduate students who are interested in pursuing research while also serving as departmental leaders and community builders.', '- In the SRP, students work on high impact research with university faculty while also attending professional development programming aimed at helping students become stronger researchers and strong candidates for graduate school.', 'Research Opportunities for Und...']\n",
      "\n"
     ]
    }
   ],
   "source": [
    "for k in result.keys():\n",
    "    print(f'Cluster {k+1}:\\n {result[k]}\\n')"
   ]
  }
 ],
 "metadata": {
  "kernelspec": {
   "display_name": "Python 3 (ipykernel)",
   "language": "python",
   "name": "python3"
  },
  "language_info": {
   "codemirror_mode": {
    "name": "ipython",
    "version": 3
   },
   "file_extension": ".py",
   "mimetype": "text/x-python",
   "name": "python",
   "nbconvert_exporter": "python",
   "pygments_lexer": "ipython3",
   "version": "3.9.11"
  }
 },
 "nbformat": 4,
 "nbformat_minor": 5
}
