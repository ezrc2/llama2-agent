{
 "cells": [
  {
   "cell_type": "markdown",
   "id": "4c439c6a-79e8-47ed-9aab-957e92dd09c8",
   "metadata": {},
   "source": [
    "### Load model"
   ]
  },
  {
   "cell_type": "code",
   "execution_count": 1,
   "id": "a30502cf-a9ce-4292-bfb3-396d47e7fbe9",
   "metadata": {},
   "outputs": [],
   "source": [
    "from transformers import AutoTokenizer\n",
    "import transformers\n",
    "import torch"
   ]
  },
  {
   "cell_type": "code",
   "execution_count": 2,
   "id": "f9c823fc-1b7a-4cee-a686-4b7a60ba83d9",
   "metadata": {},
   "outputs": [],
   "source": [
    "torch.cuda.empty_cache()"
   ]
  },
  {
   "cell_type": "code",
   "execution_count": 3,
   "id": "428fe1bd-5e23-4c0a-a6f3-459ce4facca8",
   "metadata": {},
   "outputs": [
    {
     "data": {
      "application/vnd.jupyter.widget-view+json": {
       "model_id": "a8101fda7eef4f65a08be78171b9d1f6",
       "version_major": 2,
       "version_minor": 0
      },
      "text/plain": [
       "Loading checkpoint shards:   0%|          | 0/3 [00:00<?, ?it/s]"
      ]
     },
     "metadata": {},
     "output_type": "display_data"
    }
   ],
   "source": [
    "model = \"meta-llama/Llama-2-13b-chat-hf\"\n",
    "tokenizer = AutoTokenizer.from_pretrained(model)\n",
    "pipeline = transformers.pipeline(\n",
    "    \"text-generation\",\n",
    "    model=model,\n",
    "    torch_dtype=torch.float16,\n",
    "    device_map=\"auto\",\n",
    ")"
   ]
  },
  {
   "cell_type": "markdown",
   "id": "13e691ca-5c91-49e5-8995-789915658ed1",
   "metadata": {},
   "source": [
    "### Test prompts"
   ]
  },
  {
   "cell_type": "code",
   "execution_count": 4,
   "id": "8f0c4714-25aa-4baf-ba65-56585c29f6b9",
   "metadata": {},
   "outputs": [
    {
     "name": "stdout",
     "output_type": "stream",
     "text": [
      "['▁Can', '▁you', '▁give', '▁a', '▁brief', '▁over', 'view', '▁about', '▁the', '▁UI', 'UC', '▁computer', '▁science', '▁department', '?']\n",
      "12 15\n"
     ]
    },
    {
     "data": {
      "text/plain": [
       "'Can you give a brief overview about the UIUC computer science department?'"
      ]
     },
     "execution_count": 4,
     "metadata": {},
     "output_type": "execute_result"
    }
   ],
   "source": [
    "prompt = 'Can you give a brief overview about the UIUC computer science department?'\n",
    "tokens = tokenizer.tokenize(prompt)\n",
    "print(tokens)\n",
    "print(len(prompt.split()), len(tokens))\n",
    "tokenizer.convert_tokens_to_string(tokens)"
   ]
  },
  {
   "cell_type": "code",
   "execution_count": 5,
   "id": "a2f57f81-4013-46be-be79-ec660519fd54",
   "metadata": {},
   "outputs": [],
   "source": [
    "prompt = 'Can you give a brief overview about the UIUC computer science department?'\n",
    "prompt_template=f'''[INST] <<SYS>>\n",
    "You are a helpful, respectful and honest assistant. Always answer as helpfully as possible, while being safe.  Your answers should not include any harmful, unethical, racist, sexist, toxic, dangerous, or illegal content. Please ensure that your responses are socially unbiased and positive in nature. If a question does not make any sense, or is not factually coherent, explain why instead of answering something not correct. If you don't know the answer to a question, please don't share false information.\n",
    "<</SYS>> {prompt}[/INST]'''\n",
    "\n",
    "sequences = pipeline(\n",
    "    prompt_template,\n",
    "    do_sample=True,\n",
    "    num_return_sequences=1,\n",
    "    eos_token_id=tokenizer.eos_token_id,\n",
    "    max_length=1024,\n",
    "    temperature=0.7,\n",
    "    top_p=0.95,\n",
    "    top_k=40,\n",
    "    repetition_penalty=1.1,\n",
    ")"
   ]
  },
  {
   "cell_type": "code",
   "execution_count": 8,
   "id": "3014e054-5423-4e54-a580-a47a9998f139",
   "metadata": {},
   "outputs": [
    {
     "name": "stdout",
     "output_type": "stream",
     "text": [
      "  Hello! I'd be happy to provide an overview of the University of Illinois at Urbana-Champaign (UIUC) Computer Science Department.\n",
      "\n",
      "The UIUC Computer Science Department is a highly respected and well-established program that offers undergraduate and graduate degrees in computer science. The department is known for its strong research focus and has a diverse range of faculty expertise, including artificial intelligence, machine learning, data science, human-computer interaction, programming languages, and more.\n",
      "\n",
      "Some key facts about the UIUC Computer Science Department include:\n",
      "\n",
      "* Rankings: The department is consistently ranked among the top 10 public computer science programs in the country by US News & World Report.\n",
      "* Research areas: The department has research groups in areas such as algorithms, computer vision, databases, distributed systems, human-computer interaction, natural language processing, operating systems, programming languages, and software engineering.\n",
      "* Faculty: The department has over 50 tenured or tenure-track faculty members, many of whom have received prestigious awards for their research and teaching.\n",
      "* Programs: The department offers undergraduate majors in computer science and computational biology, as well as graduate degrees in computer science, including a PhD program.\n",
      "* Collaborations: The department has strong collaborative relationships with other departments and units on campus, such as the College of Engineering, the College of Agricultural, Consumer and Environmental Sciences, and the Beckman Institute for Advanced Science and Technology.\n",
      "\n",
      "Overall, the UIUC Computer Science Department is a world-class program with a strong reputation for research excellence, innovative teaching methods, and a commitment to diversity, equity, and inclusion.\n"
     ]
    }
   ],
   "source": [
    "result = sequences[0]['generated_text']\n",
    "print(result.split('[/INST]')[1])"
   ]
  },
  {
   "cell_type": "code",
   "execution_count": 5,
   "id": "aa10f5c6-62d2-4306-b811-9dc4ade2acfe",
   "metadata": {},
   "outputs": [],
   "source": [
    "def prompt_llama2(prompt):\n",
    "    prompt_template=f'''[INST] <<SYS>>\n",
    "    You are a helpful, respectful and honest assistant. Always answer as helpfully as possible, while being safe.  Your answers should not include any harmful, unethical, racist, sexist, toxic, dangerous, or illegal content. Please ensure that your responses are socially unbiased and positive in nature. If a question does not make any sense, or is not factually coherent, explain why instead of answering something not correct. If you don't know the answer to a question, please don't share false information.\n",
    "    <</SYS>> {prompt} [/INST]'''\n",
    "    \n",
    "    sequences = pipeline(\n",
    "        prompt_template,\n",
    "        do_sample=True,\n",
    "        num_return_sequences=1,\n",
    "        eos_token_id=tokenizer.eos_token_id,\n",
    "        max_length=1024,\n",
    "        temperature=0.7,\n",
    "        top_p=0.95,\n",
    "        top_k=40,\n",
    "        repetition_penalty=1.1,\n",
    "    )\n",
    "    result = sequences[0]['generated_text']\n",
    "    return result.split('[/INST]')[1].strip()\n",
    "\n",
    "def count_tokens(prompt):\n",
    "    tokens = tokenizer.tokenize(prompt)\n",
    "    return len(tokens)\n",
    "\n",
    "def shorten_tokens(prompt):\n",
    "    tokens = tokenizer.tokenize(prompt)\n",
    "    tokens = tokens[:3500]\n",
    "    return tokenizer.convert_tokens_to_string(tokens)"
   ]
  },
  {
   "cell_type": "code",
   "execution_count": 7,
   "id": "66bfbfdf-38cf-4e82-97fc-80ac53310b45",
   "metadata": {},
   "outputs": [],
   "source": [
    "out = prompt_llama2('What are the degree options for the UIUC computer science department?')"
   ]
  },
  {
   "cell_type": "code",
   "execution_count": 8,
   "id": "6e19f781-d232-4e9b-b7c6-cf6bfcfcac11",
   "metadata": {},
   "outputs": [
    {
     "name": "stdout",
     "output_type": "stream",
     "text": [
      "Hello! As a helpful and respectful assistant, I'm happy to assist you with your question about the University of Illinois at Urbana-Champaign (UIUC) computer science department.\n",
      "\n",
      "The UIUC computer science department offers several degree options at both the undergraduate and graduate levels. Here are some of the degree options available:\n",
      "\n",
      "Undergraduate Degrees:\n",
      "\n",
      "1. Bachelor of Science in Computer Science (BS CS): This is the most popular undergraduate degree offered by the department, and it provides a comprehensive education in computer science principles and practices.\n",
      "2. Bachelor of Arts in Computer Science (BA CS): This degree program has a stronger focus on the liberal arts and humanities, and it is designed for students who want to combine their passion for computer science with other interests.\n",
      "3. Minor in Computer Science: Students from other majors can also minor in computer science to gain knowledge and skills in this field.\n",
      "\n",
      "Graduate Degrees:\n",
      "\n",
      "1. Master of Science in Computer Science (MS CS): This program is designed for students who want to advance their knowledge and skills in computer science, and it offers specializations in areas such as artificial intelligence, data science, and cybersecurity.\n",
      "2. Master of Engineering in Computer Science (ME CS): This program is similar to the MS CS program but has a more engineering-focused curriculum.\n",
      "3. Doctor of Philosophy in Computer Science (PhD CS): This program is for students who want to pursue a career in research and academia, and it allows them to specialize in a specific area of computer science.\n",
      "\n",
      "In addition to these degree options, the UIUC computer science department also offers online courses and certificates for students who cannot attend classes on campus. These online programs are designed to provide flexible learning opportunities for students who want to advance their careers in computer science.\n",
      "\n",
      "I hope this information helps you understand the degree options available in the UIUC computer science department. If you have any further questions or need clarification on any of the programs, please feel free to ask!\n"
     ]
    }
   ],
   "source": [
    "print(out)"
   ]
  },
  {
   "cell_type": "markdown",
   "id": "4df152fe-783d-41e6-90b1-c2a8944c0c65",
   "metadata": {},
   "source": [
    "### Scraping"
   ]
  },
  {
   "cell_type": "code",
   "execution_count": 6,
   "id": "9be6b840-1a61-44d0-b4c4-70d9f9148a73",
   "metadata": {},
   "outputs": [],
   "source": [
    "import utils\n",
    "import pickle"
   ]
  },
  {
   "cell_type": "code",
   "execution_count": 10,
   "id": "e21fa0ed-c007-4d70-bb8b-b599ad1810ca",
   "metadata": {
    "scrolled": true
   },
   "outputs": [],
   "source": [
    "school_name = 'UIUC'\n",
    "tab_queries = ['degree options', 'coursework', 'faculty']\n",
    "queries = ['research areas', 'student organizations']\n",
    "# passages = utils.get_query_passages(school_name, queries)"
   ]
  },
  {
   "cell_type": "markdown",
   "id": "93521b3d-969e-40a1-b2ca-02d23d0f30b5",
   "metadata": {},
   "source": [
    "https://cs.illinois.edu/academics/undergraduate/degree-program-options\n",
    "\n",
    "https://grainger.illinois.edu/academics/undergraduate/majors-and-minors/computer-science\n",
    "\n",
    "https://cs.illinois.edu/academics/undergraduate/degree-program-options/cs-x-degree-programs\n",
    "\n",
    "https://cs.illinois.edu/academics/courses\n",
    "\n",
    "http://catalog.illinois.edu/courses-of-instruction/cs/\n",
    "\n",
    "https://cs.illinois.edu/academics/undergraduate/degree-program-options/bs-computer-science\n",
    "\n",
    "https://cs.illinois.edu/research\n",
    "\n",
    "https://grainger.illinois.edu/research/undergraduate/get-involved/how-to\n",
    "\n",
    "https://cs.illinois.edu/research/areas\n",
    "\n",
    "https://cs.illinois.edu/about/people/all-faculty\n",
    "\n",
    "https://ece.illinois.edu/about/directory/faculty\n",
    "\n",
    "https://cs.illinois.edu/about/people/staff/office-department-head\n",
    "\n",
    "https://cs.illinois.edu/student-life/student-organizations\n",
    "\n",
    "https://grainger.illinois.edu/academics/student-organizations\n",
    "\n",
    "https://cs.illinois.edu/student-life"
   ]
  },
  {
   "cell_type": "code",
   "execution_count": 11,
   "id": "2fc913ff-d99a-4e17-8a58-6d73f26351a0",
   "metadata": {},
   "outputs": [],
   "source": [
    "# with open('passages.pkl', 'wb') as f:\n",
    "#     pickle.dump(passages, f, protocol=pickle.HIGHEST_PROTOCOL)"
   ]
  },
  {
   "cell_type": "code",
   "execution_count": 12,
   "id": "169a797e-a3ec-439e-8aa8-0aae1152c1e8",
   "metadata": {},
   "outputs": [],
   "source": [
    "with open('passages.pkl', 'rb') as f:\n",
    "    passages = pickle.load(f)"
   ]
  },
  {
   "cell_type": "code",
   "execution_count": 13,
   "id": "c3112ba8-226c-48d7-a608-b8a05fea1f20",
   "metadata": {
    "scrolled": true
   },
   "outputs": [
    {
     "data": {
      "text/plain": [
       "['The University of Illinois offers numerous pathways to incorporate computing into undergraduate education and research',\n",
       " ' The Department of Computer Science in The Grainger College of Engineering is shaping the future of computing and data science backed by a legacy of excellence',\n",
       " ' The breadth of CS topics and applications offered is unmatched almost anywhere',\n",
       " ' When you complete, in the last two years of your undergraduate degree, any Illinois\\nCS\\n,\\nCS + X\\n, or\\nCS minor\\nwith a GPA of 3',\n",
       " '0 or better and a GPA of 3',\n",
       " '2 or better in CS courses,\\nyou are guaranteed admission\\nto our\\nOnline MCS\\nor\\nMCS in Data Science (MCS-DS)\\nprograms',\n",
       " ' Recent UIUC graduates may qualify for an\\napplication fee waiver',\n",
       " ' Meet with a Computer Science (CS) advisor to learn more about what CS at Illinois has to offer and hear from a current CS student',\n",
       " ' We will discuss all the different opportunities and options of the different CS majors',\n",
       " \" There will be time for Q & A's\",\n",
       " ' Meet with a Computer Science (CS) advisor to learn more about what CS at Illinois has to offer and hear from a current CS student',\n",
       " ' We will discuss all the different opportunities and options of the different CS majors',\n",
       " \" There will be time for Q & A's\",\n",
       " ' Meet with a Computer Science (CS) advisor to learn more about what CS at Illinois has to offer and hear from a current CS student',\n",
       " ' We will discuss all the different opportunities and options of the different CS majors',\n",
       " \" There will be time for Q & A's\",\n",
       " ' Meet with a Computer Science (CS) advisor to learn more about what CS at Illinois has to offer and hear from a current CS student',\n",
       " ' We will discuss all the different opportunities and options of the different CS majors',\n",
       " \" There will be time for Q & A's\",\n",
       " ' Meet with a Computer Science (CS) advisor to learn more about what CS at Illinois has to offer and hear from a current CS student',\n",
       " ' We will discuss all the different opportunities and options of the different CS majors',\n",
       " \" There will be time for Q & A's\",\n",
       " ' Meet with a Computer Science (CS) advisor to learn more about what CS at Illinois has to offer and hear from a current CS student',\n",
       " ' We will discuss all the different opportunities and options of the different CS majors',\n",
       " \" There will be time for Q & A's\",\n",
       " ' Meet with a Computer Science (CS) advisor to learn more about what CS at Illinois has to offer and hear from a current CS student',\n",
       " ' We will discuss all the different opportunities and options of the different CS majors',\n",
       " \" There will be time for Q & A's\",\n",
       " ' Meet with a Computer Science (CS) advisor to learn more about what CS at Illinois has to offer and hear from a current CS student',\n",
       " ' We will discuss all the different opportunities and options of the different CS majors',\n",
       " \" There will be time for Q & A's\",\n",
       " ' Meet with a Computer Science (CS) advisor to learn more about what CS at Illinois has to offer and hear from a current CS student',\n",
       " ' We will discuss all the different opportunities and options of the different CS majors',\n",
       " \" There will be time for Q & A's\",\n",
       " ' Meet with a Computer Science (CS) advisor to learn more about what CS at Illinois has to offer and hear from a current CS student',\n",
       " ' We will discuss all the different opportunities and options of the different CS majors',\n",
       " \" There will be time for Q & A's\",\n",
       " ' Meet with a Computer Science (CS) advisor to learn more about what CS at Illinois has to offer and hear from a current CS student',\n",
       " ' We will discuss all the different opportunities and options of the different CS majors',\n",
       " \" There will be time for Q & A's\",\n",
       " ' Meet with a Computer Science (CS) advisor to learn more about what CS at Illinois has to offer and hear from a current CS student',\n",
       " ' We will discuss all the different opportunities and options of the different CS majors',\n",
       " \" There will be time for Q & A's\",\n",
       " ' Meet with a Computer Science (CS) advisor to learn more about what CS at Illinois has to offer and hear from a current CS student',\n",
       " ' We will discuss all the different opportunities and options of the different CS majors',\n",
       " \" There will be time for Q & A's\",\n",
       " ' Meet with a Computer Science (CS) advisor to learn more about what CS at Illinois has to offer and hear from a current CS student',\n",
       " ' We will discuss all the different opportunities and options of the different CS majors',\n",
       " \" There will be time for Q & A's\",\n",
       " ' Meet with a Computer Science (CS) advisor to learn more about what CS at Illinois has to offer and hear from a current CS student',\n",
       " ' We will discuss all the different opportunities and options of the different CS majors',\n",
       " \" There will be time for Q & A's\",\n",
       " '']"
      ]
     },
     "execution_count": 13,
     "metadata": {},
     "output_type": "execute_result"
    }
   ],
   "source": [
    "# repeat sentences, some issue from scraping that particular website\n",
    "passages['degree options'][0].split('.')"
   ]
  },
  {
   "cell_type": "code",
   "execution_count": 14,
   "id": "4c67c418-65ef-4e21-ac9c-198ef3f740d6",
   "metadata": {},
   "outputs": [
    {
     "data": {
      "text/plain": [
       "\"2 or better in CS courses,\\nyou are guaranteed admission\\nto our\\nOnline MCS\\nor\\nMCS in Data Science (MCS-DS)\\nprograms Meet with a Computer Science (CS) advisor to learn more about what CS at Illinois has to offer and hear from a current CS student The Department of Computer Science in The Grainger College of Engineering is shaping the future of computing and data science backed by a legacy of excellenceThe University of Illinois offers numerous pathways to incorporate computing into undergraduate education and research0 or better and a GPA of 3 Recent UIUC graduates may qualify for an\\napplication fee waiver We will discuss all the different opportunities and options of the different CS majors The breadth of CS topics and applications offered is unmatched almost anywhere There will be time for Q & A's When you complete, in the last two years of your undergraduate degree, any Illinois\\nCS\\n,\\nCS + X\\n, or\\nCS minor\\nwith a GPA of 3\""
      ]
     },
     "execution_count": 14,
     "metadata": {},
     "output_type": "execute_result"
    }
   ],
   "source": [
    "lst = passages['degree options'][0].split('.')\n",
    "''.join(set(lst))"
   ]
  },
  {
   "cell_type": "code",
   "execution_count": 15,
   "id": "3af5ffcc-f74f-4c94-bcc3-013348e7d1f9",
   "metadata": {},
   "outputs": [
    {
     "data": {
      "text/plain": [
       "'illinoisRichard T (ECE)2232 Siebel Center, (217) 333-3426, Fax: (217) 333-3501, head@cs Herman M Prof Dieckamp Endowed Chair Emeritus in Engineering Adjunct Asst Gillies Professor in Computer Science Donald Bedu Cheng Professor Donald B Everitt Distinguished Professor Emeritus Adjunct Assistant Prof Gillies Chair in Computer ScienceWilliam L'"
      ]
     },
     "execution_count": 15,
     "metadata": {},
     "output_type": "execute_result"
    }
   ],
   "source": [
    "joined_passage = ''.join(passages['faculty'])\n",
    "joined_passage = ''.join(set(joined_passage.split('.')))\n",
    "joined_passage"
   ]
  },
  {
   "cell_type": "markdown",
   "id": "67773ef0-daeb-49ca-b6b9-65fa7210ca01",
   "metadata": {},
   "source": [
    "### Keyword extraction for tabular pages"
   ]
  },
  {
   "cell_type": "code",
   "execution_count": 15,
   "id": "513613e0-38b1-420a-a22a-16824c3c241d",
   "metadata": {},
   "outputs": [
    {
     "name": "stdout",
     "output_type": "stream",
     "text": [
      "---coursework---\n"
     ]
    }
   ],
   "source": [
    "query = 'coursework'\n",
    "print(f'---{query}---')\n",
    "joined_passage = ''.join(passages[query])\n",
    "joined_passage = ''.join(set(joined_passage.split('.')))\n",
    "n_tokens = count_tokens(joined_passage)\n",
    "prompt = f\"\"\"\n",
    "Can you extract the major keyword from this passage? Here is the passage: {joined_passage}\n",
    "\"\"\""
   ]
  },
  {
   "cell_type": "code",
   "execution_count": 17,
   "id": "b70c8910-03a1-4a2a-8796-10b19a2edae8",
   "metadata": {},
   "outputs": [
    {
     "name": "stderr",
     "output_type": "stream",
     "text": [
      "/home/ericzc2/miniconda3/envs/llm/lib/python3.8/site-packages/transformers/generation/utils.py:1268: UserWarning: Input length of input_ids is 3635, but `max_length` is set to 1024. This can lead to unexpected behavior. You should consider increasing `max_new_tokens`.\n",
      "  warnings.warn(\n"
     ]
    },
    {
     "name": "stdout",
     "output_type": "stream",
     "text": [
      "\n"
     ]
    }
   ],
   "source": [
    "prompt = shorten_tokens(prompt)\n",
    "out = prompt_llama2(prompt)\n",
    "print(out)"
   ]
  },
  {
   "cell_type": "code",
   "execution_count": 16,
   "id": "788d4c1e-9c4d-41ea-aa1d-27c076ab81b8",
   "metadata": {},
   "outputs": [],
   "source": [
    "url = 'https://cs.illinois.edu/about/people/department-faculty'\n",
    "all_text = utils.extract_all_text(url)"
   ]
  },
  {
   "cell_type": "code",
   "execution_count": 17,
   "id": "3cb19989-8cb2-43ce-88ae-0594d8aa733e",
   "metadata": {},
   "outputs": [
    {
     "data": {
      "text/plain": [
       "3762"
      ]
     },
     "execution_count": 17,
     "metadata": {},
     "output_type": "execute_result"
    }
   ],
   "source": [
    "count_tokens(all_text)"
   ]
  },
  {
   "cell_type": "code",
   "execution_count": 23,
   "id": "7a875419-d3cc-4f45-bcc8-b3671d411b18",
   "metadata": {},
   "outputs": [
    {
     "name": "stdout",
     "output_type": "stream",
     "text": [
      "---faculty---\n",
      "\n"
     ]
    }
   ],
   "source": [
    "query = 'faculty'\n",
    "print(f'---{query}---')\n",
    "joined_passage = ''.join(passages[query])\n",
    "joined_passage = ''.join(set(joined_passage.split('.')))\n",
    "n_tokens = count_tokens(joined_passage)\n",
    "prompt = f\"\"\"\n",
    "Can you extract the faculty names and titles from this passage? Here is the passage: {all_text}\n",
    "\"\"\"\n",
    "out = prompt_llama2(prompt)\n",
    "print(out)"
   ]
  },
  {
   "cell_type": "code",
   "execution_count": 19,
   "id": "ba3e5bff-bc79-4751-b3d8-3630910005e6",
   "metadata": {
    "scrolled": true
   },
   "outputs": [
    {
     "data": {
      "text/plain": [
       "'\\nCan you extract a list of faculty names from this passage? Here is the passage:                   Alumni  Corporate  People  My.CS         University of Illinois at Urbana-Champaign   The Grainger College of Engineering  Computer Science          Search         Menu             Search        About    About  Rankings & Statistics  Contact Us & Office Locations  History Timeline  Accreditation  Values & Code of Conduct  CS CARES Committee  Contact CS CARES  Governance  Members  Resources    People  All Faculty  Department Faculty  Affiliate Faculty  Adjunct Faculty  Emeritus Faculty  Postdoctoral Researchers  Staff  Office of the Department Head  Communications & Engagement Team  Undergraduate Advising Office  Graduate Advising Office  Instructional Development Team  Business Office  Faculty Support Contacts  Facilities, Shipping and Receiving    Graduating PhD Students    Open Positions  Faculty Positions  Postdoctoral Positions  Future Faculty Fellows    Staff Positions  Choose Illinois Computer Science    Awards  2021 Celebration of Excellence  2022 Celebration of Excellence  2023 Celebration of Excellence  Student Award Resources  Faculty Awards  Chairs and Professorships  National & International Awards  University of Illinois Awards    Undergraduate Scholarships & Awards  Graduate Fellowships & Awards  Alumni Awards  Alumni Awards Past Recipients  National & International Awards  University of Illinois Awards    Staff Awards    Calendar  All Events  Department Events  Speaker Series  Graduate Events  Undergraduate Events  Corporate Events  CS CARES Events  Student Group Events        Admissions    Ready to apply? Your path begins here.  Apply to UIUC    Admissions  Admitted Students  Undergraduate Admissions  Apply Now  Degree & Program Options  Application Deadlines  Applications Process & Requirements  Transfer Students  Housing  Accreditation    Graduate Admissions  Apply Now  Degree & Program Options  Professional Master of Computer Science (MCS) Program    Application Deadlines  Applications Process & Requirements  Additional Required Application Materials for International Students  Application Fee Waivers  Data Structures Proficiency Exam    Application Checklist  FAQs  iCAN FAQs  Online MCS FAQs    Check Application Status    Impact of an Illinois CS Degree  Financial Aid      Academics    Ready to apply? Your path begins here.  Apply to UIUC    Academics  Instructional Area  Undergraduate Academics  Degree & Program Options  B.S. in Computer Science  B.S. in Mathematics & Computer Science  B.S. in Statistics & Computer Science  CS Minor  CS + X Degree Programs  CS + Advertising  CS + Animal Sciences  CS + Anthropology  CS + Astronomy  CS + Bioengineering  CS + Chemistry  CS + Crop Sciences  CS + Economics  CS + Education  CS + Geography & Geographic Information Science  CS + Linguistics  CS + Music  CS + Philosophy  CS + Physics    CS Undergraduate Degree Options FAQ    Registration  CS Course Restrictions & Enrollment Caps    Policies and Procedures  Undergraduate Advising  Undergraduate Forms  Honors  Transfer Students    Graduate Academics  PhD Program  PhD Requirements  PhD Time Limits & Milestones  PhD Program of Study Process  Guidelines for Forming Ph.D. Committee  Qualifying Exam  Preliminary Exam  Final Exam (Thesis Defense)  Ph.D. / M.S. Thesis Format Review Guidelines    MS Program  MS in Bioinformatics Program  Professional Master of Computer Science  MCS in Chicago  On-Campus Master of Computer Science  Online Master of Computer Science  Online Master of Computer Science in Data Science    Fifth Year Masters Programs  5-year BS-MCS Program  5-year BS-MS Program    Illinois Computing Accelerator for Non-Specialists (iCAN)  Graduate Forms, Thesis & Advising Resources  EPI Exam Requirements  Graduate Advising Contacts  Graduate Student Annual Evaluation Process  New Graduate Student Resources  MCS On-Campus General Advising for Registration  MS General Advising for Registration  PhD General Advising for Registration    Official Forms      Courses  Honor Code  Student Resources      Research    Research  Illinois-Insper Partnership  Collaborative Research Projects    NSF Expeditions in Computing: Mind in Vitro  Research Areas  Architecture, Compilers, and Parallel Computing  Artificial Intelligence  Bioinformatics and Computational Biology  Computers and Education  Data and Information Systems  Interactive Computing  Programming Languages, Formal Methods, and Software Engineering  Scientific Computing  Security and Privacy  Systems and Networking  Theory and Algorithms    Speaker Series  Corporate Partners  Research Overview  Summer Research  Research Opportunities for Undergraduates  Directed Reading Program  Trick or Research  Summer Research Program  Summer Research Program Participants          News    News  News Notes  Donor Profiles  Media Mentions  E-News  Impact Report & Publications  Speaker Series  Banerjee Lecture  Donald B. Gillies Memorial Lecture  Equity & Justice in Computing Lectures  Robert Mueller-Thuns Lecture        Student Life    Student Life  Overview of CS Student Life  Student Organizations  Events  Student Resources  Career Services  Course Assistants      Broadening Participation    Broadening Participation  BPC Departmental Plan  BPC Programs & Activities for Students  CS Student Ambassadors/Research Scholars (CS STARS)  CS STARS Participants  CS Student Ambassadors/Research Scholars- Application Information    Illinois CS Kickstart  AI4ALL  Apply Now    iCAN  Apply Now    Summer Research Programs    BPC Resources  Cross-Cutting Educational Activities  BPC Conferences & Workshops  Equity & Justice in Computing Seminar Series    K-12 Outreach & Resources  K-12 Outreach Programs  K-12 Resources    Student Organizations      Give    Help ensure that Illinois continues to set a global standard for CS research and education.  Make a Gift    Give  Give Now  Ways to Give  Donor Profiles  Computer Science Visionary Scholarship Donors              Home About People Department Faculty        Home About People Department Faculty  Department Faculty            Department Faculty     Tarek  Abdelzaher   Sohaib and Sara Abbasi Professor and Willett Faculty Scholar                        Sarita V. Adve   Richard T. Cheng Professor                        Vikram Adve   Donald B. Gillies Professor in Computer Science                        Gul A. Agha   Research Professor and Professor Emeritus                        Ram Alagappan   Assistant Professor                        Abdussalam Alawini   Teaching Associate Professor                        Nancy M. Amato  she/her/hers  Abel Bliss Professor of Engineering and Department Head                        Lawrence Angrave  he/him/his  Teaching Professor, Gies RC Evans Innovation Fellow, CITL Fellow                        Tal August  he/him/his  Assistant Professor (starting August 2024)                        Brian P. Bailey   Professor                        Arindam  Banerjee   Founder Professor in Engineering                        Adam Bates   Associate Professor                        Mattox Alan Beckman   Teaching Associate Professor                        Matthew Caesar   Professor                        George  Chacko   Research Associate Professor                        Geoffrey Werner Challen   Teaching Associate Professor                        Timothy Moon-Yew Chan   Founder Professor in Engineering                        Eshwar  Chandrasekharan  he/him/his  Assistant Professor                        Kevin Chenchuan Chang   Professor                        Chandra Sekhar Chekuri   Paul and Cynthia Saylor Professor                        Girish  Chowdhary   Associate Professor                        Camille Cobb   Assistant Professor                        Benjamin Cosman   Teaching Assistant Professor                        Katie Cunningham   Assistant Professor                        Ryan Matthew Cunningham   Lecturer                        David M. Dalpiaz   Teaching Associate Professor                        Payam  Delgosha   Research Assistant Professor                        Mohammed  El-Kebir   Assistant Professor                        Jeff Erickson  he/him/his  Sohaib and Sara Abbasi Professor                        Carl Evans   Teaching Assistant Professor                        Wade A. Fagen-Ulmschneider   Teaching Professor                        Paul  Fischer   Professor                        Margaret M. Fleck   Teaching Professor and Director of Undergraduate Programs                        Christopher Wardlaw Fletcher   Associate Professor                        Michael A. Forbes   Assistant Professor                        David Forsyth   Fulton Watson Copp Chair in Computer Science                        Aishwarya Ganesan  she/her/hers  Assistant Professor                        Yael  Gertner   Teaching Assistant Professor                        Saugata  Ghose   Assistant Professor                        Brighten Godfrey   Professor                        William D. Gropp  he/him/his  Grainger Distinguished Chair                        Liangyan  Gui   Research Assistant Professor                        Carl  Gunter   George and Ann Fisher Distinguished Professor in Engineering                        Elsa  Gunter   Research Professor and Senior Lecturer                        Indranil  Gupta   Professor                        Dilek Hakkani Tur  she/her/hers  Professor (starting January 2024)                        Jiawei  Han   Michael Aiken Chair                        Sariel  Har-Peled   Donald Biggar Willett Professor in Engineering                        John C. Hart   Professor                        Kris K. Hauser   Professor                        David Heath   Assistant Professor                        Geoffrey Lindsay Herman  he/him/his  Severns Teaching Associate Professor                        Julia Hockenmaier   Professor and Willett Faculty Scholar                        Derek W. Hoiem   Professor                        Reyhaneh  Jabbarvand   Assistant Professor                        Sheldon Howard Jacobson   Founder Professor in Engineering                        Heng  Ji   Professor                        Nan  Jiang   Assistant Professor                        Laxmikant V. Kale   Research Professor & Paul and Cynthia Saylor Professor Emeritus                        Daniel  Kang   Assistant Professor                        Karrie Karahalios   Professor                        Dakshita  Khurana   Assistant Professor                        Andreas Paul Eberhard Kloeckner   Associate Professor                        Bill Kramer  choose not to reply  Research Professor                        Robin Hillary Kravets   Professor                        Ranjitha  Kumar   Associate Professor                        Steven M. LaValle   Professor                        Svetlana  Lazebnik   Professor, Willett Faculty Scholar, and DGS                        Colleen M. Lewis  she/her/hers  Associate Professor                        Bo  Li   Assistant Professor                        Yunzhu Li  he/him/his  Assistant Professor                        Hongye  Liu   Teaching Assistant Professor                        Darko  Marinov   Professor and Director of Graduate Programs                        Livingston McPherson  they/them/theirs  Teaching Assistant Professor (starting August 2024)                        Ruta  Mehta   Associate Professor                        Charith Mendis   Assistant Professor                        Jose  Meseguer   Professor                        Sasa  Misailovic   Associate Professor                        Marco Morales Aguirre   Teaching Associate Professor                        William (Billy) Moses  he/him/his  Assistant Professor (starting January 2024)                        Klara  Nahrstedt   Grainger Distinguished Chair in Engineering                        Michael Nowak   Teaching Assistant Professor                        Luke  Olson   Professor and Willett Faculty Scholar                        Yongjoo  Park   Assistant Professor                        Madhusudan  Parthasarathy   Professor                        Hao Peng   Assistant Professor                        Jian  Peng   Associate Professor and Willett Faculty Fellow                        Lawrence Rauchwerger  he/him/his  Professor                        Jim Rehg  he/him/his  Professor                        John F. Reid  choose not to reply  Research Professor                        Ling  Ren   Assistant Professor                        Talia Ringer  they/them/theirs  Assistant Professor                        Pablo D. Robles Granda   Teaching Assistant Professor                        Grigore  Rosu   Professor                        Koustuv Saha  he/him/his  Assistant Professor                        Jule Schatz  she/her/hers  Teaching Assistant Professor                        Lui Sha   Donald B. Gillies Chair in Computer Science                        Eric Gene Shaffer   Teaching Associate Professor and Associate Director of Undergraduate Programs                        Mariana  Silva   Teaching Associate Professor and Education Innovation Fellow                        Gagandeep Singh   Assistant Professor                        Makrand SINHA  he/him/his  Assistant Professor                        Paris  Smaragdis   Professor and Associate Head for Infrastructure and Operations                        Marc  Snir   Research Professor & Michael Faiman Professor Emeritus                        Brad R. Solomon   Teaching Assistant Professor                        Edgar Solomonik   Associate Professor                        Elahe Soltanaghai   Assistant Professor                        Sarah Gimbert Sterman  she/her/hers  Resarch Assistant Professor                        Sharifa Sultana  she/her/hers  Assistant Professor                        Jimeng  Sun   Professor                        Hari  Sundaram   Professor                        Ruby Tahboub   Teaching Assistant Professor                        Matus Jan Telgarsky   Assistant Professor                        Hanghang  Tong   Associate Professor                        Josep  Torrellas   Saburo Muroga Professor                        Gokhan Tur   Research Professor (starting January 2024)                        Luther Tychonievich  he/him/his  Teaching Associate Professor                        Deepak Vasisht  he/him/his  Assistant Professor                        Mahesh  Viswanathan   Professor and Associate Head for Academics                        Gang  Wang   Associate Professor                        Shenlong Wang   Assistant Professor                        Yuxiong  Wang   Assistant Professor                        Tandy  Warnow   Grainger Distinguished Chair in Engineering and Associate Head for Research and Faculty Development                        Tiffani L. Williams   Teaching Professor and Director of Onramp Programs                        Michael Joseph Woodley   Clinical Assistant Professor                        Tianyin  Xu   Assistant Professor                        Wenzhen Yuan  choose not to reply  Assistant Professor                        ChengXiang Zhai   Donald Biggar Willett Professor in Engineering                        Lingming  Zhang   Associate Professor                        Minjia Zhang  he/him/his  Assistant Professor (starting January 2024)                        Han Zhao   Assistant Professor                        Craig Zilles  he/him/his  Professor and Severns Faculty Scholar                                        Contact Us          Computer Science  Thomas M. Siebel Center for Computer Science  201 North Goodwin Avenue MC 258  Urbana , IL 61801  Phone:  Fax:  Email:     Threads  Twitter  Instagram  Facebook  LinkedIn  YouTube  Sound Cloud       The Grainger College of Engineering       ph: 217-333-3426 (general) | 217-333-4428 (advising) fax: 217-333-3501  General email: head@cs.illinois.edu Graduate Advising: academic@cs.illinois.edu Undergraduate Advising: undergrad@cs.illinois.edu Webmaster: grainger-marcom@illinois.edu    Illinois Computer Science in Chicago 200 South Wacker Drive, 7th Floor Chicago, IL 60606            About Cookies  Privacy Policy  Copyright © 2023  Accessibility  Contact Webmaster  Powered by SiteManager       Go to top                          \\n'"
      ]
     },
     "execution_count": 19,
     "metadata": {},
     "output_type": "execute_result"
    }
   ],
   "source": [
    "prompt"
   ]
  },
  {
   "cell_type": "markdown",
   "id": "85cd076a-2a7b-471e-a05e-b9e8e7665ab5",
   "metadata": {},
   "source": [
    "### Classification/Relevancy for textual pages"
   ]
  },
  {
   "cell_type": "code",
   "execution_count": 20,
   "id": "b70ded3a-6156-4b58-a305-373bf8e5a08c",
   "metadata": {},
   "outputs": [
    {
     "name": "stdout",
     "output_type": "stream",
     "text": [
      "---research areas---\n",
      "Yes, the passage is related to the computer science field, specifically highlighting research areas. It discusses various technical conferences, workshops, and speaker series events hosted by the Department of Computer Science at the University of Illinois, with the goal of promoting conversations about important challenges and topics in the discipline. Additionally, it highlights the department's global reputation for developing revolutionary technology and groundbreaking research that addresses real-world problems.\n",
      "\n",
      "The passage also encourages undergraduate students to get involved in research opportunities, providing several programs and matrices to help them identify and connect with faculty members working in their areas of interest. Overall, the passage emphasizes the department's commitment to innovation, excellence, and interdisciplinary collaboration in computer science research.\n"
     ]
    }
   ],
   "source": [
    "query = 'research areas'\n",
    "print(f'---{query}---')\n",
    "joined_passage = ''.join(passages[query])\n",
    "joined_passage = ''.join(set(joined_passage.split('.')))\n",
    "prompt = f\"\"\"\n",
    "Is this passage related to the computer science field, more specifically about {query}? Here is the passage: {joined_passage}\n",
    "\"\"\"\n",
    "out = prompt_llama2(prompt)\n",
    "print(out)"
   ]
  },
  {
   "cell_type": "markdown",
   "id": "c9d9168a-2c54-451f-81c7-fc622b27ee62",
   "metadata": {},
   "source": [
    "### Summarization for textual pages"
   ]
  },
  {
   "cell_type": "code",
   "execution_count": 20,
   "id": "ff6fda19-a739-4ef4-aba5-2589e0d803b7",
   "metadata": {},
   "outputs": [
    {
     "name": "stdout",
     "output_type": "stream",
     "text": [
      "---research areas---\n",
      "Sure! Here is a summary of the provided text in a few sentences:\n",
      "\n",
      "The Grainger Engineering research opportunities are abundant and can serve as a launchpad for pursuing innovative ideas at a prestigious program. The Illinois Computer Science department has a global reputation for groundbreaking research in various fields, with faculty members contributing to diverse areas of the discipline. The department offers a range of research topics, providing undergraduates with opportunities to engage in semester-long and summer programs. Recordings of past events are also available for current students through Media Space.\n"
     ]
    }
   ],
   "source": [
    "query = 'research areas'\n",
    "print(f'---{query}---')\n",
    "joined_passage = ''.join(passages[query])\n",
    "joined_passage = ''.join(set(joined_passage.split('.')))\n",
    "prompt = f\"\"\"\n",
    "Can you summarize this passage into a few sentences? Here is the passage: {joined_passage}\n",
    "\"\"\"\n",
    "out = prompt_llama2(prompt)\n",
    "print(out)"
   ]
  },
  {
   "cell_type": "code",
   "execution_count": 21,
   "id": "0dff03d0-bbe6-4320-88a4-d544486d20b0",
   "metadata": {},
   "outputs": [],
   "source": [
    "# out2 = out.replace('\\n\\n', '\\n')\n",
    "# out2.split('\\n')[1]"
   ]
  },
  {
   "cell_type": "code",
   "execution_count": 22,
   "id": "6b3f66af-7745-4953-ba8a-c897cc8fa060",
   "metadata": {},
   "outputs": [
    {
     "name": "stdout",
     "output_type": "stream",
     "text": [
      "Sure! Here are the key ideas and keywords from the passage:\n",
      "\n",
      "1. Research opportunities: The passage highlights the abundance of research opportunities available to students at Grainger Engineering, particularly in the field of computer science.\n",
      "2. Prestige: The program is described as \"prestigious,\" emphasizing its reputation for excellence.\n",
      "3. Global impact: The research conducted at Illinois Computer Science is said to address \"real-world problems\" and have a \"global reputation\" for revolutionary technology.\n",
      "4. Faculty expertise: The passage highlights the breadth, depth, and quality of the faculty's research contributions in various areas of computer science.\n",
      "5. Technical conferences and workshops: The department hosts events to benefit the academic and research communities, including speaker series with prominent leaders and experts.\n",
      "6. Undergraduate involvement: The passage mentions several programs that allow undergraduates to get involved in research, including PURE, ISUR, and the Summer Research Program.\n",
      "7. Online resources: Media Space and Innovate RESEARCH are mentioned as resources available to current Illinois students.\n",
      "\n",
      "Overall, the passage emphasizes the value of the computer science program at Grainger Engineering in terms of its prestige, research opportunities, and potential global impact, as well as the various resources available to students.\n"
     ]
    }
   ],
   "source": [
    "prompt = f\"\"\"\n",
    "What are they key ideas and keywords from this passage? Here is the passage: {joined_passage}\n",
    "\"\"\"\n",
    "out = prompt_llama2(prompt)\n",
    "print(out)"
   ]
  },
  {
   "cell_type": "markdown",
   "id": "e1f11257-1634-4f26-8b05-7ef863b96b28",
   "metadata": {},
   "source": [
    "### Revision"
   ]
  },
  {
   "cell_type": "code",
   "execution_count": 69,
   "id": "30abce2d-6e99-4ffe-b1a7-d7b90b966a1f",
   "metadata": {},
   "outputs": [],
   "source": [
    "prompt = f\"\"\"\n",
    "    These summaries are being used to build a wiki page describing the {school_name} Computer Science Department. \n",
    "    What information is missing and should be added? Here is the passage: {''.join(summaries)}\n",
    "\"\"\"\n",
    "out = prompt_llama2(prompt)"
   ]
  },
  {
   "cell_type": "code",
   "execution_count": 71,
   "id": "d706b366-d411-4c26-b9fd-0d73c0c8419b",
   "metadata": {},
   "outputs": [
    {
     "name": "stdout",
     "output_type": "stream",
     "text": [
      "Based on the provided passage, here is what is missing and should be added to the UIUC Computer Science Department wiki page: \n",
      "\n",
      "1. Additional Research Areas: While the passage mentions a wide range of research topics, it would be beneficial to provide more specific details about the department's research areas. For example, the department may have strengths in areas like machine learning, data analytics, cybersecurity, human-computer interaction, etc. Additionally, the passage could highlight any interdisciplinary research collaborations between different departments or colleges within the university.  \n",
      "2. More Information on Undergraduate Research Opportunities: Although the passage mentions undergraduate research programs like PURE, ISUR, and the Summer Research Program, it would be useful to provide more detailed information about each program. This could include eligibility criteria, application deadlines, and the types of research projects available to undergraduate students.  \n",
      "3. Faculty Achievements and Awards: While the passage highlights the department's global reputation for innovative technology, it would be beneficial to mention any notable achievements or awards received by the faculty members. This could include teaching awards, research grants, or industry recognitions.  \n",
      "4. Student Success Stories: To showcase the impact of the department's research and educational programs, the passage could include success stories from former students who have gone on to achieve academic or professional success. For instance, the passage could mention any alumni who have received prestigious awards or have pursued successful careers in academia or industry.  \n",
      "5. Collaboration with Industry Partners: As the passage mentions the department's research contributing to real-world solutions, it would be relevant to mention any partnerships or collaborations between the department and industry partners. This could include research funding, internship opportunities, or joint research initiatives.  \n",
      "6. Alumni Network: To emphasize the value of attending the UIUC Computer Science Department, the passage could mention the active alumni network and any notable achievements or contributions made by alumni in their respective fields.  \n",
      "7. Campus Resources: To provide prospective students with a comprehensive understanding of the department's resources, the passage could mention any campus resources available for computer science students. This could include computing facilities, libraries, research centers, or student organizations.\n"
     ]
    }
   ],
   "source": [
    "print(out)"
   ]
  },
  {
   "cell_type": "code",
   "execution_count": null,
   "id": "d2c8a895-fbdb-4f3f-a327-2ce1b824b31b",
   "metadata": {},
   "outputs": [],
   "source": []
  }
 ],
 "metadata": {
  "kernelspec": {
   "display_name": "Python 3 (ipykernel)",
   "language": "python",
   "name": "python3"
  },
  "language_info": {
   "codemirror_mode": {
    "name": "ipython",
    "version": 3
   },
   "file_extension": ".py",
   "mimetype": "text/x-python",
   "name": "python",
   "nbconvert_exporter": "python",
   "pygments_lexer": "ipython3",
   "version": "3.8.18"
  }
 },
 "nbformat": 4,
 "nbformat_minor": 5
}
