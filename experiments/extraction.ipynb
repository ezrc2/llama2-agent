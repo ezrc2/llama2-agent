{
 "cells": [
  {
   "cell_type": "code",
   "execution_count": 1,
   "id": "c8f370a6-5ca0-4bda-8be1-d7e9278f49be",
   "metadata": {},
   "outputs": [],
   "source": [
    "from transformers import AutoTokenizer, AutoModelForCausalLM\n",
    "import transformers\n",
    "import torch\n",
    "import utils\n",
    "\n",
    "torch.cuda.empty_cache()"
   ]
  },
  {
   "cell_type": "code",
   "execution_count": 2,
   "id": "5eb98745-e058-4f76-9527-21a30c7d9c95",
   "metadata": {},
   "outputs": [
    {
     "data": {
      "application/vnd.jupyter.widget-view+json": {
       "model_id": "d6ceb15ada2d48fa9f21e559382476ff",
       "version_major": 2,
       "version_minor": 0
      },
      "text/plain": [
       "Loading checkpoint shards:   0%|          | 0/3 [00:00<?, ?it/s]"
      ]
     },
     "metadata": {},
     "output_type": "display_data"
    }
   ],
   "source": [
    "model = \"meta-llama/Llama-2-13b-chat-hf\"\n",
    "tokenizer = AutoTokenizer.from_pretrained(model)\n",
    "pipeline = transformers.pipeline(\n",
    "    \"text-generation\",\n",
    "    model=model,\n",
    "    torch_dtype=torch.float16,\n",
    "    device_map=\"auto\",\n",
    ")"
   ]
  },
  {
   "cell_type": "code",
   "execution_count": 3,
   "id": "43c540fe-5344-40c4-927b-c48890d4ed85",
   "metadata": {},
   "outputs": [],
   "source": [
    "def prompt_llama2(prompt):\n",
    "    prompt_template=f'''[INST] <<SYS>>\n",
    "    You are a helpful, respectful and honest assistant.\n",
    "    <</SYS>> {prompt} [/INST]'''\n",
    "    \n",
    "    sequences = pipeline(\n",
    "        prompt_template,\n",
    "        do_sample=True,\n",
    "        num_return_sequences=1,\n",
    "        eos_token_id=tokenizer.eos_token_id,\n",
    "        #max_length=2048,\n",
    "        temperature=0.7,\n",
    "        top_p=0.95,\n",
    "        top_k=40,\n",
    "        repetition_penalty=1.1,\n",
    "    )\n",
    "    result = sequences[0]['generated_text']\n",
    "    return result.split('[/INST]')[1].strip()"
   ]
  },
  {
   "cell_type": "code",
   "execution_count": 3,
   "id": "dd04e3dc-70b9-417b-8e5e-8a24d7fa9e6c",
   "metadata": {},
   "outputs": [],
   "source": [
    "urls = ['https://cs.illinois.edu/research/areas/artificial-intelligence',\n",
    "        'https://cs.illinois.edu/research/undergraduate-research',\n",
    "        'https://cs.illinois.edu/corporate#research']"
   ]
  },
  {
   "cell_type": "markdown",
   "id": "53e06575-38dc-438b-b7da-bfbc50c5bafd",
   "metadata": {},
   "source": [
    "### Prompt with new scraping method"
   ]
  },
  {
   "cell_type": "code",
   "execution_count": 4,
   "id": "4e98a3aa-9c2a-4e68-9cd6-aa959148eb40",
   "metadata": {},
   "outputs": [
    {
     "name": "stdout",
     "output_type": "stream",
     "text": [
      "                 Artificial Intelligence              About     Faculty     Research Groups/Events     Related News           The study of systems that behave intelligently, artificial intelligence includes several key areas where our faculty are recognized leaders: computer vision, machine listening, natural language processing, machine learning and robotics.  Computer vision systems can understand images and video, for example, building extensive geometric and physical models of cities from video, or warning construction workers about nearby dangers. Natural language processing systems understand written and spoken language; possibilities include automatic translation of text from one language to another, or understanding text on Wikipedia to produce knowledge about the world. Machine listening systems understand audio signals, with applications like speech recognition, acoustic monitoring, or transcribing polyphonic music automatically. Crucial to modern artificial intelligence, machine learning methods exploit examples in order to adjust systems to work as effectively as possible. Robotics puts artificial intelligence into practice using machines that perceive and interact with the physical world.          Strengths and Impact  The AI group at Illinois is strong, diverse, and growing. It combines expertise in core strengths with promising new research directions.   Research Focus   In machine learning, AI group faculty are studying theoretical foundations of deep and reinforcement learning; developing novel models and algorithms for deep neural networks, federated and distributed learning; as well as investigating issues related to scalability, security, privacy, and fairness of learning systems. Computer vision faculty are developing novel approaches for 2D and 3D scene understanding from still images and video; joint understanding of images and language; low-shot learning (recognition of rare or previously unseen categories); transfer learning and domain adaptation (adapting pre-trained systems to a changing data distribution); and image generation and editing approaches based on generative neural networks. Natural language processing faculty are working on topics such as grounded language understanding, information extraction and text mining, and knowledge-driven natural language generation for applications such as scientific discovery. Machine listening faculty are working on sound and speech understanding, source separation, and enhancement, as well as applications in music and computing. Robotics faculty are developing novel planning algorithms for grasping, locomotion, and navigation; investigating multi-robot systems; as well as pursuing high-impact applications of robotics to medicine, agriculture, home care, and autonomous driving.     Research Awards   The excellence and impact of the AI group’s research has been recognized by a number of awards, including NSF CAREER (Amato, Hauser, Hockenmaier, Hoiem, Ji, Koyejo, Lazebnik, Smaragdis, Telgarsky), Sloan Research Fellowship (Hoiem, Koyejo, Lazebnik), Microsoft Research Faculty Fellowship (Lazebnik), AFOSR Young Investigator (Chowdhary), IEEE PAMI Significant Young Researcher Award (Hoiem), MIT TR-35 (Li, Smaragdis), Intel Rising Star Award (Li), “Young Scientist” selected by World Economic Forum (Ji), “AI’s Top 10 to Watch” Award by IEEE Intelligent Systems (Ji), ACM Fellow (Amato, Forsyth, Warnow), IEEE Fellow (Amato, Forsyth, Lazebnik, Smaragdis), IEEE Technical Achievement Award (Forsyth), and Packard Fellowship (Warnow).  In the last few years, AI group members received a number of best paper awards, including: IEEE Signal Processing Society Best Paper Award (Smaragdis, 2018 and 2020), IEEE MLSP Best Paper Award (Smaragdis, 2017), Best Demo Paper Award at the 58th Annual Meeting of the Association for Computational Linguistics (Ji, 2020).     Group Research   AI group research has led to a number of startups. Derek Hoiem is co-founder and Chief Science Officer of Reconstruct, which visually documents construction sites, matching images to plans and analyzing productivity and risk for delay. Girish Chowdhary  is co-founder and CTO of EarthSense, a startup creating machine learning and robotics solutions for agriculture, whose work was featured in a 2020 New York Times article. David Forsyth advises a number of startups focusing on augmented reality and image synthesis, including Lightform, Revery, and Depix.  AI faculty are playing key roles in two $20 million AI institutes recently funded by the National Science Foundation and the U.S. Department of Agriculture’s National Institute of Food and Agriculture. The AI Institute for Future Agricultural Resilience, Management, and Sustainability (AIFARMS), led by Vikram Adve from CS, features Romit Chowdhary as Associate Director of Research, with other investigators including Alexander Schwing, Katherine Driggs-Campbell, Indranil Gupta, Kris Hauser, Julia Hockenmaier, Heng Ji, Sanmi Koyejo, and Paris Smaragdis. The AI Institute for Molecular Discovery, Synthetic Strategy, and Manufacturing, led by Huimin Zhao from Chemical Engineering, involves Heng Ji and Jian Peng as investigators.             Research Efforts and Groups   Beckman Institute  Center for Artificial Intelligence Innovation (NCSA)  Deep Learning Major Research Instrument Project (NCSA)  Natural Language Processing Group  Speech and Language Engineering Group  Center for Autonomy  Robotics Group            Seminars   Robotics Seminar Series (Friday) and student mailing list  NLP: reading group, seminar  Computer Vision: mailing list, vision lunch (Thursday), external speaker series (Tuesday)  Illinois Computer Science Speaker Series : brings prominent leaders and experts to campus to share their ideas and promote conversations about important challenges and topics in the discipline.           Faculty & Affiliate Faculty     Nancy M. Amato  Robot Motion and Task Planning, Multi-Agent Systems, Crowd Simulation      Mark A. Anastasio, Department of Bioengineering  Machine Learning Methods for Imaging Science, Image Reconstruction, Deep Learning for Inverse Problems      Arindam Banerjee  Machine Learning, Learning Theory, Optimization, Generative Models, Sequential Decision Making, Physics-Guided Machine Learning, Differential Privacy      Timothy Bretl, Aerospace Engineering  Motion Planning and Control      Kevin C. Chang  Machine Learning, Natural Language Processing, AI Applications, Data Management Support for AI      Girish Chowdhary  Control, Autonomy and Decision Making, Vision and LIDAR Based Perception, GPS Denied Navigation      David Dalpiaz  Computational Statistics, Reproducible Research, Statistics Education, Machine Learning      Payam Delgosha  Graphs, Information Theory, Algorithms, Machine Learning      Jana Diesner, School of Information Sciences  Social Network Analysis, Natural Language Processing, Machine Learning      Minh N. Do, Electrical & Computer Engineering  Signal Processing, Computational Imaging, Machine Perception, Data Science      Katherine Driggs-Campbell, Electrical & Computer Engineering  Autonomous Vehicles, Validating Autonomous Systems, Interactive Control Policies for Intelligent Systems in Multi-Agent Settings      Margaret Fleck  Computational Linguistics      David A. Forsyth  Computer Vision, Object Recognition, Scene Understanding      Roxana Girju, Linguistics  Computational Linguistics      Mani Golparvar-Fard, Civil Engineering  Computer Vision Analytics for Building and Construction Performance Monitoring      Liangyan Gui  Computer Vision, Machine Learning, Motion Analysis, Robotics      Saurabh Gupta, Electrical & Computer Engineering  Computer Vision, Robotics, Machine Learning      Dilek Hakkani Tur  Conversational AI and Natural Language Processing      Jiawei Han  Machine Learning, Natural Language-Based Text Analysis, Text Summarization      Mark Hasegawa-Johnson, Electrical & Computer Engineering  Statistical Speech Technology      Kris Hauser  Motion Planning, Optimal Control, Integrated Planning and Learning, Robot Systems      Julia Hockenmaier  Natural Language Processing, Computational Linguistics      Derek Hoiem  Computer Vision, Object Recognition, Spatial Understanding, Scene Interpretation      Ravi Iyer, Electrical & Computer Engineering  Probabilistic Graphical Models; Deep Learning; Data Science; Health Analytics; Safety, Reliablity and Security of Autonomous Systems; Reinforcement Learning      Reyhaneh Jabbarvand  ML4Code, ML interpretability, testing, and debugging      Heng Ji  Natural Language Processing, especially on Information Extraction and Knowledge-driven Natural Language Generation, Text Mining, Knowledge Graph Construction for Scientific Discovery      Nan Jiang  Reinforcement Learning, Machine Learning, Sample Complexity Analyses      Daniel Kang  Analytics with Machine Learning, Databases with Machine Learning, Machine Learning Security, Machine Learning + Cryptography      Karrie Karahalios  HCI for ML, AI Explainability      Volodymyr Kindratenko, NCSA  Cyberinfrastructure for Machine Learning, Machine Learning Systems Research, Deep Learning Applications      Fan Lai  Systems for Machine Learning, Machine Learning for Systems      Svetlana Lazebnik  Computer Vision, Scene Understanding, Visual Learning, Vision and Language      Bo Li  Adversarial Machine Learning, Robust Learning      Ge Liu  Artificial Intelligence      Kenton McHenry, NCSA  Cyberinfrastructure for Digital Preservation, Auto-Curation, and Managing Unstructured Digital Collections      Marco Morales  Motion Planning and Control, Autonomous Robots      Jian Peng  Machine Learning and Optimization      Jim Rehg  Computer Vision, Ego4D, VR/AR, Mobile Health, Health AI, Machine Learning, Developmental Machine Learning, Behavioral Imaging      John Reid  Field Robotics, Autonomous Systems Engineering, Machine Perception, Computer Vision      Lane Oscar Schwartz, Linguistics  Machine Translation, Computational Morphology & Syntax      Alexander Schwing, Electrical & Computer Engineering  Machine Learning, Computer Vision      Gagandeep Singh  Certified Artificial Intelligence, Adversarial Robustness, Neural Network Verification, Safe Deep Learning      Paris Smaragdis  Machine Learning for Audio, Speech and Music; Signal Processing; Source Separation; Sound Recognition and Classification      Jimeng Sun  Deep Learning for Drug Discovery, Clinical Trial Optimization, Computational Phenotyping, Clinical Predictive Modeling, Mobile Health and Health Monitoring, Tensor Factorization, and Graph Mining      Matus Telgarsky  Deep Learning Theory      Hanghang Tong  Explainable AI, Fairness in AI, Adversarial Maching Learning      Gokhan Tur  Conversational AI      Shenlong Wang  Computer Vision, Robotics      Yuxiong Wang  Computer Vision, Machine Learning, Meta-Learning, Robotics      Tandy Warnow  Machine Learning in Computational Genomics, Ensemble Methods, Statistical Estimation      Jiaxuan You  Machine Learning for Graphs and Databases, Foundation Models, Large Language Models, Generative AI, AI Agents      Minjia Zhang  Efficient DL/AI Systems and Algorithms, Parallel Computing and Runtime, Natural Language Processing, AI for Science      Tong Zhang  Machine Learning Theory and Applications, Optimization, Reinforcement Learning, Robustness, Generative AI, Large Language Models      Han Zhao  Machine Learning, Representation Learning, Algorithmic Fairness, Probabilistic Models    Adjunct Faculty     Eyal Amir, Parknav  Machine Learning, Automatic Reasoning      Sanmi Koyejo  Machine Learning, Neuroimaging, Biomedical Imaging      Dan Roth, University of Pennsylvania  Machine Learning, Natural Language Processing, Knowledge Representation, Reasoning            Related News          Amazon names Huang and Zhong inaugural fellows for AICE research   News  November 7, 2023          NCSA names 3 CS professors as 2023-24 Fellows   News  October 27, 2023          AICE celebrates inaugural event   News  October 6, 2023          CS Professor Wang on NSF-funded team developing safe learning architecture for autonomous systems   News  September 25, 2023      Load more news                             \n"
     ]
    }
   ],
   "source": [
    "text = utils.extract_all_text(urls[0])\n",
    "print(text)"
   ]
  },
  {
   "cell_type": "code",
   "execution_count": 6,
   "id": "53b8ef37-78d2-4e26-963f-e0b6a1135884",
   "metadata": {},
   "outputs": [],
   "source": [
    "extraction_prompt = f\"\"\"Here is the text that I scraped from a webpage: {text}\n",
    "\n",
    "I've scraped the text from each header and paragraph together into one large string.\n",
    "Imagine you are a person reading this webpage. Which sections of the page are related to the main content of the page? \n",
    "Please list those sections and all of their respective text and output in markdown format:\"\"\""
   ]
  },
  {
   "cell_type": "code",
   "execution_count": 7,
   "id": "414f7a76-e9b5-44ec-8d2e-c7b1b5804013",
   "metadata": {},
   "outputs": [],
   "source": [
    "output = prompt_llama2(extraction_prompt)"
   ]
  },
  {
   "cell_type": "code",
   "execution_count": 8,
   "id": "fc31691f-0b16-4a3d-a630-a3367c9d5aa2",
   "metadata": {},
   "outputs": [
    {
     "name": "stdout",
     "output_type": "stream",
     "text": [
      "Sure! As a person reading this webpage, the main content seems to be related to the Artificial Intelligence group at the University of Illinois, their research focus, strengths, and accomplishments. Here are the relevant sections and their corresponding text in markdown format:\n",
      "\n",
      "### Main Content\n",
      "\n",
      "The Artificial Intelligence group at Illinois is strong, diverse, and growing. It combines expertise in core strengths with promising new research directions.\n",
      "\n",
      "* **Research Focus**: The group is studying theoretical foundations of deep and reinforcement learning, developing novel models and algorithms for deep neural networks, and exploring issues related to scalability, security, privacy, and fairness of learning systems.\n",
      "* **Strengths and Impact**: The group's research has been recognized with various awards, and their faculty members have received numerous best paper awards.\n",
      "* **Group Research**: The group is involved in two $20 million AI institutes recently funded by the National Science Foundation and the U.S. Department of Agriculture’s National Institute of Food and Agriculture.\n",
      "\n",
      "### Faculty\n",
      "\n",
      "The AI group at Illinois has a diverse and experienced faculty, including:\n",
      "\n",
      "* **Nancy M. Amato**: Robot motion and task planning, multi-agent systems, crowd simulation\n",
      "* **Mark A. Anastasio**: Machine learning methods for imaging science, image reconstruction, deep learning for inverse problems\n",
      "* **Arindam Banerjee**: Machine learning, learning theory, optimization, generative models, sequential decision making\n",
      "* **Timothy Bretl**: Motion planning and control\n",
      "* **Kevin C. Chang**: Machine learning, natural language processing, AI applications, data management support for AI\n",
      "* **Girish Chowdhary**: Control, autonomy, and decision making, vision and LIDAR-based perception, GPS-denied navigation\n",
      "* **David Dalpiaz**: Computational statistics, reproducible research, statistics education, machine learning\n",
      "* **Payam Delgosha**: Graphs, information theory, algorithms, machine learning\n",
      "* **Jana Diesner**: Social network analysis, natural language processing, machine learning\n",
      "* **Minh N. Do**: Signal processing, computational imaging, machine perception, data science\n",
      "* **Katherine Driggs-Campbell**: Autonomous vehicles, validating autonomous systems, interactive control policies for intelligent systems in multi-agent settings\n",
      "* **Margaret Fleck**: Computational linguistics\n",
      "* **David A. Forsyth**: Computer vision, object recognition, scene understanding\n",
      "* **Roxana Girju**: Computational linguistics\n",
      "* **Mani Golparvar-Fard**: Computer vision analytics for building and construction performance monitoring\n",
      "* **Liangyan Gui**: Computer vision, machine learning, motion analysis, robotics\n",
      "* **Saurabh Gupta**: Computer vision, robotics, machine learning\n",
      "* **Dilek Hakkani Tur**: Conversational AI and natural language processing\n",
      "* **Jiawei Han**: Machine learning, natural language-based text analysis, text summarization\n",
      "* **Mark Hasegawa-Johnson**: Statistical speech technology\n",
      "* **Kris Hauser**: Motion planning, optimal control, integrated planning and learning, robot systems\n",
      "* **Julia Hockenmaier**: Natural language processing, computational linguistics\n",
      "* **Derek Hoiem**: Computer vision, object recognition, scene understanding\n",
      "* **Remy Huber**: Computer Vision, Robotics, Machine Learning\n",
      "* **Jian Peng**: Machine learning and optimization\n",
      "* **Jim Rehg**: Computer vision, ego-centric vision, virtual reality, mobile health, health AI, machine learning, developmental machine learning, behavioral imaging\n",
      "* **John Reid**: Field robotics, autonomous systems engineering, machine perception, computer vision\n",
      "* **Lane Oscar Schwartz**: Machine translation, computational morphology and syntax\n",
      "* **Alexander Schwing**: Machine learning, computer vision\n",
      "* **Gokhan Tur**: Conversational AI\n",
      "* **Shenlong Wang**: Computer vision, robotics\n",
      "* **Yuxiong Wang**: Computer vision, machine learning, meta-learning, robotics\n",
      "* **Tandy Warnow**: Machine learning in computational genomics, ensemble methods, statistical estimation\n",
      "* **Jiaxuan You**: Machine learning for graphs and databases, foundation models, large language models, generative AI, AI agents\n",
      "* **Minjia Zhang**: Efficient DL/AI systems and algorithms, parallel computing and runtime, natural language processing, AI for science\n",
      "* **Han Zhao**: Machine learning, representation learning, algorithmic fairness, probabilistic models\n",
      "\n",
      "Note that some of the\n"
     ]
    }
   ],
   "source": [
    "print(output)"
   ]
  },
  {
   "cell_type": "code",
   "execution_count": 7,
   "id": "983432d9-6a1e-4235-8517-c0b695d4622e",
   "metadata": {
    "scrolled": true
   },
   "outputs": [],
   "source": [
    "extraction_prompt_example = f\"\"\"Here is the text that I scraped from a webpage: {text}\n",
    "\n",
    "I've scraped the text from each header and paragraph together into one large string.\n",
    "Imagine you are a person reading this webpage. Which sections of the page are related to the main content of the page? \n",
    "Please list those sections with all of their respective text and output in markdown format:\n",
    "\n",
    "For example:\n",
    "\n",
    "### Section 1\n",
    "[display all of the text corresponding to section 1, enclosed in square brackets]\n",
    "\n",
    "### Section 2\n",
    "[display all of the text corresponding to section 2, enclosed in square brackets]\n",
    "\n",
    "and so on. Display information only present in the given text, and do not generate new information.\n",
    "\"\"\""
   ]
  },
  {
   "cell_type": "code",
   "execution_count": 10,
   "id": "f947bb33-5dd5-4e3d-bb45-91537d431183",
   "metadata": {},
   "outputs": [],
   "source": [
    "output = prompt_llama2(extraction_prompt_example)"
   ]
  },
  {
   "cell_type": "code",
   "execution_count": 11,
   "id": "5ba3a21d-95c4-4be0-bea4-2fe97efca265",
   "metadata": {},
   "outputs": [
    {
     "name": "stdout",
     "output_type": "stream",
     "text": [
      "Sure! I can help you with that.\n",
      "\n",
      "The main content of the page appears to be the various research groups and their respective faculty members, along with some related news and awards.\n",
      "\n",
      "Here are the relevant sections and their corresponding text in markdown format:\n",
      "\n",
      "### Section 1: Research Groups\n",
      "\n",
      "[List of research groups with their respective faculty members and areas of expertise]\n",
      "\n",
      "### Section 2: Research Awards\n",
      "\n",
      "[List of awards and honors received by the faculty members]\n",
      "\n",
      "### Section 3: Group Research\n",
      "\n",
      "[Description of startups founded by faculty members and their research efforts]\n",
      "\n",
      "### Section 4: Faculty & Affiliate Faculty\n",
      "\n",
      "[List of faculty members and their areas of expertise]\n",
      "\n",
      "### Section 5: Related News\n",
      "\n",
      "[List of recent news items related to the research being done by the faculty members]\n",
      "\n",
      "So, the main content of the page is the research being done by the faculty members, their expertise, and their awards, along with the startups they have founded and the recent news related to their research.\n"
     ]
    }
   ],
   "source": [
    "print(output)"
   ]
  },
  {
   "cell_type": "markdown",
   "id": "55c0d6a4-0fb0-4f25-8ac2-d5424780b435",
   "metadata": {},
   "source": [
    "### Instruction tuned"
   ]
  },
  {
   "cell_type": "code",
   "execution_count": 8,
   "id": "cb5c0344-a72a-4860-ad9d-d487e0b39ce8",
   "metadata": {},
   "outputs": [
    {
     "data": {
      "application/vnd.jupyter.widget-view+json": {
       "model_id": "afa6dfdcb89647cfbbb5135d11b7e29f",
       "version_major": 2,
       "version_minor": 0
      },
      "text/plain": [
       "Loading checkpoint shards:   0%|          | 0/2 [00:00<?, ?it/s]"
      ]
     },
     "metadata": {},
     "output_type": "display_data"
    }
   ],
   "source": [
    "model = AutoModelForCausalLM.from_pretrained(\"mistralai/Mistral-7B-Instruct-v0.1\")\n",
    "tokenizer = AutoTokenizer.from_pretrained(\"mistralai/Mistral-7B-Instruct-v0.1\")"
   ]
  },
  {
   "cell_type": "code",
   "execution_count": 9,
   "id": "f4b50cbf-344e-4aa3-9de8-76e49ebe30ea",
   "metadata": {},
   "outputs": [
    {
     "data": {
      "text/plain": [
       "MistralForCausalLM(\n",
       "  (model): MistralModel(\n",
       "    (embed_tokens): Embedding(32000, 4096)\n",
       "    (layers): ModuleList(\n",
       "      (0-31): 32 x MistralDecoderLayer(\n",
       "        (self_attn): MistralAttention(\n",
       "          (q_proj): Linear(in_features=4096, out_features=4096, bias=False)\n",
       "          (k_proj): Linear(in_features=4096, out_features=1024, bias=False)\n",
       "          (v_proj): Linear(in_features=4096, out_features=1024, bias=False)\n",
       "          (o_proj): Linear(in_features=4096, out_features=4096, bias=False)\n",
       "          (rotary_emb): MistralRotaryEmbedding()\n",
       "        )\n",
       "        (mlp): MistralMLP(\n",
       "          (gate_proj): Linear(in_features=4096, out_features=14336, bias=False)\n",
       "          (up_proj): Linear(in_features=4096, out_features=14336, bias=False)\n",
       "          (down_proj): Linear(in_features=14336, out_features=4096, bias=False)\n",
       "          (act_fn): SiLUActivation()\n",
       "        )\n",
       "        (input_layernorm): MistralRMSNorm()\n",
       "        (post_attention_layernorm): MistralRMSNorm()\n",
       "      )\n",
       "    )\n",
       "    (norm): MistralRMSNorm()\n",
       "  )\n",
       "  (lm_head): Linear(in_features=4096, out_features=32000, bias=False)\n",
       ")"
      ]
     },
     "execution_count": 9,
     "metadata": {},
     "output_type": "execute_result"
    }
   ],
   "source": [
    "messages = [\n",
    "    {\"role\": \"user\", \"content\": extraction_prompt_example},\n",
    "]\n",
    "\n",
    "input_ids = tokenizer.apply_chat_template(messages, return_tensors=\"pt\").to('cuda')\n",
    "model.to('cuda')"
   ]
  },
  {
   "cell_type": "code",
   "execution_count": 14,
   "id": "60d4cb18-7a57-4e93-9639-2599ee3a2133",
   "metadata": {},
   "outputs": [
    {
     "name": "stderr",
     "output_type": "stream",
     "text": [
      "The attention mask and the pad token id were not set. As a consequence, you may observe unexpected behavior. Please pass your input's `attention_mask` to obtain reliable results.\n",
      "Setting `pad_token_id` to `eos_token_id`:2 for open-end generation.\n"
     ]
    }
   ],
   "source": [
    "generated_ids = model.generate(input_ids, max_new_tokens=2000, do_sample=True)\n",
    "decoded = tokenizer.batch_decode(generated_ids)"
   ]
  },
  {
   "cell_type": "code",
   "execution_count": 37,
   "id": "9095fb3a-f2a0-424d-aef0-47e57b5b8a60",
   "metadata": {},
   "outputs": [
    {
     "name": "stdout",
     "output_type": "stream",
     "text": [
      "### Introduction\n",
      "\n",
      "Artificial Intelligence (AI) is the study of systems that behave intelligently and recognize leaders in several key areas, including computer vision, machine listening, natural language processing, machine learning, and robotics.\n",
      "\n",
      "### Strengths and Impact\n",
      "\n",
      "The AI group at Illinois has grown, diversified, and has many key strengths and impact points, including research focus, research awards, group research, and research efficiencies.\n",
      "\n",
      "### Research Focus\n",
      "\n",
      "Each research focus in AI includes detailed descriptions of the latest research findings and innovations being made by the AI group at Illinois.\n",
      "\n",
      "### Research Efforts and Groups\n",
      "\n",
      "The AI group has several research efforts, including seminars, mailing lists, external speaker series, and faculty and affiliate research projects.\n",
      "\n",
      "### Faculty\n",
      "\n",
      "The AI group includes several faculty members, including both computer science and affiliated faculty, who are listed in a table. Each faculty member is associated with one or more research areas and has published several papers in top-tier academic journals.\n",
      "\n",
      "The AI group also includes a number of researchers who have won numerous awards and accolades for their research, including recognitions from the National Science Foundation, Stanford University, Microsoft, and the Association for Computational Linguistics.</s>\n"
     ]
    }
   ],
   "source": [
    "t = len(extraction_prompt_example) + 20\n",
    "print(decoded[0][t:])"
   ]
  },
  {
   "cell_type": "markdown",
   "id": "b17bb35c-1bba-4729-803c-46f9b0142ce7",
   "metadata": {},
   "source": [
    "### Evaluating extraction"
   ]
  },
  {
   "cell_type": "code",
   "execution_count": 15,
   "id": "4c54cf91-346f-49d7-909e-95e84429aa6a",
   "metadata": {},
   "outputs": [],
   "source": [
    "import pandas as pd"
   ]
  },
  {
   "cell_type": "code",
   "execution_count": 26,
   "id": "9ce1fa97-8a6e-4fcd-b2fd-1b5397485591",
   "metadata": {},
   "outputs": [
    {
     "data": {
      "text/html": [
       "<div>\n",
       "<style scoped>\n",
       "    .dataframe tbody tr th:only-of-type {\n",
       "        vertical-align: middle;\n",
       "    }\n",
       "\n",
       "    .dataframe tbody tr th {\n",
       "        vertical-align: top;\n",
       "    }\n",
       "\n",
       "    .dataframe thead th {\n",
       "        text-align: right;\n",
       "    }\n",
       "</style>\n",
       "<table border=\"1\" class=\"dataframe\">\n",
       "  <thead>\n",
       "    <tr style=\"text-align: right;\">\n",
       "      <th></th>\n",
       "      <th>url</th>\n",
       "      <th>text</th>\n",
       "    </tr>\n",
       "  </thead>\n",
       "  <tbody>\n",
       "    <tr>\n",
       "      <th>0</th>\n",
       "      <td>https://cs.illinois.edu/research/areas/artific...</td>\n",
       "      <td>The study of systems that behave intelligently...</td>\n",
       "    </tr>\n",
       "    <tr>\n",
       "      <th>1</th>\n",
       "      <td>https://cs.illinois.edu/research/areas/data-an...</td>\n",
       "      <td>The rapid growth of big data creates unprecede...</td>\n",
       "    </tr>\n",
       "    <tr>\n",
       "      <th>2</th>\n",
       "      <td>https://cs.illinois.edu/academics/undergraduat...</td>\n",
       "      <td>Undergraduate majors course registration proce...</td>\n",
       "    </tr>\n",
       "    <tr>\n",
       "      <th>3</th>\n",
       "      <td>https://cs.illinois.edu/student-life/student-o...</td>\n",
       "      <td>At Illinois, there's a lot of life outside the...</td>\n",
       "    </tr>\n",
       "    <tr>\n",
       "      <th>4</th>\n",
       "      <td>https://cs.illinois.edu/academics/graduate</td>\n",
       "      <td>Graduate Degrees and Programs\\nPhD Program\\nAd...</td>\n",
       "    </tr>\n",
       "  </tbody>\n",
       "</table>\n",
       "</div>"
      ],
      "text/plain": [
       "                                                 url  \\\n",
       "0  https://cs.illinois.edu/research/areas/artific...   \n",
       "1  https://cs.illinois.edu/research/areas/data-an...   \n",
       "2  https://cs.illinois.edu/academics/undergraduat...   \n",
       "3  https://cs.illinois.edu/student-life/student-o...   \n",
       "4         https://cs.illinois.edu/academics/graduate   \n",
       "\n",
       "                                                text  \n",
       "0  The study of systems that behave intelligently...  \n",
       "1  The rapid growth of big data creates unprecede...  \n",
       "2  Undergraduate majors course registration proce...  \n",
       "3  At Illinois, there's a lot of life outside the...  \n",
       "4  Graduate Degrees and Programs\\nPhD Program\\nAd...  "
      ]
     },
     "execution_count": 26,
     "metadata": {},
     "output_type": "execute_result"
    }
   ],
   "source": [
    "df = pd.read_csv('extraction_dataset.csv')\n",
    "df.head()"
   ]
  },
  {
   "cell_type": "code",
   "execution_count": 27,
   "id": "b6034dc4-6e39-4976-b876-f5854c5939b1",
   "metadata": {},
   "outputs": [
    {
     "name": "stdout",
     "output_type": "stream",
     "text": [
      "                    Artificial Intelligence              About     Faculty     Research Groups/Events     Related News           The study of systems that behave intelligently, artificial intelligence includes several key areas where our faculty are recognized leaders: computer vision, machine listening, natural language processing, machine learning and robotics.  Computer vision systems can understand images and video, for example, building extensive geometric and physical models of cities from video, or warning construction workers about nearby dangers. Natural language processing systems understand written and spoken language; possibilities include automatic translation of text from one language to another, or understanding text on Wikipedia to produce knowledge about the world. Machine listening systems understand audio signals, with applications like speech recognition, acoustic monitoring, or transcribing polyphonic music automatically. Crucial to modern artificial intelligence, machine learning methods exploit examples in order to adjust systems to work as effectively as possible. Robotics puts artificial intelligence into practice using machines that perceive and interact with the physical world.          Strengths and Impact  The AI group at Illinois is strong, diverse, and growing. It combines expertise in core strengths with promising new research directions.   Research Focus   In machine learning, AI group faculty are studying theoretical foundations of deep and reinforcement learning; developing novel models and algorithms for deep neural networks, federated and distributed learning; as well as investigating issues related to scalability, security, privacy, and fairness of learning systems. Computer vision faculty are developing novel approaches for 2D and 3D scene understanding from still images and video; joint understanding of images and language; low-shot learning (recognition of rare or previously unseen categories); transfer learning and domain adaptation (adapting pre-trained systems to a changing data distribution); and image generation and editing approaches based on generative neural networks. Natural language processing faculty are working on topics such as grounded language understanding, information extraction and text mining, and knowledge-driven natural language generation for applications such as scientific discovery. Machine listening faculty are working on sound and speech understanding, source separation, and enhancement, as well as applications in music and computing. Robotics faculty are developing novel planning algorithms for grasping, locomotion, and navigation; investigating multi-robot systems; as well as pursuing high-impact applications of robotics to medicine, agriculture, home care, and autonomous driving.     Research Awards   The excellence and impact of the AI group’s research has been recognized by a number of awards, including NSF CAREER (Amato, Hauser, Hockenmaier, Hoiem, Ji, Koyejo, Lazebnik, Smaragdis, Telgarsky), Sloan Research Fellowship (Hoiem, Koyejo, Lazebnik), Microsoft Research Faculty Fellowship (Lazebnik), AFOSR Young Investigator (Chowdhary), IEEE PAMI Significant Young Researcher Award (Hoiem), MIT TR-35 (Li, Smaragdis), Intel Rising Star Award (Li), “Young Scientist” selected by World Economic Forum (Ji), “AI’s Top 10 to Watch” Award by IEEE Intelligent Systems (Ji), ACM Fellow (Amato, Forsyth, Warnow), IEEE Fellow (Amato, Forsyth, Lazebnik, Smaragdis), IEEE Technical Achievement Award (Forsyth), and Packard Fellowship (Warnow).  In the last few years, AI group members received a number of best paper awards, including: IEEE Signal Processing Society Best Paper Award (Smaragdis, 2018 and 2020), IEEE MLSP Best Paper Award (Smaragdis, 2017), Best Demo Paper Award at the 58th Annual Meeting of the Association for Computational Linguistics (Ji, 2020).     Group Research   AI group research has led to a number of startups. Derek Hoiem is co-founder and Chief Science Officer of Reconstruct, which visually documents construction sites, matching images to plans and analyzing productivity and risk for delay. Girish Chowdhary  is co-founder and CTO of EarthSense, a startup creating machine learning and robotics solutions for agriculture, whose work was featured in a 2020 New York Times article. David Forsyth advises a number of startups focusing on augmented reality and image synthesis, including Lightform, Revery, and Depix.  AI faculty are playing key roles in two $20 million AI institutes recently funded by the National Science Foundation and the U.S. Department of Agriculture’s National Institute of Food and Agriculture. The AI Institute for Future Agricultural Resilience, Management, and Sustainability (AIFARMS), led by Vikram Adve from CS, features Romit Chowdhary as Associate Director of Research, with other investigators including Alexander Schwing, Katherine Driggs-Campbell, Indranil Gupta, Kris Hauser, Julia Hockenmaier, Heng Ji, Sanmi Koyejo, and Paris Smaragdis. The AI Institute for Molecular Discovery, Synthetic Strategy, and Manufacturing, led by Huimin Zhao from Chemical Engineering, involves Heng Ji and Jian Peng as investigators.             Research Efforts and Groups   Beckman Institute  Center for Artificial Intelligence Innovation (NCSA)  Deep Learning Major Research Instrument Project (NCSA)  Natural Language Processing Group  Speech and Language Engineering Group  Center for Autonomy  Robotics Group            Seminars   Robotics Seminar Series (Friday) and student mailing list  NLP: reading group, seminar  Computer Vision: mailing list, vision lunch (Thursday), external speaker series (Tuesday)  Illinois Computer Science Speaker Series : brings prominent leaders and experts to campus to share their ideas and promote conversations about important challenges and topics in the discipline.           Faculty & Affiliate Faculty     Nancy M. Amato  Robot Motion and Task Planning, Multi-Agent Systems, Crowd Simulation      Mark A. Anastasio, Department of Bioengineering  Machine Learning Methods for Imaging Science, Image Reconstruction, Deep Learning for Inverse Problems      Arindam Banerjee  Machine Learning, Learning Theory, Optimization, Generative Models, Sequential Decision Making, Physics-Guided Machine Learning, Differential Privacy      Timothy Bretl, Aerospace Engineering  Motion Planning and Control      Kevin C. Chang  Machine Learning, Natural Language Processing, AI Applications, Data Management Support for AI      Girish Chowdhary  Control, Autonomy and Decision Making, Vision and LIDAR Based Perception, GPS Denied Navigation      David Dalpiaz  Computational Statistics, Reproducible Research, Statistics Education, Machine Learning      Payam Delgosha  Graphs, Information Theory, Algorithms, Machine Learning      Jana Diesner, School of Information Sciences  Social Network Analysis, Natural Language Processing, Machine Learning      Minh N. Do, Electrical & Computer Engineering  Signal Processing, Computational Imaging, Machine Perception, Data Science      Katherine Driggs-Campbell, Electrical & Computer Engineering  Autonomous Vehicles, Validating Autonomous Systems, Interactive Control Policies for Intelligent Systems in Multi-Agent Settings      Margaret Fleck  Computational Linguistics      David A. Forsyth  Computer Vision, Object Recognition, Scene Understanding      Roxana Girju, Linguistics  Computational Linguistics      Mani Golparvar-Fard, Civil Engineering  Computer Vision Analytics for Building and Construction Performance Monitoring      Liangyan Gui  Computer Vision, Machine Learning, Motion Analysis, Robotics      Saurabh Gupta, Electrical & Computer Engineering  Computer Vision, Robotics, Machine Learning      Dilek Hakkani Tur  Conversational AI and Natural Language Processing      Jiawei Han  Machine Learning, Natural Language-Based Text Analysis, Text Summarization      Mark Hasegawa-Johnson, Electrical & Computer Engineering  Statistical Speech Technology      Kris Hauser  Motion Planning, Optimal Control, Integrated Planning and Learning, Robot Systems      Julia Hockenmaier  Natural Language Processing, Computational Linguistics      Derek Hoiem  Computer Vision, Object Recognition, Spatial Understanding, Scene Interpretation      Ravi Iyer, Electrical & Computer Engineering  Probabilistic Graphical Models; Deep Learning; Data Science; Health Analytics; Safety, Reliablity and Security of Autonomous Systems; Reinforcement Learning      Reyhaneh Jabbarvand  ML4Code, ML interpretability, testing, and debugging      Heng Ji  Natural Language Processing, especially on Information Extraction and Knowledge-driven Natural Language Generation, Text Mining, Knowledge Graph Construction for Scientific Discovery      Nan Jiang  Reinforcement Learning, Machine Learning, Sample Complexity Analyses      Daniel Kang  Analytics with Machine Learning, Databases with Machine Learning, Machine Learning Security, Machine Learning + Cryptography      Karrie Karahalios  HCI for ML, AI Explainability      Volodymyr Kindratenko, NCSA  Cyberinfrastructure for Machine Learning, Machine Learning Systems Research, Deep Learning Applications      Fan Lai  Systems for Machine Learning, Machine Learning for Systems      Svetlana Lazebnik  Computer Vision, Scene Understanding, Visual Learning, Vision and Language      Bo Li  Adversarial Machine Learning, Robust Learning      Ge Liu  Artificial Intelligence      Kenton McHenry, NCSA  Cyberinfrastructure for Digital Preservation, Auto-Curation, and Managing Unstructured Digital Collections      Marco Morales  Motion Planning and Control, Autonomous Robots      Jian Peng  Machine Learning and Optimization      Jim Rehg  Computer Vision, Ego4D, VR/AR, Mobile Health, Health AI, Machine Learning, Developmental Machine Learning, Behavioral Imaging      John Reid  Field Robotics, Autonomous Systems Engineering, Machine Perception, Computer Vision      Lane Oscar Schwartz, Linguistics  Machine Translation, Computational Morphology & Syntax      Alexander Schwing, Electrical & Computer Engineering  Machine Learning, Computer Vision      Gagandeep Singh  Certified Artificial Intelligence, Adversarial Robustness, Neural Network Verification, Safe Deep Learning      Paris Smaragdis  Machine Learning for Audio, Speech and Music; Signal Processing; Source Separation; Sound Recognition and Classification      Jimeng Sun  Deep Learning for Drug Discovery, Clinical Trial Optimization, Computational Phenotyping, Clinical Predictive Modeling, Mobile Health and Health Monitoring, Tensor Factorization, and Graph Mining      Matus Telgarsky  Deep Learning Theory      Hanghang Tong  Explainable AI, Fairness in AI, Adversarial Maching Learning      Gokhan Tur  Conversational AI      Shenlong Wang  Computer Vision, Robotics      Yuxiong Wang  Computer Vision, Machine Learning, Meta-Learning, Robotics      Tandy Warnow  Machine Learning in Computational Genomics, Ensemble Methods, Statistical Estimation      Jiaxuan You  Machine Learning for Graphs and Databases, Foundation Models, Large Language Models, Generative AI, AI Agents      Minjia Zhang  Efficient DL/AI Systems and Algorithms, Parallel Computing and Runtime, Natural Language Processing, AI for Science      Tong Zhang  Machine Learning Theory and Applications, Optimization, Reinforcement Learning, Robustness, Generative AI, Large Language Models      Han Zhao  Machine Learning, Representation Learning, Algorithmic Fairness, Probabilistic Models    Adjunct Faculty     Eyal Amir, Parknav  Machine Learning, Automatic Reasoning      Sanmi Koyejo  Machine Learning, Neuroimaging, Biomedical Imaging      Dan Roth, University of Pennsylvania  Machine Learning, Natural Language Processing, Knowledge Representation, Reasoning            Related News          Amazon names Huang and Zhong inaugural fellows for AICE research   News  November 7, 2023          NCSA names 3 CS professors as 2023-24 Fellows   News  October 27, 2023          AICE celebrates inaugural event   News  October 6, 2023          CS Professor Wang on NSF-funded team developing safe learning architecture for autonomous systems   News  September 25, 2023      Load more news                             \n"
     ]
    }
   ],
   "source": [
    "text = utils.extract_all_text(df['url'][0])\n",
    "print(text)"
   ]
  },
  {
   "cell_type": "code",
   "execution_count": 28,
   "id": "5b738f2d-0bfa-4554-b467-cdcd0c235a3d",
   "metadata": {},
   "outputs": [],
   "source": [
    "import spacy"
   ]
  },
  {
   "cell_type": "code",
   "execution_count": 29,
   "id": "16cace10-b128-4496-801a-2e31339e4d47",
   "metadata": {},
   "outputs": [],
   "source": [
    "#!python -m spacy download en_core_web_lg"
   ]
  },
  {
   "cell_type": "code",
   "execution_count": 30,
   "id": "89e73d35-7e95-4ce4-96ce-9f0f2dce8cc6",
   "metadata": {},
   "outputs": [
    {
     "name": "stdout",
     "output_type": "stream",
     "text": [
      "0.6181662612518235\n"
     ]
    }
   ],
   "source": [
    "nlp = spacy.load('en_core_web_lg')\n",
    "text1 = 'Machine learning'\n",
    "text2 = 'computer science'\n",
    "doc1 = nlp(text1)\n",
    "doc2 = nlp(text2)\n",
    "print(doc1.similarity(doc2))"
   ]
  },
  {
   "cell_type": "code",
   "execution_count": 31,
   "id": "676208f6-09c6-421a-9982-9a88fd51b1f3",
   "metadata": {},
   "outputs": [
    {
     "name": "stdout",
     "output_type": "stream",
     "text": [
      "The study of systems that behave intelligently, artificial intelligence includes several key areas where our faculty are recognized leaders: computer vision, machine listening, natural language processing, machine learning and robotics.\n",
      "\n",
      "Computer vision systems can understand images and video, for example, building extensive geometric and physical models of cities from video, or warning construction workers about nearby dangers. Natural language processing systems understand written and spoken language; possibilities include automatic translation of text from one language to another, or understanding text on Wikipedia to produce knowledge about the world. Machine listening systems understand audio signals, with applications like speech recognition, acoustic monitoring, or transcribing polyphonic music automatically. Crucial to modern artificial intelligence, machine learning methods exploit examples in order to adjust systems to work as effectively as possible. Robotics puts artificial intelligence into practice using machines that perceive and interact with the physical world.\n",
      "\n",
      "Strengths and Impact\n",
      "The AI group at Illinois is strong, diverse, and growing. It combines expertise in core strengths with promising new research directions.\n",
      "\n",
      "Research Focus\n",
      "\n",
      "In machine learning, AI group faculty are studying theoretical foundations of deep and reinforcement learning; developing novel models and algorithms for deep neural networks, federated and distributed learning; as well as investigating issues related to scalability, security, privacy, and fairness of learning systems. Computer vision faculty are developing novel approaches for 2D and 3D scene understanding from still images and video; joint understanding of images and language; low-shot learning (recognition of rare or previously unseen categories); transfer learning and domain adaptation (adapting pre-trained systems to a changing data distribution); and image generation and editing approaches based on generative neural networks. Natural language processing faculty are working on topics such as grounded language understanding, information extraction and text mining, and knowledge-driven natural language generation for applications such as scientific discovery. Machine listening faculty are working on sound and speech understanding, source separation, and enhancement, as well as applications in music and computing. Robotics faculty are developing novel planning algorithms for grasping, locomotion, and navigation; investigating multi-robot systems; as well as pursuing high-impact applications of robotics to medicine, agriculture, home care, and autonomous driving.\n",
      "\n",
      "Research Awards\n",
      "\n",
      "The excellence and impact of the AI group’s research has been recognized by a number of awards, including NSF CAREER (Amato, Hauser, Hockenmaier, Hoiem, Ji, Koyejo, Lazebnik, Smaragdis, Telgarsky), Sloan Research Fellowship (Hoiem, Koyejo, Lazebnik), Microsoft Research Faculty Fellowship (Lazebnik), AFOSR Young Investigator (Chowdhary), IEEE PAMI Significant Young Researcher Award (Hoiem), MIT TR-35 (Li, Smaragdis), Intel Rising Star Award (Li), “Young Scientist” selected by World Economic Forum (Ji), “AI’s Top 10 to Watch” Award by IEEE Intelligent Systems (Ji), ACM Fellow (Amato, Forsyth, Warnow), IEEE Fellow (Amato, Forsyth, Lazebnik, Smaragdis), IEEE Technical Achievement Award (Forsyth), and Packard Fellowship (Warnow).\n",
      "\n",
      "In the last few years, AI group members received a number of best paper awards, including: IEEE Signal Processing Society Best Paper Award (Smaragdis, 2018 and 2020), IEEE MLSP Best Paper Award (Smaragdis, 2017), Best Demo Paper Award at the 58th Annual Meeting of the Association for Computational Linguistics (Ji, 2020).\n",
      "\n",
      "Group Research\n",
      "\n",
      "AI group research has led to a number of startups. Derek Hoiem is co-founder and Chief Science Officer of Reconstruct, which visually documents construction sites, matching images to plans and analyzing productivity and risk for delay. Girish Chowdhary  is co-founder and CTO of EarthSense, a startup creating machine learning and robotics solutions for agriculture, whose work was featured in a 2020 New York Times article. David Forsyth advises a number of startups focusing on augmented reality and image synthesis, including Lightform, Revery, and Depix.\n",
      "\n",
      "AI faculty are playing key roles in two $20 million AI institutes recently funded by the National Science Foundation and the U.S. Department of Agriculture’s National Institute of Food and Agriculture. The AI Institute for Future Agricultural Resilience, Management, and Sustainability (AIFARMS), led by Vikram Adve from CS, features Romit Chowdhary as Associate Director of Research, with other investigators including Alexander Schwing, Katherine Driggs-Campbell, Indranil Gupta, Kris Hauser, Julia Hockenmaier, Heng Ji, Sanmi Koyejo, and Paris Smaragdis. The AI Institute for Molecular Discovery, Synthetic Strategy, and Manufacturing, led by Huimin Zhao from Chemical Engineering, involves Heng Ji and Jian Peng as investigators.\n",
      "\n",
      "Research Efforts and Groups\n",
      "Beckman Institute\n",
      "Center for Artificial Intelligence Innovation (NCSA)\n",
      "Deep Learning Major Research Instrument Project (NCSA)\n",
      "Natural Language Processing Group\n",
      "Speech and Language Engineering Group\n",
      "Center for Autonomy\n",
      "Robotics Group\n",
      "Seminars\n",
      " Robotics Seminar Series (Friday)and student mailing list\n",
      "NLP: reading group, seminar\n",
      "Computer Vision: mailing list, vision lunch (Thursday), external speaker series (Tuesday)\n",
      "Illinois Computer Science Speaker Series: brings prominent leaders and experts to campus to share their ideas and promote conversations about important challenges and topics in the discipline.\n",
      "Faculty & Affiliate Faculty\n",
      "Nancy M. Amato\n",
      "Robot Motion and Task Planning, Multi-Agent Systems, Crowd Simulation\n",
      "\n",
      "Mark A. Anastasio, Department of Bioengineering\n",
      "Machine Learning Methods for Imaging Science, Image Reconstruction, Deep Learning for Inverse Problems\n",
      "\n",
      "Arindam Banerjee\n",
      "Machine Learning, Learning Theory, Optimization, Generative Models, Sequential Decision Making, Physics-Guided Machine Learning, Differential Privacy\n",
      "\n",
      "Timothy Bretl, Aerospace Engineering\n",
      "Motion Planning and Control\n",
      "\n",
      "Kevin C. Chang\n",
      "Machine Learning, Natural Language Processing, AI Applications, Data Management Support for AI\n",
      "\n",
      "Girish Chowdhary\n",
      "Control, Autonomy and Decision Making, Vision and LIDAR Based Perception, GPS Denied Navigation\n",
      "\n",
      "David Dalpiaz\n",
      "Computational Statistics, Reproducible Research, Statistics Education, Machine Learning\n",
      "\n",
      "Payam Delgosha\n",
      "Graphs, Information Theory, Algorithms, Machine Learning\n",
      "\n",
      "Jana Diesner, School of Information Sciences\n",
      "Social Network Analysis, Natural Language Processing, Machine Learning\n",
      "\n",
      "Minh N. Do, Electrical & Computer Engineering\n",
      "Signal Processing, Computational Imaging, Machine Perception, Data Science\n",
      "\n",
      "Katherine Driggs-Campbell, Electrical & Computer Engineering\n",
      "Autonomous Vehicles, Validating Autonomous Systems, Interactive Control Policies for Intelligent Systems in Multi-Agent Settings\n",
      "\n",
      "Margaret Fleck\n",
      "Computational Linguistics\n",
      "\n",
      "David A. Forsyth\n",
      "Computer Vision, Object Recognition, Scene Understanding\n",
      "\n",
      "Roxana Girju, Linguistics\n",
      "Computational Linguistics\n",
      "\n",
      "Mani Golparvar-Fard, Civil Engineering\n",
      "Computer Vision Analytics for Building and Construction Performance Monitoring\n",
      "\n",
      "Liangyan Gui\n",
      "Computer Vision, Machine Learning, Motion Analysis, Robotics\n",
      "\n",
      "Saurabh Gupta, Electrical & Computer Engineering\n",
      "Computer Vision, Robotics, Machine Learning\n",
      "\n",
      "Dilek Hakkani Tur\n",
      "Conversational AI and Natural Language Processing\n",
      "\n",
      "Jiawei Han\n",
      "Machine Learning, Natural Language-Based Text Analysis, Text Summarization\n",
      "\n",
      "Mark Hasegawa-Johnson, Electrical & Computer Engineering\n",
      "Statistical Speech Technology\n",
      "\n",
      "Kris Hauser\n",
      "Motion Planning, Optimal Control, Integrated Planning and Learning, Robot Systems\n",
      "\n",
      "Julia Hockenmaier\n",
      "Natural Language Processing, Computational Linguistics \n",
      "\n",
      "Derek Hoiem\n",
      "Computer Vision, Object Recognition, Spatial Understanding, Scene Interpretation \n",
      "\n",
      "Ravi Iyer, Electrical & Computer Engineering\n",
      "Probabilistic Graphical Models; Deep Learning; Data Science; Health Analytics; Safety, Reliablity and Security of Autonomous Systems; Reinforcement Learning\n",
      "\n",
      "Reyhaneh Jabbarvand\n",
      "ML4Code, ML interpretability, testing, and debugging\n",
      "\n",
      "Heng Ji\n",
      "Natural Language Processing, especially on Information Extraction and Knowledge-driven Natural Language Generation, Text Mining, Knowledge Graph Construction for Scientific Discovery\n",
      "\n",
      "Nan Jiang\n",
      "Reinforcement Learning, Machine Learning, Sample Complexity Analyses\n",
      "\n",
      "Daniel Kang\n",
      "Analytics with Machine Learning, Databases with Machine Learning, Machine Learning Security, Machine Learning + Cryptography \n",
      "\n",
      "Karrie Karahalios\n",
      "HCI for ML, AI Explainability\n",
      "\n",
      "Volodymyr Kindratenko, NCSA\n",
      "Cyberinfrastructure for Machine Learning, Machine Learning Systems Research, Deep Learning Applications\n",
      "\n",
      "Fan Lai\n",
      "Systems for Machine Learning, Machine Learning for Systems\n",
      "\n",
      "Svetlana Lazebnik\n",
      "Computer Vision, Scene Understanding, Visual Learning, Vision and Language\n",
      "\n",
      "Bo Li\n",
      "Adversarial Machine Learning, Robust Learning\n",
      "\n",
      "Ge Liu\n",
      "Artificial Intelligence\n",
      "\n",
      "Kenton McHenry, NCSA\n",
      "Cyberinfrastructure for Digital Preservation, Auto-Curation, and Managing Unstructured Digital Collections \n",
      "\n",
      "Marco Morales\n",
      "Motion Planning and Control, Autonomous Robots\n",
      "\n",
      "Jian Peng\n",
      "Machine Learning and Optimization\n",
      "\n",
      "Jim Rehg\n",
      "Computer Vision, Ego4D, VR/AR, Mobile Health, Health AI, Machine Learning, Developmental Machine Learning, Behavioral Imaging\n",
      "\n",
      "John Reid\n",
      "Field Robotics, Autonomous Systems Engineering, Machine Perception, Computer Vision\n",
      "\n",
      "Lane Oscar Schwartz, Linguistics\n",
      "Machine Translation, Computational Morphology & Syntax\n",
      "\n",
      "Alexander Schwing, Electrical & Computer Engineering\n",
      "Machine Learning, Computer Vision\n",
      "\n",
      "Gagandeep Singh\n",
      "Certified Artificial Intelligence, Adversarial Robustness, Neural Network Verification, Safe Deep Learning\n",
      "\n",
      "Paris Smaragdis\n",
      "Machine Learning for Audio, Speech and Music; Signal Processing; Source Separation; Sound Recognition and Classification\n",
      "\n",
      "Jimeng Sun\n",
      "Deep Learning for Drug Discovery, Clinical Trial Optimization, Computational Phenotyping, Clinical Predictive Modeling, Mobile Health and Health Monitoring, Tensor Factorization, and Graph Mining\n",
      "\n",
      "Matus Telgarsky\n",
      "Deep Learning Theory\n",
      "\n",
      "Hanghang Tong\n",
      "Explainable AI, Fairness in AI, Adversarial Maching Learning\n",
      "\n",
      "Gokhan Tur\n",
      "Conversational AI\n",
      "\n",
      "Shenlong Wang\n",
      "Computer Vision, Robotics\n",
      "\n",
      "Yuxiong Wang\n",
      "Computer Vision, Machine Learning, Meta-Learning, Robotics\n",
      "\n",
      "Tandy Warnow\n",
      "Machine Learning in Computational Genomics, Ensemble Methods, Statistical Estimation\n",
      "\n",
      "Jiaxuan You\n",
      "Machine Learning for Graphs and Databases, Foundation Models, Large Language Models, Generative AI, AI Agents\n",
      "Minjia Zhang\n",
      "Efficient DL/AI Systems and Algorithms, Parallel Computing and Runtime, Natural Language Processing, AI for Science\n",
      "\n",
      "Tong Zhang\n",
      "Machine Learning Theory and Applications, Optimization, Reinforcement Learning, Robustness, Generative AI, Large Language Models\n",
      "\n",
      "Han Zhao\n",
      "Machine Learning, Representation Learning, Algorithmic Fairness, Probabilistic Models\n",
      "\n",
      "Adjunct Faculty\n",
      "Eyal Amir, Parknav\n",
      "Machine Learning, Automatic Reasoning\n",
      "\n",
      "Sanmi Koyejo\n",
      "Machine Learning, Neuroimaging, Biomedical Imaging\n",
      "\n",
      "Dan Roth, University of Pennsylvania\n",
      "Machine Learning, Natural Language Processing, Knowledge Representation, Reasoning \n"
     ]
    }
   ],
   "source": [
    "print(df['text'][0])"
   ]
  },
  {
   "cell_type": "code",
   "execution_count": 32,
   "id": "c8a64ce0-68e7-4bf9-8332-5ce6e011127f",
   "metadata": {},
   "outputs": [
    {
     "name": "stdout",
     "output_type": "stream",
     "text": [
      "0.999737512945093\n"
     ]
    }
   ],
   "source": [
    "doc1 = nlp(text)\n",
    "doc2 = nlp(df['text'][0])\n",
    "print(doc1.similarity(doc2))"
   ]
  },
  {
   "cell_type": "code",
   "execution_count": 39,
   "id": "05baf0b7-5499-4d61-9a46-a9413913592e",
   "metadata": {},
   "outputs": [],
   "source": [
    "similarities = []\n",
    "texts = []\n",
    "for i in range(len(df)):\n",
    "    text = utils.extract_all_text(df['url'][i])\n",
    "    texts.append(text)\n",
    "    doc1 = nlp(text)\n",
    "    doc2 = nlp(df['text'][i])\n",
    "    similarities.append(doc1.similarity(doc2))"
   ]
  },
  {
   "cell_type": "code",
   "execution_count": 40,
   "id": "f18bb066-a5bb-48fa-8bd7-5b01e25d8a7a",
   "metadata": {},
   "outputs": [
    {
     "data": {
      "text/plain": [
       "[0.999737512945093,\n",
       " 0.999476050226349,\n",
       " 0.9999989907314845,\n",
       " 0.9993266911337699,\n",
       " 0.9999603687264453,\n",
       " 0.9999581243969186,\n",
       " 0.9983780650463049,\n",
       " 0.9990800224476888,\n",
       " 0.9992856083676531,\n",
       " 0.8186458322848597,\n",
       " 0.9999950804753748,\n",
       " 0.9999482895921847,\n",
       " 0.9999752192968125,\n",
       " 0.9999986875875064,\n",
       " 1.0000001585683593]"
      ]
     },
     "execution_count": 40,
     "metadata": {},
     "output_type": "execute_result"
    }
   ],
   "source": [
    "similarities"
   ]
  },
  {
   "cell_type": "code",
   "execution_count": 43,
   "id": "977b612b-4311-410c-8568-6f9bd145a7de",
   "metadata": {},
   "outputs": [
    {
     "data": {
      "text/plain": [
       "'https://cs.illinois.edu/news/notes'"
      ]
     },
     "execution_count": 43,
     "metadata": {},
     "output_type": "execute_result"
    }
   ],
   "source": [
    "df['url'][9]"
   ]
  },
  {
   "cell_type": "code",
   "execution_count": 41,
   "id": "0dfa9465-6624-4b11-b732-86b78be8a3d4",
   "metadata": {},
   "outputs": [
    {
     "data": {
      "text/plain": [
       "'                    News Notes            News Notes of our faculty, alumni, and students are below.\\xa0See also our News and Media Mentions .                                          '"
      ]
     },
     "execution_count": 41,
     "metadata": {},
     "output_type": "execute_result"
    }
   ],
   "source": [
    "texts[9]"
   ]
  },
  {
   "cell_type": "code",
   "execution_count": 42,
   "id": "711a5ac8-88ff-4a08-8bc3-2ce8e3be3ae3",
   "metadata": {},
   "outputs": [
    {
     "data": {
      "text/plain": [
       "'News Notes of our faculty, alumni, and students are below. See also our News and Media Mentions.\\n\\n12/19/2023\\nCS Professor Sheldon H. Jacobson says, in response to bills filed over the use of AI-manipulated media in the Florida 2024 legislative session, “Law and artificial intelligence are now starting to merge and confront each other. This is the Wild West … We’re just at the beginning.”  (Tallahassee Democrat)\\n\\n12/5/2023\\nTuring laureate Joseph Sifakis has created an extension of CS professor Lui Sha’s Simplex architecture for trustworthy autonomous systems. Sha’s team and colleagues have worked on provably safe AI-enhanced CPS systems.\\n\\n11/29/2023\\nCS Professor Sheldon H. Jacobson wrote an opinion piece on gerrymandering congressional districts in advance of the 2024 presidential election.\\n(The Hill)\\n\\n11/14/2023\\nIllinois CS Professor Sarita Adve will be honored for her \"valuable contributions to the field of high-performance computing\" and featured in the SC23 Conference 35th Anniversary booth on November 12-17, 2023, in Denver, CO.  \\n\\n11/8/2023\\nIllinois CS Professor Ling Ren has been awarded the Bitcoin Research Prize for an article he co-authored.\\n\\n11/2/2023\\nRashid Bashir, Dean of the University of Illinois Urbana-Champaign’s Grainger College of Engineering is among those working alongside Illinois Governor J.B. Pritzker to secure the National Semiconductor Technology Center for the state.\\n(Chicago Sun-Times)\\n\\n10/31/2023\\nCS Professor Sheldon H. Jacobson wrote about the need to end daylight savings time.\\n(The Telegraph)\\n\\n10/26/2023\\nCS Professor Sheldon H. Jacobson examined gun safety legislation.\\n(The Hill)\\n\\n10/23/2023\\nIllinois CS Interactive Computing faculty and students, attended the ACM SIGCHI Conference on Computer-Supported Cooperative Work & Social Computing (CSCW) Oct. 14-18. Two papers from the CS IC group won the Best Paper awards '"
      ]
     },
     "execution_count": 42,
     "metadata": {},
     "output_type": "execute_result"
    }
   ],
   "source": [
    "df['text'][9]"
   ]
  },
  {
   "cell_type": "code",
   "execution_count": 44,
   "id": "0dfe53c5-2b23-4458-839a-acf75a8dcdf8",
   "metadata": {},
   "outputs": [
    {
     "data": {
      "text/plain": [
       "\"                    AI4ALL              AI4ALL Discover AI  INTERESTED IN LEARNING ABOUT ARTIFICIAL INTELLIGENCE AND HOW IT INTERSECTS WITH A VARIETY OF FIELDS?\\xa0 WANT TO LEARN ABOUT CAREER PATHS IN TECH?  Apply Now!  Application Deadline: February 10, 2023.  What is AI4ALL?  Discover AI is a\\xa0 virtual program\\xa0 that offers a hands-on introduction to computer science and artificial intelligence (AI), ethical issues surrounding AI implementation, and tech careers. There is no cost to participate. Students that complete the program\\xa0 will emerge with\\xa0 actionable next steps in pursuing an academic or career path in AI - and the opportunity to continue in the following semester to our second program, Apply AI.  AI4ALL programs are designed to bring together and highlight voices that have been historically excluded, and that will lead and shape the future of AI. We aim to serve the following students, especially those at the intersection of two or more of these identities:   Indigenous Peoples, Black, Hispanic or Latinx, Pacific Islander, and Southeast Asian  Trans and non-binary; two-spirit; cis women and girls  Lesbian, gay, bisexual, asexual, and queer  Students with a demonstrated financial need (for example, students who receive financial aid)  First-generation college student   Open to all Freshmen, Sophomores, and Juniors\\xa0at UIUC. Discover AI is designed to accommodate both students with and without prior computer science or AI experience. No program fees.  Why should students consider the AI4ALL Discover AI program?   At the end of the program, participants receive an AI4ALL Discover AI certificate of completion.  Additionally, students will be invited to opt-in to Apply AI in the following semester - which\\xa0 takes the concepts found in Discover AI further, and involves working with industry mentors on an AI-specific project.  Students that complete the programs have access to Changemakers\\xa0 - AI4ALL's career development program that can also help program alumni find an internship in AI.   When is the program?   Application Deadline:\\xa0 February 10, 2023  Program Launch: February 22, 2023  Program Ends: May 3, 2023   What is the commitment required from participating students?   The Discover AI Program consists of a 10-week commitment of about 20 hours overall for the program.  The curriculum includes pre-work before the program begins and optional homework to complete on your own during the program.  Synchronous sessions will be Thursdays 3:30pm-5pm CT.   Discover AI is the first in a series of AI4ALL programs to support your journey in AI.   STEP 1: Discover AI - Intro to AI fundamentals  STEP 2: Apply AI - Build an AI portfolio  STEP 3: Changemakers - AI internship program (pilot)    AI4ALL Student Information Sessions  Want to speak with a representative of AI4ALL and learn more about Discover AI? Click on the info sessions below for more information and registration link!\\xa0 You can also visit the AI4ALL eventbrite page\\xa0 to register .  Ready to Apply?  Click here to access application.  Application deadline is February 10, 2023.  Questions?  Contact bpc-programs@cs.illinois.edu .  For more information on AI4ALL and College Pathways, please refer to our website .\\xa0For questions, please reach out via email at collegepathways@ai-4-all.org .                                 \""
      ]
     },
     "execution_count": 44,
     "metadata": {},
     "output_type": "execute_result"
    }
   ],
   "source": [
    "texts[-1]"
   ]
  },
  {
   "cell_type": "code",
   "execution_count": 48,
   "id": "24118355-150b-45a2-a978-0153bb21afff",
   "metadata": {},
   "outputs": [
    {
     "data": {
      "text/plain": [
       "\"AI4ALL Discover AI\\nINTERESTED IN LEARNING ABOUT ARTIFICIAL INTELLIGENCE AND HOW IT INTERSECTS WITH A VARIETY OF FIELDS?  WANT TO LEARN ABOUT CAREER PATHS IN TECH?\\nApply Now!\\n\\nApplication Deadline: February 10, 2023.\\n\\nWhat is AI4ALL?\\n\\nDiscover AI is a  virtual program  that offers a hands-on introduction to computer science and artificial intelligence (AI), ethical issues surrounding AI implementation, and tech careers.  There is no cost to participate. Students that complete the program  will emerge with  actionable next steps in pursuing an academic or career path in AI - and the opportunity to continue in the following semester to our second program, Apply AI.\\n\\nAI4ALL programs are designed to bring together and highlight voices that have been historically excluded, and that will lead and shape the future of AI. We aim to serve the following students, especially those at the intersection of two or more of these identities:\\n\\nIndigenous Peoples, Black, Hispanic or Latinx, Pacific Islander, and Southeast Asian\\nTrans and non-binary; two-spirit; cis women and girls\\nLesbian, gay, bisexual, asexual, and queer\\nStudents with a demonstrated financial need (for example, students who receive financial aid)\\nFirst-generation college student\\nOpen to all Freshmen, Sophomores, and Juniors at UIUC. Discover AI is designed to accommodate both students with and without prior computer science or AI experience. No program fees. \\n\\nWhy should students consider the AI4ALL Discover AI program?\\n\\nAt the end of the program, participants receive an AI4ALL Discover AI certificate of completion.\\nAdditionally, students will be invited to opt-in to Apply AI in the following semester - which  takes the concepts found in Discover AI further, and involves working with industry mentors on an AI-specific project.\\nStudents that complete the programs have access to Changemakers  - AI4ALL's career development program that can also help program alumni find an internship in AI.\\nWhen is the program?\\n\\nApplication Deadline:  February 10, 2023\\nProgram Launch: February 22, 2023\\nProgram Ends: May 3, 2023\\nWhat is the commitment required from participating students?\\n\\nThe Discover AI Program consists of a 10-week commitment of about 20 hours overall for the program. \\nThe curriculum includes pre-work before the program begins and optional homework to complete on your own during the program.\\nSynchronous sessions will be Thursdays 3:30pm-5pm CT.\\nDiscover AI is the first in a series of AI4ALL programs to support your journey in AI.\\n\\nSTEP 1: Discover AI - Intro to AI fundamentals\\nSTEP 2: Apply AI - Build an AI portfolio\\nSTEP 3: Changemakers - AI internship program (pilot)\\n\\n\\nAI4ALL Student Information Sessions\\n\\nWant to speak with a representative of AI4ALL and learn more about Discover AI? Click on the info sessions below for more information and registration link!  You can also visit the AI4ALL eventbrite page  to register .\\n\\nReady to Apply?\\n\\nClick here to access application. Application deadline is February 10, 2023.\\n\\nQuestions?\\n\\nContact bpc-programs@cs.illinois.edu.\\n\\nFor more information on AI4ALL and College Pathways, please refer to our website. For questions, please reach out via email at collegepathways@ai-4-all.org.\""
      ]
     },
     "execution_count": 48,
     "metadata": {},
     "output_type": "execute_result"
    }
   ],
   "source": [
    "list(df['text'])[-1]"
   ]
  }
 ],
 "metadata": {
  "kernelspec": {
   "display_name": "Python 3 (ipykernel)",
   "language": "python",
   "name": "python3"
  },
  "language_info": {
   "codemirror_mode": {
    "name": "ipython",
    "version": 3
   },
   "file_extension": ".py",
   "mimetype": "text/x-python",
   "name": "python",
   "nbconvert_exporter": "python",
   "pygments_lexer": "ipython3",
   "version": "3.8.18"
  }
 },
 "nbformat": 4,
 "nbformat_minor": 5
}
