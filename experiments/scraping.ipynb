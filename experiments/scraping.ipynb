{
 "cells": [
  {
   "cell_type": "code",
   "execution_count": 1,
   "id": "e6d2ba63-d529-47a9-a0e2-b777ba67e698",
   "metadata": {},
   "outputs": [],
   "source": [
    "from experiments import utils\n",
    "from bs4 import BeautifulSoup\n",
    "import requests\n",
    "import trafilatura\n",
    "from trafilatura import fetch_url, extract\n",
    "from trafilatura.settings import use_config"
   ]
  },
  {
   "cell_type": "code",
   "execution_count": 2,
   "id": "e809effb-b7ec-4da6-b586-96d8ef0a1592",
   "metadata": {},
   "outputs": [],
   "source": [
    "headers = {'user-agent': 'Mozilla/5.0 (X11; Linux x86_64) AppleWebKit/537.36 (KHTML, like Gecko) Chrome/86.0.4240.111 Safari/537.36'}\n",
    "\n",
    "### testing links\n",
    "tab_links = ['https://cs.illinois.edu/', \n",
    "             'https://cs.illinois.edu/about/people/department-faculty', \n",
    "             'https://cs.illinois.edu/academics/undergraduate/degree-program-options'\n",
    "             'https://cs.illinois.edu/academics/courses',\n",
    "             'https://cs.illinois.edu/research'\n",
    "            ]\n",
    "text_links = ['https://cs.illinois.edu/research/areas/artificial-intelligence', \n",
    "              'https://cs.illinois.edu/research/areas/data-and-information-systems',\n",
    "              'https://cs.illinois.edu/academics/undergraduate/registration',\n",
    "              'https://cs.illinois.edu/student-life/student-organizations',\n",
    "              'https://cs.illinois.edu/academics/graduate',\n",
    "              'http://catalog.illinois.edu/courses-of-instruction/cs/'\n",
    "             ]"
   ]
  },
  {
   "cell_type": "markdown",
   "id": "da99a969-419c-4ec0-a9a0-e2338015dc3d",
   "metadata": {
    "jp-MarkdownHeadingCollapsed": true
   },
   "source": [
    "### Previous methods"
   ]
  },
  {
   "cell_type": "code",
   "execution_count": 3,
   "id": "ea9f64da-b991-4f9d-9e94-152a45718c91",
   "metadata": {
    "scrolled": true
   },
   "outputs": [
    {
     "data": {
      "text/plain": [
       "['The study of systems that behave intelligently, artificial intelligence includes several key areas where our faculty\\xa0are recognized leaders: computer vision, machine listening, natural language processing, machine learning and robotics.',\n",
       " 'Computer vision systems can understand images and video, for example, building extensive geometric and physical models of cities from video, or warning construction workers about nearby dangers. Natural language processing systems understand written and spoken language; possibilities include automatic translation of text from one language to another, or understanding text on Wikipedia to produce knowledge about the world. Machine listening systems understand audio signals, with applications like speech recognition, acoustic monitoring, or transcribing polyphonic music automatically. Crucial to modern artificial intelligence, machine learning methods exploit examples in order to adjust systems to work as effectively as possible. Robotics puts artificial intelligence into practice using machines that perceive and interact with the physical world.',\n",
       " 'The AI group at Illinois is strong, diverse, and growing. It combines expertise in core strengths with promising new research directions.',\n",
       " 'In machine learning, AI group faculty are studying theoretical foundations of deep and reinforcement learning; developing novel models and algorithms for deep neural networks, federated and distributed learning; as well as investigating issues related to scalability, security, privacy, and fairness of learning systems. Computer vision faculty are developing novel approaches for 2D and 3D scene understanding from still images and video; joint understanding of images and language; low-shot learning (recognition of rare or previously unseen categories); transfer learning and domain adaptation (adapting pre-trained systems to a changing data distribution); and image generation and editing approaches based on generative neural networks. Natural language processing faculty are working on topics such as grounded language understanding, information extraction and text mining, and knowledge-driven natural language generation for applications such as scientific discovery. Machine listening faculty are working on sound and speech understanding, source separation, and enhancement, as well as applications in music and computing. Robotics faculty are developing novel planning algorithms for grasping, locomotion, and navigation; investigating multi-robot systems; as well as pursuing high-impact applications of robotics to medicine, agriculture, home care, and autonomous driving.',\n",
       " 'The excellence and impact of the AI group’s research has been recognized by a number of awards, including NSF CAREER (Amato, Hauser, Hockenmaier, Hoiem, Ji, Koyejo, Lazebnik, Smaragdis, Telgarsky), Sloan Research Fellowship (Hoiem, Koyejo, Lazebnik), Microsoft Research Faculty Fellowship (Lazebnik), AFOSR Young Investigator (Chowdhary), IEEE PAMI Significant Young Researcher Award (Hoiem), MIT TR-35 (Li, Smaragdis), Intel Rising Star Award (Li), “Young Scientist” selected by World Economic Forum (Ji), “AI’s Top 10 to Watch” Award by IEEE Intelligent Systems (Ji), ACM Fellow (Amato, Forsyth, Warnow), IEEE Fellow (Amato, Forsyth, Lazebnik, Smaragdis), IEEE Technical Achievement Award (Forsyth), and Packard Fellowship (Warnow).',\n",
       " 'In the last few years, AI group members received a number of best paper awards, including: IEEE Signal Processing Society Best Paper Award (Smaragdis, 2018 and 2020), IEEE MLSP Best Paper Award (Smaragdis, 2017), Best Demo Paper Award at the 58th Annual Meeting of the Association for Computational Linguistics (Ji, 2020).',\n",
       " 'AI group research has led to a number of startups. Derek Hoiem is co-founder and Chief Science Officer of Reconstruct, which visually documents construction sites, matching images to plans and analyzing productivity and risk for delay. Girish Chowdhary \\xa0is co-founder and CTO of EarthSense, a startup creating machine learning and robotics solutions for agriculture, whose work was featured in a 2020 New York Times article. David Forsyth advises a number of startups focusing on augmented reality and image synthesis, including Lightform, Revery, and Depix.',\n",
       " 'AI faculty are playing key roles in two $20 million AI institutes recently funded by the National Science Foundation and the U.S. Department of Agriculture’s National Institute of Food and Agriculture. The AI Institute for Future Agricultural Resilience, Management, and Sustainability (AIFARMS), led by Vikram Adve from CS, features Romit Chowdhary as Associate Director of Research, with other investigators including Alexander Schwing, Katherine Driggs-Campbell, Indranil Gupta, Kris Hauser, Julia Hockenmaier, Heng Ji, Sanmi Koyejo, and Paris Smaragdis. The AI Institute for Molecular Discovery, Synthetic Strategy, and Manufacturing, led by Huimin Zhao from Chemical Engineering, involves Heng Ji and Jian Peng as investigators.',\n",
       " 'Thomas M. Siebel Center for Computer Science']"
      ]
     },
     "execution_count": 3,
     "metadata": {},
     "output_type": "execute_result"
    }
   ],
   "source": [
    "test = 'https://cs.illinois.edu/research/areas/artificial-intelligence'\n",
    "utils.extract_paragraphs(test) # <p> tags only"
   ]
  },
  {
   "cell_type": "code",
   "execution_count": 5,
   "id": "5c99a5c3-b2bb-4e37-9c08-65b74fd19074",
   "metadata": {
    "scrolled": true
   },
   "outputs": [
    {
     "data": {
      "text/plain": [
       "'Apply to UIUC Make a Gift About Faculty Research Groups/Events Related News The study of systems that behave intelligently, artificial intelligence includes several key areas where our faculty are recognized leaders: computer vision, machine listening, natural language processing, machine learning and robotics. Computer vision systems can understand images and video, for example, building extensive geometric and physical models of cities from video, or warning construction workers about nearby dangers. Natural language processing systems understand written and spoken language; possibilities include automatic translation of text from one language to another, or understanding text on Wikipedia to produce knowledge about the world. Machine listening systems understand audio signals, with applications like speech recognition, acoustic monitoring, or transcribing polyphonic music automatically. Crucial to modern artificial intelligence, machine learning methods exploit examples in order to adjust systems to work as effectively as possible. Robotics puts artificial intelligence into practice using machines that perceive and interact with the physical world. The AI group at Illinois is strong, diverse, and growing. It combines expertise in core strengths with promising new research directions. Research Focus In machine learning, AI group faculty are studying theoretical foundations of deep and reinforcement learning; developing novel models and algorithms for deep neural networks, federated and distributed learning; as well as investigating issues related to scalability, security, privacy, and fairness of learning systems. Computer vision faculty are developing novel approaches for 2D and 3D scene understanding from still images and video; joint understanding of images and language; low-shot learning (recognition of rare or previously unseen categories); transfer learning and domain adaptation (adapting pre-trained systems to a changing data distribution); and image generation and editing approaches based on generative neural networks. Natural language processing faculty are working on topics such as grounded language understanding, information extraction and text mining, and knowledge-driven natural language generation for applications such as scientific discovery. Machine listening faculty are working on sound and speech understanding, source separation, and enhancement, as well as applications in music and computing. Robotics faculty are developing novel planning algorithms for grasping, locomotion, and navigation; investigating multi-robot systems; as well as pursuing high-impact applications of robotics to medicine, agriculture, home care, and autonomous driving. Research Awards The excellence and impact of the AI group’s research has been recognized by a number of awards, including NSF CAREER (Amato, Hauser, Hockenmaier, Hoiem, Ji, Koyejo, Lazebnik, Smaragdis, Telgarsky), Sloan Research Fellowship (Hoiem, Koyejo, Lazebnik), Microsoft Research Faculty Fellowship (Lazebnik), AFOSR Young Investigator (Chowdhary), IEEE PAMI Significant Young Researcher Award (Hoiem), MIT TR-35 (Li, Smaragdis), Intel Rising Star Award (Li), “Young Scientist” selected by World Economic Forum (Ji), “AI’s Top 10 to Watch” Award by IEEE Intelligent Systems (Ji), ACM Fellow (Amato, Forsyth, Warnow), IEEE Fellow (Amato, Forsyth, Lazebnik, Smaragdis), IEEE Technical Achievement Award (Forsyth), and Packard Fellowship (Warnow). In the last few years, AI group members received a number of best paper awards, including: IEEE Signal Processing Society Best Paper Award (Smaragdis, 2018 and 2020), IEEE MLSP Best Paper Award (Smaragdis, 2017), Best Demo Paper Award at the 58th Annual Meeting of the Association for Computational Linguistics (Ji, 2020). Group Research AI group research has led to a number of startups. Derek Hoiem is co-founder and Chief Science Officer of Reconstruct, which visually documents construction sites, matching images to plans and analyzing productivity and risk for delay. Girish Chowdhary is co-founder and CTO of EarthSense, a startup creating machine learning and robotics solutions for agriculture, whose work was featured in a 2020 New York Times article. David Forsyth advises a number of startups focusing on augmented reality and image synthesis, including Lightform, Revery, and Depix. AI faculty are playing key roles in two $20 million AI institutes recently funded by the National Science Foundation and the U.S. Department of Agriculture’s National Institute of Food and Agriculture. The AI Institute for Future Agricultural Resilience, Management, and Sustainability (AIFARMS), led by Vikram Adve from CS, features Romit Chowdhary as Associate Director of Research, with other investigators including Alexander Schwing, Katherine Driggs-Campbell, Indranil Gupta, Kris Hauser, Julia Hockenmaier, Heng Ji, Sanmi Koyejo, and Paris Smaragdis. The AI Institute for Molecular Discovery, Synthetic Strategy, and Manufacturing, led by Huimin Zhao from Chemical Engineering, involves Heng Ji and Jian Peng as investigators. Robot Motion and Task Planning, Multi-Agent Systems, Crowd Simulation Machine Learning Methods for Imaging Science, Image Reconstruction, Deep Learning for Inverse Problems Machine Learning, Learning Theory, Optimization, Generative Models, Sequential Decision Making, Physics-Guided Machine Learning, Differential Privacy Motion Planning and Control Machine Learning, Natural Language Processing, AI Applications, Data Management Support for AI Control, Autonomy and Decision Making, Vision and LIDAR Based Perception, GPS Denied Navigation Computational Statistics, Reproducible Research, Statistics Education, Machine Learning Graphs, Information Theory, Algorithms, Machine Learning Social Network Analysis, Natural Language Processing, Machine Learning Signal Processing, Computational Imaging, Machine Perception, Data Science Autonomous Vehicles, Validating Autonomous Systems, Interactive Control Policies for Intelligent Systems in Multi-Agent Settings Computational Linguistics Computer Vision, Object Recognition, Scene Understanding Computer Vision Analytics for Building and Construction Performance Monitoring Computer Vision, Machine Learning, Motion Analysis, Robotics Computer Vision, Robotics, Machine Learning Conversational AI and Natural Language Processing Machine Learning, Natural Language-Based Text Analysis, Text Summarization Statistical Speech Technology Motion Planning, Optimal Control, Integrated Planning and Learning, Robot Systems Natural Language Processing, Computational Linguistics Computer Vision, Object Recognition, Spatial Understanding, Scene Interpretation Probabilistic Graphical Models; Deep Learning; Data Science; Health Analytics; Safety, Reliablity and Security of Autonomous Systems; Reinforcement Learning ML4Code, ML interpretability, testing, and debugging Natural Language Processing, especially on Information Extraction and Knowledge-driven Natural Language Generation, Text Mining, Knowledge Graph Construction for Scientific Discovery Reinforcement Learning, Machine Learning, Sample Complexity Analyses Analytics with Machine Learning, Databases with Machine Learning, Machine Learning Security, Machine Learning + Cryptography HCI for ML, AI Explainability Cyberinfrastructure for Machine Learning, Machine Learning Systems Research, Deep Learning Applications Systems for Machine Learning, Machine Learning for Systems Computer Vision, Scene Understanding, Visual Learning, Vision and Language Adversarial Machine Learning, Robust Learning Artificial Intelligence Cyberinfrastructure for Digital Preservation, Auto-Curation, and Managing Unstructured Digital Collections Motion Planning and Control, Autonomous Robots Machine Learning and Optimization Computer Vision, Ego4D, VR/AR, Mobile Health, Health AI, Machine Learning, Developmental Machine Learning, Behavioral Imaging Field Robotics, Autonomous Systems Engineering, Machine Perception, Computer Vision Machine Translation, Computational Morphology & Syntax Machine Learning, Computer Vision Certified Artificial Intelligence, Adversarial Robustness, Neural Network Verification, Safe Deep Learning Machine Learning for Audio, Speech and Music; Signal Processing; Source Separation; Sound Recognition and Classification Deep Learning for Drug Discovery, Clinical Trial Optimization, Computational Phenotyping, Clinical Predictive Modeling, Mobile Health and Health Monitoring, Tensor Factorization, and Graph Mining Deep Learning Theory Explainable AI, Fairness in AI, Adversarial Maching Learning Conversational AI Computer Vision, Robotics Computer Vision, Machine Learning, Meta-Learning, Robotics Machine Learning in Computational Genomics, Ensemble Methods, Statistical Estimation Efficient DL/AI Systems and Algorithms, Parallel Computing and Runtime, Natural Language Processing, AI for Science Machine Learning Theory and Applications, Optimization, Reinforcement Learning, Robustness, Generative AI, Large Language Models Machine Learning, Representation Learning, Algorithmic Fairness, Probabilistic Models Machine Learning, Automatic Reasoning Machine Learning, Neuroimaging, Biomedical Imaging Machine Learning, Natural Language Processing, Knowledge Representation, Reasoning Amazon names Huang and Zhong inaugural fellows for AICE research NCSA names 3 CS professors as 2023-24 Fellows AICE celebrates inaugural event CS Professor Wang on NSF-funded team developing safe learning architecture for autonomous systems Load more news'"
      ]
     },
     "execution_count": 5,
     "metadata": {},
     "output_type": "execute_result"
    }
   ],
   "source": [
    "utils.extract_paragraphs_trafilatura(test) # trafilatura baseline function"
   ]
  },
  {
   "cell_type": "code",
   "execution_count": 6,
   "id": "72bcd64a-66f8-46ee-b5d1-1665d788c065",
   "metadata": {
    "scrolled": true
   },
   "outputs": [
    {
     "data": {
      "text/plain": [
       "'Artificial Intelligence\\nThe study of systems that behave intelligently, artificial intelligence includes several key areas where our faculty are recognized leaders: computer vision, machine listening, natural language processing, machine learning and robotics.\\nComputer vision systems can understand images and video, for example, building extensive geometric and physical models of cities from video, or warning construction workers about nearby dangers. Natural language processing systems understand written and spoken language; possibilities include automatic translation of text from one language to another, or understanding text on Wikipedia to produce knowledge about the world. Machine listening systems understand audio signals, with applications like speech recognition, acoustic monitoring, or transcribing polyphonic music automatically. Crucial to modern artificial intelligence, machine learning methods exploit examples in order to adjust systems to work as effectively as possible. Robotics puts artificial intelligence into practice using machines that perceive and interact with the physical world.\\nStrengths and Impact\\nThe AI group at Illinois is strong, diverse, and growing. It combines expertise in core strengths with promising new research directions.\\nIn machine learning, AI group faculty are studying theoretical foundations of deep and reinforcement learning; developing novel models and algorithms for deep neural networks, federated and distributed learning; as well as investigating issues related to scalability, security, privacy, and fairness of learning systems. Computer vision faculty are developing novel approaches for 2D and 3D scene understanding from still images and video; joint understanding of images and language; low-shot learning (recognition of rare or previously unseen categories); transfer learning and domain adaptation (adapting pre-trained systems to a changing data distribution); and image generation and editing approaches based on generative neural networks. Natural language processing faculty are working on topics such as grounded language understanding, information extraction and text mining, and knowledge-driven natural language generation for applications such as scientific discovery. Machine listening faculty are working on sound and speech understanding, source separation, and enhancement, as well as applications in music and computing. Robotics faculty are developing novel planning algorithms for grasping, locomotion, and navigation; investigating multi-robot systems; as well as pursuing high-impact applications of robotics to medicine, agriculture, home care, and autonomous driving.\\nThe excellence and impact of the AI group’s research has been recognized by a number of awards, including NSF CAREER (Amato, Hauser, Hockenmaier, Hoiem, Ji, Koyejo, Lazebnik, Smaragdis, Telgarsky), Sloan Research Fellowship (Hoiem, Koyejo, Lazebnik), Microsoft Research Faculty Fellowship (Lazebnik), AFOSR Young Investigator (Chowdhary), IEEE PAMI Significant Young Researcher Award (Hoiem), MIT TR-35 (Li, Smaragdis), Intel Rising Star Award (Li), “Young Scientist” selected by World Economic Forum (Ji), “AI’s Top 10 to Watch” Award by IEEE Intelligent Systems (Ji), ACM Fellow (Amato, Forsyth, Warnow), IEEE Fellow (Amato, Forsyth, Lazebnik, Smaragdis), IEEE Technical Achievement Award (Forsyth), and Packard Fellowship (Warnow).\\nIn the last few years, AI group members received a number of best paper awards, including: IEEE Signal Processing Society Best Paper Award (Smaragdis, 2018 and 2020), IEEE MLSP Best Paper Award (Smaragdis, 2017), Best Demo Paper Award at the 58th Annual Meeting of the Association for Computational Linguistics (Ji, 2020).\\nAI group research has led to a number of startups. Derek Hoiem is co-founder and Chief Science Officer of Reconstruct, which visually documents construction sites, matching images to plans and analyzing productivity and risk for delay. Girish Chowdhary is co-founder and CTO of EarthSense, a startup creating machine learning and robotics solutions for agriculture, whose work was featured in a 2020 New York Times article. David Forsyth advises a number of startups focusing on augmented reality and image synthesis, including Lightform, Revery, and Depix.\\nAI faculty are playing key roles in two $20 million AI institutes recently funded by the National Science Foundation and the U.S. Department of Agriculture’s National Institute of Food and Agriculture. The AI Institute for Future Agricultural Resilience, Management, and Sustainability (AIFARMS), led by Vikram Adve from CS, features Romit Chowdhary as Associate Director of Research, with other investigators including Alexander Schwing, Katherine Driggs-Campbell, Indranil Gupta, Kris Hauser, Julia Hockenmaier, Heng Ji, Sanmi Koyejo, and Paris Smaragdis. The AI Institute for Molecular Discovery, Synthetic Strategy, and Manufacturing, led by Huimin Zhao from Chemical Engineering, involves Heng Ji and Jian Peng as investigators.\\nSeminars\\n- Robotics Seminar Series (Friday)and student mailing list\\n- NLP: reading group, seminar\\n- Computer Vision: mailing list, vision lunch (Thursday), external speaker series (Tuesday)\\n- Illinois Computer Science Speaker Series: brings prominent leaders and experts to campus to share their ideas and promote conversations about important challenges and topics in the discipline.\\nFaculty & Affiliate Faculty\\nRobot Motion and Task Planning, Multi-Agent Systems, Crowd Simulation\\nMachine Learning Methods for Imaging Science, Image Reconstruction, Deep Learning for Inverse Problems\\nMachine Learning, Learning Theory, Optimization, Generative Models, Sequential Decision Making, Physics-Guided Machine Learning, Differential Privacy\\nMotion Planning and Control\\nMachine Learning, Natural Language Processing, AI Applications, Data Management Support for AI\\nControl, Autonomy and Decision Making, Vision and LIDAR Based Perception, GPS Denied Navigation\\nComputational Statistics, Reproducible Research, Statistics Education, Machine Learning\\nGraphs, Information Theory, Algorithms, Machine Learning\\nSocial Network Analysis, Natural Language Processing, Machine Learning\\nSignal Processing, Computational Imaging, Machine Perception, Data Science\\nAutonomous Vehicles, Validating Autonomous Systems, Interactive Control Policies for Intelligent Systems in Multi-Agent Settings\\nComputational Linguistics\\nComputer Vision, Object Recognition, Scene Understanding\\nComputational Linguistics\\nComputer Vision Analytics for Building and Construction Performance Monitoring\\nComputer Vision, Machine Learning, Motion Analysis, Robotics\\nComputer Vision, Robotics, Machine Learning\\nConversational AI and Natural Language Processing\\nMachine Learning, Natural Language-Based Text Analysis, Text Summarization\\nStatistical Speech Technology\\nMotion Planning, Optimal Control, Integrated Planning and Learning, Robot Systems\\nNatural Language Processing, Computational Linguistics\\nComputer Vision, Object Recognition, Spatial Understanding, Scene Interpretation\\nProbabilistic Graphical Models; Deep Learning; Data Science; Health Analytics; Safety, Reliablity and Security of Autonomous Systems; Reinforcement Learning\\nML4Code, ML interpretability, testing, and debugging\\nNatural Language Processing, especially on Information Extraction and Knowledge-driven Natural Language Generation, Text Mining, Knowledge Graph Construction for Scientific Discovery\\nReinforcement Learning, Machine Learning, Sample Complexity Analyses\\nAnalytics with Machine Learning, Databases with Machine Learning, Machine Learning Security, Machine Learning + Cryptography\\nHCI for ML, AI Explainability\\nCyberinfrastructure for Machine Learning, Machine Learning Systems Research, Deep Learning Applications\\nSystems for Machine Learning, Machine Learning for Systems\\nComputer Vision, Scene Understanding, Visual Learning, Vision and Language\\nAdversarial Machine Learning, Robust Learning\\nArtificial Intelligence\\nCyberinfrastructure for Digital Preservation, Auto-Curation, and Managing Unstructured Digital Collections\\nMotion Planning and Control, Autonomous Robots\\nMachine Learning and Optimization\\nComputer Vision, Ego4D, VR/AR, Mobile Health, Health AI, Machine Learning, Developmental Machine Learning, Behavioral Imaging\\nField Robotics, Autonomous Systems Engineering, Machine Perception, Computer Vision\\nMachine Translation, Computational Morphology & Syntax\\nMachine Learning, Computer Vision\\nCertified Artificial Intelligence, Adversarial Robustness, Neural Network Verification, Safe Deep Learning\\nMachine Learning for Audio, Speech and Music; Signal Processing; Source Separation; Sound Recognition and Classification\\nDeep Learning for Drug Discovery, Clinical Trial Optimization, Computational Phenotyping, Clinical Predictive Modeling, Mobile Health and Health Monitoring, Tensor Factorization, and Graph Mining\\nDeep Learning Theory\\nExplainable AI, Fairness in AI, Adversarial Maching Learning\\nConversational AI\\nComputer Vision, Robotics\\nComputer Vision, Machine Learning, Meta-Learning, Robotics\\nMachine Learning in Computational Genomics, Ensemble Methods, Statistical Estimation\\nEfficient DL/AI Systems and Algorithms, Parallel Computing and Runtime, Natural Language Processing, AI for Science\\nMachine Learning Theory and Applications, Optimization, Reinforcement Learning, Robustness, Generative AI, Large Language Models\\nMachine Learning, Representation Learning, Algorithmic Fairness, Probabilistic Models\\nAdjunct Faculty\\nMachine Learning, Automatic Reasoning\\nMachine Learning, Neuroimaging, Biomedical Imaging\\nMachine Learning, Natural Language Processing, Knowledge Representation, Reasoning\\nAmazon names Huang and Zhong inaugural fellows for AICE research\\n- News\\n- November 7, 2023\\nNCSA names 3 CS professors as 2023-24 Fellows\\n- News\\n- October 27, 2023\\nAICE celebrates inaugural event\\n- News\\n- October 6, 2023'"
      ]
     },
     "execution_count": 6,
     "metadata": {},
     "output_type": "execute_result"
    }
   ],
   "source": [
    "downloaded = fetch_url(test)\n",
    "extract(downloaded) # trafilatura"
   ]
  },
  {
   "cell_type": "code",
   "execution_count": 7,
   "id": "8754d6f2-1614-4004-be10-4b5a73adddc2",
   "metadata": {
    "scrolled": true
   },
   "outputs": [
    {
     "data": {
      "text/plain": [
       "'Artificial Intelligence\\nThe study of systems that behave intelligently, artificial intelligence includes several key areas where our faculty are recognized leaders: computer vision, machine listening, natural language processing, machine learning and robotics.\\nComputer vision systems can understand images and video, for example, building extensive geometric and physical models of cities from video, or warning construction workers about nearby dangers. Natural language processing systems understand written and spoken language; possibilities include automatic translation of text from one language to another, or understanding text on Wikipedia to produce knowledge about the world. Machine listening systems understand audio signals, with applications like speech recognition, acoustic monitoring, or transcribing polyphonic music automatically. Crucial to modern artificial intelligence, machine learning methods exploit examples in order to adjust systems to work as effectively as possible. Robotics puts artificial intelligence into practice using machines that perceive and interact with the physical world.\\nStrengths and Impact\\nThe AI group at Illinois is strong, diverse, and growing. It combines expertise in core strengths with promising new research directions.\\nIn machine learning, AI group faculty are studying theoretical foundations of deep and reinforcement learning; developing novel models and algorithms for deep neural networks, federated and distributed learning; as well as investigating issues related to scalability, security, privacy, and fairness of learning systems. Computer vision faculty are developing novel approaches for 2D and 3D scene understanding from still images and video; joint understanding of images and language; low-shot learning (recognition of rare or previously unseen categories); transfer learning and domain adaptation (adapting pre-trained systems to a changing data distribution); and image generation and editing approaches based on generative neural networks. Natural language processing faculty are working on topics such as grounded language understanding, information extraction and text mining, and knowledge-driven natural language generation for applications such as scientific discovery. Machine listening faculty are working on sound and speech understanding, source separation, and enhancement, as well as applications in music and computing. Robotics faculty are developing novel planning algorithms for grasping, locomotion, and navigation; investigating multi-robot systems; as well as pursuing high-impact applications of robotics to medicine, agriculture, home care, and autonomous driving.\\nThe excellence and impact of the AI group’s research has been recognized by a number of awards, including NSF CAREER (Amato, Hauser, Hockenmaier, Hoiem, Ji, Koyejo, Lazebnik, Smaragdis, Telgarsky), Sloan Research Fellowship (Hoiem, Koyejo, Lazebnik), Microsoft Research Faculty Fellowship (Lazebnik), AFOSR Young Investigator (Chowdhary), IEEE PAMI Significant Young Researcher Award (Hoiem), MIT TR-35 (Li, Smaragdis), Intel Rising Star Award (Li), “Young Scientist” selected by World Economic Forum (Ji), “AI’s Top 10 to Watch” Award by IEEE Intelligent Systems (Ji), ACM Fellow (Amato, Forsyth, Warnow), IEEE Fellow (Amato, Forsyth, Lazebnik, Smaragdis), IEEE Technical Achievement Award (Forsyth), and Packard Fellowship (Warnow).\\nIn the last few years, AI group members received a number of best paper awards, including: IEEE Signal Processing Society Best Paper Award (Smaragdis, 2018 and 2020), IEEE MLSP Best Paper Award (Smaragdis, 2017), Best Demo Paper Award at the 58th Annual Meeting of the Association for Computational Linguistics (Ji, 2020).\\nAI group research has led to a number of startups. Derek Hoiem is co-founder and Chief Science Officer of Reconstruct, which visually documents construction sites, matching images to plans and analyzing productivity and risk for delay. Girish Chowdhary is co-founder and CTO of EarthSense, a startup creating machine learning and robotics solutions for agriculture, whose work was featured in a 2020 New York Times article. David Forsyth advises a number of startups focusing on augmented reality and image synthesis, including Lightform, Revery, and Depix.\\nAI faculty are playing key roles in two $20 million AI institutes recently funded by the National Science Foundation and the U.S. Department of Agriculture’s National Institute of Food and Agriculture. The AI Institute for Future Agricultural Resilience, Management, and Sustainability (AIFARMS), led by Vikram Adve from CS, features Romit Chowdhary as Associate Director of Research, with other investigators including Alexander Schwing, Katherine Driggs-Campbell, Indranil Gupta, Kris Hauser, Julia Hockenmaier, Heng Ji, Sanmi Koyejo, and Paris Smaragdis. The AI Institute for Molecular Discovery, Synthetic Strategy, and Manufacturing, led by Huimin Zhao from Chemical Engineering, involves Heng Ji and Jian Peng as investigators.\\nSeminars\\n- Robotics Seminar Series (Friday)and student mailing list\\n- NLP: reading group, seminar\\n- Computer Vision: mailing list, vision lunch (Thursday), external speaker series (Tuesday)\\n- Illinois Computer Science Speaker Series: brings prominent leaders and experts to campus to share their ideas and promote conversations about important challenges and topics in the discipline.\\nFaculty & Affiliate Faculty\\nRobot Motion and Task Planning, Multi-Agent Systems, Crowd Simulation\\nMachine Learning Methods for Imaging Science, Image Reconstruction, Deep Learning for Inverse Problems\\nMachine Learning, Learning Theory, Optimization, Generative Models, Sequential Decision Making, Physics-Guided Machine Learning, Differential Privacy\\nMotion Planning and Control\\nMachine Learning, Natural Language Processing, AI Applications, Data Management Support for AI\\nControl, Autonomy and Decision Making, Vision and LIDAR Based Perception, GPS Denied Navigation\\nComputational Statistics, Reproducible Research, Statistics Education, Machine Learning\\nGraphs, Information Theory, Algorithms, Machine Learning\\nSocial Network Analysis, Natural Language Processing, Machine Learning\\nSignal Processing, Computational Imaging, Machine Perception, Data Science\\nAutonomous Vehicles, Validating Autonomous Systems, Interactive Control Policies for Intelligent Systems in Multi-Agent Settings\\nComputational Linguistics\\nComputer Vision, Object Recognition, Scene Understanding\\nComputational Linguistics\\nComputer Vision Analytics for Building and Construction Performance Monitoring\\nComputer Vision, Machine Learning, Motion Analysis, Robotics\\nComputer Vision, Robotics, Machine Learning\\nConversational AI and Natural Language Processing\\nMachine Learning, Natural Language-Based Text Analysis, Text Summarization\\nStatistical Speech Technology\\nMotion Planning, Optimal Control, Integrated Planning and Learning, Robot Systems\\nNatural Language Processing, Computational Linguistics\\nComputer Vision, Object Recognition, Spatial Understanding, Scene Interpretation\\nProbabilistic Graphical Models; Deep Learning; Data Science; Health Analytics; Safety, Reliablity and Security of Autonomous Systems; Reinforcement Learning\\nML4Code, ML interpretability, testing, and debugging\\nNatural Language Processing, especially on Information Extraction and Knowledge-driven Natural Language Generation, Text Mining, Knowledge Graph Construction for Scientific Discovery\\nReinforcement Learning, Machine Learning, Sample Complexity Analyses\\nAnalytics with Machine Learning, Databases with Machine Learning, Machine Learning Security, Machine Learning + Cryptography\\nHCI for ML, AI Explainability\\nCyberinfrastructure for Machine Learning, Machine Learning Systems Research, Deep Learning Applications\\nSystems for Machine Learning, Machine Learning for Systems\\nComputer Vision, Scene Understanding, Visual Learning, Vision and Language\\nAdversarial Machine Learning, Robust Learning\\nArtificial Intelligence\\nCyberinfrastructure for Digital Preservation, Auto-Curation, and Managing Unstructured Digital Collections\\nMotion Planning and Control, Autonomous Robots\\nMachine Learning and Optimization\\nComputer Vision, Ego4D, VR/AR, Mobile Health, Health AI, Machine Learning, Developmental Machine Learning, Behavioral Imaging\\nField Robotics, Autonomous Systems Engineering, Machine Perception, Computer Vision\\nMachine Translation, Computational Morphology & Syntax\\nMachine Learning, Computer Vision\\nCertified Artificial Intelligence, Adversarial Robustness, Neural Network Verification, Safe Deep Learning\\nMachine Learning for Audio, Speech and Music; Signal Processing; Source Separation; Sound Recognition and Classification\\nDeep Learning for Drug Discovery, Clinical Trial Optimization, Computational Phenotyping, Clinical Predictive Modeling, Mobile Health and Health Monitoring, Tensor Factorization, and Graph Mining\\nDeep Learning Theory\\nExplainable AI, Fairness in AI, Adversarial Maching Learning\\nConversational AI\\nComputer Vision, Robotics\\nComputer Vision, Machine Learning, Meta-Learning, Robotics\\nMachine Learning in Computational Genomics, Ensemble Methods, Statistical Estimation\\nEfficient DL/AI Systems and Algorithms, Parallel Computing and Runtime, Natural Language Processing, AI for Science\\nMachine Learning Theory and Applications, Optimization, Reinforcement Learning, Robustness, Generative AI, Large Language Models\\nMachine Learning, Representation Learning, Algorithmic Fairness, Probabilistic Models\\nAdjunct Faculty\\n- News\\n- November 7, 2023'"
      ]
     },
     "execution_count": 7,
     "metadata": {},
     "output_type": "execute_result"
    }
   ],
   "source": [
    "extract(downloaded, favor_precision=True, deduplicate=True)"
   ]
  },
  {
   "cell_type": "markdown",
   "id": "e7aec9fb-02f7-46eb-9bda-d453da2714b1",
   "metadata": {
    "jp-MarkdownHeadingCollapsed": true
   },
   "source": [
    "### Paragraphs + Lists + Clustering"
   ]
  },
  {
   "cell_type": "code",
   "execution_count": 8,
   "id": "a68f3014-2e72-48fd-b92e-0d32412aebe9",
   "metadata": {},
   "outputs": [],
   "source": [
    "page = requests.get(test, headers=headers)\n",
    "soup = BeautifulSoup(page.text, 'lxml')\n",
    "paragraphs = []\n",
    "for p in soup.find_all('p'):\n",
    "    text = p.get_text(strip=True, separator='\\n')\n",
    "    if '.' in text:\n",
    "        paragraphs.append(text)"
   ]
  },
  {
   "cell_type": "code",
   "execution_count": 9,
   "id": "8ea7dfa5-47ab-40a4-a28d-73c9ef808976",
   "metadata": {},
   "outputs": [],
   "source": [
    "elements = []\n",
    "uls = soup.find_all('ul')\n",
    "for ul in uls:\n",
    "    for li in ul.findAll('li'):\n",
    "        text = li.get_text(strip=True, separator='\\n')\n",
    "        arr = text.split('\\n')\n",
    "        for a in arr:\n",
    "            if '.' in a:\n",
    "                elements.append(a)"
   ]
  },
  {
   "cell_type": "code",
   "execution_count": 11,
   "id": "5ceb69b8-c069-48e8-9f09-16ff8a5f0606",
   "metadata": {
    "scrolled": true
   },
   "outputs": [
    {
     "data": {
      "text/plain": [
       "'The study of systems that behave intelligently, artificial intelligence includes several key areas where our faculty\\xa0are recognized leaders: computer vision, machine listening, natural language processing, machine learning and robotics.Computer vision systems can understand images and video, for example, building extensive geometric and physical models of cities from video, or warning construction workers about nearby dangers. Natural language processing systems understand written and spoken language; possibilities include automatic translation of text from one language to another, or understanding text on Wikipedia to produce knowledge about the world. Machine listening systems understand audio signals, with applications like speech recognition, acoustic monitoring, or transcribing polyphonic music automatically. Crucial to modern artificial intelligence, machine learning methods exploit examples in order to adjust systems to work as effectively as possible. Robotics puts artificial intelligence into practice using machines that perceive and interact with the physical world.The AI group at Illinois is strong, diverse, and growing. It combines expertise in core strengths with promising new research directions.In machine learning, AI group faculty are studying theoretical foundations of deep and reinforcement learning; developing novel models and algorithms for deep neural networks, federated and distributed learning; as well as investigating issues related to scalability, security, privacy, and fairness of learning systems. Computer vision faculty are developing novel approaches for 2D and 3D scene understanding from still images and video; joint understanding of images and language; low-shot learning (recognition of rare or previously unseen categories); transfer learning and domain adaptation (adapting pre-trained systems to a changing data distribution); and image generation and editing approaches based on generative neural networks. Natural language processing faculty are working on topics such as grounded language understanding, information extraction and text mining, and knowledge-driven natural language generation for applications such as scientific discovery. Machine listening faculty are working on sound and speech understanding, source separation, and enhancement, as well as applications in music and computing. Robotics faculty are developing novel planning algorithms for grasping, locomotion, and navigation; investigating multi-robot systems; as well as pursuing high-impact applications of robotics to medicine, agriculture, home care, and autonomous driving.The excellence and impact of the AI group’s research has been recognized by a number of awards, including NSF CAREER (Amato, Hauser, Hockenmaier, Hoiem, Ji, Koyejo, Lazebnik, Smaragdis, Telgarsky), Sloan Research Fellowship (Hoiem, Koyejo, Lazebnik), Microsoft Research Faculty Fellowship (Lazebnik), AFOSR Young Investigator (Chowdhary), IEEE PAMI Significant Young Researcher Award (Hoiem), MIT TR-35 (Li, Smaragdis), Intel Rising Star Award (Li), “Young Scientist” selected by World Economic Forum (Ji), “AI’s Top 10 to Watch” Award by IEEE Intelligent Systems (Ji), ACM Fellow (Amato, Forsyth, Warnow), IEEE Fellow (Amato, Forsyth, Lazebnik, Smaragdis), IEEE Technical Achievement Award (Forsyth), and Packard Fellowship (Warnow).In the last few years, AI group members received a number of best paper awards, including: IEEE Signal Processing Society Best Paper Award (Smaragdis, 2018 and 2020), IEEE MLSP Best Paper Award (Smaragdis, 2017), Best Demo Paper Award at the 58th Annual Meeting of the Association for Computational Linguistics (Ji, 2020).AI group research has led to a number of startups. Derek Hoiem is co-founder and Chief Science Officer of Reconstruct, which visually documents construction sites, matching images to plans and analyzing productivity and risk for delay. Girish Chowdhary \\xa0is co-founder and CTO of EarthSense, a startup creating machine learning and robotics solutions for agriculture, whose work was featured in a 2020 New York Times article. David Forsyth advises a number of startups focusing on augmented reality and image synthesis, including Lightform, Revery, and Depix.AI faculty are playing key roles in two $20 million AI institutes recently funded by the National Science Foundation and the U.S. Department of Agriculture’s National Institute of Food and Agriculture. The AI Institute for Future Agricultural Resilience, Management, and Sustainability (AIFARMS), led by Vikram Adve from CS, features Romit Chowdhary as Associate Director of Research, with other investigators including Alexander Schwing, Katherine Driggs-Campbell, Indranil Gupta, Kris Hauser, Julia Hockenmaier, Heng Ji, Sanmi Koyejo, and Paris Smaragdis. The AI Institute for Molecular Discovery, Synthetic Strategy, and Manufacturing, led by Huimin Zhao from Chemical Engineering, involves Heng Ji and Jian Peng as investigators.Thomas M. Siebel Center for Computer ScienceMy.CSYour path begins here.Your path begins here.B.S. in Computer ScienceB.S. in Mathematics & Computer ScienceB.S. in Statistics & Computer ScienceGuidelines for Forming Ph.D. CommitteePh.D. / M.S. Thesis Format Review GuidelinesB.S. in Computer ScienceB.S. in Mathematics & Computer ScienceB.S. in Statistics & Computer ScienceB.S. in Computer ScienceB.S. in Mathematics & Computer ScienceB.S. in Statistics & Computer ScienceB.S. in Computer ScienceB.S. in Mathematics & Computer ScienceB.S. in Statistics & Computer ScienceGuidelines for Forming Ph.D. CommitteePh.D. / M.S. Thesis Format Review GuidelinesGuidelines for Forming Ph.D. CommitteePh.D. / M.S. Thesis Format Review GuidelinesGuidelines for Forming Ph.D. CommitteePh.D. / M.S. Thesis Format Review GuidelinesDonald B. Gillies Memorial LectureDonald B. Gillies Memorial LectureDonald B. Gillies Memorial LectureHelp ensure that Illinois continues to set a global standard for CS research and education.B.S. in Computer ScienceB.S. in Mathematics & Computer ScienceB.S. in Statistics & Computer ScienceB.S. in Computer ScienceB.S. in Mathematics & Computer ScienceB.S. in Statistics & Computer ScienceB.S. in Computer ScienceB.S. in Mathematics & Computer ScienceB.S. in Statistics & Computer ScienceB.S. in Computer ScienceB.S. in Mathematics & Computer ScienceB.S. in Statistics & Computer ScienceB.S. in Computer ScienceB.S. in Mathematics & Computer ScienceB.S. in Statistics & Computer ScienceB.S. in Computer ScienceB.S. in Mathematics & Computer ScienceB.S. in Statistics & Computer ScienceGuidelines for Forming Ph.D. CommitteePh.D. / M.S. Thesis Format Review GuidelinesGuidelines for Forming Ph.D. CommitteePh.D. / M.S. Thesis Format Review GuidelinesGuidelines for Forming Ph.D. CommitteePh.D. / M.S. Thesis Format Review GuidelinesGuidelines for Forming Ph.D. CommitteePh.D. / M.S. Thesis Format Review GuidelinesGuidelines for Forming Ph.D. CommitteePh.D. / M.S. Thesis Format Review GuidelinesGuidelines for Forming Ph.D. CommitteePh.D. / M.S. Thesis Format Review GuidelinesDonald B. Gillies Memorial LectureDonald B. Gillies Memorial LectureDonald B. Gillies Memorial Lecture: brings prominent leaders and experts to campus to share their ideas and promote conversations about important challenges and topics in the discipline.head@cs.illinois.eduacademic@cs.illinois.eduundergrad@cs.illinois.edugrainger-marcom@illinois.edu'"
      ]
     },
     "execution_count": 11,
     "metadata": {},
     "output_type": "execute_result"
    }
   ],
   "source": [
    "total = paragraphs + elements\n",
    "''.join(total)"
   ]
  },
  {
   "cell_type": "code",
   "execution_count": 12,
   "id": "7f5e49ba-7e45-4ec3-bc3f-74334a086b99",
   "metadata": {
    "scrolled": true
   },
   "outputs": [
    {
     "data": {
      "text/plain": [
       "['AI group research has led to a number of startups. Derek Hoiem is co-founder and Chief Science Officer of Reconstruct, which visually documents construction sites, matching images to plans and analyzing productivity and risk for delay. Girish Chowdhary \\xa0is co-founder and CTO of EarthSense, a startup creating machine learning and robotics solutions for agriculture, whose work was featured in a 2020 New York Times article. David Forsyth advises a number of startups focusing on augmented reality and image synthesis, including Lightform, Revery, and Depix.',\n",
       " 'academic@cs.illinois.edu',\n",
       " 'undergrad@cs.illinois.edu',\n",
       " 'My.CS',\n",
       " 'B.S. in Mathematics & Computer Science',\n",
       " 'The AI group at Illinois is strong, diverse, and growing. It combines expertise in core strengths with promising new research directions.',\n",
       " ': brings prominent leaders and experts to campus to share their ideas and promote conversations about important challenges and topics in the discipline.',\n",
       " 'Guidelines for Forming Ph.D. Committee',\n",
       " 'head@cs.illinois.edu',\n",
       " 'Donald B. Gillies Memorial Lecture',\n",
       " 'Your path begins here.',\n",
       " 'In the last few years, AI group members received a number of best paper awards, including: IEEE Signal Processing Society Best Paper Award (Smaragdis, 2018 and 2020), IEEE MLSP Best Paper Award (Smaragdis, 2017), Best Demo Paper Award at the 58th Annual Meeting of the Association for Computational Linguistics (Ji, 2020).',\n",
       " 'Ph.D. / M.S. Thesis Format Review Guidelines',\n",
       " 'In machine learning, AI group faculty are studying theoretical foundations of deep and reinforcement learning; developing novel models and algorithms for deep neural networks, federated and distributed learning; as well as investigating issues related to scalability, security, privacy, and fairness of learning systems. Computer vision faculty are developing novel approaches for 2D and 3D scene understanding from still images and video; joint understanding of images and language; low-shot learning (recognition of rare or previously unseen categories); transfer learning and domain adaptation (adapting pre-trained systems to a changing data distribution); and image generation and editing approaches based on generative neural networks. Natural language processing faculty are working on topics such as grounded language understanding, information extraction and text mining, and knowledge-driven natural language generation for applications such as scientific discovery. Machine listening faculty are working on sound and speech understanding, source separation, and enhancement, as well as applications in music and computing. Robotics faculty are developing novel planning algorithms for grasping, locomotion, and navigation; investigating multi-robot systems; as well as pursuing high-impact applications of robotics to medicine, agriculture, home care, and autonomous driving.',\n",
       " 'The excellence and impact of the AI group’s research has been recognized by a number of awards, including NSF CAREER (Amato, Hauser, Hockenmaier, Hoiem, Ji, Koyejo, Lazebnik, Smaragdis, Telgarsky), Sloan Research Fellowship (Hoiem, Koyejo, Lazebnik), Microsoft Research Faculty Fellowship (Lazebnik), AFOSR Young Investigator (Chowdhary), IEEE PAMI Significant Young Researcher Award (Hoiem), MIT TR-35 (Li, Smaragdis), Intel Rising Star Award (Li), “Young Scientist” selected by World Economic Forum (Ji), “AI’s Top 10 to Watch” Award by IEEE Intelligent Systems (Ji), ACM Fellow (Amato, Forsyth, Warnow), IEEE Fellow (Amato, Forsyth, Lazebnik, Smaragdis), IEEE Technical Achievement Award (Forsyth), and Packard Fellowship (Warnow).',\n",
       " 'Computer vision systems can understand images and video, for example, building extensive geometric and physical models of cities from video, or warning construction workers about nearby dangers. Natural language processing systems understand written and spoken language; possibilities include automatic translation of text from one language to another, or understanding text on Wikipedia to produce knowledge about the world. Machine listening systems understand audio signals, with applications like speech recognition, acoustic monitoring, or transcribing polyphonic music automatically. Crucial to modern artificial intelligence, machine learning methods exploit examples in order to adjust systems to work as effectively as possible. Robotics puts artificial intelligence into practice using machines that perceive and interact with the physical world.',\n",
       " 'B.S. in Computer Science',\n",
       " 'Help ensure that Illinois continues to set a global standard for CS research and education.',\n",
       " 'grainger-marcom@illinois.edu',\n",
       " 'AI faculty are playing key roles in two $20 million AI institutes recently funded by the National Science Foundation and the U.S. Department of Agriculture’s National Institute of Food and Agriculture. The AI Institute for Future Agricultural Resilience, Management, and Sustainability (AIFARMS), led by Vikram Adve from CS, features Romit Chowdhary as Associate Director of Research, with other investigators including Alexander Schwing, Katherine Driggs-Campbell, Indranil Gupta, Kris Hauser, Julia Hockenmaier, Heng Ji, Sanmi Koyejo, and Paris Smaragdis. The AI Institute for Molecular Discovery, Synthetic Strategy, and Manufacturing, led by Huimin Zhao from Chemical Engineering, involves Heng Ji and Jian Peng as investigators.',\n",
       " 'B.S. in Statistics & Computer Science',\n",
       " 'The study of systems that behave intelligently, artificial intelligence includes several key areas where our faculty\\xa0are recognized leaders: computer vision, machine listening, natural language processing, machine learning and robotics.',\n",
       " 'Thomas M. Siebel Center for Computer Science']"
      ]
     },
     "execution_count": 12,
     "metadata": {},
     "output_type": "execute_result"
    }
   ],
   "source": [
    "total = list(set(total))\n",
    "total"
   ]
  },
  {
   "cell_type": "markdown",
   "id": "fe950b80-666d-41a2-9fa8-b8eefffbfdc6",
   "metadata": {},
   "source": [
    "### Keep html format as if copy pasting"
   ]
  },
  {
   "cell_type": "code",
   "execution_count": 3,
   "id": "59fbc9c6-f2a9-4412-acc0-3da48836f033",
   "metadata": {},
   "outputs": [
    {
     "data": {
      "text/plain": [
       "'                 Artificial Intelligence              About     Faculty     Research Groups/Events     Related News           The study of systems that behave intelligently, artificial intelligence includes several key areas where our faculty\\xa0are recognized leaders: computer vision, machine listening, natural language processing, machine learning and robotics.  Computer vision systems can understand images and video, for example, building extensive geometric and physical models of cities from video, or warning construction workers about nearby dangers. Natural language processing systems understand written and spoken language; possibilities include automatic translation of text from one language to another, or understanding text on Wikipedia to produce knowledge about the world. Machine listening systems understand audio signals, with applications like speech recognition, acoustic monitoring, or transcribing polyphonic music automatically. Crucial to modern artificial intelligence, machine learning methods exploit examples in order to adjust systems to work as effectively as possible. Robotics puts artificial intelligence into practice using machines that perceive and interact with the physical world.          Strengths and Impact  The AI group at Illinois is strong, diverse, and growing. It combines expertise in core strengths with promising new research directions.   Research Focus   In machine learning, AI group faculty are studying theoretical foundations of deep and reinforcement learning; developing novel models and algorithms for deep neural networks, federated and distributed learning; as well as investigating issues related to scalability, security, privacy, and fairness of learning systems. Computer vision faculty are developing novel approaches for 2D and 3D scene understanding from still images and video; joint understanding of images and language; low-shot learning (recognition of rare or previously unseen categories); transfer learning and domain adaptation (adapting pre-trained systems to a changing data distribution); and image generation and editing approaches based on generative neural networks. Natural language processing faculty are working on topics such as grounded language understanding, information extraction and text mining, and knowledge-driven natural language generation for applications such as scientific discovery. Machine listening faculty are working on sound and speech understanding, source separation, and enhancement, as well as applications in music and computing. Robotics faculty are developing novel planning algorithms for grasping, locomotion, and navigation; investigating multi-robot systems; as well as pursuing high-impact applications of robotics to medicine, agriculture, home care, and autonomous driving.     Research Awards   The excellence and impact of the AI group’s research has been recognized by a number of awards, including NSF CAREER (Amato, Hauser, Hockenmaier, Hoiem, Ji, Koyejo, Lazebnik, Smaragdis, Telgarsky), Sloan Research Fellowship (Hoiem, Koyejo, Lazebnik), Microsoft Research Faculty Fellowship (Lazebnik), AFOSR Young Investigator (Chowdhary), IEEE PAMI Significant Young Researcher Award (Hoiem), MIT TR-35 (Li, Smaragdis), Intel Rising Star Award (Li), “Young Scientist” selected by World Economic Forum (Ji), “AI’s Top 10 to Watch” Award by IEEE Intelligent Systems (Ji), ACM Fellow (Amato, Forsyth, Warnow), IEEE Fellow (Amato, Forsyth, Lazebnik, Smaragdis), IEEE Technical Achievement Award (Forsyth), and Packard Fellowship (Warnow).  In the last few years, AI group members received a number of best paper awards, including: IEEE Signal Processing Society Best Paper Award (Smaragdis, 2018 and 2020), IEEE MLSP Best Paper Award (Smaragdis, 2017), Best Demo Paper Award at the 58th Annual Meeting of the Association for Computational Linguistics (Ji, 2020).     Group Research   AI group research has led to a number of startups. Derek Hoiem is co-founder and Chief Science Officer of Reconstruct, which visually documents construction sites, matching images to plans and analyzing productivity and risk for delay. Girish Chowdhary \\xa0is co-founder and CTO of EarthSense, a startup creating machine learning and robotics solutions for agriculture, whose work was featured in a 2020 New York Times article. David Forsyth advises a number of startups focusing on augmented reality and image synthesis, including Lightform, Revery, and Depix.  AI faculty are playing key roles in two $20 million AI institutes recently funded by the National Science Foundation and the U.S. Department of Agriculture’s National Institute of Food and Agriculture. The AI Institute for Future Agricultural Resilience, Management, and Sustainability (AIFARMS), led by Vikram Adve from CS, features Romit Chowdhary as Associate Director of Research, with other investigators including Alexander Schwing, Katherine Driggs-Campbell, Indranil Gupta, Kris Hauser, Julia Hockenmaier, Heng Ji, Sanmi Koyejo, and Paris Smaragdis. The AI Institute for Molecular Discovery, Synthetic Strategy, and Manufacturing, led by Huimin Zhao from Chemical Engineering, involves Heng Ji and Jian Peng as investigators.             Research Efforts and Groups   Beckman Institute  Center for Artificial Intelligence Innovation (NCSA)  Deep Learning Major Research Instrument Project (NCSA)  Natural Language Processing Group  Speech and Language Engineering Group  Center for Autonomy  Robotics Group            Seminars   Robotics Seminar Series (Friday) and student mailing list  NLP: reading group, seminar  Computer Vision: mailing list, vision lunch (Thursday), external speaker series (Tuesday)  Illinois Computer Science Speaker Series : brings prominent leaders and experts to campus to share their ideas and promote conversations about important challenges and topics in the discipline.           Faculty & Affiliate Faculty     Nancy M. Amato  Robot Motion and Task Planning, Multi-Agent Systems, Crowd Simulation      Mark A. Anastasio, Department of Bioengineering  Machine Learning Methods for Imaging Science, Image Reconstruction, Deep Learning for Inverse Problems      Arindam Banerjee  Machine Learning, Learning Theory, Optimization, Generative Models, Sequential Decision Making, Physics-Guided Machine Learning, Differential Privacy      Timothy Bretl, Aerospace Engineering  Motion Planning and Control      Kevin C. Chang  Machine Learning, Natural Language Processing, AI Applications, Data Management Support for AI      Girish Chowdhary  Control, Autonomy and Decision Making, Vision and LIDAR Based Perception, GPS Denied Navigation      David Dalpiaz  Computational Statistics, Reproducible Research, Statistics Education, Machine Learning      Payam Delgosha  Graphs, Information Theory, Algorithms, Machine Learning      Jana Diesner, School of Information Sciences  Social Network Analysis, Natural Language Processing, Machine Learning      Minh N. Do, Electrical & Computer Engineering  Signal Processing, Computational Imaging, Machine Perception, Data Science      Katherine Driggs-Campbell, Electrical & Computer Engineering  Autonomous Vehicles, Validating Autonomous Systems, Interactive Control Policies for Intelligent Systems in Multi-Agent Settings      Margaret Fleck  Computational Linguistics      David A. Forsyth  Computer Vision, Object Recognition, Scene Understanding      Roxana Girju, Linguistics  Computational Linguistics      Mani Golparvar-Fard, Civil Engineering  Computer Vision Analytics for Building and Construction Performance Monitoring      Liangyan Gui  Computer Vision, Machine Learning, Motion Analysis, Robotics      Saurabh Gupta, Electrical & Computer Engineering  Computer Vision, Robotics, Machine Learning      Dilek Hakkani Tur  Conversational AI and Natural Language Processing      Jiawei Han  Machine Learning, Natural Language-Based Text Analysis, Text Summarization      Mark Hasegawa-Johnson, Electrical & Computer Engineering  Statistical Speech Technology      Kris Hauser  Motion Planning, Optimal Control, Integrated Planning and Learning, Robot Systems      Julia Hockenmaier  Natural Language Processing, Computational Linguistics      Derek Hoiem  Computer Vision, Object Recognition, Spatial Understanding, Scene Interpretation      Ravi Iyer, Electrical & Computer Engineering  Probabilistic Graphical Models; Deep Learning; Data Science; Health Analytics; Safety, Reliablity and Security of Autonomous Systems; Reinforcement Learning      Reyhaneh Jabbarvand  ML4Code, ML interpretability, testing, and debugging      Heng Ji  Natural Language Processing, especially on Information Extraction and Knowledge-driven Natural Language Generation, Text Mining, Knowledge Graph Construction for Scientific Discovery      Nan Jiang  Reinforcement Learning, Machine Learning, Sample Complexity Analyses      Daniel Kang  Analytics with Machine Learning, Databases with Machine Learning, Machine\\xa0Learning Security, Machine Learning + Cryptography      Karrie Karahalios  HCI for ML, AI Explainability      Volodymyr Kindratenko, NCSA  Cyberinfrastructure for Machine Learning, Machine Learning Systems Research, Deep Learning Applications      Fan Lai  Systems for Machine Learning, Machine Learning for Systems      Svetlana Lazebnik  Computer Vision, Scene Understanding, Visual Learning, Vision and Language      Bo Li  Adversarial Machine Learning, Robust Learning      Ge Liu  Artificial Intelligence      Kenton McHenry, NCSA  Cyberinfrastructure for Digital Preservation, Auto-Curation, and Managing Unstructured Digital Collections      Marco Morales  Motion Planning and Control, Autonomous Robots      Jian Peng  Machine Learning and Optimization      Jim Rehg  Computer Vision, Ego4D, VR/AR, Mobile Health, Health AI, Machine Learning, Developmental Machine Learning, Behavioral Imaging      John Reid  Field Robotics, Autonomous Systems Engineering, Machine Perception, Computer Vision      Lane Oscar Schwartz, Linguistics  Machine Translation, Computational Morphology & Syntax      Alexander Schwing, Electrical & Computer Engineering  Machine Learning, Computer Vision      Gagandeep Singh  Certified Artificial Intelligence, Adversarial Robustness, Neural Network Verification, Safe Deep Learning      Paris Smaragdis  Machine Learning for Audio, Speech and Music; Signal Processing; Source Separation; Sound Recognition and Classification      Jimeng Sun  Deep Learning for Drug Discovery, Clinical Trial Optimization, Computational Phenotyping, Clinical Predictive Modeling, Mobile Health and Health Monitoring, Tensor Factorization, and Graph Mining      Matus Telgarsky  Deep Learning Theory      Hanghang Tong  Explainable AI, Fairness in AI, Adversarial Maching Learning      Gokhan Tur  Conversational AI      Shenlong Wang  Computer Vision, Robotics      Yuxiong Wang  Computer Vision, Machine Learning, Meta-Learning, Robotics      Tandy Warnow  Machine Learning in Computational Genomics, Ensemble Methods, Statistical Estimation      Jiaxuan You  Machine Learning for Graphs and Databases,\\xa0Foundation Models, Large Language Models, Generative AI, AI Agents      Minjia Zhang  Efficient DL/AI Systems and Algorithms,\\xa0Parallel Computing and Runtime,\\xa0Natural Language Processing, AI for Science      Tong Zhang  Machine Learning Theory and Applications, Optimization, Reinforcement Learning, Robustness, Generative AI, Large Language Models      Han Zhao  Machine Learning, Representation Learning, Algorithmic Fairness, Probabilistic Models    Adjunct Faculty     Eyal Amir, Parknav  Machine Learning, Automatic Reasoning      Sanmi Koyejo  Machine Learning, Neuroimaging, Biomedical Imaging      Dan Roth, University of Pennsylvania  Machine Learning, Natural Language Processing, Knowledge Representation, Reasoning            Related News          Amazon names Huang and Zhong inaugural fellows for AICE research   News  November 7, 2023          NCSA names 3 CS professors as 2023-24 Fellows   News  October 27, 2023          AICE celebrates inaugural event   News  October 6, 2023          CS Professor Wang on NSF-funded team developing safe learning architecture for autonomous systems   News  September 25, 2023      Load more news                             '"
      ]
     },
     "execution_count": 3,
     "metadata": {},
     "output_type": "execute_result"
    }
   ],
   "source": [
    "utils.extract_all_text(text_links[0])"
   ]
  },
  {
   "cell_type": "markdown",
   "id": "ab515a99-a584-4167-b44c-1588951612ee",
   "metadata": {},
   "source": [
    "### Clustering"
   ]
  },
  {
   "cell_type": "code",
   "execution_count": 51,
   "id": "8c3a9667-2393-42e4-8bcc-7d8ed0ce2a21",
   "metadata": {},
   "outputs": [],
   "source": [
    "import numpy as np\n",
    "from sklearn.feature_extraction.text import TfidfVectorizer\n",
    "from sklearn.cluster import KMeans\n",
    "from sklearn.metrics import silhouette_score\n",
    "from sklearn.preprocessing import StandardScaler"
   ]
  },
  {
   "cell_type": "code",
   "execution_count": 52,
   "id": "ce607db9-8a15-4be4-8b44-70da60e602a0",
   "metadata": {},
   "outputs": [],
   "source": [
    "total = paragraphs + elements\n",
    "total = list(set(total))\n",
    "\n",
    "tfidf_vectorizer = TfidfVectorizer()\n",
    "tfidf_matrix = tfidf_vectorizer.fit_transform(total)"
   ]
  },
  {
   "cell_type": "code",
   "execution_count": 53,
   "id": "9b1ecf04-bc2b-48a7-bfee-be41a3bd4fce",
   "metadata": {},
   "outputs": [
    {
     "data": {
      "text/html": [
       "<style>#sk-container-id-2 {color: black;background-color: white;}#sk-container-id-2 pre{padding: 0;}#sk-container-id-2 div.sk-toggleable {background-color: white;}#sk-container-id-2 label.sk-toggleable__label {cursor: pointer;display: block;width: 100%;margin-bottom: 0;padding: 0.3em;box-sizing: border-box;text-align: center;}#sk-container-id-2 label.sk-toggleable__label-arrow:before {content: \"▸\";float: left;margin-right: 0.25em;color: #696969;}#sk-container-id-2 label.sk-toggleable__label-arrow:hover:before {color: black;}#sk-container-id-2 div.sk-estimator:hover label.sk-toggleable__label-arrow:before {color: black;}#sk-container-id-2 div.sk-toggleable__content {max-height: 0;max-width: 0;overflow: hidden;text-align: left;background-color: #f0f8ff;}#sk-container-id-2 div.sk-toggleable__content pre {margin: 0.2em;color: black;border-radius: 0.25em;background-color: #f0f8ff;}#sk-container-id-2 input.sk-toggleable__control:checked~div.sk-toggleable__content {max-height: 200px;max-width: 100%;overflow: auto;}#sk-container-id-2 input.sk-toggleable__control:checked~label.sk-toggleable__label-arrow:before {content: \"▾\";}#sk-container-id-2 div.sk-estimator input.sk-toggleable__control:checked~label.sk-toggleable__label {background-color: #d4ebff;}#sk-container-id-2 div.sk-label input.sk-toggleable__control:checked~label.sk-toggleable__label {background-color: #d4ebff;}#sk-container-id-2 input.sk-hidden--visually {border: 0;clip: rect(1px 1px 1px 1px);clip: rect(1px, 1px, 1px, 1px);height: 1px;margin: -1px;overflow: hidden;padding: 0;position: absolute;width: 1px;}#sk-container-id-2 div.sk-estimator {font-family: monospace;background-color: #f0f8ff;border: 1px dotted black;border-radius: 0.25em;box-sizing: border-box;margin-bottom: 0.5em;}#sk-container-id-2 div.sk-estimator:hover {background-color: #d4ebff;}#sk-container-id-2 div.sk-parallel-item::after {content: \"\";width: 100%;border-bottom: 1px solid gray;flex-grow: 1;}#sk-container-id-2 div.sk-label:hover label.sk-toggleable__label {background-color: #d4ebff;}#sk-container-id-2 div.sk-serial::before {content: \"\";position: absolute;border-left: 1px solid gray;box-sizing: border-box;top: 0;bottom: 0;left: 50%;z-index: 0;}#sk-container-id-2 div.sk-serial {display: flex;flex-direction: column;align-items: center;background-color: white;padding-right: 0.2em;padding-left: 0.2em;position: relative;}#sk-container-id-2 div.sk-item {position: relative;z-index: 1;}#sk-container-id-2 div.sk-parallel {display: flex;align-items: stretch;justify-content: center;background-color: white;position: relative;}#sk-container-id-2 div.sk-item::before, #sk-container-id-2 div.sk-parallel-item::before {content: \"\";position: absolute;border-left: 1px solid gray;box-sizing: border-box;top: 0;bottom: 0;left: 50%;z-index: -1;}#sk-container-id-2 div.sk-parallel-item {display: flex;flex-direction: column;z-index: 1;position: relative;background-color: white;}#sk-container-id-2 div.sk-parallel-item:first-child::after {align-self: flex-end;width: 50%;}#sk-container-id-2 div.sk-parallel-item:last-child::after {align-self: flex-start;width: 50%;}#sk-container-id-2 div.sk-parallel-item:only-child::after {width: 0;}#sk-container-id-2 div.sk-dashed-wrapped {border: 1px dashed gray;margin: 0 0.4em 0.5em 0.4em;box-sizing: border-box;padding-bottom: 0.4em;background-color: white;}#sk-container-id-2 div.sk-label label {font-family: monospace;font-weight: bold;display: inline-block;line-height: 1.2em;}#sk-container-id-2 div.sk-label-container {text-align: center;}#sk-container-id-2 div.sk-container {/* jupyter's `normalize.less` sets `[hidden] { display: none; }` but bootstrap.min.css set `[hidden] { display: none !important; }` so we also need the `!important` here to be able to override the default hidden behavior on the sphinx rendered scikit-learn.org. See: https://github.com/scikit-learn/scikit-learn/issues/21755 */display: inline-block !important;position: relative;}#sk-container-id-2 div.sk-text-repr-fallback {display: none;}</style><div id=\"sk-container-id-2\" class=\"sk-top-container\"><div class=\"sk-text-repr-fallback\"><pre>KMeans(n_clusters=4, n_init=5, random_state=42)</pre><b>In a Jupyter environment, please rerun this cell to show the HTML representation or trust the notebook. <br />On GitHub, the HTML representation is unable to render, please try loading this page with nbviewer.org.</b></div><div class=\"sk-container\" hidden><div class=\"sk-item\"><div class=\"sk-estimator sk-toggleable\"><input class=\"sk-toggleable__control sk-hidden--visually\" id=\"sk-estimator-id-2\" type=\"checkbox\" checked><label for=\"sk-estimator-id-2\" class=\"sk-toggleable__label sk-toggleable__label-arrow\">KMeans</label><div class=\"sk-toggleable__content\"><pre>KMeans(n_clusters=4, n_init=5, random_state=42)</pre></div></div></div></div></div>"
      ],
      "text/plain": [
       "KMeans(n_clusters=4, n_init=5, random_state=42)"
      ]
     },
     "execution_count": 53,
     "metadata": {},
     "output_type": "execute_result"
    }
   ],
   "source": [
    "k = 4\n",
    "kmeans = KMeans(n_clusters=k, n_init=5, random_state=42)\n",
    "kmeans.fit(tfidf_matrix)"
   ]
  },
  {
   "cell_type": "code",
   "execution_count": 54,
   "id": "6a369961-5593-4a72-a5a7-c7150294241a",
   "metadata": {},
   "outputs": [
    {
     "data": {
      "text/plain": [
       "0.06621329110330104"
      ]
     },
     "execution_count": 54,
     "metadata": {},
     "output_type": "execute_result"
    }
   ],
   "source": [
    "silhouette_avg = silhouette_score(tfidf_matrix, kmeans.labels_)\n",
    "silhouette_avg"
   ]
  },
  {
   "cell_type": "code",
   "execution_count": 56,
   "id": "eb58fd8b-762c-4a38-b7be-f4b88be626cd",
   "metadata": {},
   "outputs": [],
   "source": [
    "clusters = {}\n",
    "for cluster_num in range(k):\n",
    "    clusters[cluster_num] = []\n",
    "    cluster_texts = [total[i] for i in range(len(total)) if kmeans.labels_[i] == cluster_num]\n",
    "    for t in cluster_texts:\n",
    "        clusters[cluster_num].append(t)"
   ]
  },
  {
   "cell_type": "code",
   "execution_count": 57,
   "id": "4be239ec-d8c0-459d-8f53-e4034f68d474",
   "metadata": {},
   "outputs": [
    {
     "name": "stdout",
     "output_type": "stream",
     "text": [
      "Cluster 0:\n",
      "['- An ISUR affiliated program to support women undergraduates in research and teaching in science, mathematics, and engineering. Eight scholars are selected and funded each year.', 'Donald B. Gillies Memorial Lecture', 'Your path begins here.', '3038 Campus Instructional Facility, 1405 W. Springfield Avenue, Urbana, IL', '100 Materials Science and Engineering Building, 1304 W. Green Street', '- An ISUR-affliated program which offers undergraduate women funding for a 10 week summer research program. The program uses a learning-by-apprenticeship model for high impact work in computer science, aerospace, engineering, physics, or astronomy.', 'CHBE 565 Seminar, Prof. Matthew Gebbie, University of Wisconsin-Madison (host: Kenis), \"Exploring How Ionic Correlations Influence Ion Transport and Electron Transfer in Electrochemical Systems\"', '- An IBM-ILLINOIS and ISUR partnership which funds undergraduate research on AI and cognitive computing, from theory to practical application. Students additionally worked with a C3SR faculty mentor.', 'Guidelines for Forming Ph.D. Committee', '- A mentoring program for The Grainger College of Engineering. Undergraduates may apply to be mentored for a range of reasons, such as career development or research and thesis guidance.', 'Ph.D. / M.S. Thesis Format Review Guidelines', 'Lectures and discussions on current work in research and development in nuclear engineering and related fields by staff, advanced students, and visiting speakers.']\n",
      "\n",
      "Cluster 1:\n",
      "['B.S. in Computer Science', 'B.S. in Statistics & Computer Science', 'B.S. in Mathematics & Computer Science', 'Thomas M. Siebel Center for Computer Science']\n",
      "\n",
      "Cluster 2:\n",
      "['academic@cs.illinois.edu', 'Help ensure that Illinois continues to set a global standard for CS research and education.', 'grainger-marcom@illinois.edu', 'My.CS', 'undergrad@cs.illinois.edu', 'head@cs.illinois.edu']\n",
      "\n",
      "Cluster 3:\n",
      "['- Promoting Undergraduate Research in Engineering is a semester long , student-run research program where freshmen and sophomore students are connected with graduate student mentors to get an early jump-start in their research career.', '- A research fair hosted by the College of Engineering every semester. The goal of this fair is for researchers to share their work, labs and companies to recruit researchers, and continue to inspire future generations of excellent research at Illinois.', '- A campus wide research symposium for undergraduate researchers to present the results of their research endeavors and gain valuable experience presenting work to a wide audience. Typically held in the late Spring.', '- A college of engineering wide program. ISUR includes multiple components, from a research focused seminar to a number of paid undergraduate research programs. ISUR programs follow an apprenticeship model, where students work closely with faculty mentors. Some distinct programs supported by\\xa0ISUR include:', '- An academic year long internship program where Illinois undergraduate students get to participate in high-impact work in the fields of supercomputing, visualization, data analytics, and other similar fields. Pay covers 5 hours a week toward exciting research opportunities.', \"- Our department's employment opportunities include course assistant and undergraduate research positions.\", '- \\xa0Undergraduate students in the program will work with faculty mentors and graduate students on topics related to the Mind in Vitro Expeditions in Computing Project.\\xa0 Students will participate in Illinois summer research program activities including networking and social events, weekly lunch and learn seminars covering topics such as research skills, presentation skills, information about graduate school, including applications, career opportunities, etc.', '- A CS department program designed for University of Illinois undergraduate students who are interested in pursuing research while also serving as departmental leaders and community builders.', '- In the SRP, students work on high impact research with university faculty while also attending professional development programming aimed at helping students become stronger researchers and strong candidates for graduate school.', 'Research Opportunities for Und...', 'program - INCLUSION is a 10 week program for applicants from underrepresented communities to work in pairs with mentors on research aimed towards social impact. All work is based around open source software development.', 'Undergraduates at Illinois Computer Science are an important part of our world-renowned research. From summer programs to paid research positions with faculty, there are multiple ways for our students to contribute to high impact research early in their careers.']\n",
      "\n"
     ]
    }
   ],
   "source": [
    "for k in clusters.keys():\n",
    "    print(f'Cluster {k}:')\n",
    "    print(clusters[k])\n",
    "    print()"
   ]
  },
  {
   "cell_type": "markdown",
   "id": "de3e7b21-73ce-4e5f-a98e-4417170b2b9a",
   "metadata": {},
   "source": [
    "### Comparing clustering with different scraping methods"
   ]
  },
  {
   "cell_type": "code",
   "execution_count": 82,
   "id": "d0ade570-b405-4617-894d-eb73a4fc2d0f",
   "metadata": {},
   "outputs": [],
   "source": [
    "def cluster_texts(lst, k=4):\n",
    "    lst = list(set(lst))\n",
    "    tfidf_vectorizer = TfidfVectorizer()\n",
    "    tfidf_matrix = tfidf_vectorizer.fit_transform(lst)\n",
    "    kmeans = KMeans(n_clusters=k, n_init=5, random_state=42)\n",
    "    kmeans.fit(tfidf_matrix)\n",
    "    silhouette_avg = silhouette_score(tfidf_matrix, kmeans.labels_)\n",
    "\n",
    "    clusters = {}\n",
    "    for cluster_num in range(k):\n",
    "        clusters[cluster_num] = []\n",
    "        cluster_texts = [lst[i] for i in range(len(lst)) if kmeans.labels_[i] == cluster_num]\n",
    "        for t in cluster_texts:\n",
    "            clusters[cluster_num].append(t)\n",
    "    \n",
    "    return clusters, silhouette_avg"
   ]
  },
  {
   "cell_type": "code",
   "execution_count": 83,
   "id": "16ccca51-b6e4-4f7e-bd50-7fb07d22b3a6",
   "metadata": {},
   "outputs": [
    {
     "name": "stdout",
     "output_type": "stream",
     "text": [
      "0.06621329110330104\n",
      "Cluster 1:\n",
      " ['- An ISUR affiliated program to support women undergraduates in research and teaching in science, mathematics, and engineering. Eight scholars are selected and funded each year.', 'Donald B. Gillies Memorial Lecture', 'Your path begins here.', '3038 Campus Instructional Facility, 1405 W. Springfield Avenue, Urbana, IL', '100 Materials Science and Engineering Building, 1304 W. Green Street', '- An ISUR-affliated program which offers undergraduate women funding for a 10 week summer research program. The program uses a learning-by-apprenticeship model for high impact work in computer science, aerospace, engineering, physics, or astronomy.', 'CHBE 565 Seminar, Prof. Matthew Gebbie, University of Wisconsin-Madison (host: Kenis), \"Exploring How Ionic Correlations Influence Ion Transport and Electron Transfer in Electrochemical Systems\"', '- An IBM-ILLINOIS and ISUR partnership which funds undergraduate research on AI and cognitive computing, from theory to practical application. Students additionally worked with a C3SR faculty mentor.', 'Guidelines for Forming Ph.D. Committee', '- A mentoring program for The Grainger College of Engineering. Undergraduates may apply to be mentored for a range of reasons, such as career development or research and thesis guidance.', 'Ph.D. / M.S. Thesis Format Review Guidelines', 'Lectures and discussions on current work in research and development in nuclear engineering and related fields by staff, advanced students, and visiting speakers.']\n",
      "\n",
      "Cluster 2:\n",
      " ['B.S. in Computer Science', 'B.S. in Statistics & Computer Science', 'B.S. in Mathematics & Computer Science', 'Thomas M. Siebel Center for Computer Science']\n",
      "\n",
      "Cluster 3:\n",
      " ['academic@cs.illinois.edu', 'Help ensure that Illinois continues to set a global standard for CS research and education.', 'grainger-marcom@illinois.edu', 'My.CS', 'undergrad@cs.illinois.edu', 'head@cs.illinois.edu']\n",
      "\n",
      "Cluster 4:\n",
      " ['- Promoting Undergraduate Research in Engineering is a semester long , student-run research program where freshmen and sophomore students are connected with graduate student mentors to get an early jump-start in their research career.', '- A research fair hosted by the College of Engineering every semester. The goal of this fair is for researchers to share their work, labs and companies to recruit researchers, and continue to inspire future generations of excellent research at Illinois.', '- A campus wide research symposium for undergraduate researchers to present the results of their research endeavors and gain valuable experience presenting work to a wide audience. Typically held in the late Spring.', '- A college of engineering wide program. ISUR includes multiple components, from a research focused seminar to a number of paid undergraduate research programs. ISUR programs follow an apprenticeship model, where students work closely with faculty mentors. Some distinct programs supported by\\xa0ISUR include:', '- An academic year long internship program where Illinois undergraduate students get to participate in high-impact work in the fields of supercomputing, visualization, data analytics, and other similar fields. Pay covers 5 hours a week toward exciting research opportunities.', \"- Our department's employment opportunities include course assistant and undergraduate research positions.\", '- \\xa0Undergraduate students in the program will work with faculty mentors and graduate students on topics related to the Mind in Vitro Expeditions in Computing Project.\\xa0 Students will participate in Illinois summer research program activities including networking and social events, weekly lunch and learn seminars covering topics such as research skills, presentation skills, information about graduate school, including applications, career opportunities, etc.', '- A CS department program designed for University of Illinois undergraduate students who are interested in pursuing research while also serving as departmental leaders and community builders.', '- In the SRP, students work on high impact research with university faculty while also attending professional development programming aimed at helping students become stronger researchers and strong candidates for graduate school.', 'Research Opportunities for Und...', 'program - INCLUSION is a 10 week program for applicants from underrepresented communities to work in pairs with mentors on research aimed towards social impact. All work is based around open source software development.', 'Undergraduates at Illinois Computer Science are an important part of our world-renowned research. From summer programs to paid research positions with faculty, there are multiple ways for our students to contribute to high impact research early in their careers.']\n",
      "\n"
     ]
    }
   ],
   "source": [
    "text = utils.extract_paragraphs_lists(test)\n",
    "clusters, score = cluster_texts(text)\n",
    "print(score)\n",
    "for k in clusters.keys():\n",
    "    print(f'Cluster {k+1}:\\n {clusters[k]}\\n')"
   ]
  },
  {
   "cell_type": "code",
   "execution_count": 84,
   "id": "c1ddc509-c7a5-4a67-8033-64506da91f15",
   "metadata": {},
   "outputs": [
    {
     "name": "stdout",
     "output_type": "stream",
     "text": [
      "0.030369897018214645\n",
      "Cluster 1:\n",
      " ['CHBE 565 Seminar, Prof. Matthew Gebbie, University of Wisconsin-Madison (host: Kenis), \"Exploring How Ionic Correlations Influence Ion Transport and Electron Transfer in Electrochemical Systems\"']\n",
      "\n",
      "Cluster 2:\n",
      " ['Thomas M. Siebel Center for Computer Science', 'Undergraduates at Illinois Computer Science are an important part of our world-renowned research. From summer programs to paid research positions with faculty, there are multiple ways for our students to contribute to high impact research early in their careers.']\n",
      "\n",
      "Cluster 3:\n",
      " ['3038 Campus Instructional Facility, 1405 W. Springfield Avenue, Urbana, IL']\n",
      "\n",
      "Cluster 4:\n",
      " ['100 Materials Science and Engineering Building, 1304 W. Green Street', 'Lectures and discussions on current work in research and development in nuclear engineering and related fields by staff, advanced students, and visiting speakers.']\n",
      "\n"
     ]
    }
   ],
   "source": [
    "text = utils.extract_paragraphs(test) # <p> tags only\n",
    "clusters, score = cluster_texts(text)\n",
    "print(score)\n",
    "for k in clusters.keys():\n",
    "    print(f'Cluster {k+1}:\\n {clusters[k]}\\n')"
   ]
  },
  {
   "cell_type": "code",
   "execution_count": 86,
   "id": "87c8052b-0063-465b-8e83-91d243e65705",
   "metadata": {},
   "outputs": [
    {
     "name": "stdout",
     "output_type": "stream",
     "text": [
      "0.053204351475669445\n",
      "Cluster 1:\n",
      " [' Matthew Gebbie, University of Wisconsin-Madison (host: Kenis), \"Exploring How Ionic Correlations Influence Ion Transport and Electron Transfer in Electrochemical Systems\" 116 Roger Adams Laboratory Hard Materials Seminar - \"Isolating the Effects of Thixotropy in Geopolymer Pastes\" Ally Brandvold (Kriven) 100 Materials Science and Engineering Building, 1304 W', ' No events found Physics Colloquium: \"Efficient Programmable Quantum Simulation of Correlated Bosons and Lattice Gauge Theories\" Steven Girvin (Yale) Loomis Lab 141 and via Zoom NPRE Special Seminar - Bo Feng Lectures and discussions on current work in research and development in nuclear engineering and related fields by staff, advanced students, and visiting speakers', ' Springfield Avenue, Urbana, IL SE 290 - Rob Cotner 151 Loomis Mathematical and Theoretical Physics Seminar: Aspect of Symmetry and Branes in Holography Ibrahima Bah, Johns Hopkins University Loomis Room 464 CHBE 565 Seminar, Prof']\n",
      "\n",
      "Cluster 2:\n",
      " ['Apply to UIUC Make a Gift Undergraduates at Illinois Computer Science are an important part of our world-renowned research', ' From summer programs to paid research positions with faculty, there are multiple ways for our students to contribute to high impact research early in their careers']\n",
      "\n",
      "Cluster 3:\n",
      " [' Bo Feng, National Technical Director for DOE-NE Fast Reactor R&D Program; Reactor and Fuel Cycle Analysis Manager at Argonne National Laboratory 3038 Campus Instructional Facility, 1405 W']\n",
      "\n",
      "Cluster 4:\n",
      " [' Green Street']\n",
      "\n"
     ]
    }
   ],
   "source": [
    "text = utils.extract_paragraphs_trafilatura(test) # trafilatura baseline function\n",
    "clusters, score = cluster_texts(text.split('.'))\n",
    "print(score)\n",
    "for k in clusters.keys():\n",
    "    print(f'Cluster {k+1}:\\n {clusters[k]}\\n')"
   ]
  },
  {
   "cell_type": "code",
   "execution_count": 87,
   "id": "997224c4-97b0-49a4-84c2-b33e69904ee5",
   "metadata": {},
   "outputs": [
    {
     "name": "stdout",
     "output_type": "stream",
     "text": [
      "0.014361945275324587\n",
      "Cluster 1:\n",
      " [' Springfield Avenue, Urbana, IL\\nIbrahima Bah, Johns Hopkins University\\nLoomis Room 464']\n",
      "\n",
      "Cluster 2:\n",
      " ['\\nNov 1, 2023 - Nov 1, 2024\\nNo events found\\nGrainger Engineering Seminars and Speakers\\nNov 1, 2023 - Nov 1, 2024\\nPhysics Colloquium: \"Efficient Programmable Quantum Simulation of Correlated Bosons and Lattice Gauge Theories\"\\nSteven Girvin (Yale)\\nLoomis Lab 141 and via Zoom\\nLectures and discussions on current work in research and development in nuclear engineering and related fields by staff, advanced students, and visiting speakers', ' ISUR includes multiple components, from a research focused seminar to a number of paid undergraduate research programs', ' The program uses a learning-by-apprenticeship model for high impact work in computer science, aerospace, engineering, physics, or astronomy', '\\nBo Feng, National Technical Director for DOE-NE Fast Reactor R&D Program; Reactor and Fuel Cycle Analysis Manager at Argonne National Laboratory\\n3038 Campus Instructional Facility, 1405 W', '\\nSummer Research Opportunities\\n- DaRin Butz Research Scholars - An ISUR-affliated program which offers undergraduate women funding for a 10 week summer research program', '\\nShowcase Opportunities\\n- Engineering Research Fair - A research fair hosted by the College of Engineering every semester', ' Some distinct programs supported by ISUR include:\\n- Clare Boothe Luce Research Scholars - An ISUR affiliated program to support women undergraduates in research and teaching in science, mathematics, and engineering', '\\n- Illinois Scholars Undergraduate Research (ISUR) Program - A college of engineering wide program', '\\nMentorship Opportunities\\n- Mentoring Undergraduates in Science and Engineering (MUSE) - A mentoring program for The Grainger College of Engineering', 'Research Opportunities for Undergraduates\\nUndergraduates at Illinois Computer Science are an important part of our world-renowned research']\n",
      "\n",
      "Cluster 3:\n",
      " [' Undergraduates may apply to be mentored for a range of reasons, such as career development or research and thesis guidance', ' Eight scholars are selected and funded each year', '\\nYear Long Research Opportunities\\n- CS Student Ambassador/Research Scholars (CS STARS) - A CS department program designed for University of Illinois undergraduate students who are interested in pursuing research while also serving as departmental leaders and community builders', \"\\nSemester Long Research Opportunities\\n- CS Job Portal - Our department's employment opportunities include course assistant and undergraduate research positions\", ' Pay covers 5 hours a week toward exciting research opportunities']\n",
      "\n",
      "Cluster 4:\n",
      " ['\\n- Undergraduate Research Symposium - A campus wide research symposium for undergraduate researchers to present the results of their research endeavors and gain valuable experience presenting work to a wide audience', '\\n- The National Center for Supercomputing Applications (NCSA) SPIN - An academic year long internship program where Illinois undergraduate students get to participate in high-impact work in the fields of supercomputing, visualization, data analytics, and other similar fields', ' Students will participate in Illinois summer research program activities including networking and social events, weekly lunch and learn seminars covering topics such as research skills, presentation skills, information about graduate school, including applications, career opportunities, etc', ' Typically held in the late Spring', ' The goal of this fair is for researchers to share their work, labs and companies to recruit researchers, and continue to inspire future generations of excellent research at Illinois', ' ISUR programs follow an apprenticeship model, where students work closely with faculty mentors', ' From summer programs to paid research positions with faculty, there are multiple ways for our students to contribute to high impact research early in their careers', ' Students additionally worked with a C3SR faculty mentor', '\\n- Mind in Vitro Undergraduate Summer Research Program - Undergraduate students in the program will work with faculty mentors and graduate students on topics related to the Mind in Vitro Expeditions in Computing Project', '\\n- The National Center for Supercomputing Applications (NCSA) INCLUSION program - INCLUSION is a 10 week program for applicants from underrepresented communities to work in pairs with mentors on research aimed towards social impact', '\\n- C3SR-Undergraduate Research in Artificial Intelligence - An IBM-ILLINOIS and ISUR partnership which funds undergraduate research on AI and cognitive computing, from theory to practical application', ' All work is based around open source software development', '\\n- Summer Research Program for Undergraduates (SRP) - In the SRP, students work on high impact research with university faculty while also attending professional development programming aimed at helping students become stronger researchers and strong candidates for graduate school', '\\n- PURE - Promoting Undergraduate Research in Engineering is a semester long , student-run research program where freshmen and sophomore students are connected with graduate student mentors to get an early jump-start in their research career']\n",
      "\n"
     ]
    }
   ],
   "source": [
    "text = extract(downloaded, favor_precision=True, deduplicate=True) # trafilatura\n",
    "clusters, score = cluster_texts(text.split('.'))\n",
    "print(score)\n",
    "for k in clusters.keys():\n",
    "    print(f'Cluster {k+1}:\\n {clusters[k]}\\n')"
   ]
  },
  {
   "cell_type": "markdown",
   "id": "a1d9df01-393d-4969-baaf-49f036e84a9b",
   "metadata": {},
   "source": [
    "### Filter clusters"
   ]
  },
  {
   "cell_type": "code",
   "execution_count": 88,
   "id": "b87eacef-c819-49ff-8cf5-b19b785bf376",
   "metadata": {},
   "outputs": [
    {
     "name": "stdout",
     "output_type": "stream",
     "text": [
      "0.04537374758275532\n",
      "Cluster 1:\n",
      " ['- An ISUR affiliated program to support women undergraduates in research and teaching in science, mathematics, and engineering. Eight scholars are selected and funded each year.', '- A college of engineering wide program. ISUR includes multiple components, from a research focused seminar to a number of paid undergraduate research programs. ISUR programs follow an apprenticeship model, where students work closely with faculty mentors. Some distinct programs supported by\\xa0ISUR include:', '- An ISUR-affliated program which offers undergraduate women funding for a 10 week summer research program. The program uses a learning-by-apprenticeship model for high impact work in computer science, aerospace, engineering, physics, or astronomy.', '- An IBM-ILLINOIS and ISUR partnership which funds undergraduate research on AI and cognitive computing, from theory to practical application. Students additionally worked with a C3SR faculty mentor.', 'Guidelines for Forming Ph.D. Committee', '- A mentoring program for The Grainger College of Engineering. Undergraduates may apply to be mentored for a range of reasons, such as career development or research and thesis guidance.', 'program - INCLUSION is a 10 week program for applicants from underrepresented communities to work in pairs with mentors on research aimed towards social impact. All work is based around open source software development.', 'Undergraduates at Illinois Computer Science are an important part of our world-renowned research. From summer programs to paid research positions with faculty, there are multiple ways for our students to contribute to high impact research early in their careers.']\n",
      "\n",
      "Cluster 2:\n",
      " ['- Promoting Undergraduate Research in Engineering is a semester long , student-run research program where freshmen and sophomore students are connected with graduate student mentors to get an early jump-start in their research career.', '- A research fair hosted by the College of Engineering every semester. The goal of this fair is for researchers to share their work, labs and companies to recruit researchers, and continue to inspire future generations of excellent research at Illinois.', '- A campus wide research symposium for undergraduate researchers to present the results of their research endeavors and gain valuable experience presenting work to a wide audience. Typically held in the late Spring.', '- An academic year long internship program where Illinois undergraduate students get to participate in high-impact work in the fields of supercomputing, visualization, data analytics, and other similar fields. Pay covers 5 hours a week toward exciting research opportunities.', \"- Our department's employment opportunities include course assistant and undergraduate research positions.\", 'CHBE 565 Seminar, Prof. Matthew Gebbie, University of Wisconsin-Madison (host: Kenis), \"Exploring How Ionic Correlations Influence Ion Transport and Electron Transfer in Electrochemical Systems\"', '- \\xa0Undergraduate students in the program will work with faculty mentors and graduate students on topics related to the Mind in Vitro Expeditions in Computing Project.\\xa0 Students will participate in Illinois summer research program activities including networking and social events, weekly lunch and learn seminars covering topics such as research skills, presentation skills, information about graduate school, including applications, career opportunities, etc.', '- A CS department program designed for University of Illinois undergraduate students who are interested in pursuing research while also serving as departmental leaders and community builders.', '- In the SRP, students work on high impact research with university faculty while also attending professional development programming aimed at helping students become stronger researchers and strong candidates for graduate school.', 'Research Opportunities for Und...']\n",
      "\n",
      "Cluster 3:\n",
      " ['academic@cs.illinois.edu', 'Help ensure that Illinois continues to set a global standard for CS research and education.', 'grainger-marcom@illinois.edu', 'My.CS', 'Donald B. Gillies Memorial Lecture', 'Your path begins here.', 'undergrad@cs.illinois.edu', 'Ph.D. / M.S. Thesis Format Review Guidelines', 'head@cs.illinois.edu']\n",
      "\n",
      "Cluster 4:\n",
      " ['B.S. in Computer Science', '100 Materials Science and Engineering Building, 1304 W. Green Street', 'B.S. in Statistics & Computer Science', 'B.S. in Mathematics & Computer Science', 'Thomas M. Siebel Center for Computer Science']\n",
      "\n"
     ]
    }
   ],
   "source": [
    "text = utils.extract_paragraphs_lists(test)\n",
    "clusters, score = cluster_texts(text)\n",
    "print(score)\n",
    "for k in clusters.keys():\n",
    "    print(f'Cluster {k+1}:\\n {clusters[k]}\\n')"
   ]
  },
  {
   "cell_type": "code",
   "execution_count": 97,
   "id": "858768f0-e955-4dcf-a93b-6153a0e934dc",
   "metadata": {},
   "outputs": [],
   "source": [
    "avgs = {}\n",
    "for k in clusters.keys():\n",
    "    total = 0\n",
    "    for s in clusters[k]:\n",
    "        total += len(s)\n",
    "    avgs[k] = (total / len(clusters[k]))"
   ]
  },
  {
   "cell_type": "code",
   "execution_count": 98,
   "id": "e164c85f-c8d4-4a2a-9b94-ccf828a38a9a",
   "metadata": {},
   "outputs": [
    {
     "data": {
      "text/plain": [
       "{0: 204.375, 1: 219.1, 2: 32.55555555555556, 3: 42.2}"
      ]
     },
     "execution_count": 98,
     "metadata": {},
     "output_type": "execute_result"
    }
   ],
   "source": [
    "avgs"
   ]
  },
  {
   "cell_type": "code",
   "execution_count": 103,
   "id": "bca365bf-11ef-4d29-90cb-ff517370cf7b",
   "metadata": {},
   "outputs": [
    {
     "data": {
      "text/plain": [
       "124.55763888888889"
      ]
     },
     "execution_count": 103,
     "metadata": {},
     "output_type": "execute_result"
    }
   ],
   "source": [
    "threshold = sum(avgs.values()) / 4\n",
    "threshold"
   ]
  },
  {
   "cell_type": "code",
   "execution_count": 105,
   "id": "83f1feb8-30f7-4d31-8627-d9fc2f945950",
   "metadata": {},
   "outputs": [],
   "source": [
    "result = {}\n",
    "for k in clusters.keys():\n",
    "    if avgs[k] > threshold:\n",
    "        result[k] = clusters[k]"
   ]
  },
  {
   "cell_type": "code",
   "execution_count": 107,
   "id": "a8bb55be-073e-434f-9e24-7209b92fa0b3",
   "metadata": {},
   "outputs": [
    {
     "name": "stdout",
     "output_type": "stream",
     "text": [
      "Cluster 1:\n",
      " ['- An ISUR affiliated program to support women undergraduates in research and teaching in science, mathematics, and engineering. Eight scholars are selected and funded each year.', '- A college of engineering wide program. ISUR includes multiple components, from a research focused seminar to a number of paid undergraduate research programs. ISUR programs follow an apprenticeship model, where students work closely with faculty mentors. Some distinct programs supported by\\xa0ISUR include:', '- An ISUR-affliated program which offers undergraduate women funding for a 10 week summer research program. The program uses a learning-by-apprenticeship model for high impact work in computer science, aerospace, engineering, physics, or astronomy.', '- An IBM-ILLINOIS and ISUR partnership which funds undergraduate research on AI and cognitive computing, from theory to practical application. Students additionally worked with a C3SR faculty mentor.', 'Guidelines for Forming Ph.D. Committee', '- A mentoring program for The Grainger College of Engineering. Undergraduates may apply to be mentored for a range of reasons, such as career development or research and thesis guidance.', 'program - INCLUSION is a 10 week program for applicants from underrepresented communities to work in pairs with mentors on research aimed towards social impact. All work is based around open source software development.', 'Undergraduates at Illinois Computer Science are an important part of our world-renowned research. From summer programs to paid research positions with faculty, there are multiple ways for our students to contribute to high impact research early in their careers.']\n",
      "\n",
      "Cluster 2:\n",
      " ['- Promoting Undergraduate Research in Engineering is a semester long , student-run research program where freshmen and sophomore students are connected with graduate student mentors to get an early jump-start in their research career.', '- A research fair hosted by the College of Engineering every semester. The goal of this fair is for researchers to share their work, labs and companies to recruit researchers, and continue to inspire future generations of excellent research at Illinois.', '- A campus wide research symposium for undergraduate researchers to present the results of their research endeavors and gain valuable experience presenting work to a wide audience. Typically held in the late Spring.', '- An academic year long internship program where Illinois undergraduate students get to participate in high-impact work in the fields of supercomputing, visualization, data analytics, and other similar fields. Pay covers 5 hours a week toward exciting research opportunities.', \"- Our department's employment opportunities include course assistant and undergraduate research positions.\", 'CHBE 565 Seminar, Prof. Matthew Gebbie, University of Wisconsin-Madison (host: Kenis), \"Exploring How Ionic Correlations Influence Ion Transport and Electron Transfer in Electrochemical Systems\"', '- \\xa0Undergraduate students in the program will work with faculty mentors and graduate students on topics related to the Mind in Vitro Expeditions in Computing Project.\\xa0 Students will participate in Illinois summer research program activities including networking and social events, weekly lunch and learn seminars covering topics such as research skills, presentation skills, information about graduate school, including applications, career opportunities, etc.', '- A CS department program designed for University of Illinois undergraduate students who are interested in pursuing research while also serving as departmental leaders and community builders.', '- In the SRP, students work on high impact research with university faculty while also attending professional development programming aimed at helping students become stronger researchers and strong candidates for graduate school.', 'Research Opportunities for Und...']\n",
      "\n"
     ]
    }
   ],
   "source": [
    "for k in result.keys():\n",
    "    print(f'Cluster {k+1}:\\n {result[k]}\\n')"
   ]
  }
 ],
 "metadata": {
  "kernelspec": {
   "display_name": "Python 3 (ipykernel)",
   "language": "python",
   "name": "python3"
  },
  "language_info": {
   "codemirror_mode": {
    "name": "ipython",
    "version": 3
   },
   "file_extension": ".py",
   "mimetype": "text/x-python",
   "name": "python",
   "nbconvert_exporter": "python",
   "pygments_lexer": "ipython3",
   "version": "3.8.18"
  }
 },
 "nbformat": 4,
 "nbformat_minor": 5
}
