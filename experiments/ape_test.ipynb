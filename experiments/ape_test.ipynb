{
 "cells": [
  {
   "cell_type": "code",
   "execution_count": 1,
   "id": "d3751feb-e9ed-4849-ab9b-575ce303ea2f",
   "metadata": {},
   "outputs": [],
   "source": [
    "from transformers import AutoTokenizer\n",
    "import transformers\n",
    "import torch\n",
    "import utils\n",
    "\n",
    "torch.cuda.empty_cache()"
   ]
  },
  {
   "cell_type": "code",
   "execution_count": 64,
   "id": "efebab41-f9dc-4424-a5af-e74b581d2890",
   "metadata": {},
   "outputs": [],
   "source": [
    "import re"
   ]
  },
  {
   "cell_type": "code",
   "execution_count": 2,
   "id": "43e5873c-ff24-4898-995b-3fbe020e8f22",
   "metadata": {},
   "outputs": [
    {
     "data": {
      "application/vnd.jupyter.widget-view+json": {
       "model_id": "7d38abb687da4d98a1fd8e9f824bf3a7",
       "version_major": 2,
       "version_minor": 0
      },
      "text/plain": [
       "Loading checkpoint shards:   0%|          | 0/3 [00:00<?, ?it/s]"
      ]
     },
     "metadata": {},
     "output_type": "display_data"
    }
   ],
   "source": [
    "model = \"meta-llama/Llama-2-13b-chat-hf\"\n",
    "tokenizer = AutoTokenizer.from_pretrained(model)\n",
    "#tokenizer.pad_token_id = tokenizer.eos_token_id\n",
    "pipeline = transformers.pipeline(\n",
    "    \"text-generation\",\n",
    "    model=model,\n",
    "    torch_dtype=torch.float16,\n",
    "    device_map=\"auto\",\n",
    ")"
   ]
  },
  {
   "cell_type": "code",
   "execution_count": 120,
   "id": "ae374393-8e79-4003-9355-7d3bc1713d14",
   "metadata": {},
   "outputs": [],
   "source": [
    "def prompt_llama2(prompt):\n",
    "    prompt_template=f'''[INST] <<SYS>>\n",
    "    You are a helpful, respectful and honest assistant. Always answer as helpfully as possible, while being safe.  Your answers should not include any harmful, unethical, racist, sexist, toxic, dangerous, or illegal content. Please ensure that your responses are socially unbiased and positive in nature. If a question does not make any sense, or is not factually coherent, explain why instead of answering something not correct. If you don't know the answer to a question, please don't share false information.\n",
    "    <</SYS>> {prompt} [/INST]'''\n",
    "    \n",
    "    sequences = pipeline(\n",
    "        prompt_template,\n",
    "        do_sample=True,\n",
    "        num_return_sequences=1,\n",
    "        eos_token_id=tokenizer.eos_token_id,\n",
    "        #max_length=2048,\n",
    "        temperature=0.7,\n",
    "        top_p=0.95,\n",
    "        top_k=40,\n",
    "        repetition_penalty=1.1,\n",
    "    )\n",
    "    result = sequences[0]['generated_text']\n",
    "    return result.split('[/INST]')[1].strip(), sequences\n",
    "\n",
    "def count_tokens(prompt):\n",
    "    tokens = tokenizer.tokenize(prompt)\n",
    "    return len(tokens)\n",
    "\n",
    "def shorten_tokens(prompt):\n",
    "    tokens = tokenizer.tokenize(prompt)\n",
    "    tokens = tokens[:4000]\n",
    "    return tokenizer.convert_tokens_to_string(tokens)"
   ]
  },
  {
   "cell_type": "markdown",
   "id": "ca8eaa24-72c6-436f-ba6c-240e7033cf5b",
   "metadata": {},
   "source": [
    "### Try reproduce Automatic Prompt Engineer (APE) example"
   ]
  },
  {
   "cell_type": "markdown",
   "id": "e4c5954f-c171-409b-867b-b9e02e82fc33",
   "metadata": {},
   "source": [
    "![alt text](./pictures/ape_workflow.png \"APE Workflow\")"
   ]
  },
  {
   "cell_type": "code",
   "execution_count": 30,
   "id": "851f93a1-e235-4dc1-b2b7-9d74ed885032",
   "metadata": {},
   "outputs": [],
   "source": [
    "words = [\"sane\", \"direct\", \"informally\", \"unpopular\", \"subtractive\", \"nonresidential\",\n",
    "    \"inexact\", \"uptown\", \"incomparable\", \"powerful\", \"gaseous\", \"evenly\", \"formality\",\n",
    "    \"deliberately\", \"off\"]\n",
    "antonyms = [\"insane\", \"indirect\", \"formally\", \"popular\", \"additive\", \"residential\",\n",
    "    \"exact\", \"downtown\", \"comparable\", \"powerless\", \"solid\", \"unevenly\", \"informality\",\n",
    "    \"accidentally\", \"on\"]\n",
    "\n",
    "prompt_gen_template = \"\"\"I gave a friend an instruction. Based on the instruction they produced the following input-output pairs:\n",
    "\\n\\n[full_DEMO]\\n\\n\"\"\"#The instruction was to [APE]\"\"\"\n",
    "\n",
    "eval_template = 'Instruction: [PROMPT]\\nInput: [INPUT]\\nOutput: [OUTPUT]'\n",
    "\n",
    "demos_template = 'Input: [INPUT]\\nOutput: [OUTPUT]'"
   ]
  },
  {
   "cell_type": "markdown",
   "id": "41b86752-e174-40b5-a50f-fa0f578ec501",
   "metadata": {},
   "source": [
    "#### Generating Proposals"
   ]
  },
  {
   "cell_type": "code",
   "execution_count": 107,
   "id": "2aaf4a85-f30c-41bb-896e-6b3d11fb0389",
   "metadata": {},
   "outputs": [
    {
     "name": "stdout",
     "output_type": "stream",
     "text": [
      "Input: sane\n",
      "Output: insane\n",
      "Input: direct\n",
      "Output: indirect\n",
      "Input: informally\n",
      "Output: formally\n",
      "Input: unpopular\n",
      "Output: popular\n",
      "Input: subtractive\n",
      "Output: additive\n",
      "Input: nonresidential\n",
      "Output: residential\n",
      "Input: inexact\n",
      "Output: exact\n",
      "Input: uptown\n",
      "Output: downtown\n",
      "Input: incomparable\n",
      "Output: comparable\n",
      "Input: powerful\n",
      "Output: powerless\n",
      "Input: gaseous\n",
      "Output: solid\n",
      "Input: evenly\n",
      "Output: unevenly\n",
      "Input: formality\n",
      "Output: informality\n",
      "Input: deliberately\n",
      "Output: accidentally\n",
      "Input: off\n",
      "Output: on\n"
     ]
    }
   ],
   "source": [
    "demo = ''\n",
    "n = 5\n",
    "for i in range(len(words)):\n",
    "    demo_query = demos_template.replace('[INPUT]', words[i]).replace('[OUTPUT]', antonyms[i])\n",
    "    demo += demo_query\n",
    "    if i < len(words) - 1:\n",
    "        demo += '\\n'\n",
    "print(demo)"
   ]
  },
  {
   "cell_type": "code",
   "execution_count": 108,
   "id": "485fb7d3-4739-41b3-bb70-6cbe5c71644b",
   "metadata": {},
   "outputs": [
    {
     "name": "stdout",
     "output_type": "stream",
     "text": [
      "I gave a friend an instruction. Based on the instruction they produced the following input-output pairs:\n",
      "\n",
      "\n",
      "Input: sane\n",
      "Output: insane\n",
      "Input: direct\n",
      "Output: indirect\n",
      "Input: informally\n",
      "Output: formally\n",
      "Input: unpopular\n",
      "Output: popular\n",
      "Input: subtractive\n",
      "Output: additive\n",
      "Input: nonresidential\n",
      "Output: residential\n",
      "Input: inexact\n",
      "Output: exact\n",
      "Input: uptown\n",
      "Output: downtown\n",
      "Input: incomparable\n",
      "Output: comparable\n",
      "Input: powerful\n",
      "Output: powerless\n",
      "Input: gaseous\n",
      "Output: solid\n",
      "Input: evenly\n",
      "Output: unevenly\n",
      "Input: formality\n",
      "Output: informality\n",
      "Input: deliberately\n",
      "Output: accidentally\n",
      "Input: off\n",
      "Output: on\n",
      "\n",
      "Please generate 5 possible instructions and display them as a list. In the output, surround each instruction with square brackets. For example: \n",
      "Instruction 1: [this is the first instruction]\n",
      "Instruction 2: [this is the second instruction]\n",
      "..and so on\n"
     ]
    }
   ],
   "source": [
    "prompt = prompt_gen_template.replace('[full_DEMO]', demo)\n",
    "prompt += f\"\"\"Please generate {n} possible instructions and display them as a list. In the output, surround each instruction with square brackets. For example: \n",
    "Instruction 1: [this is the first instruction]\n",
    "Instruction 2: [this is the second instruction]\n",
    "..and so on\"\"\"\n",
    "print(prompt)"
   ]
  },
  {
   "cell_type": "code",
   "execution_count": 121,
   "id": "c374ddb0-0ce0-45b0-bf16-a1d4d2104f44",
   "metadata": {},
   "outputs": [
    {
     "name": "stdout",
     "output_type": "stream",
     "text": [
      "Sure, I can help you with that! Here are five possible instructions for your friend, along with their corresponding output pairs:\n",
      "\n",
      "Instruction 1: [Reverse the given word]\n",
      "Input: sane\n",
      "Output: insane\n",
      "Input: direct\n",
      "Output: indirect\n",
      "Input: informally\n",
      "Output: formally\n",
      "Input: unpopular\n",
      "Output: popular\n",
      "Input: subtractive\n",
      "Output: additive\n",
      "Input: nonresidential\n",
      "Output: residential\n",
      "Input: inexact\n",
      "Output: exact\n",
      "Input: uptown\n",
      "Output: downtown\n",
      "Input: incomparable\n",
      "Output: comparable\n",
      "Input: powerful\n",
      "Output: powerless\n",
      "Input: gaseous\n",
      "Output: solid\n",
      "Input: evenly\n",
      "Output: unevenly\n",
      "Input: formality\n",
      "Output: informality\n",
      "Input: deliberately\n",
      "Output: accidentally\n",
      "Input: off\n",
      "Output: on\n",
      "\n",
      "Instruction 2: [Replace each letter with the letter that is three positions ahead of it in the alphabet]\n",
      "Input: sane\n",
      "Output: yenas\n",
      "Input: direct\n",
      "Output: tirect\n",
      "Input: informally\n",
      "Output: mformally\n",
      "Input: unpopular\n",
      "Output: pular\n",
      "Input: subtractive\n",
      "Output: tadditive\n",
      "Input: nonresidential\n",
      "Output: nresidential\n",
      "Input: inexact\n",
      "Output: xect\n",
      "Input: uptown\n",
      "Output: wtown\n",
      "Input: incomparable\n",
      "Output: omparable\n",
      "Input: powerful\n",
      "Output: oweless\n",
      "Input: gaseous\n",
      "Output: eous\n",
      "Input: evenly\n",
      "Output: venely\n",
      "Input: formality\n",
      "Output: rmorality\n",
      "Input: deliberately\n",
      "Output: elberately\n",
      "Input: off\n",
      "Output: f\n",
      "\n",
      "Instruction 3: [Replace each vowel with the letter that is two positions before it in the alphabet]\n",
      "Input: sane\n",
      "Output: sen\n",
      "Input: direct\n",
      "Output: dir\n",
      "Input: informally\n",
      "Output: mformally\n",
      "Input: unpopular\n",
      "Output: pul\n",
      "Input: subtractive\n",
      "Output: tadd\n",
      "Input: nonresidential\n",
      "Output: nres\n",
      "Input: inexact\n",
      "Output: exat\n",
      "Input: uptown\n",
      "Output: wto\n",
      "Input: incomparable\n",
      "Output: ompar\n",
      "Input: powerful\n",
      "Output: owel\n",
      "Input: gaseous\n",
      "Output: eous\n",
      "Input: evenly\n",
      "Output: vely\n",
      "Input: formality\n",
      "Output: rform\n",
      "Input: deliberately\n",
      "Output: elb\n",
      "Input: off\n",
      "Output: f\n",
      "\n",
      "Instruction 4: [Replace each consonant with the letter that is one position after it in the alphabet]\n",
      "Input: sane\n",
      "Output: sean\n",
      "Input: direct\n",
      "Output: direc\n",
      "Input: informally\n",
      "Output: mformal\n",
      "Input: unpopular\n",
      "Output: popu\n",
      "Input: subtractive\n",
      "Output: taddi\n",
      "Input: nonresidential\n",
      "Output: nresiden\n",
      "Input: inexact\n",
      "Output: exact\n",
      "Input: uptown\n",
      "Output: downtown\n",
      "Input: incomparable\n",
      "Output: comparab\n",
      "Input: powerful\n",
      "Output: poweless\n",
      "Input: gaseous\n",
      "Output: eous\n",
      "Input: evenly\n",
      "Output: venely\n",
      "Input: formality\n",
      "Output: morality\n",
      "Input: deliberately\n",
      "Output: elbe\n",
      "Input: off\n",
      "Output: on\n",
      "\n",
      "Instruction 5: [Replace each letter with the letter that is three positions after it in the alphabet]\n",
      "Input: sane\n",
      "Output: eans\n",
      "Input: direct\n",
      "Output: irect\n",
      "Input: informally\n",
      "Output: lformally\n",
      "Input: unpopular\n",
      "Output: opular\n",
      "Input: subtractive\n",
      "Output: taddi\n",
      "Input: nonresidential\n",
      "Output: rresidential\n",
      "Input: inexact\n",
      "Output: xect\n",
      "Input: uptown\n",
      "Output: wtown\n",
      "Input: incomparable\n",
      "Output: omparab\n",
      "Input: powerful\n",
      "Output: oweless\n",
      "Input: gaseous\n",
      "Output: eous\n",
      "Input: evenly\n",
      "Output: venely\n",
      "Input: formality\n",
      "Output: rmorality\n",
      "Input: deliberately\n",
      "Output: elber\n",
      "Input: off\n",
      "Output: f\n",
      "\n",
      "I hope these instructions are helpful and provide a good challenge for your friend!\n"
     ]
    }
   ],
   "source": [
    "out, sequences = prompt_llama2(prompt)\n",
    "print(out)"
   ]
  },
  {
   "cell_type": "code",
   "execution_count": 110,
   "id": "9393d348-0a6b-4cb8-a4aa-936b970cf115",
   "metadata": {},
   "outputs": [
    {
     "data": {
      "text/plain": [
       "['Use the opposite word of the given adjective to describe the noun.',\n",
       " 'Use a synonym of the given word to describe the noun.',\n",
       " 'Use a word that is the opposite of the given word to describe the noun.',\n",
       " 'Use a word that is related to the given word to describe the noun.',\n",
       " 'Use a word that is the same as the given word, but with a different ending to describe the noun.']"
      ]
     },
     "execution_count": 110,
     "metadata": {},
     "output_type": "execute_result"
    }
   ],
   "source": [
    "proposals = re.findall(r'\\[.*?\\]', out)\n",
    "proposals = [p[1:-1] for p in proposals]\n",
    "proposals"
   ]
  },
  {
   "cell_type": "markdown",
   "id": "d2ac71d5-8ea9-4b33-a9c9-a5a8d2a8fa4a",
   "metadata": {},
   "source": [
    "#### Evaluating proposals"
   ]
  },
  {
   "cell_type": "code",
   "execution_count": 123,
   "id": "c074b46c-f2d6-4d75-becf-dba9beecd34c",
   "metadata": {},
   "outputs": [
    {
     "ename": "AttributeError",
     "evalue": "'list' object has no attribute 'scores'",
     "output_type": "error",
     "traceback": [
      "\u001b[0;31m---------------------------------------------------------------------------\u001b[0m",
      "\u001b[0;31mAttributeError\u001b[0m                            Traceback (most recent call last)",
      "Cell \u001b[0;32mIn[123], line 1\u001b[0m\n\u001b[0;32m----> 1\u001b[0m \u001b[43msequences\u001b[49m\u001b[38;5;241;43m.\u001b[39;49m\u001b[43mscores\u001b[49m\n",
      "\u001b[0;31mAttributeError\u001b[0m: 'list' object has no attribute 'scores'"
     ]
    }
   ],
   "source": [
    "sequences.scores"
   ]
  },
  {
   "cell_type": "markdown",
   "id": "72730aa8-799b-4b24-8392-c6ed5eb99deb",
   "metadata": {},
   "source": [
    "#### Resampling/Iterative Monte Carlo"
   ]
  },
  {
   "cell_type": "code",
   "execution_count": 83,
   "id": "66ac4a3a-11fc-4276-b8ae-9f5e9b0736e2",
   "metadata": {},
   "outputs": [
    {
     "name": "stdout",
     "output_type": "stream",
     "text": [
      "I gave a friend an instruction. Based on the instruction they produced the following input-output pairs:\n",
      "\n",
      "\n",
      "Input: sane\n",
      "Output: insane\n",
      "Input: direct\n",
      "Output: indirect\n",
      "Input: informally\n",
      "Output: formally\n",
      "Input: unpopular\n",
      "Output: popular\n",
      "Input: subtractive\n",
      "Output: additive\n",
      "Input: nonresidential\n",
      "Output: residential\n",
      "Input: inexact\n",
      "Output: exact\n",
      "Input: uptown\n",
      "Output: downtown\n",
      "Input: incomparable\n",
      "Output: comparable\n",
      "Input: powerful\n",
      "Output: powerless\n",
      "Input: gaseous\n",
      "Output: solid\n",
      "Input: evenly\n",
      "Output: unevenly\n",
      "Input: formality\n",
      "Output: informality\n",
      "Input: deliberately\n",
      "Output: accidentally\n",
      "Input: off\n",
      "Output: on\n",
      "\n",
      "\n",
      "The instruction was to Reverse the output of the previous instruction. \n",
      "Generate a new variation of the given instruction while keeping the semantic meaning, and surround the new instruction with square brackets.\n",
      "Only print the new instruction, and do not give the original instruction back.\n"
     ]
    }
   ],
   "source": [
    "prompt = prompt_gen_template.replace('[full_DEMO]', demo)\n",
    "prompt += f\"\"\"\\nThe instruction was to {proposals[0]}. \n",
    "Generate a new variation of the given instruction while keeping the semantic meaning, and surround the new instruction with square brackets.\n",
    "Only print the new instruction, and do not give the original instruction back.\"\"\"\n",
    "print(prompt)"
   ]
  },
  {
   "cell_type": "code",
   "execution_count": 84,
   "id": "11fdfe95-d92c-4c0f-82f8-98e12f340c48",
   "metadata": {},
   "outputs": [
    {
     "name": "stdout",
     "output_type": "stream",
     "text": [
      "Sure! Here's a new variation of the instruction that reverses the output of the previous instruction, while keeping the semantic meaning:\n",
      "\n",
      "[Reverse the output of the following input-output pairs, while maintaining their original meaning.]\n",
      "\n",
      "Here are the input-output pairs:\n",
      "\n",
      "Input: sane\n",
      "Output: insane (reverse: \"insane\" becomes \"sane\")\n",
      "Input: direct\n",
      "Output: indirect (reverse: \"indirect\" becomes \"direct\")\n",
      "Input: informally\n",
      "Output: formally (reverse: \"formally\" becomes \"informally\")\n",
      "Input: unpopular\n",
      "Output: popular (reverse: \"popular\" becomes \"unpopular\")\n",
      "Input: subtractive\n",
      "Output: additive (reverse: \"additive\" becomes \"subtractive\")\n",
      "Input: nonresidential\n",
      "Output: residential (reverse: \"residential\" becomes \"nonresidential\")\n",
      "Input: inexact\n",
      "Output: exact (reverse: \"exact\" becomes \"inexact\")\n",
      "Input: uptown\n",
      "Output: downtown (reverse: \"downtown\" becomes \"uptown\")\n",
      "Input: incomparable\n",
      "Output: comparable (reverse: \"comparable\" becomes \"incomparable\")\n",
      "Input: powerful\n",
      "Output: powerless (reverse: \"powerless\" becomes \"powerful\")\n",
      "Input: gaseous\n",
      "Output: solid (reverse: \"solid\" becomes \"gaseous\")\n",
      "Input: evenly\n",
      "Output: unevenly (reverse: \"unevenly\" becomes \"evenly\")\n",
      "Input: formality\n",
      "Output: informality (reverse: \"informality\" becomes \"formality\")\n",
      "Input: deliberately\n",
      "Output: accidentally (reverse: \"accidentally\" becomes \"deliberately\")\n",
      "Input: off\n",
      "Output: on (reverse: \"on\" becomes \"off\")\n",
      "\n",
      "I hope this helps! Let me know if you have any questions.\n"
     ]
    }
   ],
   "source": [
    "out = prompt_llama2(prompt)\n",
    "print(out)"
   ]
  },
  {
   "cell_type": "code",
   "execution_count": 86,
   "id": "f0d97609-d6b1-4db2-8022-3f66a3705adc",
   "metadata": {},
   "outputs": [
    {
     "data": {
      "text/plain": [
       "'Reverse the output of the following input-output pairs, while maintaining their original meaning.'"
      ]
     },
     "execution_count": 86,
     "metadata": {},
     "output_type": "execute_result"
    }
   ],
   "source": [
    "re.findall(r'\\[.*?\\]', out)[0][1:-1]"
   ]
  },
  {
   "cell_type": "markdown",
   "id": "2dd76607-5320-4aa4-b771-36e711a3500a",
   "metadata": {},
   "source": [
    "### Test on Citation-aware summarization example"
   ]
  },
  {
   "cell_type": "code",
   "execution_count": 124,
   "id": "69858d99-9853-4e98-88b8-f127b361f955",
   "metadata": {},
   "outputs": [],
   "source": [
    "urls = ['https://cs.illinois.edu/research/areas/artificial-intelligence',\n",
    "        'https://cs.illinois.edu/research/undergraduate-research',\n",
    "        'https://cs.illinois.edu/corporate#research']\n",
    "from trafilatura import fetch_url, extract\n",
    "paragraphs_dict = {}\n",
    "for i in range(len(urls)):\n",
    "    #p = utils.extract_paragraphs(urls[i])\n",
    "    p = utils.extract_paragraphs_trafilatura(urls[i])\n",
    "    #p = extract(fetch_url(urls[i]), favor_precision=True)\n",
    "    paragraphs_dict[i] = p"
   ]
  },
  {
   "cell_type": "code",
   "execution_count": 125,
   "id": "7893921c-3e4e-4d58-a3a7-f68e160c071b",
   "metadata": {},
   "outputs": [],
   "source": [
    "input = ''\n",
    "for i in range(len(urls)):\n",
    "    s = ''.join(paragraphs_dict[i]).replace('  ', ' ')\n",
    "    input += f'Here is passage number {i+1}: \"{s}\"\\n\\n'"
   ]
  },
  {
   "cell_type": "code",
   "execution_count": 126,
   "id": "180e50b2-2b80-492e-93b4-452a2b21a752",
   "metadata": {},
   "outputs": [
    {
     "data": {
      "text/plain": [
       "\"The University of Illinois has a world-renowned computer science department that offers various research opportunities for undergraduate students [Passage 2]. Additionally, the university boasts one of the largest computer science departments in the nation, providing students with a broad range of academic and research experiences [Passage 3]. The department has a strong reputation for revolutionary technology and groundbreaking research, addressing real-world problems in various fields, including medicine, engineering, business, and science [Passage 3]. The computer science department offers various research collaborations and recruitment opportunities for companies, including the Corporate Connection program, which provides a main point of entry for partnering with the department [Passage 3]. Companies can also sponsor senior design projects, which give company representatives the opportunity to pitch their projects to all enrolled students at the start of the fall semester [Passage 3]. Furthermore, the department has a global reputation for developing innovative technology, and its faculty and students are bringing their expertise to bear on many of society's most challenging problems [Passage 3]. Overall, the University of Illinois's computer science department is a great place for companies to find talented and highly educated individuals for recruitment and research collaborations. With its strong reputation, cutting-edge research, and various opportunities for student involvement, the department offers a unique and valuable experience for both companies and students [Passage 3].\""
      ]
     },
     "execution_count": 126,
     "metadata": {},
     "output_type": "execute_result"
    }
   ],
   "source": [
    "output = \"\"\"The University of Illinois has a world-renowned computer science department that offers various research opportunities for undergraduate students [Passage 2]. Additionally, the university boasts one of the largest computer science departments in the nation, providing students with a broad range of academic and research experiences [Passage 3]. The department has a strong reputation for revolutionary technology and groundbreaking research, addressing real-world problems in various fields, including medicine, engineering, business, and science [Passage 3]. The computer science department offers various research collaborations and recruitment opportunities for companies, including the Corporate Connection program, which provides a main point of entry for partnering with the department [Passage 3]. Companies can also sponsor senior design projects, which give company representatives the opportunity to pitch their projects to all enrolled students at the start of the fall semester [Passage 3]. Furthermore, the department has a global reputation for developing innovative technology, and its faculty and students are bringing their expertise to bear on many of society's most challenging problems [Passage 3]. Overall, the University of Illinois's computer science department is a great place for companies to find talented and highly educated individuals for recruitment and research collaborations. With its strong reputation, cutting-edge research, and various opportunities for student involvement, the department offers a unique and valuable experience for both companies and students [Passage 3].\"\"\"\n",
    "output"
   ]
  },
  {
   "cell_type": "code",
   "execution_count": 127,
   "id": "9d932005-3d72-4fda-8f9e-a5f1db31d32c",
   "metadata": {},
   "outputs": [
    {
     "name": "stdout",
     "output_type": "stream",
     "text": [
      "I gave a friend an instruction. Based on the instruction they produced the following input-output pairs:\n",
      "\n",
      "\n",
      "Input: Here is passage number 1: \"Apply to UIUC Make a Gift About Faculty Research Groups/Events Related News The study of systems that behave intelligently, artificial intelligence includes several key areas where our faculty are recognized leaders: computer vision, machine listening, natural language processing, machine learning and robotics. Computer vision systems can understand images and video, for example, building extensive geometric and physical models of cities from video, or warning construction workers about nearby dangers. Natural language processing systems understand written and spoken language; possibilities include automatic translation of text from one language to another, or understanding text on Wikipedia to produce knowledge about the world. Machine listening systems understand audio signals, with applications like speech recognition, acoustic monitoring, or transcribing polyphonic music automatically. Crucial to modern artificial intelligence, machine learning methods exploit examples in order to adjust systems to work as effectively as possible. Robotics puts artificial intelligence into practice using machines that perceive and interact with the physical world. The AI group at Illinois is strong, diverse, and growing. It combines expertise in core strengths with promising new research directions. Research Focus In machine learning, AI group faculty are studying theoretical foundations of deep and reinforcement learning; developing novel models and algorithms for deep neural networks, federated and distributed learning; as well as investigating issues related to scalability, security, privacy, and fairness of learning systems. Computer vision faculty are developing novel approaches for 2D and 3D scene understanding from still images and video; joint understanding of images and language; low-shot learning (recognition of rare or previously unseen categories); transfer learning and domain adaptation (adapting pre-trained systems to a changing data distribution); and image generation and editing approaches based on generative neural networks. Natural language processing faculty are working on topics such as grounded language understanding, information extraction and text mining, and knowledge-driven natural language generation for applications such as scientific discovery. Machine listening faculty are working on sound and speech understanding, source separation, and enhancement, as well as applications in music and computing. Robotics faculty are developing novel planning algorithms for grasping, locomotion, and navigation; investigating multi-robot systems; as well as pursuing high-impact applications of robotics to medicine, agriculture, home care, and autonomous driving. Research Awards The excellence and impact of the AI group’s research has been recognized by a number of awards, including NSF CAREER (Amato, Hauser, Hockenmaier, Hoiem, Ji, Koyejo, Lazebnik, Smaragdis, Telgarsky), Sloan Research Fellowship (Hoiem, Koyejo, Lazebnik), Microsoft Research Faculty Fellowship (Lazebnik), AFOSR Young Investigator (Chowdhary), IEEE PAMI Significant Young Researcher Award (Hoiem), MIT TR-35 (Li, Smaragdis), Intel Rising Star Award (Li), “Young Scientist” selected by World Economic Forum (Ji), “AI’s Top 10 to Watch” Award by IEEE Intelligent Systems (Ji), ACM Fellow (Amato, Forsyth, Warnow), IEEE Fellow (Amato, Forsyth, Lazebnik, Smaragdis), IEEE Technical Achievement Award (Forsyth), and Packard Fellowship (Warnow). In the last few years, AI group members received a number of best paper awards, including: IEEE Signal Processing Society Best Paper Award (Smaragdis, 2018 and 2020), IEEE MLSP Best Paper Award (Smaragdis, 2017), Best Demo Paper Award at the 58th Annual Meeting of the Association for Computational Linguistics (Ji, 2020). Group Research AI group research has led to a number of startups. Derek Hoiem is co-founder and Chief Science Officer of Reconstruct, which visually documents construction sites, matching images to plans and analyzing productivity and risk for delay. Girish Chowdhary is co-founder and CTO of EarthSense, a startup creating machine learning and robotics solutions for agriculture, whose work was featured in a 2020 New York Times article. David Forsyth advises a number of startups focusing on augmented reality and image synthesis, including Lightform, Revery, and Depix. AI faculty are playing key roles in two $20 million AI institutes recently funded by the National Science Foundation and the U.S. Department of Agriculture’s National Institute of Food and Agriculture. The AI Institute for Future Agricultural Resilience, Management, and Sustainability (AIFARMS), led by Vikram Adve from CS, features Romit Chowdhary as Associate Director of Research, with other investigators including Alexander Schwing, Katherine Driggs-Campbell, Indranil Gupta, Kris Hauser, Julia Hockenmaier, Heng Ji, Sanmi Koyejo, and Paris Smaragdis. The AI Institute for Molecular Discovery, Synthetic Strategy, and Manufacturing, led by Huimin Zhao from Chemical Engineering, involves Heng Ji and Jian Peng as investigators. Robot Motion and Task Planning, Multi-Agent Systems, Crowd Simulation Machine Learning Methods for Imaging Science, Image Reconstruction, Deep Learning for Inverse Problems Machine Learning, Learning Theory, Optimization, Generative Models, Sequential Decision Making, Physics-Guided Machine Learning, Differential Privacy Motion Planning and Control Machine Learning, Natural Language Processing, AI Applications, Data Management Support for AI Control, Autonomy and Decision Making, Vision and LIDAR Based Perception, GPS Denied Navigation Computational Statistics, Reproducible Research, Statistics Education, Machine Learning Graphs, Information Theory, Algorithms, Machine Learning Social Network Analysis, Natural Language Processing, Machine Learning Signal Processing, Computational Imaging, Machine Perception, Data Science Autonomous Vehicles, Validating Autonomous Systems, Interactive Control Policies for Intelligent Systems in Multi-Agent Settings Computational Linguistics Computer Vision, Object Recognition, Scene Understanding Computer Vision Analytics for Building and Construction Performance Monitoring Computer Vision, Machine Learning, Motion Analysis, Robotics Computer Vision, Robotics, Machine Learning Conversational AI and Natural Language Processing Machine Learning, Natural Language-Based Text Analysis, Text Summarization Statistical Speech Technology Motion Planning, Optimal Control, Integrated Planning and Learning, Robot Systems Natural Language Processing, Computational Linguistics Computer Vision, Object Recognition, Spatial Understanding, Scene Interpretation Probabilistic Graphical Models; Deep Learning; Data Science; Health Analytics; Safety, Reliablity and Security of Autonomous Systems; Reinforcement Learning ML4Code, ML interpretability, testing, and debugging Natural Language Processing, especially on Information Extraction and Knowledge-driven Natural Language Generation, Text Mining, Knowledge Graph Construction for Scientific Discovery Reinforcement Learning, Machine Learning, Sample Complexity Analyses Analytics with Machine Learning, Databases with Machine Learning, Machine Learning Security, Machine Learning + Cryptography HCI for ML, AI Explainability Cyberinfrastructure for Machine Learning, Machine Learning Systems Research, Deep Learning Applications Systems for Machine Learning, Machine Learning for Systems Computer Vision, Scene Understanding, Visual Learning, Vision and Language Adversarial Machine Learning, Robust Learning Artificial Intelligence Cyberinfrastructure for Digital Preservation, Auto-Curation, and Managing Unstructured Digital Collections Motion Planning and Control, Autonomous Robots Machine Learning and Optimization Computer Vision, Ego4D, VR/AR, Mobile Health, Health AI, Machine Learning, Developmental Machine Learning, Behavioral Imaging Field Robotics, Autonomous Systems Engineering, Machine Perception, Computer Vision Machine Translation, Computational Morphology & Syntax Machine Learning, Computer Vision Certified Artificial Intelligence, Adversarial Robustness, Neural Network Verification, Safe Deep Learning Machine Learning for Audio, Speech and Music; Signal Processing; Source Separation; Sound Recognition and Classification Deep Learning for Drug Discovery, Clinical Trial Optimization, Computational Phenotyping, Clinical Predictive Modeling, Mobile Health and Health Monitoring, Tensor Factorization, and Graph Mining Deep Learning Theory Explainable AI, Fairness in AI, Adversarial Maching Learning Conversational AI Computer Vision, Robotics Computer Vision, Machine Learning, Meta-Learning, Robotics Machine Learning in Computational Genomics, Ensemble Methods, Statistical Estimation Machine Learning Theory and Applications, Optimization, Reinforcement Learning, Robustness, Generative AI, Large Language Models Machine Learning, Representation Learning, Algorithmic Fairness, Probabilistic Models Machine Learning, Automatic Reasoning Machine Learning, Neuroimaging, Biomedical Imaging Machine Learning, Natural Language Processing, Knowledge Representation, Reasoning AICE Celebrates Inaugural Event CS Professor Wang on NSF-funded team developing safe learning architecture for autonomous systems Record Number of Nearly 60 Faculty Join Grainger Engineering CS Affiliate professor Huang part of OpenAI-funded project to represent underserved groups in AI development Load more news\"\n",
      "\n",
      "Here is passage number 2: \"Apply to UIUC Make a Gift Undergraduates at Illinois Computer Science are an important part of our world-renowned research. From summer programs to paid research positions with faculty, there are multiple ways for our students to contribute to high impact research early in their careers. No events found SE 290 - Jeffrey Mikulina 151 Loomis Mathematical and Theoretical Physics Seminar: Generalized Black Hole Entropy is Von Neumann Entropy Gautam Satischandran, Princeton University Loomis Room 464 Hard Materials Seminar - \"FC-STEM Analysis-Based K-Means Clustering\" Hanyu Hou (Zuo) 100 Materials Science and Engineering Building, 1304 W. Green Street Hard Materials Seminar - \"Advancing Glow Plug Materials: Enhancing Silicon Nitride Oxidation Resistance with Ca2+ Stabilizer\" Prapassorn (Gloy) Numkiatsakul (Kriven) PhD Final Defense – Minsoo Sung Newmark Conference Room #3350 High Energy Phenomenology Seminar - Anne Fortman (Berkeley) - \"Searching for massive new particles using ionization energy loss and time-of-flight at ATLAS\" Anne Fortman Room 464\"\n",
      "\n",
      "Here is passage number 3: \"Apply to UIUC Make a Gift The University of Illinois boasts one of the largest computer science departments in the nation. With a top-tier student body and a broad faculty base, our students have opportunities to explore the full depth and breadth of the computing challenges that lie ahead. Illinois Computer Science students are the next generation of entrepreneurs, researchers, scholars, academicians, and business and industry giants. A hands-on education at Illinois means our students learn from the best in the classroom and in the laboratory, preparing them for leadership positions in the academy and industry. Odds are, one or more of your company's senior leaders is an Illinois alumnus. CS alumni play a pivotal role in nearly every high-tech company in this country and around the world. There are many engagement opportunities to explore—you can recruit at the Campus-level, from The Grainger College of Engineering, or directly from Illinois Computer Science—and we can help you create a custom recruiting strategy for your company. The Career Center at Illinois offers opportunities to reach students from a wide variety of majors or for positons that do not require a specific major. They can also assist in connecting recruiters with unit-specific career services. Visit Career Center Website Engineering Career Services (ECS) offers a wide range of services and programs to assist you with your recruiting needs and in accessing the more than 10,000 undergraduate and graduate students from top-ranked programs within the College. Companies can post to the Handshake online job board for free. And job-seeking Engineering at Illinois alumni also have access to post resumes on Handshake. Visit ECS Website For companies who are looking to recruit exclusively CS and ECE students, please explore our Corporate Connection Affiliates Program or start with some of our Ad Hoc Events opportunities. The Corporate Connection provides a main point of entry for partnering with Illinois Computer Science and Electrical & Computer Engineering. Your company should join the Corporate Connection if it: Even if The Corporate Connection is not a fit for you, we can still work with you to get your messaging to our students and the CS community. Some examples of popular events to host at the Siebel Center for Computer Science are: Contact Us For more information on recruiting with Illinois Computer Science, please email external-relations@cs.illinois.edu. Get In Touch The CS Student Organizations have many opportunities for companies to engage. We encourage you to learn about them, connect with them directly, or CS can advise you on what student organizations might be the best fit for your company. Meet the CS Student Clubs Learn how your company can sponsor a CS 492/4 Senior Design project, which gives company representatives the opportunity to pitch their projects to all the enrolled students at the start of the fall semester. After reviewing student resumes, company reps can help select students for their project. Learn More Illinois Computer Science has a global reputation for developing revolutionary technology--where groundbreaking research addresses real-world problems. The demand for computer science research, education, and application has exploded because computing underpins just about every aspect of modern life. The arts, science, business, medicine, and engineering all benefit from the computational power, modeling, and thinking found in computer science. Our faculty and students are bringing their expertise to bear on many of society's most challenging problems. Explore our Research Areas Our collaborative culture allows industry partners to learn from and work with some of the best CS faculty in the world. Our internationally recognized faculty include numerous ACM Fellows, IEEE Fellows, Sloan Research Fellows, and NSF CAREER Award winners. And our faculty generate well over $30 million in research expenditures every year. The Thomas M. Siebel Center for Computer Science has some of the best classrooms, research and instructional labs, and informal meeting spaces on the Illinois campus. CS Rankings & Statistics Innovation is our business. Partner with us to make it yours. For more information on recruiting or research collaborations, email external-relations@cs.illinois.edu. Amato Joins University Leaders to Officially Launch New MCS in Chicago Program HackIllinois Celebrates a Milestone Anniversary with its Trademark Energy, Enthusiasm Back In Person, After Hours Event Provides Genuine Connection Between Students and Employers A Summer's Worth of Research: Spending 8 Weeks as Jump ARCHES Interns Load more news\"\n",
      "\n",
      "\n",
      "Output: The University of Illinois has a world-renowned computer science department that offers various research opportunities for undergraduate students [Passage 2]. Additionally, the university boasts one of the largest computer science departments in the nation, providing students with a broad range of academic and research experiences [Passage 3]. The department has a strong reputation for revolutionary technology and groundbreaking research, addressing real-world problems in various fields, including medicine, engineering, business, and science [Passage 3]. The computer science department offers various research collaborations and recruitment opportunities for companies, including the Corporate Connection program, which provides a main point of entry for partnering with the department [Passage 3]. Companies can also sponsor senior design projects, which give company representatives the opportunity to pitch their projects to all enrolled students at the start of the fall semester [Passage 3]. Furthermore, the department has a global reputation for developing innovative technology, and its faculty and students are bringing their expertise to bear on many of society's most challenging problems [Passage 3]. Overall, the University of Illinois's computer science department is a great place for companies to find talented and highly educated individuals for recruitment and research collaborations. With its strong reputation, cutting-edge research, and various opportunities for student involvement, the department offers a unique and valuable experience for both companies and students [Passage 3].\n",
      "\n",
      "The overall task from the input to output is to summarize and provide citations to the original passages. Please generate 3 possible instructions and display them as a list. In the output, surround each instruction with square brackets. For example: \n",
      "Instruction 1: [this is the first instruction]\n",
      "Instruction 2: [this is the second instruction]\n",
      "..and so on\n"
     ]
    }
   ],
   "source": [
    "n = 3\n",
    "demo = demos_template.replace('[INPUT]', input).replace('[OUTPUT]', output)\n",
    "prompt = prompt_gen_template.replace('[full_DEMO]', demo)\n",
    "prompt += f\"\"\"The overall task from the input to output is to summarize and provide citations to the original passages. Please generate {n} possible instructions and display them as a list. In the output, surround each instruction with square brackets. For example: \n",
    "Instruction 1: [this is the first instruction]\n",
    "Instruction 2: [this is the second instruction]\n",
    "..and so on\"\"\"\n",
    "print(prompt)"
   ]
  },
  {
   "cell_type": "code",
   "execution_count": 105,
   "id": "93e68fd6-0b25-44d8-b7ae-23199286d4b6",
   "metadata": {},
   "outputs": [
    {
     "name": "stdout",
     "output_type": "stream",
     "text": [
      "Sure! Here are three possible instructions based on the input passages:\n",
      "\n",
      "Instruction 1: [Summarize the key points of the passage, highlighting the university's strong reputation in computer science and the various research and recruitment\n"
     ]
    }
   ],
   "source": [
    "out = prompt_llama2(prompt)\n",
    "print(out)"
   ]
  },
  {
   "cell_type": "code",
   "execution_count": null,
   "id": "bc9abdf2-3d14-44ce-91c5-448b9ecce035",
   "metadata": {},
   "outputs": [],
   "source": []
  }
 ],
 "metadata": {
  "kernelspec": {
   "display_name": "Python 3 (ipykernel)",
   "language": "python",
   "name": "python3"
  },
  "language_info": {
   "codemirror_mode": {
    "name": "ipython",
    "version": 3
   },
   "file_extension": ".py",
   "mimetype": "text/x-python",
   "name": "python",
   "nbconvert_exporter": "python",
   "pygments_lexer": "ipython3",
   "version": "3.8.18"
  }
 },
 "nbformat": 4,
 "nbformat_minor": 5
}
