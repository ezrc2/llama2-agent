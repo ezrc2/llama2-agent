{
 "cells": [
  {
   "cell_type": "code",
   "execution_count": 45,
   "id": "0bb20de1-f827-4a89-8e56-88955131f073",
   "metadata": {},
   "outputs": [],
   "source": [
    "from transformers import AutoTokenizer\n",
    "import transformers\n",
    "import torch\n",
    "import utils\n",
    "\n",
    "torch.cuda.empty_cache()"
   ]
  },
  {
   "cell_type": "code",
   "execution_count": 2,
   "id": "28aaf8d2-5d17-4a78-865a-3d2a73ef00e0",
   "metadata": {},
   "outputs": [
    {
     "name": "stderr",
     "output_type": "stream",
     "text": [
      "Nov 08 13:51:24.822 [\u001b[1m\u001b[34mINFO\u001b[0m] We will use 90% of the memory on device 0 for storing the model, and 10% for the buffer to avoid OOM. You can set `max_memory` in to a higher value to use more memory (at your own risk).\n"
     ]
    },
    {
     "data": {
      "application/vnd.jupyter.widget-view+json": {
       "model_id": "523c3fb6c0af4de38881a3522582dc4a",
       "version_major": 2,
       "version_minor": 0
      },
      "text/plain": [
       "Loading checkpoint shards:   0%|          | 0/3 [00:00<?, ?it/s]"
      ]
     },
     "metadata": {},
     "output_type": "display_data"
    }
   ],
   "source": [
    "model = \"meta-llama/Llama-2-13b-chat-hf\"\n",
    "tokenizer = AutoTokenizer.from_pretrained(model)\n",
    "#tokenizer.pad_token_id = tokenizer.eos_token_id\n",
    "pipeline = transformers.pipeline(\n",
    "    \"text-generation\",\n",
    "    model=model,\n",
    "    torch_dtype=torch.float16,\n",
    "    device_map=\"auto\",\n",
    ")"
   ]
  },
  {
   "cell_type": "code",
   "execution_count": 3,
   "id": "a3f0f6f8-1d14-4c96-a025-b5d552b8a371",
   "metadata": {},
   "outputs": [],
   "source": [
    "def prompt_llama2(prompt):\n",
    "    prompt_template=f'''[INST] <<SYS>>\n",
    "    You are a helpful, respectful and honest assistant. Always answer as helpfully as possible, while being safe.  Your answers should not include any harmful, unethical, racist, sexist, toxic, dangerous, or illegal content. Please ensure that your responses are socially unbiased and positive in nature. If a question does not make any sense, or is not factually coherent, explain why instead of answering something not correct. If you don't know the answer to a question, please don't share false information.\n",
    "    <</SYS>> {prompt} [/INST]'''\n",
    "    \n",
    "    sequences = pipeline(\n",
    "        prompt_template,\n",
    "        do_sample=True,\n",
    "        num_return_sequences=1,\n",
    "        eos_token_id=tokenizer.eos_token_id,\n",
    "        #max_length=2048,\n",
    "        temperature=0.7,\n",
    "        top_p=0.95,\n",
    "        top_k=40,\n",
    "        repetition_penalty=1.1,\n",
    "    )\n",
    "    result = sequences[0]['generated_text']\n",
    "    return result.split('[/INST]')[1].strip()\n",
    "\n",
    "def count_tokens(prompt):\n",
    "    tokens = tokenizer.tokenize(prompt)\n",
    "    return len(tokens)\n",
    "\n",
    "def shorten_tokens(prompt):\n",
    "    tokens = tokenizer.tokenize(prompt)\n",
    "    tokens = tokens[:4000]\n",
    "    return tokenizer.convert_tokens_to_string(tokens)"
   ]
  },
  {
   "cell_type": "markdown",
   "id": "ac2bb479-fe11-4caf-9371-7151c54dcdd1",
   "metadata": {},
   "source": [
    "#### Get paragraphs for testing"
   ]
  },
  {
   "cell_type": "code",
   "execution_count": 32,
   "id": "b3bfc10d-e400-49c5-b057-b533c2872ae7",
   "metadata": {},
   "outputs": [],
   "source": [
    "urls = ['https://cs.illinois.edu/research/areas/artificial-intelligence',\n",
    "        'https://cs.illinois.edu/research/undergraduate-research',\n",
    "        'https://cs.illinois.edu/corporate#research']\n",
    "from trafilatura import fetch_url, extract\n",
    "paragraphs_dict = {}\n",
    "paragraphs_dict_trafilatura = {}\n",
    "for i in range(len(urls)):\n",
    "    #p = utils.extract_paragraphs(urls[i])\n",
    "    #p = utils.extract_paragraphs_trafilatura(urls[i])\n",
    "    p = utils.extract_paragraphs_lists(urls[i])\n",
    "    paragraphs_dict[i] = p\n",
    "    p = extract(fetch_url(urls[i]), favor_precision=True, deduplicate=True)\n",
    "    paragraphs_dict_trafilatura[i] = p"
   ]
  },
  {
   "cell_type": "markdown",
   "id": "95505df9-a5b4-4c18-b999-de44135804e3",
   "metadata": {},
   "source": [
    "### Main Content Extraction"
   ]
  },
  {
   "cell_type": "code",
   "execution_count": 87,
   "id": "def17992-7d17-4a2a-9482-121c1a4edef6",
   "metadata": {},
   "outputs": [
    {
     "name": "stdout",
     "output_type": "stream",
     "text": [
      "Here is a webpage url: \"https://cs.illinois.edu/research/areas/artificial-intelligence\"\n",
      "\n",
      "Can you extract the main text content from this webpage? Remove unnecessary information from the text, such as addresses, emails, an dates.\n",
      "Try to retain as much of the original passage, and return in paragraph form.\n",
      "\n"
     ]
    }
   ],
   "source": [
    "# test\n",
    "prompt = f'Here is a webpage url: \"{urls[0]}\"\\n\\n'\n",
    "prompt += \"\"\"Can you extract the main text content from this webpage? Remove unnecessary information from the text, such as addresses, emails, an dates.\n",
    "Try to retain as much of the original passage, and return in paragraph form.\n",
    "\"\"\"\n",
    "print(prompt)"
   ]
  },
  {
   "cell_type": "code",
   "execution_count": 82,
   "id": "1741cb79-deb4-42e5-b2c5-0028deb4ceca",
   "metadata": {},
   "outputs": [
    {
     "name": "stdout",
     "output_type": "stream",
     "text": [
      "Of course! I can do that for you. Here is the main content of the webpage you provided:\n",
      "\n",
      "Artificial Intelligence (AI) is revolutionizing numerous fields such as healthcare, transportation, education, and entertainment. The field of AI has made significant progress in recent years due to advances in machine learning, natural language processing, computer vision, and robotics.\n",
      "\n",
      "At the University of Illinois at Urbana-Champaign, we are committed to advancing the frontiers of AI research and applying it to real-world problems. Our faculty members have expertise in various areas of AI, including machine learning, computer vision, natural language processing, and human-computer interaction. We are actively engaged in interdisciplinary collaborations with other departments and institutes on campus, such as the Coordinated Science Laboratory, the Department of Computer Science, and the National Center for Supercomputing Applications.\n",
      "\n",
      "Our research focuses on developing new algorithms, techniques, and systems that can learn from data, reason about uncertainty, and interact with humans in natural ways. Some of our current research projects include developing machine learning algorithms for medical diagnosis, designing intelligent systems for smart cities, and creating virtual assistants for improving human productivity.\n",
      "\n",
      "We also offer undergraduate and graduate degree programs in Artificial Intelligence, which provide students with a solid foundation in the principles and practices of AI, as well as hands-on experience in building AI systems. Our students have gone on to become leaders in industry, academia, and government, and have made significant contributions to the field of AI.\n",
      "\n",
      "Overall, our goal is to advance the state of the art in AI, and to apply AI to solve some of the world's most pressing challenges. We invite you to explore our website to learn more about our research, educational programs, and opportunities for collaboration.\n"
     ]
    }
   ],
   "source": [
    "out = prompt_llama2(prompt)\n",
    "print(out)"
   ]
  },
  {
   "cell_type": "markdown",
   "id": "85419af0-ca95-4003-8d9b-74154f272c87",
   "metadata": {},
   "source": [
    "#### With the paragraphs+list scraping method"
   ]
  },
  {
   "cell_type": "code",
   "execution_count": 88,
   "id": "12629861-cd0a-409c-90ed-831d20c723ac",
   "metadata": {},
   "outputs": [
    {
     "name": "stdout",
     "output_type": "stream",
     "text": [
      "Here is a passage: \"The study of systems that behave intelligently, artificial intelligence includes several key areas where our faculty are recognized leaders: computer vision, machine listening, natural language processing, machine learning and robotics.Computer vision systems can understand images and video, for example, building extensive geometric and physical models of cities from video, or warning construction workers about nearby dangers. Natural language processing systems understand written and spoken language; possibilities include automatic translation of text from one language to another, or understanding text on Wikipedia to produce knowledge about the world. Machine listening systems understand audio signals, with applications like speech recognition, acoustic monitoring, or transcribing polyphonic music automatically. Crucial to modern artificial intelligence, machine learning methods exploit examples in order to adjust systems to work as effectively as possible. Robotics puts artificial intelligence into practice using machines that perceive and interact with the physical world.The AI group at Illinois is strong, diverse, and growing. It combines expertise in core strengths with promising new research directions.In machine learning, AI group faculty are studying theoretical foundations of deep and reinforcement learning; developing novel models and algorithms for deep neural networks, federated and distributed learning; as well as investigating issues related to scalability, security, privacy, and fairness of learning systems. Computer vision faculty are developing novel approaches for 2D and 3D scene understanding from still images and video; joint understanding of images and language; low-shot learning (recognition of rare or previously unseen categories); transfer learning and domain adaptation (adapting pre-trained systems to a changing data distribution); and image generation and editing approaches based on generative neural networks. Natural language processing faculty are working on topics such as grounded language understanding, information extraction and text mining, and knowledge-driven natural language generation for applications such as scientific discovery. Machine listening faculty are working on sound and speech understanding, source separation, and enhancement, as well as applications in music and computing. Robotics faculty are developing novel planning algorithms for grasping, locomotion, and navigation; investigating multi-robot systems; as well as pursuing high-impact applications of robotics to medicine, agriculture, home care, and autonomous driving.The excellence and impact of the AI group’s research has been recognized by a number of awards, including NSF CAREER (Amato, Hauser, Hockenmaier, Hoiem, Ji, Koyejo, Lazebnik, Smaragdis, Telgarsky), Sloan Research Fellowship (Hoiem, Koyejo, Lazebnik), Microsoft Research Faculty Fellowship (Lazebnik), AFOSR Young Investigator (Chowdhary), IEEE PAMI Significant Young Researcher Award (Hoiem), MIT TR-35 (Li, Smaragdis), Intel Rising Star Award (Li), “Young Scientist” selected by World Economic Forum (Ji), “AI’s Top 10 to Watch” Award by IEEE Intelligent Systems (Ji), ACM Fellow (Amato, Forsyth, Warnow), IEEE Fellow (Amato, Forsyth, Lazebnik, Smaragdis), IEEE Technical Achievement Award (Forsyth), and Packard Fellowship (Warnow).In the last few years, AI group members received a number of best paper awards, including: IEEE Signal Processing Society Best Paper Award (Smaragdis, 2018 and 2020), IEEE MLSP Best Paper Award (Smaragdis, 2017), Best Demo Paper Award at the 58th Annual Meeting of the Association for Computational Linguistics (Ji, 2020).AI group research has led to a number of startups. Derek Hoiem is co-founder and Chief Science Officer of Reconstruct, which visually documents construction sites, matching images to plans and analyzing productivity and risk for delay. Girish Chowdhary  is co-founder and CTO of EarthSense, a startup creating machine learning and robotics solutions for agriculture, whose work was featured in a 2020 New York Times article. David Forsyth advises a number of startups focusing on augmented reality and image synthesis, including Lightform, Revery, and Depix.AI faculty are playing key roles in two $20 million AI institutes recently funded by the National Science Foundation and the U.S. Department of Agriculture’s National Institute of Food and Agriculture. The AI Institute for Future Agricultural Resilience, Management, and Sustainability (AIFARMS), led by Vikram Adve from CS, features Romit Chowdhary as Associate Director of Research, with other investigators including Alexander Schwing, Katherine Driggs-Campbell, Indranil Gupta, Kris Hauser, Julia Hockenmaier, Heng Ji, Sanmi Koyejo, and Paris Smaragdis. The AI Institute for Molecular Discovery, Synthetic Strategy, and Manufacturing, led by Huimin Zhao from Chemical Engineering, involves Heng Ji and Jian Peng as investigators.Thomas M. Siebel Center for Computer ScienceMy.CSYour path begins here.Your path begins here.B.S. in Computer ScienceB.S. in Mathematics & Computer ScienceB.S. in Statistics & Computer ScienceGuidelines for Forming Ph.D. CommitteePh.D. / M.S. Thesis Format Review GuidelinesB.S. in Computer ScienceB.S. in Mathematics & Computer ScienceB.S. in Statistics & Computer ScienceB.S. in Computer ScienceB.S. in Mathematics & Computer ScienceB.S. in Statistics & Computer ScienceB.S. in Computer ScienceB.S. in Mathematics & Computer ScienceB.S. in Statistics & Computer ScienceGuidelines for Forming Ph.D. CommitteePh.D. / M.S. Thesis Format Review GuidelinesGuidelines for Forming Ph.D. CommitteePh.D. / M.S. Thesis Format Review GuidelinesGuidelines for Forming Ph.D. CommitteePh.D. / M.S. Thesis Format Review GuidelinesDonald B. Gillies Memorial LectureDonald B. Gillies Memorial LectureDonald B. Gillies Memorial LectureHelp ensure that Illinois continues to set a global standard for CS research and education.B.S. in Computer ScienceB.S. in Mathematics & Computer ScienceB.S. in Statistics & Computer ScienceB.S. in Computer ScienceB.S. in Mathematics & Computer ScienceB.S. in Statistics & Computer ScienceB.S. in Computer ScienceB.S. in Mathematics & Computer ScienceB.S. in Statistics & Computer ScienceB.S. in Computer ScienceB.S. in Mathematics & Computer ScienceB.S. in Statistics & Computer ScienceB.S. in Computer ScienceB.S. in Mathematics & Computer ScienceB.S. in Statistics & Computer ScienceB.S. in Computer ScienceB.S. in Mathematics & Computer ScienceB.S. in Statistics & Computer ScienceGuidelines for Forming Ph.D. CommitteePh.D. / M.S. Thesis Format Review GuidelinesGuidelines for Forming Ph.D. CommitteePh.D. / M.S. Thesis Format Review GuidelinesGuidelines for Forming Ph.D. CommitteePh.D. / M.S. Thesis Format Review GuidelinesGuidelines for Forming Ph.D. CommitteePh.D. / M.S. Thesis Format Review GuidelinesGuidelines for Forming Ph.D. CommitteePh.D. / M.S. Thesis Format Review GuidelinesGuidelines for Forming Ph.D. CommitteePh.D. / M.S. Thesis Format Review GuidelinesDonald B. Gillies Memorial LectureDonald B. Gillies Memorial LectureDonald B. Gillies Memorial Lecture: brings prominent leaders and experts to campus to share their ideas and promote conversations about important challenges and topics in the discipline.head@cs.illinois.eduacademic@cs.illinois.eduundergrad@cs.illinois.edugrainger-marcom@illinois.edu\"\n",
      "\n",
      "\n",
      "Remove unnecessary information from this passage, such as addresses, emails, an dates.\n",
      "Try to retain as much of the original passage, and return in paragraph form.\n",
      "\n"
     ]
    }
   ],
   "source": [
    "prompt = ''\n",
    "s = ''.join(paragraphs_dict[0]).replace('  ', ' ')\n",
    "prompt += f'Here is a passage: \"{s}\"\\n\\n'\n",
    "prompt += \"\"\"\n",
    "Remove unnecessary information from this passage, such as addresses, emails, an dates.\n",
    "Try to retain as much of the original passage, and return in paragraph form.\n",
    "\"\"\"\n",
    "print(prompt)"
   ]
  },
  {
   "cell_type": "code",
   "execution_count": 58,
   "id": "28b80326-ba9c-433c-95da-3348736423e8",
   "metadata": {},
   "outputs": [
    {
     "name": "stdout",
     "output_type": "stream",
     "text": [
      "Sure! Here is the revised version of the provided passage after removing unnecessary information:\n",
      "\n",
      "The study of systems that behave intelligently, artificial intelligence includes several key areas where our faculty are recognized leaders: computer vision, machine listening, natural language processing, machine learning, and robotics. Computer vision systems can understand images and videos, build extensive geometric and physical models of cities from video, or warn construction workers about nearby dangers. Natural language processing systems understand written and spoken language, and possibilities include automatic translation of text from one language to another or understanding text on Wikipedia to produce knowledge about the world. Machine listening systems understand audio signals, with applications like speech recognition, acoustic monitoring, or transcribing polyphonic music automatically. \n",
      "\n",
      "Crucial to modern artificial intelligence, machine learning methods exploit examples to adjust systems effectively. Robotics puts artificial intelligence into practice using machines that perceive and interact with the physical world. The AI group at Illinois is strong, diverse, and growing, combining expertise in core strengths with promising new research directions. In machine learning, AI group faculty are studying theoretical foundations of deep and reinforcement learning, developing novel models and algorithms for deep neural networks, federated and distributed learning, and investigating issues related to scalability, security, privacy, and fairness of learning systems.\n",
      "\n",
      "In computer vision, faculty are developing novel approaches for 2D and 3D scene understanding from still images and videos, joint understanding of images and language, low-shot learning, recognition of rare or previously unseen categories, transfer learning and domain adaptation, and image generation and editing approaches based on generative neural networks. In natural language processing, faculty are working on topics such as grounded language understanding, information extraction and text mining, and knowledge-driven natural language generation for applications such as scientific discovery. In machine listening, faculty are working on sound and speech understanding, source separation, and enhancement, as well as applications in music and computing. In robotics, faculty are developing novel planning algorithms for grasping, locomotion, and navigation and pursuing high-impact applications of robotics to medicine, agriculture, home care, and autonomous driving.\n"
     ]
    }
   ],
   "source": [
    "out = prompt_llama2(prompt)\n",
    "print(out)"
   ]
  },
  {
   "cell_type": "code",
   "execution_count": 59,
   "id": "641b02c1-aa89-45c0-b94f-6fa640b7c902",
   "metadata": {},
   "outputs": [
    {
     "name": "stdout",
     "output_type": "stream",
     "text": [
      "0 done\n",
      "1 done\n",
      "2 done\n"
     ]
    }
   ],
   "source": [
    "outputs_pl = []\n",
    "for i in range(len(urls)):\n",
    "    prompt = ''\n",
    "    s = ''.join(paragraphs_dict[i]).replace('  ', ' ')\n",
    "    prompt += f'Here is a passage: \"{s}\"\\n\\n'\n",
    "    prompt += \"\"\"\n",
    "    Remove unnecessary information from this passage, such as addresses, emails, an dates.\n",
    "    Try to retain as much of the original passage, and return in paragraph form.\n",
    "    \"\"\"\n",
    "    out = prompt_llama2(prompt)\n",
    "    outputs_pl.append(out)\n",
    "    print(f\"{i} done\")"
   ]
  },
  {
   "cell_type": "code",
   "execution_count": 60,
   "id": "6675a062-d7aa-4cda-84a0-ea9019c6aa54",
   "metadata": {},
   "outputs": [
    {
     "name": "stdout",
     "output_type": "stream",
     "text": [
      "Original passage:\n",
      "==============================\n",
      "The study of systems that behave intelligently, artificial intelligence includes several key areas where our faculty are recognized leaders: computer vision, machine listening, natural language processing, machine learning and robotics.Computer vision systems can understand images and video, for example, building extensive geometric and physical models of cities from video, or warning construction workers about nearby dangers. Natural language processing systems understand written and spoken language; possibilities include automatic translation of text from one language to another, or understanding text on Wikipedia to produce knowledge about the world. Machine listening systems understand audio signals, with applications like speech recognition, acoustic monitoring, or transcribing polyphonic music automatically. Crucial to modern artificial intelligence, machine learning methods exploit examples in order to adjust systems to work as effectively as possible. Robotics puts artificial intelligence into practice using machines that perceive and interact with the physical world.The AI group at Illinois is strong, diverse, and growing. It combines expertise in core strengths with promising new research directions.In machine learning, AI group faculty are studying theoretical foundations of deep and reinforcement learning; developing novel models and algorithms for deep neural networks, federated and distributed learning; as well as investigating issues related to scalability, security, privacy, and fairness of learning systems. Computer vision faculty are developing novel approaches for 2D and 3D scene understanding from still images and video; joint understanding of images and language; low-shot learning (recognition of rare or previously unseen categories); transfer learning and domain adaptation (adapting pre-trained systems to a changing data distribution); and image generation and editing approaches based on generative neural networks. Natural language processing faculty are working on topics such as grounded language understanding, information extraction and text mining, and knowledge-driven natural language generation for applications such as scientific discovery. Machine listening faculty are working on sound and speech understanding, source separation, and enhancement, as well as applications in music and computing. Robotics faculty are developing novel planning algorithms for grasping, locomotion, and navigation; investigating multi-robot systems; as well as pursuing high-impact applications of robotics to medicine, agriculture, home care, and autonomous driving.The excellence and impact of the AI group’s research has been recognized by a number of awards, including NSF CAREER (Amato, Hauser, Hockenmaier, Hoiem, Ji, Koyejo, Lazebnik, Smaragdis, Telgarsky), Sloan Research Fellowship (Hoiem, Koyejo, Lazebnik), Microsoft Research Faculty Fellowship (Lazebnik), AFOSR Young Investigator (Chowdhary), IEEE PAMI Significant Young Researcher Award (Hoiem), MIT TR-35 (Li, Smaragdis), Intel Rising Star Award (Li), “Young Scientist” selected by World Economic Forum (Ji), “AI’s Top 10 to Watch” Award by IEEE Intelligent Systems (Ji), ACM Fellow (Amato, Forsyth, Warnow), IEEE Fellow (Amato, Forsyth, Lazebnik, Smaragdis), IEEE Technical Achievement Award (Forsyth), and Packard Fellowship (Warnow).In the last few years, AI group members received a number of best paper awards, including: IEEE Signal Processing Society Best Paper Award (Smaragdis, 2018 and 2020), IEEE MLSP Best Paper Award (Smaragdis, 2017), Best Demo Paper Award at the 58th Annual Meeting of the Association for Computational Linguistics (Ji, 2020).AI group research has led to a number of startups. Derek Hoiem is co-founder and Chief Science Officer of Reconstruct, which visually documents construction sites, matching images to plans and analyzing productivity and risk for delay. Girish Chowdhary  is co-founder and CTO of EarthSense, a startup creating machine learning and robotics solutions for agriculture, whose work was featured in a 2020 New York Times article. David Forsyth advises a number of startups focusing on augmented reality and image synthesis, including Lightform, Revery, and Depix.AI faculty are playing key roles in two $20 million AI institutes recently funded by the National Science Foundation and the U.S. Department of Agriculture’s National Institute of Food and Agriculture. The AI Institute for Future Agricultural Resilience, Management, and Sustainability (AIFARMS), led by Vikram Adve from CS, features Romit Chowdhary as Associate Director of Research, with other investigators including Alexander Schwing, Katherine Driggs-Campbell, Indranil Gupta, Kris Hauser, Julia Hockenmaier, Heng Ji, Sanmi Koyejo, and Paris Smaragdis. The AI Institute for Molecular Discovery, Synthetic Strategy, and Manufacturing, led by Huimin Zhao from Chemical Engineering, involves Heng Ji and Jian Peng as investigators.Thomas M. Siebel Center for Computer ScienceMy.CSYour path begins here.Your path begins here.B.S. in Computer ScienceB.S. in Mathematics & Computer ScienceB.S. in Statistics & Computer ScienceGuidelines for Forming Ph.D. CommitteePh.D. / M.S. Thesis Format Review GuidelinesB.S. in Computer ScienceB.S. in Mathematics & Computer ScienceB.S. in Statistics & Computer ScienceB.S. in Computer ScienceB.S. in Mathematics & Computer ScienceB.S. in Statistics & Computer ScienceB.S. in Computer ScienceB.S. in Mathematics & Computer ScienceB.S. in Statistics & Computer ScienceGuidelines for Forming Ph.D. CommitteePh.D. / M.S. Thesis Format Review GuidelinesGuidelines for Forming Ph.D. CommitteePh.D. / M.S. Thesis Format Review GuidelinesGuidelines for Forming Ph.D. CommitteePh.D. / M.S. Thesis Format Review GuidelinesDonald B. Gillies Memorial LectureDonald B. Gillies Memorial LectureDonald B. Gillies Memorial LectureHelp ensure that Illinois continues to set a global standard for CS research and education.B.S. in Computer ScienceB.S. in Mathematics & Computer ScienceB.S. in Statistics & Computer ScienceB.S. in Computer ScienceB.S. in Mathematics & Computer ScienceB.S. in Statistics & Computer ScienceB.S. in Computer ScienceB.S. in Mathematics & Computer ScienceB.S. in Statistics & Computer ScienceB.S. in Computer ScienceB.S. in Mathematics & Computer ScienceB.S. in Statistics & Computer ScienceB.S. in Computer ScienceB.S. in Mathematics & Computer ScienceB.S. in Statistics & Computer ScienceB.S. in Computer ScienceB.S. in Mathematics & Computer ScienceB.S. in Statistics & Computer ScienceGuidelines for Forming Ph.D. CommitteePh.D. / M.S. Thesis Format Review GuidelinesGuidelines for Forming Ph.D. CommitteePh.D. / M.S. Thesis Format Review GuidelinesGuidelines for Forming Ph.D. CommitteePh.D. / M.S. Thesis Format Review GuidelinesGuidelines for Forming Ph.D. CommitteePh.D. / M.S. Thesis Format Review GuidelinesGuidelines for Forming Ph.D. CommitteePh.D. / M.S. Thesis Format Review GuidelinesGuidelines for Forming Ph.D. CommitteePh.D. / M.S. Thesis Format Review GuidelinesDonald B. Gillies Memorial LectureDonald B. Gillies Memorial LectureDonald B. Gillies Memorial Lecture: brings prominent leaders and experts to campus to share their ideas and promote conversations about important challenges and topics in the discipline.head@cs.illinois.eduacademic@cs.illinois.eduundergrad@cs.illinois.edugrainger-marcom@illinois.edu\n",
      "==============================\n",
      "\n",
      "LLM extracted passage:\n",
      "==============================\n",
      "Sure! Here is the passage after removing unnecessary information:The study of systems that behave intelligently, artificial intelligence (AI) includes many key areas where our faculty are recognized leaders: computer vision, machine listening, natural language processing, machine learning, and robotics. Computer vision systems can understand images and videos, such as building extensive geometric and physical models of cities from video or warning construction workers about nearby dangers. Natural language processing systems understand written and spoken language, including automatic translation of text from one language to another or understanding text on Wikipedia to produce knowledge about the world. Machine listening systems understand audio signals, such as speech recognition, acoustic monitoring, or transcribing polyphonic music automatically. Crucial to modern artificial intelligence, machine learning methods exploit examples to adjust systems to work as effectively as possible. Robotics puts artificial intelligence into practice using machines that perceive and interact with the physical world.The AI group at Illinois is strong, diverse, and growing, combining expertise in core strengths with promising new research directions. In machine learning, AI group faculty are studying theoretical foundations of deep and reinforcement learning, developing novel models and algorithms for deep neural networks, federated, and distributed learning, as well as investigating issues related to scalability, security, privacy, and fairness of learning systems. Computer vision faculty are developing novel approaches for 2D and 3D scene understanding from still images and video, joint understanding of images and language, low-shot learning, transfer learning, and domain adaptation. Natural language processing faculty are working on topics such as grounded language understanding, information extraction and text mining, and knowledge-driven natural language generation. Machine listening faculty are working on sound and speech understanding, source separation, and enhancement, as well as applications in music and computing. Robotics faculty are developing novel planning algorithms for grasping, locomotion, and navigation, investigating multi-robot systems, and pursuing high-impact applications of robotics to medicine, agriculture, home care, and autonomous driving.\n",
      "==============================\n",
      "\n",
      "------------------------------------------------------------------------------------------------------------------------------------------------------\n",
      "Original passage:\n",
      "==============================\n",
      "Undergraduates at Illinois Computer Science are an important part of our world-renowned research. From summer programs to paid research positions with faculty, there are multiple ways for our students to contribute to high impact research early in their careers.https://illinois.zoom.us/j/83439167799?pwd=UXBpREVtOXJ0ZjIwdFFiMHhtWGdVQT09Thomas M. Siebel Center for Computer ScienceMy.CSYour path begins here.Your path begins here.B.S. in Computer ScienceB.S. in Mathematics & Computer ScienceB.S. in Statistics & Computer ScienceGuidelines for Forming Ph.D. CommitteePh.D. / M.S. Thesis Format Review GuidelinesB.S. in Computer ScienceB.S. in Mathematics & Computer ScienceB.S. in Statistics & Computer ScienceB.S. in Computer ScienceB.S. in Mathematics & Computer ScienceB.S. in Statistics & Computer ScienceB.S. in Computer ScienceB.S. in Mathematics & Computer ScienceB.S. in Statistics & Computer ScienceGuidelines for Forming Ph.D. CommitteePh.D. / M.S. Thesis Format Review GuidelinesGuidelines for Forming Ph.D. CommitteePh.D. / M.S. Thesis Format Review GuidelinesGuidelines for Forming Ph.D. CommitteePh.D. / M.S. Thesis Format Review GuidelinesDonald B. Gillies Memorial LectureDonald B. Gillies Memorial LectureDonald B. Gillies Memorial LectureHelp ensure that Illinois continues to set a global standard for CS research and education.B.S. in Computer ScienceB.S. in Mathematics & Computer ScienceB.S. in Statistics & Computer ScienceB.S. in Computer ScienceB.S. in Mathematics & Computer ScienceB.S. in Statistics & Computer ScienceB.S. in Computer ScienceB.S. in Mathematics & Computer ScienceB.S. in Statistics & Computer ScienceB.S. in Computer ScienceB.S. in Mathematics & Computer ScienceB.S. in Statistics & Computer ScienceB.S. in Computer ScienceB.S. in Mathematics & Computer ScienceB.S. in Statistics & Computer ScienceB.S. in Computer ScienceB.S. in Mathematics & Computer ScienceB.S. in Statistics & Computer ScienceGuidelines for Forming Ph.D. CommitteePh.D. / M.S. Thesis Format Review GuidelinesGuidelines for Forming Ph.D. CommitteePh.D. / M.S. Thesis Format Review GuidelinesGuidelines for Forming Ph.D. CommitteePh.D. / M.S. Thesis Format Review GuidelinesGuidelines for Forming Ph.D. CommitteePh.D. / M.S. Thesis Format Review GuidelinesGuidelines for Forming Ph.D. CommitteePh.D. / M.S. Thesis Format Review GuidelinesGuidelines for Forming Ph.D. CommitteePh.D. / M.S. Thesis Format Review GuidelinesDonald B. Gillies Memorial LectureDonald B. Gillies Memorial LectureDonald B. Gillies Memorial LectureResearch Opportunities for Und...Research Opportunities for Und...- A CS department program designed for University of Illinois undergraduate students who are interested in pursuing research while also serving as departmental leaders and community builders.- A college of engineering wide program. ISUR includes multiple components, from a research focused seminar to a number of paid undergraduate research programs. ISUR programs follow an apprenticeship model, where students work closely with faculty mentors. Some distinct programs supported by ISUR include:- An ISUR affiliated program to support women undergraduates in research and teaching in science, mathematics, and engineering. Eight scholars are selected and funded each year.- An IBM-ILLINOIS and ISUR partnership which funds undergraduate research on AI and cognitive computing, from theory to practical application. Students additionally worked with a C3SR faculty mentor.- An ISUR affiliated program to support women undergraduates in research and teaching in science, mathematics, and engineering. Eight scholars are selected and funded each year.- An IBM-ILLINOIS and ISUR partnership which funds undergraduate research on AI and cognitive computing, from theory to practical application. Students additionally worked with a C3SR faculty mentor.- An academic year long internship program where Illinois undergraduate students get to participate in high-impact work in the fields of supercomputing, visualization, data analytics, and other similar fields. Pay covers 5 hours a week toward exciting research opportunities.- An ISUR affiliated program to support women undergraduates in research and teaching in science, mathematics, and engineering. Eight scholars are selected and funded each year.- An IBM-ILLINOIS and ISUR partnership which funds undergraduate research on AI and cognitive computing, from theory to practical application. Students additionally worked with a C3SR faculty mentor.- Our department's employment opportunities include course assistant and undergraduate research positions.- Promoting Undergraduate Research in Engineering is a semester long , student-run research program where freshmen and sophomore students are connected with graduate student mentors to get an early jump-start in their research career.- An ISUR-affliated program which offers undergraduate women funding for a 10 week summer research program. The program uses a learning-by-apprenticeship model for high impact work in computer science, aerospace, engineering, physics, or astronomy.program - INCLUSION is a 10 week program for applicants from underrepresented communities to work in pairs with mentors on research aimed towards social impact. All work is based around open source software development.- In the SRP, students work on high impact research with university faculty while also attending professional development programming aimed at helping students become stronger researchers and strong candidates for graduate school.-  Undergraduate students in the program will work with faculty mentors and graduate students on topics related to the Mind in Vitro Expeditions in Computing Project.  Students will participate in Illinois summer research program activities including networking and social events, weekly lunch and learn seminars covering topics such as research skills, presentation skills, information about graduate school, including applications, career opportunities, etc.- A mentoring program for The Grainger College of Engineering. Undergraduates may apply to be mentored for a range of reasons, such as career development or research and thesis guidance.- A research fair hosted by the College of Engineering every semester. The goal of this fair is for researchers to share their work, labs and companies to recruit researchers, and continue to inspire future generations of excellent research at Illinois.- A campus wide research symposium for undergraduate researchers to present the results of their research endeavors and gain valuable experience presenting work to a wide audience. Typically held in the late Spring.head@cs.illinois.eduacademic@cs.illinois.eduundergrad@cs.illinois.edugrainger-marcom@illinois.edu\n",
      "==============================\n",
      "\n",
      "LLM extracted passage:\n",
      "==============================\n",
      "Sure! Here is the passage after removing unnecessary information:Undergraduates at Illinois Computer Science are an important part of our world-renowned research. From summer programs to paid research positions with faculty, there are multiple ways for our students to contribute to high-impact research early in their careers. These programs include:* ISUR (Inclusive and Supportive Undergraduate Research) - A CS department program designed for University of Illinois undergraduate students who are interested in pursuing research while also serving as departmental leaders and community builders.* IBM-ILLINOIS and ISUR Partnership - An program that funds undergraduate research on AI and cognitive computing, from theory to practical application.* Promoting Undergraduate Research in Engineering (PURE) - A semester-long, student-run research program where freshmen and sophomore students are connected with graduate student mentors to get an early jump-start in their research career.* INCLUSION - A 10-week program for applicants from underrepresented communities to work in pairs with mentors on research aimed towards social impact.* Summer Research Program (SRP) - A program where students work on high-impact research with university faculty while also attending professional development programming aimed at helping students become stronger researchers and strong candidates for graduate school.Overall, Illinois Computer Science offers various research opportunities for undergraduate students to contribute to impactful projects, develop their skills, and prepare for their future careers.\n",
      "==============================\n",
      "\n",
      "------------------------------------------------------------------------------------------------------------------------------------------------------\n",
      "Original passage:\n",
      "==============================\n",
      "The University of Illinois boasts one of the largest computer science departments in the nation. With a top-tier student body and a broad faculty base, our students have opportunities to explore the full depth and breadth of the computing challenges that lie ahead.Illinois Computer Science students are the next generation of entrepreneurs, researchers, scholars, academicians, and business and industry giants. A hands-on education at Illinois means our students learn from the best in the classroom and in the laboratory, preparing them for leadership positions in the academy and industry. Odds are, one or more of your company's senior leaders is an Illinois alumnus. CS alumni play a pivotal role in nearly every high-tech company in this country and around the world.There are many engagement opportunities to explore—you can recruit at the Campus-level, from The Grainger College of Engineering, or directly from Illinois Computer Science—and we can help you create a custom recruiting strategy for your company.The Career Center at Illinois offers opportunities to reach students from a wide variety of majors or for positons that do not require a specific major. They can also assist in connecting recruiters with unit-specific career services.Engineering Career Services (ECS) offers a wide range of services and programs to assist you with your recruiting needs and in accessing the more than 10,000 undergraduate and graduate students from top-ranked programs within the College. Companies can post to the\n",
      "Handshake\n",
      "online job board for free. And job-seeking Engineering at Illinois alumni also have access to post resumes on Handshake.For companies who are looking to recruit exclusively CS and ECE students, please explore our\n",
      "Corporate Connection\n",
      "Affiliates Program or start with some of our Ad Hoc Events opportunities.The\n",
      "Corporate Connection\n",
      "provides a main point of entry for partnering with Illinois Computer Science and Electrical & Computer Engineering. Your company should join the Corporate Connection if it:Even if The Corporate Connection is not a fit for you, we can still work with you to get your messaging to our students and the CS community. Some examples of popular events to host at the Siebel Center for Computer Science are:For more information on recruiting with Illinois Computer Science, please email\n",
      "external-relations@cs.illinois.edu\n",
      ".The CS Student Organizations have many opportunities for companies to engage. We encourage you to learn about them, connect with them directly, or CS can advise you on what student organizations might be the best fit for your company.Learn how your company can sponsor a CS 492/4\n",
      "Senior Design\n",
      "project, which gives company representatives the opportunity to pitch their projects to all the enrolled students at the start of the fall semester. After reviewing student resumes, company reps can help select students for their project.Illinois Computer Science has a global reputation for developing revolutionary technology--where groundbreaking research addresses real-world problems. The demand for computer science research, education, and application has exploded because computing underpins just about every aspect of modern life. The arts, science, business, medicine, and engineering all benefit from the computational power, modeling, and thinking found in computer science. Our faculty and students are bringing their expertise to bear on many of society's most challenging problems.Our collaborative culture allows industry partners to learn from and work with some of the best CS faculty in the world. Our internationally recognized faculty include numerous ACM Fellows, IEEE Fellows, Sloan Research Fellows, and NSF CAREER Award winners. And our faculty generate well over  $30 million in research expenditures every year. The Thomas M. Siebel Center for Computer Science has some of the best classrooms, research and instructional labs, and informal meeting spaces on the Illinois campus.Innovation is our business. Partner with us to make it yours.For more information on recruiting or research collaborations, email\n",
      "external-relations@cs.illinois.edu\n",
      ".Thomas M. Siebel Center for Computer ScienceMy.CSYour path begins here.Your path begins here.B.S. in Computer ScienceB.S. in Mathematics & Computer ScienceB.S. in Statistics & Computer ScienceGuidelines for Forming Ph.D. CommitteePh.D. / M.S. Thesis Format Review GuidelinesB.S. in Computer ScienceB.S. in Mathematics & Computer ScienceB.S. in Statistics & Computer ScienceB.S. in Computer ScienceB.S. in Mathematics & Computer ScienceB.S. in Statistics & Computer ScienceB.S. in Computer ScienceB.S. in Mathematics & Computer ScienceB.S. in Statistics & Computer ScienceGuidelines for Forming Ph.D. CommitteePh.D. / M.S. Thesis Format Review GuidelinesGuidelines for Forming Ph.D. CommitteePh.D. / M.S. Thesis Format Review GuidelinesGuidelines for Forming Ph.D. CommitteePh.D. / M.S. Thesis Format Review GuidelinesDonald B. Gillies Memorial LectureDonald B. Gillies Memorial LectureDonald B. Gillies Memorial LectureHelp ensure that Illinois continues to set a global standard for CS research and education.B.S. in Computer ScienceB.S. in Mathematics & Computer ScienceB.S. in Statistics & Computer ScienceB.S. in Computer ScienceB.S. in Mathematics & Computer ScienceB.S. in Statistics & Computer ScienceB.S. in Computer ScienceB.S. in Mathematics & Computer ScienceB.S. in Statistics & Computer ScienceB.S. in Computer ScienceB.S. in Mathematics & Computer ScienceB.S. in Statistics & Computer ScienceB.S. in Computer ScienceB.S. in Mathematics & Computer ScienceB.S. in Statistics & Computer ScienceB.S. in Computer ScienceB.S. in Mathematics & Computer ScienceB.S. in Statistics & Computer ScienceGuidelines for Forming Ph.D. CommitteePh.D. / M.S. Thesis Format Review GuidelinesGuidelines for Forming Ph.D. CommitteePh.D. / M.S. Thesis Format Review GuidelinesGuidelines for Forming Ph.D. CommitteePh.D. / M.S. Thesis Format Review GuidelinesGuidelines for Forming Ph.D. CommitteePh.D. / M.S. Thesis Format Review GuidelinesGuidelines for Forming Ph.D. CommitteePh.D. / M.S. Thesis Format Review GuidelinesGuidelines for Forming Ph.D. CommitteePh.D. / M.S. Thesis Format Review GuidelinesDonald B. Gillies Memorial LectureDonald B. Gillies Memorial LectureDonald B. Gillies Memorial Lecturehead@cs.illinois.eduacademic@cs.illinois.eduundergrad@cs.illinois.edugrainger-marcom@illinois.edu\n",
      "==============================\n",
      "\n",
      "LLM extracted passage:\n",
      "==============================\n",
      "Sure! Here's the modified passage without unnecessary information, retained in paragraph form:At the University of Illinois, the computer science department is one of the largest in the nation, offering a top-tier education to its students. Our students are the future entrepreneurs, researchers, scholars, and industry leaders. We provide hands-on learning experiences in the classroom and lab, preparing them for leadership positions in academia and industry. Our Computer Science alumni play a pivotal role in many high-tech companies around the world.We offer various opportunities for recruitment, including posting jobs on Handshake, our online job board, and reaching out to our student organizations. For companies looking to recruit only Computer Science and Electrical and Computer Engineering students, we offer the Corporate Connection Affiliates Program. This program provides a central point of entry for partnering with our departments.Our faculty members are internationally recognized and bring their expertise to solve real-world problems. Our research expenditures exceed $30 million annually. The Thomas M. Siebel Center for Computer Science features state-of-the-art facilities, including classrooms, research labs, and meeting spaces.Join us to make innovation a part of your business. Contact us at external-relations@cs.illinois.edu for more information on recruiting or research collaborations.\n",
      "==============================\n",
      "\n",
      "------------------------------------------------------------------------------------------------------------------------------------------------------\n"
     ]
    }
   ],
   "source": [
    "for i in range(len(urls)):\n",
    "    s = ''.join(paragraphs_dict[i]).replace('  ', ' ')\n",
    "    print(f'Original passage:\\n{\"=\"*30}\\n{s}\\n{\"=\"*30}\\n')\n",
    "    \n",
    "    out_i = outputs_pl[i].replace('\\n', '')\n",
    "    print(f'LLM extracted passage:\\n{\"=\"*30}\\n{out_i}\\n{\"=\"*30}\\n')\n",
    "    print('-'*150)"
   ]
  },
  {
   "cell_type": "markdown",
   "id": "2b1e1150-06d9-4118-a74e-42f019844b3a",
   "metadata": {},
   "source": [
    "#### With trafilatura scraping method"
   ]
  },
  {
   "cell_type": "code",
   "execution_count": 61,
   "id": "b1dbe6a4-d018-4dbe-9940-c14b2579f227",
   "metadata": {},
   "outputs": [
    {
     "name": "stdout",
     "output_type": "stream",
     "text": [
      "0 done\n",
      "1 done\n",
      "2 done\n"
     ]
    }
   ],
   "source": [
    "outputs_tr = []\n",
    "for i in range(len(urls)):\n",
    "    prompt = ''\n",
    "    s = ''.join(paragraphs_dict_trafilatura[i]).replace('  ', ' ')\n",
    "    prompt += f'Here is a passage: \"{s}\"\\n\\n'\n",
    "    prompt += \"\"\"\n",
    "    Remove unnecessary information from this passage, such as addresses, emails, an dates.\n",
    "    Try to retain as much of the original passage, and return in paragraph form.\n",
    "    \"\"\"\n",
    "    out = prompt_llama2(prompt)\n",
    "    outputs_tr.append(out)\n",
    "    print(f\"{i} done\")"
   ]
  },
  {
   "cell_type": "code",
   "execution_count": 77,
   "id": "7880ff27-32a5-4695-a064-da5b99306686",
   "metadata": {
    "scrolled": true
   },
   "outputs": [
    {
     "name": "stdout",
     "output_type": "stream",
     "text": [
      "Original passage:\n",
      "==============================\n",
      "Artificial Intelligence\n",
      "The study of systems that behave intelligently, artificial intelligence includes several key areas where our faculty are recognized leaders: computer vision, machine listening, natural language processing, machine learning and robotics.\n",
      "Computer vision systems can understand images and video, for example, building extensive geometric and physical models of cities from video, or warning construction workers about nearby dangers. Natural language processing systems understand written and spoken language; possibilities include automatic translation of text from one language to another, or understanding text on Wikipedia to produce knowledge about the world. Machine listening systems understand audio signals, with applications like speech recognition, acoustic monitoring, or transcribing polyphonic music automatically. Crucial to modern artificial intelligence, machine learning methods exploit examples in order to adjust systems to work as effectively as possible. Robotics puts artificial intelligence into practice using machines that perceive and interact with the physical world.\n",
      "Strengths and Impact\n",
      "The AI group at Illinois is strong, diverse, and growing. It combines expertise in core strengths with promising new research directions.\n",
      "In machine learning, AI group faculty are studying theoretical foundations of deep and reinforcement learning; developing novel models and algorithms for deep neural networks, federated and distributed learning; as well as investigating issues related to scalability, security, privacy, and fairness of learning systems. Computer vision faculty are developing novel approaches for 2D and 3D scene understanding from still images and video; joint understanding of images and language; low-shot learning (recognition of rare or previously unseen categories); transfer learning and domain adaptation (adapting pre-trained systems to a changing data distribution); and image generation and editing approaches based on generative neural networks. Natural language processing faculty are working on topics such as grounded language understanding, information extraction and text mining, and knowledge-driven natural language generation for applications such as scientific discovery. Machine listening faculty are working on sound and speech understanding, source separation, and enhancement, as well as applications in music and computing. Robotics faculty are developing novel planning algorithms for grasping, locomotion, and navigation; investigating multi-robot systems; as well as pursuing high-impact applications of robotics to medicine, agriculture, home care, and autonomous driving.\n",
      "The excellence and impact of the AI group’s research has been recognized by a number of awards, including NSF CAREER (Amato, Hauser, Hockenmaier, Hoiem, Ji, Koyejo, Lazebnik, Smaragdis, Telgarsky), Sloan Research Fellowship (Hoiem, Koyejo, Lazebnik), Microsoft Research Faculty Fellowship (Lazebnik), AFOSR Young Investigator (Chowdhary), IEEE PAMI Significant Young Researcher Award (Hoiem), MIT TR-35 (Li, Smaragdis), Intel Rising Star Award (Li), “Young Scientist” selected by World Economic Forum (Ji), “AI’s Top 10 to Watch” Award by IEEE Intelligent Systems (Ji), ACM Fellow (Amato, Forsyth, Warnow), IEEE Fellow (Amato, Forsyth, Lazebnik, Smaragdis), IEEE Technical Achievement Award (Forsyth), and Packard Fellowship (Warnow).\n",
      "In the last few years, AI group members received a number of best paper awards, including: IEEE Signal Processing Society Best Paper Award (Smaragdis, 2018 and 2020), IEEE MLSP Best Paper Award (Smaragdis, 2017), Best Demo Paper Award at the 58th Annual Meeting of the Association for Computational Linguistics (Ji, 2020).\n",
      "AI group research has led to a number of startups. Derek Hoiem is co-founder and Chief Science Officer of Reconstruct, which visually documents construction sites, matching images to plans and analyzing productivity and risk for delay. Girish Chowdhary is co-founder and CTO of EarthSense, a startup creating machine learning and robotics solutions for agriculture, whose work was featured in a 2020 New York Times article. David Forsyth advises a number of startups focusing on augmented reality and image synthesis, including Lightform, Revery, and Depix.\n",
      "AI faculty are playing key roles in two $20 million AI institutes recently funded by the National Science Foundation and the U.S. Department of Agriculture’s National Institute of Food and Agriculture. The AI Institute for Future Agricultural Resilience, Management, and Sustainability (AIFARMS), led by Vikram Adve from CS, features Romit Chowdhary as Associate Director of Research, with other investigators including Alexander Schwing, Katherine Driggs-Campbell, Indranil Gupta, Kris Hauser, Julia Hockenmaier, Heng Ji, Sanmi Koyejo, and Paris Smaragdis. The AI Institute for Molecular Discovery, Synthetic Strategy, and Manufacturing, led by Huimin Zhao from Chemical Engineering, involves Heng Ji and Jian Peng as investigators.\n",
      "Seminars\n",
      "- Robotics Seminar Series (Friday)and student mailing list\n",
      "- NLP: reading group, seminar\n",
      "- Computer Vision: mailing list, vision lunch (Thursday), external speaker series (Tuesday)\n",
      "- Illinois Computer Science Speaker Series: brings prominent leaders and experts to campus to share their ideas and promote conversations about important challenges and topics in the discipline.\n",
      "Faculty & Affiliate Faculty\n",
      "Robot Motion and Task Planning, Multi-Agent Systems, Crowd Simulation\n",
      "Machine Learning Methods for Imaging Science, Image Reconstruction, Deep Learning for Inverse Problems\n",
      "Machine Learning, Learning Theory, Optimization, Generative Models, Sequential Decision Making, Physics-Guided Machine Learning, Differential Privacy\n",
      "Motion Planning and Control\n",
      "Machine Learning, Natural Language Processing, AI Applications, Data Management Support for AI\n",
      "Control, Autonomy and Decision Making, Vision and LIDAR Based Perception, GPS Denied Navigation\n",
      "Computational Statistics, Reproducible Research, Statistics Education, Machine Learning\n",
      "Graphs, Information Theory, Algorithms, Machine Learning\n",
      "Social Network Analysis, Natural Language Processing, Machine Learning\n",
      "Signal Processing, Computational Imaging, Machine Perception, Data Science\n",
      "Autonomous Vehicles, Validating Autonomous Systems, Interactive Control Policies for Intelligent Systems in Multi-Agent Settings\n",
      "Computational Linguistics\n",
      "Computer Vision, Object Recognition, Scene Understanding\n",
      "Computational Linguistics\n",
      "Computer Vision Analytics for Building and Construction Performance Monitoring\n",
      "Computer Vision, Machine Learning, Motion Analysis, Robotics\n",
      "Computer Vision, Robotics, Machine Learning\n",
      "Conversational AI and Natural Language Processing\n",
      "Machine Learning, Natural Language-Based Text Analysis, Text Summarization\n",
      "Statistical Speech Technology\n",
      "Motion Planning, Optimal Control, Integrated Planning and Learning, Robot Systems\n",
      "Natural Language Processing, Computational Linguistics\n",
      "Computer Vision, Object Recognition, Spatial Understanding, Scene Interpretation\n",
      "Probabilistic Graphical Models; Deep Learning; Data Science; Health Analytics; Safety, Reliablity and Security of Autonomous Systems; Reinforcement Learning\n",
      "ML4Code, ML interpretability, testing, and debugging\n",
      "Natural Language Processing, especially on Information Extraction and Knowledge-driven Natural Language Generation, Text Mining, Knowledge Graph Construction for Scientific Discovery\n",
      "Reinforcement Learning, Machine Learning, Sample Complexity Analyses\n",
      "Analytics with Machine Learning, Databases with Machine Learning, Machine Learning Security, Machine Learning + Cryptography\n",
      "HCI for ML, AI Explainability\n",
      "Cyberinfrastructure for Machine Learning, Machine Learning Systems Research, Deep Learning Applications\n",
      "Systems for Machine Learning, Machine Learning for Systems\n",
      "Computer Vision, Scene Understanding, Visual Learning, Vision and Language\n",
      "Adversarial Machine Learning, Robust Learning\n",
      "Artificial Intelligence\n",
      "Cyberinfrastructure for Digital Preservation, Auto-Curation, and Managing Unstructured Digital Collections\n",
      "Motion Planning and Control, Autonomous Robots\n",
      "Machine Learning and Optimization\n",
      "Computer Vision, Ego4D, VR/AR, Mobile Health, Health AI, Machine Learning, Developmental Machine Learning, Behavioral Imaging\n",
      "Field Robotics, Autonomous Systems Engineering, Machine Perception, Computer Vision\n",
      "Machine Translation, Computational Morphology & Syntax\n",
      "Machine Learning, Computer Vision\n",
      "Certified Artificial Intelligence, Adversarial Robustness, Neural Network Verification, Safe Deep Learning\n",
      "Machine Learning for Audio, Speech and Music; Signal Processing; Source Separation; Sound Recognition and Classification\n",
      "Deep Learning for Drug Discovery, Clinical Trial Optimization, Computational Phenotyping, Clinical Predictive Modeling, Mobile Health and Health Monitoring, Tensor Factorization, and Graph Mining\n",
      "Deep Learning Theory\n",
      "Explainable AI, Fairness in AI, Adversarial Maching Learning\n",
      "Conversational AI\n",
      "Computer Vision, Robotics\n",
      "Computer Vision, Machine Learning, Meta-Learning, Robotics\n",
      "Machine Learning in Computational Genomics, Ensemble Methods, Statistical Estimation\n",
      "Artificial Intelligence\n",
      "Machine Learning Theory and Applications, Optimization, Reinforcement Learning, Robustness, Generative AI, Large Language Models\n",
      "Machine Learning, Representation Learning, Algorithmic Fairness, Probabilistic Models\n",
      "Adjunct Faculty\n",
      "- News\n",
      "- November 7, 2023\n",
      "==============================\n",
      "\n",
      "LLM extracted passage:\n",
      "==============================\n",
      "Sure! Here is the rewritten passage without unnecessary information:\"Artificial IntelligenceThe study of systems that behave intelligently, artificial intelligence includes several key areas where our faculty are recognized leaders: computer vision, machine listening, natural language processing, machine learning, and robotics.Computer vision systems can understand images and video, building extensive geometric and physical models of cities from video or warning construction workers about nearby dangers. Natural language processing systems understand written and spoken language; possibilities include automatic translation of text from one language to another or understanding text on Wikipedia to produce knowledge about the world. Machine listening systems understand audio signals, with applications like speech recognition, acoustic monitoring, or transcribing polyphonic music automatically. Crucial to modern artificial intelligence, machine learning methods exploit examples in order to adjust systems to work as effectively as possible. Robotics puts artificial intelligence into practice using machines that perceive and interact with the physical world.Strengths and ImpactThe AI group at Illinois is strong, diverse, and growing, combining expertise in core strengths with promising new research directions. The excellence and impact of the AI group's research have been recognized through various awards, including NSF CAREER, Sloan Research Fellowship, Microsoft Research Faculty Fellowship, and more.Faculty and Affiliate FacultyRobot Motion and Task Planning, Multi-Agent Systems, Crowd SimulationMachine Learning Methods for Imaging Science, Image Reconstruction, Deep Learning for Inverse ProblemsMachine Learning, Natural Language Processing, AI Applications, Data Management Support for AIControl, Autonomy, and Decision Making, Vision and LIDAR Based Perception, GPS Denied NavigationComputational Statistics, Reproducible Research, Statistics Education, Machine LearningGraphs, Information Theory, Algorithms, Machine LearningSocial Network Analysis, Natural Language Processing, Machine LearningSignal Processing, Computational Imaging, Machine Perception, Data ScienceAutonomous Vehicles, Validating Autonomous Systems, Interactive Control Policies for Intelligent Systems in Multi-Agent SettingsComputational LinguisticsComputer Vision Analytics for Building and Construction Performance MonitoringComputer Vision, Machine Learning, Motion Analysis, RoboticsComputer Vision, Robotics, Machine LearningConversational AI and Natural Language ProcessingMachine Learning, Natural Language-Based Text Analysis, Text SummarizationStatistical Speech TechnologyMotion Planning, Optimal Control, Integrated Planning and Learning, Robot SystemsNatural Language Processing, Computational LinguisticsComputer Vision, Object Recognition, Spatial Understanding, Scene InterpretationProbabilistic Graphical Models; Deep Learning; Data Science; Health Analytics; Safety, Reliability, and Security of Autonomous Systems; Reinforcement LearningML4Code, ML interpretability, testing, and debuggingNatural Language Processing, especially on Information Extraction and Knowledge-driven Natural Language Generation, Text Mining, Knowledge Graph Construction for Scientific DiscoveryReinforcement Learning, Machine Learning, Sample Complexity AnalysesAnalytics with Machine Learning, Databases with Machine Learning, Machine Learning Security, Machine Learning + CryptographyHCI for ML, AI ExplainabilityCyberinfrastructure for Machine Learning, Machine Learning Systems Research, Deep Learning ApplicationsSystems for Machine Learning, Machine Learning for SystemsComputer Vision, Scene Understanding, Visual Learning, Vision and LanguageAdversarial Machine Learning, Robust LearningArtificial IntelligenceCyberinfrastructure for Digital Preservation, Auto-Curation, and Managing Unstructured Digital CollectionsMotion Planning and Control, Autonomous RobotsMachine Learning and OptimizationComputer Vision, Ego4D, VR/AR, Mobile Health, Health AI, Machine Learning, Developmental Machine Learning, Behavioral ImagingField Robotics, Autonomous Systems Engineering, Machine Perception, Computer Vision\"\n",
      "==============================\n",
      "\n",
      "------------------------------------------------------------------------------------------------------------------------------------------------------\n",
      "Original passage:\n",
      "==============================\n",
      "Research Opportunities for Undergraduates\n",
      "Undergraduates at Illinois Computer Science are an important part of our world-renowned research. From summer programs to paid research positions with faculty, there are multiple ways for our students to contribute to high impact research early in their careers.\n",
      "Year Long Research Opportunities\n",
      "- CS Student Ambassador/Research Scholars (CS STARS) - A CS department program designed for University of Illinois undergraduate students who are interested in pursuing research while also serving as departmental leaders and community builders.\n",
      "- Illinois Scholars Undergraduate Research (ISUR) Program - A college of engineering wide program. ISUR includes multiple components, from a research focused seminar to a number of paid undergraduate research programs. ISUR programs follow an apprenticeship model, where students work closely with faculty mentors. Some distinct programs supported by ISUR include:\n",
      "- Clare Boothe Luce Research Scholars - An ISUR affiliated program to support women undergraduates in research and teaching in science, mathematics, and engineering. Eight scholars are selected and funded each year.\n",
      "- C3SR-Undergraduate Research in Artificial Intelligence - An IBM-ILLINOIS and ISUR partnership which funds undergraduate research on AI and cognitive computing, from theory to practical application. Students additionally worked with a C3SR faculty mentor.\n",
      "- The National Center for Supercomputing Applications (NCSA) SPIN - An academic year long internship program where Illinois undergraduate students get to participate in high-impact work in the fields of supercomputing, visualization, data analytics, and other similar fields. Pay covers 5 hours a week toward exciting research opportunities.\n",
      "Semester Long Research Opportunities\n",
      "- CS Job Portal - Our department's employment opportunities include course assistant and undergraduate research positions.\n",
      "- PURE - Promoting Undergraduate Research in Engineering is a semester long , student-run research program where freshmen and sophomore students are connected with graduate student mentors to get an early jump-start in their research career.\n",
      "Summer Research Opportunities\n",
      "- DaRin Butz Research Scholars - An ISUR-affliated program which offers undergraduate women funding for a 10 week summer research program. The program uses a learning-by-apprenticeship model for high impact work in computer science, aerospace, engineering, physics, or astronomy.\n",
      "- The National Center for Supercomputing Applications (NCSA) INCLUSION program - INCLUSION is a 10 week program for applicants from underrepresented communities to work in pairs with mentors on research aimed towards social impact. All work is based around open source software development.\n",
      "- Summer Research Program for Undergraduates (SRP) - In the SRP, students work on high impact research with university faculty while also attending professional development programming aimed at helping students become stronger researchers and strong candidates for graduate school.\n",
      "- Mind in Vitro Undergraduate Summer Research Program - Undergraduate students in the program will work with faculty mentors and graduate students on topics related to the Mind in Vitro Expeditions in Computing Project. Students will participate in Illinois summer research program activities including networking and social events, weekly lunch and learn seminars covering topics such as research skills, presentation skills, information about graduate school, including applications, career opportunities, etc.\n",
      "Mentorship Opportunities\n",
      "- Mentoring Undergraduates in Science and Engineering (MUSE) - A mentoring program for The Grainger College of Engineering. Undergraduates may apply to be mentored for a range of reasons, such as career development or research and thesis guidance.\n",
      "Showcase Opportunities\n",
      "- Engineering Research Fair - A research fair hosted by the College of Engineering every semester. The goal of this fair is for researchers to share their work, labs and companies to recruit researchers, and continue to inspire future generations of excellent research at Illinois.\n",
      "- Undergraduate Research Symposium - A campus wide research symposium for undergraduate researchers to present the results of their research endeavors and gain valuable experience presenting work to a wide audience. Typically held in the late Spring.\n",
      "Nov 8, 2023 - Nov 8, 2024\n",
      "No events found\n",
      "Grainger Engineering Seminars and Speakers\n",
      "Nov 8, 2023 - Nov 8, 2024\n",
      "HYBRID: 2405 Siebel Center for Computer Science and online\n",
      "Gordan Krnjaic (UChicago)\n",
      "Loomis Lab 141 and via Zoom\n",
      "https://illinois.zoom.us/j/83439167799?pwd=UXBpREVtOXJ0ZjIwdFFiMHhtWGdVQT09\n",
      "Rodrigo Andrade E Silva, University of Maryland\n",
      "Loomis Room 464\n",
      "==============================\n",
      "\n",
      "LLM extracted passage:\n",
      "==============================\n",
      "Sure! Here is the passage without unnecessary information, retained in paragraph form:Undergraduates at Illinois Computer Science are an important part of our world-renowned research. From summer programs to paid research positions with faculty, there are multiple ways for our students to contribute to high-impact research early in their careers.Year-Long Research Opportunities* CS Student Ambassador/Research Scholars (CS STARS) - A CS department program designed for University of Illinois undergraduate students who are interested in pursuing research while also serving as departmental leaders and community builders.* Illinois Scholars Undergraduate Research (ISUR) Program - A college of engineering-wide program that includes multiple components, from a research-focused seminar to several paid undergraduate research programs. ISUR programs follow an apprenticeship model, where students work closely with faculty mentors.Some distinct programs supported by ISUR include:* Clare Boothe Luce Research Scholars - An ISUR-affiliated program to support women undergraduates in research and teaching in science, mathematics, and engineering. Eight scholars are selected and funded each year.* C3SR-Undergraduate Research in Artificial Intelligence - An IBM-ILLINOIS and ISUR partnership that funds undergraduate research on AI and cognitive computing, from theory to practical application. Students additionally work with a C3SR faculty mentor.Semester-Long Research Opportunities* CS Job Portal - Our department's employment opportunities include course assistant and undergraduate research positions.* PURE - Promoting Undergraduate Research in Engineering is a semester-long, student-run research program where freshmen and sophomore students are connected with graduate student mentors to get an early jump-start in their research career.Summer Research Opportunities* DaRin Butz Research Scholars - An ISUR-affiliated program offering undergraduate women funding for a 10-week summer research program. The program uses a learning-by-apprenticeship model for high-impact work in computer science, aerospace, engineering, physics, or astronomy.* The National Center for Supercomputing Applications (NCSA) INCLUSION program - INCLUSION is a 10-week program for applicants from underrepresented communities to work in pairs with mentors on research aimed towards social impact. All work is based around open-source software development.* Summer Research Program for Undergraduates (SRP) - In the SRP, students work on high-impact research with university faculty while attending professional development programming aimed at helping students become stronger researchers and strong candidates for graduate school.* Mind in Vitro Undergraduate Summer Research Program - Undergraduate students in the program work with faculty mentors and graduate students on topics related to the Mind in Vitro Expeditions in Computing Project. Students participate in Illinois summer research program activities, including networking and social events, weekly lunch and learn seminars covering topics such as research skills, presentation skills, information about graduate school, including applications, career opportunities, etc.Mentorship Opportunities* Mentoring Undergraduates in Science and Engineering (MUSE) - A mentoring program for The Grainger College of Engineering. Undergraduates may apply to be mentored for a range of reasons, such as career development or research and thesis guidance.Showcase Opportunities* Engineering Research Fair - A research fair hosted by the College of Engineering every semester. The goal of this fair is for researchers to share their work, labs, and companies to recruit researchers and continue to inspire future generations of excellent research at Illinois.* Undergraduate Research Symposium - A campus-wide research symposium for undergraduate researchers to present the results of their research endeavors and gain valuable experience presenting work to a wide audience. Typically held in the late spring.\n",
      "==============================\n",
      "\n",
      "------------------------------------------------------------------------------------------------------------------------------------------------------\n",
      "Original passage:\n",
      "==============================\n",
      "Corporate\n",
      "The University of Illinois boasts one of the largest computer science departments in the nation. With a top-tier student body and a broad faculty base, our students have opportunities to explore the full depth and breadth of the computing challenges that lie ahead.\n",
      "Illinois Computer Science students are the next generation of entrepreneurs, researchers, scholars, academicians, and business and industry giants. A hands-on education at Illinois means our students learn from the best in the classroom and in the laboratory, preparing them for leadership positions in the academy and industry. Odds are, one or more of your company's senior leaders is an Illinois alumnus. CS alumni play a pivotal role in nearly every high-tech company in this country and around the world.\n",
      "Recruiting\n",
      "There are many engagement opportunities to explore—you can recruit at the Campus-level, from The Grainger College of Engineering, or directly from Illinois Computer Science—and we can help you create a custom recruiting strategy for your company.\n",
      "The Career Center at Illinois offers opportunities to reach students from a wide variety of majors or for positons that do not require a specific major. They can also assist in connecting recruiters with unit-specific career services.\n",
      "Engineering Career Services (ECS) offers a wide range of services and programs to assist you with your recruiting needs and in accessing the more than 10,000 undergraduate and graduate students from top-ranked programs within the College. Companies can post to the Handshake online job board for free. And job-seeking Engineering at Illinois alumni also have access to post resumes on Handshake.\n",
      "For companies who are looking to recruit exclusively CS and ECE students, please explore our Corporate Connection Affiliates Program or start with some of our Ad Hoc Events opportunities.\n",
      "Corporate Affiliates Program\n",
      "The Corporate Connection provides a main point of entry for partnering with Illinois Computer Science and Electrical & Computer Engineering. Your company should join the Corporate Connection if it:\n",
      "- Is committed to recruiting at Illinois\n",
      "- Hires or would like to hire ECE and/or CS students\n",
      "- Wants to collaborate with leading experts to address research challenges\n",
      "- Is looking for input into education, curriculum development, and research direction\n",
      "- Would like a high level of service that is coordinated, efficient, and effective\n",
      "Ad Hoc Events\n",
      "Even if The Corporate Connection is not a fit for you, we can still work with you to get your messaging to our students and the CS community. Some examples of popular events to host at the Siebel Center for Computer Science are:\n",
      "- Tech talks\n",
      "- Corporate days\n",
      "- HACKS/competitions\n",
      "Contact Us\n",
      "For more information on recruiting with Illinois Computer Science, please email external-relations@cs.illinois.edu.\n",
      "Work with CS Student Groups\n",
      "The CS Student Organizations have many opportunities for companies to engage. We encourage you to learn about them, connect with them directly, or CS can advise you on what student organizations might be the best fit for your company.\n",
      "Senior Design\n",
      "Learn how your company can sponsor a CS 492/4 Senior Design project, which gives company representatives the opportunity to pitch their projects to all the enrolled students at the start of the fall semester. After reviewing student resumes, company reps can help select students for their project.\n",
      "Research Collaboration\n",
      "Illinois Computer Science has a global reputation for developing revolutionary technology--where groundbreaking research addresses real-world problems. The demand for computer science research, education, and application has exploded because computing underpins just about every aspect of modern life. The arts, science, business, medicine, and engineering all benefit from the computational power, modeling, and thinking found in computer science. Our faculty and students are bringing their expertise to bear on many of society's most challenging problems.\n",
      "Our collaborative culture allows industry partners to learn from and work with some of the best CS faculty in the world. Our internationally recognized faculty include numerous ACM Fellows, IEEE Fellows, Sloan Research Fellows, and NSF CAREER Award winners. And our faculty generate well over $30 million in research expenditures every year. The Thomas M. Siebel Center for Computer Science has some of the best classrooms, research and instructional labs, and informal meeting spaces on the Illinois campus.\n",
      "Innovation is our business. Partner with us to make it yours.\n",
      "- News\n",
      "- September 12, 2022\n",
      "==============================\n",
      "\n",
      "LLM extracted passage:\n",
      "==============================\n",
      "Sure! Here is the passage without unnecessary information:CorporateThe University of Illinois has one of the largest computer science departments in the nation. Our students have opportunities to explore the full depth and breadth of computing challenges ahead through our top-tier student body and broad faculty base. CS alumni play a pivotal role in nearly every high-tech company in this country and around the world.RecruitingWe offer many engagement opportunities to explore recruitment at the campus level, from The Grainger College of Engineering, or directly from Illinois Computer Science. The Career Center at Illinois can assist in connecting recruiters with unit-specific career services. Engineering Career Services (ECS) offers a wide range of services and programs to assist with recruiting needs and accessing over 10,000 undergraduate and graduate students from top-ranked programs. Companies can post to the Handshake online job board for free.Corporate Affiliates ProgramThe Corporate Connection provides a main point of entry for partnering with Illinois Computer Science and Electrical & Computer Engineering. Join the Corporate Connection if your company:* Commits to recruiting at Illinois* Hires or would like to hire ECE and/or CS students* Wants to collaborate with leading experts to address research challenges* Seeks input into education, curriculum development, and research direction* Wants a high level of service that is coordinated, efficient, and effectiveAd Hoc EventsHost tech talks, corporate days, hackathons, and competitions at the Siebel Center for Computer Science.Contact UsFor more information on recruiting with Illinois Computer Science, please email external-relations@cs.illinois.edu.Student GroupsCS Student Organizations provide many opportunities for companies to engage. Learn about them, connect with them directly, or let CS advise you on student organizations that may be the best fit for your company.Senior DesignSponsor a CS 492/4 Senior Design project, giving company representatives the opportunity to pitch projects to all enrolled students at the start of the fall semester. Review student resumes, then help select students for your project.Research CollaborationIllinois Computer Science develops revolutionary technology with global impact. Our collaborative culture allows industry partners to learn from and work with some of the best CS faculty in the world. Our internationally recognized faculty include numerous ACM Fellows, IEEE Fellows, Sloan Research Fellows, and NSF CAREER Award winners. Our faculty generates over $30 million in research expenditures annually. The Thomas M. Siebel Center for Computer Science features excellent classrooms, research and instructional labs, and informal meeting spaces.Innovation is our business. Partner with us to make it yours.\n",
      "==============================\n",
      "\n",
      "------------------------------------------------------------------------------------------------------------------------------------------------------\n"
     ]
    }
   ],
   "source": [
    "for i in range(len(urls)):\n",
    "    s = ''.join(paragraphs_dict_trafilatura[i]).replace('  ', ' ')\n",
    "    print(f'Original passage:\\n{\"=\"*30}\\n{s}\\n{\"=\"*30}\\n')\n",
    "    \n",
    "    out_i = outputs_tr[i].replace('\\n', '')\n",
    "    print(f'LLM extracted passage:\\n{\"=\"*30}\\n{out_i}\\n{\"=\"*30}\\n')\n",
    "    print('-'*150)"
   ]
  },
  {
   "cell_type": "markdown",
   "id": "b43e80fe-2c4d-44a7-bfe5-23c936d035ab",
   "metadata": {},
   "source": [
    "#### Pass URL into prompt"
   ]
  },
  {
   "cell_type": "code",
   "execution_count": 64,
   "id": "e3468863-931c-4c27-bbf9-6dc068e8e4cb",
   "metadata": {},
   "outputs": [
    {
     "name": "stdout",
     "output_type": "stream",
     "text": [
      "0 done\n",
      "1 done\n",
      "2 done\n"
     ]
    }
   ],
   "source": [
    "outputs_url = []\n",
    "for i, url in enumerate(urls):\n",
    "    prompt = f'Here is a webpage url: \"{url}\"\\n\\n'\n",
    "    prompt += \"\"\"\n",
    "    Can you extract the main text content from this webpage? Remove unnecessary information from the text, such as addresses, emails, an dates.\n",
    "    Try to retain as much of the original text, and return in paragraph form.\n",
    "    \"\"\"\n",
    "    out = prompt_llama2(prompt)\n",
    "    outputs_url.append(out)\n",
    "    print(f\"{i} done\")"
   ]
  },
  {
   "cell_type": "code",
   "execution_count": 66,
   "id": "a3cd7ada-17e8-44f3-b0ad-ccd16ad06d37",
   "metadata": {},
   "outputs": [
    {
     "name": "stdout",
     "output_type": "stream",
     "text": [
      "LLM extracted passage:\n",
      "==============================\n",
      "Of course! I can assist with that. Here is the main text content from the webpage \"https://cs.illinois.edu/research/areas/artificial-intelligence\":The Artificial Intelligence (AI) research area at the University of Illinois at Urbana-Champaign is one of the most vibrant and diverse in the world. Our faculty members are internationally recognized leaders in their respective fields, and our students have access to state-of-the-art facilities and resources. We focus on a wide range of AI subfields, including machine learning, natural language processing, computer vision, robotics, and human-computer interaction.Our research is driven by a deep commitment to advancing the scientific understanding of AI and its applications in various domains, such as healthcare, education, transportation, and entertainment. We collaborate closely with other departments and institutes across campus, such as the Department of Computer Science, the Department of Electrical and Computer Engineering, and the Coordinated Science Laboratory, to create a rich and interdisciplinary research environment.Some of our current research projects include developing algorithms for medical image analysis, designing intelligent systems for smart cities, and creating personalized learning systems for K-12 education. Our goal is to continue pushing the boundaries of what is possible with AI and to use our research to improve people's lives.\n",
      "==============================\n",
      "\n",
      "------------------------------------------------------------------------------------------------------------------------------------------------------\n",
      "LLM extracted passage:\n",
      "==============================\n",
      "Of course! I would be happy to assist you with that. Here is the extracted main text content from the webpage you provided, without unnecessary information such as addresses, emails, and dates:The Undergraduate Research Program in Computer Science at the University of Illinois at Urbana-Champaign provides students with opportunities to engage in research projects under the guidance of faculty mentors. The program aims to foster academic excellence, intellectual curiosity, and creativity among undergraduate students in computer science.Students can get involved in research through various mechanisms, including the Undergraduate Research Opportunities Program (UROP), which offers paid research positions during the summer and academic year, and the Computer Science Honors Program, which allows students to conduct original research and earn academic credit. Additionally, students can work directly with faculty members on research projects or participate in research groups and clubs.Participating in undergraduate research has numerous benefits for students, including gaining hands-on experience in cutting-edge technologies, developing critical thinking and problem-solving skills, and building a network of connections in the field. Many undergraduate researchers have gone on to present their work at conferences, publish papers, and secure funding for their research.Overall, the Undergraduate Research Program in Computer Science at the University of Illinois at Urbana-Champaign provides a supportive environment for students to explore their interests, develop their skills, and contribute to groundbreaking research in the field.\n",
      "==============================\n",
      "\n",
      "------------------------------------------------------------------------------------------------------------------------------------------------------\n",
      "LLM extracted passage:\n",
      "==============================\n",
      "Of course! I can assist you with that. Here is the main text content extracted from the webpage \"https://cs.illinois.edu/corporate#research\":The Computer Science (CS) Department at the University of Illinois Urbana-Champaign is dedicated to conducting cutting-edge research in a variety of areas, including Artificial Intelligence (AI), Machine Learning (ML), Data Science, Cybersecurity, Human-Computer Interaction (HCI), and more. Our world-renowned faculty members have made significant contributions to their respective fields, publishing numerous papers in top-tier conferences and journals. The department has several research centers and labs, such as the Coordinated Science Laboratory (CSL), the Information Trust Institute (ITI), and the National Center for Supercomputing Applications (NCSA), which provide opportunities for interdisciplinary collaboration and innovation. Additionally, our department is home to several research clusters, including the AI Research Cluster, the Cybersecurity Research Cluster, and the Data Science Research Cluster, which bring together faculty members and students from different disciplines to tackle complex problems and advance knowledge in these areas.Please note that I have removed unnecessary information such as addresses, emails, and dates from the original text to provide you with the main content in paragraph form.\n",
      "==============================\n",
      "\n",
      "------------------------------------------------------------------------------------------------------------------------------------------------------\n"
     ]
    }
   ],
   "source": [
    "for i in range(len(urls)):\n",
    "    out_i = outputs_url[i].replace('\\n', '')#.split(':')[1]\n",
    "    print(f'LLM extracted passage:\\n{\"=\"*30}\\n{out_i}\\n{\"=\"*30}\\n')\n",
    "    print('-'*150)"
   ]
  },
  {
   "cell_type": "markdown",
   "id": "aa156a5d-e816-4818-a32d-cd1edcb0b80d",
   "metadata": {},
   "source": [
    "#### Compare three types"
   ]
  },
  {
   "cell_type": "code",
   "execution_count": 78,
   "id": "ccec0aee-78b2-4038-b76d-a3fa792bc608",
   "metadata": {
    "scrolled": true
   },
   "outputs": [
    {
     "name": "stdout",
     "output_type": "stream",
     "text": [
      "Paragraph + List extracted passage:\n",
      "==============================\n",
      "Sure! Here is the passage after removing unnecessary information:The study of systems that behave intelligently, artificial intelligence (AI) includes many key areas where our faculty are recognized leaders: computer vision, machine listening, natural language processing, machine learning, and robotics. Computer vision systems can understand images and videos, such as building extensive geometric and physical models of cities from video or warning construction workers about nearby dangers. Natural language processing systems understand written and spoken language, including automatic translation of text from one language to another or understanding text on Wikipedia to produce knowledge about the world. Machine listening systems understand audio signals, such as speech recognition, acoustic monitoring, or transcribing polyphonic music automatically. Crucial to modern artificial intelligence, machine learning methods exploit examples to adjust systems to work as effectively as possible. Robotics puts artificial intelligence into practice using machines that perceive and interact with the physical world.The AI group at Illinois is strong, diverse, and growing, combining expertise in core strengths with promising new research directions. In machine learning, AI group faculty are studying theoretical foundations of deep and reinforcement learning, developing novel models and algorithms for deep neural networks, federated, and distributed learning, as well as investigating issues related to scalability, security, privacy, and fairness of learning systems. Computer vision faculty are developing novel approaches for 2D and 3D scene understanding from still images and video, joint understanding of images and language, low-shot learning, transfer learning, and domain adaptation. Natural language processing faculty are working on topics such as grounded language understanding, information extraction and text mining, and knowledge-driven natural language generation. Machine listening faculty are working on sound and speech understanding, source separation, and enhancement, as well as applications in music and computing. Robotics faculty are developing novel planning algorithms for grasping, locomotion, and navigation, investigating multi-robot systems, and pursuing high-impact applications of robotics to medicine, agriculture, home care, and autonomous driving.\n",
      "==============================\n",
      "\n",
      "trafilatura extracted passage:\n",
      "==============================\n",
      "Sure! Here is the rewritten passage without unnecessary information:\"Artificial IntelligenceThe study of systems that behave intelligently, artificial intelligence includes several key areas where our faculty are recognized leaders: computer vision, machine listening, natural language processing, machine learning, and robotics.Computer vision systems can understand images and video, building extensive geometric and physical models of cities from video or warning construction workers about nearby dangers. Natural language processing systems understand written and spoken language; possibilities include automatic translation of text from one language to another or understanding text on Wikipedia to produce knowledge about the world. Machine listening systems understand audio signals, with applications like speech recognition, acoustic monitoring, or transcribing polyphonic music automatically. Crucial to modern artificial intelligence, machine learning methods exploit examples in order to adjust systems to work as effectively as possible. Robotics puts artificial intelligence into practice using machines that perceive and interact with the physical world.Strengths and ImpactThe AI group at Illinois is strong, diverse, and growing, combining expertise in core strengths with promising new research directions. The excellence and impact of the AI group's research have been recognized through various awards, including NSF CAREER, Sloan Research Fellowship, Microsoft Research Faculty Fellowship, and more.Faculty and Affiliate FacultyRobot Motion and Task Planning, Multi-Agent Systems, Crowd SimulationMachine Learning Methods for Imaging Science, Image Reconstruction, Deep Learning for Inverse ProblemsMachine Learning, Natural Language Processing, AI Applications, Data Management Support for AIControl, Autonomy, and Decision Making, Vision and LIDAR Based Perception, GPS Denied NavigationComputational Statistics, Reproducible Research, Statistics Education, Machine LearningGraphs, Information Theory, Algorithms, Machine LearningSocial Network Analysis, Natural Language Processing, Machine LearningSignal Processing, Computational Imaging, Machine Perception, Data ScienceAutonomous Vehicles, Validating Autonomous Systems, Interactive Control Policies for Intelligent Systems in Multi-Agent SettingsComputational LinguisticsComputer Vision Analytics for Building and Construction Performance MonitoringComputer Vision, Machine Learning, Motion Analysis, RoboticsComputer Vision, Robotics, Machine LearningConversational AI and Natural Language ProcessingMachine Learning, Natural Language-Based Text Analysis, Text SummarizationStatistical Speech TechnologyMotion Planning, Optimal Control, Integrated Planning and Learning, Robot SystemsNatural Language Processing, Computational LinguisticsComputer Vision, Object Recognition, Spatial Understanding, Scene InterpretationProbabilistic Graphical Models; Deep Learning; Data Science; Health Analytics; Safety, Reliability, and Security of Autonomous Systems; Reinforcement LearningML4Code, ML interpretability, testing, and debuggingNatural Language Processing, especially on Information Extraction and Knowledge-driven Natural Language Generation, Text Mining, Knowledge Graph Construction for Scientific DiscoveryReinforcement Learning, Machine Learning, Sample Complexity AnalysesAnalytics with Machine Learning, Databases with Machine Learning, Machine Learning Security, Machine Learning + CryptographyHCI for ML, AI ExplainabilityCyberinfrastructure for Machine Learning, Machine Learning Systems Research, Deep Learning ApplicationsSystems for Machine Learning, Machine Learning for SystemsComputer Vision, Scene Understanding, Visual Learning, Vision and LanguageAdversarial Machine Learning, Robust LearningArtificial IntelligenceCyberinfrastructure for Digital Preservation, Auto-Curation, and Managing Unstructured Digital CollectionsMotion Planning and Control, Autonomous RobotsMachine Learning and OptimizationComputer Vision, Ego4D, VR/AR, Mobile Health, Health AI, Machine Learning, Developmental Machine Learning, Behavioral ImagingField Robotics, Autonomous Systems Engineering, Machine Perception, Computer Vision\"\n",
      "==============================\n",
      "\n",
      "URL extracted passage:\n",
      "==============================\n",
      "Of course! I can assist with that. Here is the main text content from the webpage \"https://cs.illinois.edu/research/areas/artificial-intelligence\":The Artificial Intelligence (AI) research area at the University of Illinois at Urbana-Champaign is one of the most vibrant and diverse in the world. Our faculty members are internationally recognized leaders in their respective fields, and our students have access to state-of-the-art facilities and resources. We focus on a wide range of AI subfields, including machine learning, natural language processing, computer vision, robotics, and human-computer interaction.Our research is driven by a deep commitment to advancing the scientific understanding of AI and its applications in various domains, such as healthcare, education, transportation, and entertainment. We collaborate closely with other departments and institutes across campus, such as the Department of Computer Science, the Department of Electrical and Computer Engineering, and the Coordinated Science Laboratory, to create a rich and interdisciplinary research environment.Some of our current research projects include developing algorithms for medical image analysis, designing intelligent systems for smart cities, and creating personalized learning systems for K-12 education. Our goal is to continue pushing the boundaries of what is possible with AI and to use our research to improve people's lives.\n",
      "==============================\n",
      "\n",
      "------------------------------------------------------------------------------------------------------------------------------------------------------\n",
      "Paragraph + List extracted passage:\n",
      "==============================\n",
      "Sure! Here is the passage after removing unnecessary information:Undergraduates at Illinois Computer Science are an important part of our world-renowned research. From summer programs to paid research positions with faculty, there are multiple ways for our students to contribute to high-impact research early in their careers. These programs include:* ISUR (Inclusive and Supportive Undergraduate Research) - A CS department program designed for University of Illinois undergraduate students who are interested in pursuing research while also serving as departmental leaders and community builders.* IBM-ILLINOIS and ISUR Partnership - An program that funds undergraduate research on AI and cognitive computing, from theory to practical application.* Promoting Undergraduate Research in Engineering (PURE) - A semester-long, student-run research program where freshmen and sophomore students are connected with graduate student mentors to get an early jump-start in their research career.* INCLUSION - A 10-week program for applicants from underrepresented communities to work in pairs with mentors on research aimed towards social impact.* Summer Research Program (SRP) - A program where students work on high-impact research with university faculty while also attending professional development programming aimed at helping students become stronger researchers and strong candidates for graduate school.Overall, Illinois Computer Science offers various research opportunities for undergraduate students to contribute to impactful projects, develop their skills, and prepare for their future careers.\n",
      "==============================\n",
      "\n",
      "trafilatura extracted passage:\n",
      "==============================\n",
      "Sure! Here is the passage without unnecessary information, retained in paragraph form:Undergraduates at Illinois Computer Science are an important part of our world-renowned research. From summer programs to paid research positions with faculty, there are multiple ways for our students to contribute to high-impact research early in their careers.Year-Long Research Opportunities* CS Student Ambassador/Research Scholars (CS STARS) - A CS department program designed for University of Illinois undergraduate students who are interested in pursuing research while also serving as departmental leaders and community builders.* Illinois Scholars Undergraduate Research (ISUR) Program - A college of engineering-wide program that includes multiple components, from a research-focused seminar to several paid undergraduate research programs. ISUR programs follow an apprenticeship model, where students work closely with faculty mentors.Some distinct programs supported by ISUR include:* Clare Boothe Luce Research Scholars - An ISUR-affiliated program to support women undergraduates in research and teaching in science, mathematics, and engineering. Eight scholars are selected and funded each year.* C3SR-Undergraduate Research in Artificial Intelligence - An IBM-ILLINOIS and ISUR partnership that funds undergraduate research on AI and cognitive computing, from theory to practical application. Students additionally work with a C3SR faculty mentor.Semester-Long Research Opportunities* CS Job Portal - Our department's employment opportunities include course assistant and undergraduate research positions.* PURE - Promoting Undergraduate Research in Engineering is a semester-long, student-run research program where freshmen and sophomore students are connected with graduate student mentors to get an early jump-start in their research career.Summer Research Opportunities* DaRin Butz Research Scholars - An ISUR-affiliated program offering undergraduate women funding for a 10-week summer research program. The program uses a learning-by-apprenticeship model for high-impact work in computer science, aerospace, engineering, physics, or astronomy.* The National Center for Supercomputing Applications (NCSA) INCLUSION program - INCLUSION is a 10-week program for applicants from underrepresented communities to work in pairs with mentors on research aimed towards social impact. All work is based around open-source software development.* Summer Research Program for Undergraduates (SRP) - In the SRP, students work on high-impact research with university faculty while attending professional development programming aimed at helping students become stronger researchers and strong candidates for graduate school.* Mind in Vitro Undergraduate Summer Research Program - Undergraduate students in the program work with faculty mentors and graduate students on topics related to the Mind in Vitro Expeditions in Computing Project. Students participate in Illinois summer research program activities, including networking and social events, weekly lunch and learn seminars covering topics such as research skills, presentation skills, information about graduate school, including applications, career opportunities, etc.Mentorship Opportunities* Mentoring Undergraduates in Science and Engineering (MUSE) - A mentoring program for The Grainger College of Engineering. Undergraduates may apply to be mentored for a range of reasons, such as career development or research and thesis guidance.Showcase Opportunities* Engineering Research Fair - A research fair hosted by the College of Engineering every semester. The goal of this fair is for researchers to share their work, labs, and companies to recruit researchers and continue to inspire future generations of excellent research at Illinois.* Undergraduate Research Symposium - A campus-wide research symposium for undergraduate researchers to present the results of their research endeavors and gain valuable experience presenting work to a wide audience. Typically held in the late spring.\n",
      "==============================\n",
      "\n",
      "URL extracted passage:\n",
      "==============================\n",
      "Of course! I would be happy to assist you with that. Here is the extracted main text content from the webpage you provided, without unnecessary information such as addresses, emails, and dates:The Undergraduate Research Program in Computer Science at the University of Illinois at Urbana-Champaign provides students with opportunities to engage in research projects under the guidance of faculty mentors. The program aims to foster academic excellence, intellectual curiosity, and creativity among undergraduate students in computer science.Students can get involved in research through various mechanisms, including the Undergraduate Research Opportunities Program (UROP), which offers paid research positions during the summer and academic year, and the Computer Science Honors Program, which allows students to conduct original research and earn academic credit. Additionally, students can work directly with faculty members on research projects or participate in research groups and clubs.Participating in undergraduate research has numerous benefits for students, including gaining hands-on experience in cutting-edge technologies, developing critical thinking and problem-solving skills, and building a network of connections in the field. Many undergraduate researchers have gone on to present their work at conferences, publish papers, and secure funding for their research.Overall, the Undergraduate Research Program in Computer Science at the University of Illinois at Urbana-Champaign provides a supportive environment for students to explore their interests, develop their skills, and contribute to groundbreaking research in the field.\n",
      "==============================\n",
      "\n",
      "------------------------------------------------------------------------------------------------------------------------------------------------------\n",
      "Paragraph + List extracted passage:\n",
      "==============================\n",
      "Sure! Here's the modified passage without unnecessary information, retained in paragraph form:At the University of Illinois, the computer science department is one of the largest in the nation, offering a top-tier education to its students. Our students are the future entrepreneurs, researchers, scholars, and industry leaders. We provide hands-on learning experiences in the classroom and lab, preparing them for leadership positions in academia and industry. Our Computer Science alumni play a pivotal role in many high-tech companies around the world.We offer various opportunities for recruitment, including posting jobs on Handshake, our online job board, and reaching out to our student organizations. For companies looking to recruit only Computer Science and Electrical and Computer Engineering students, we offer the Corporate Connection Affiliates Program. This program provides a central point of entry for partnering with our departments.Our faculty members are internationally recognized and bring their expertise to solve real-world problems. Our research expenditures exceed $30 million annually. The Thomas M. Siebel Center for Computer Science features state-of-the-art facilities, including classrooms, research labs, and meeting spaces.Join us to make innovation a part of your business. Contact us at external-relations@cs.illinois.edu for more information on recruiting or research collaborations.\n",
      "==============================\n",
      "\n",
      "trafilatura extracted passage:\n",
      "==============================\n",
      "Sure! Here is the passage without unnecessary information:CorporateThe University of Illinois has one of the largest computer science departments in the nation. Our students have opportunities to explore the full depth and breadth of computing challenges ahead through our top-tier student body and broad faculty base. CS alumni play a pivotal role in nearly every high-tech company in this country and around the world.RecruitingWe offer many engagement opportunities to explore recruitment at the campus level, from The Grainger College of Engineering, or directly from Illinois Computer Science. The Career Center at Illinois can assist in connecting recruiters with unit-specific career services. Engineering Career Services (ECS) offers a wide range of services and programs to assist with recruiting needs and accessing over 10,000 undergraduate and graduate students from top-ranked programs. Companies can post to the Handshake online job board for free.Corporate Affiliates ProgramThe Corporate Connection provides a main point of entry for partnering with Illinois Computer Science and Electrical & Computer Engineering. Join the Corporate Connection if your company:* Commits to recruiting at Illinois* Hires or would like to hire ECE and/or CS students* Wants to collaborate with leading experts to address research challenges* Seeks input into education, curriculum development, and research direction* Wants a high level of service that is coordinated, efficient, and effectiveAd Hoc EventsHost tech talks, corporate days, hackathons, and competitions at the Siebel Center for Computer Science.Contact UsFor more information on recruiting with Illinois Computer Science, please email external-relations@cs.illinois.edu.Student GroupsCS Student Organizations provide many opportunities for companies to engage. Learn about them, connect with them directly, or let CS advise you on student organizations that may be the best fit for your company.Senior DesignSponsor a CS 492/4 Senior Design project, giving company representatives the opportunity to pitch projects to all enrolled students at the start of the fall semester. Review student resumes, then help select students for your project.Research CollaborationIllinois Computer Science develops revolutionary technology with global impact. Our collaborative culture allows industry partners to learn from and work with some of the best CS faculty in the world. Our internationally recognized faculty include numerous ACM Fellows, IEEE Fellows, Sloan Research Fellows, and NSF CAREER Award winners. Our faculty generates over $30 million in research expenditures annually. The Thomas M. Siebel Center for Computer Science features excellent classrooms, research and instructional labs, and informal meeting spaces.Innovation is our business. Partner with us to make it yours.\n",
      "==============================\n",
      "\n",
      "URL extracted passage:\n",
      "==============================\n",
      "Of course! I can assist you with that. Here is the main text content extracted from the webpage \"https://cs.illinois.edu/corporate#research\":The Computer Science (CS) Department at the University of Illinois Urbana-Champaign is dedicated to conducting cutting-edge research in a variety of areas, including Artificial Intelligence (AI), Machine Learning (ML), Data Science, Cybersecurity, Human-Computer Interaction (HCI), and more. Our world-renowned faculty members have made significant contributions to their respective fields, publishing numerous papers in top-tier conferences and journals. The department has several research centers and labs, such as the Coordinated Science Laboratory (CSL), the Information Trust Institute (ITI), and the National Center for Supercomputing Applications (NCSA), which provide opportunities for interdisciplinary collaboration and innovation. Additionally, our department is home to several research clusters, including the AI Research Cluster, the Cybersecurity Research Cluster, and the Data Science Research Cluster, which bring together faculty members and students from different disciplines to tackle complex problems and advance knowledge in these areas.Please note that I have removed unnecessary information such as addresses, emails, and dates from the original text to provide you with the main content in paragraph form.\n",
      "==============================\n",
      "\n",
      "------------------------------------------------------------------------------------------------------------------------------------------------------\n"
     ]
    }
   ],
   "source": [
    "for i in range(len(urls)):\n",
    "    out_i = outputs_pl[i].replace('\\n', '')\n",
    "    print(f'Paragraph + List extracted passage:\\n{\"=\"*30}\\n{out_i}\\n{\"=\"*30}\\n')\n",
    "    out_i = outputs_tr[i].replace('\\n', '')\n",
    "    print(f'trafilatura extracted passage:\\n{\"=\"*30}\\n{out_i}\\n{\"=\"*30}\\n')\n",
    "    out_i = outputs_url[i].replace('\\n', '')\n",
    "    print(f'URL extracted passage:\\n{\"=\"*30}\\n{out_i}\\n{\"=\"*30}\\n')\n",
    "    print('-'*150)"
   ]
  },
  {
   "cell_type": "markdown",
   "id": "3a25ad2c-9bae-43b7-9eb5-3fbcac4a19b7",
   "metadata": {},
   "source": [
    "### Add citation to prompt"
   ]
  },
  {
   "cell_type": "markdown",
   "id": "82e2d823-fc48-42b9-9ac5-45a3d284c271",
   "metadata": {},
   "source": [
    "#### Using the LLM-extracted paragraphs + lists text"
   ]
  },
  {
   "cell_type": "code",
   "execution_count": 83,
   "id": "738c9f36-867c-457d-826d-53f8b935d587",
   "metadata": {
    "scrolled": true
   },
   "outputs": [
    {
     "name": "stdout",
     "output_type": "stream",
     "text": [
      "Here is passage number 1: \"Sure! Here is the passage after removing unnecessary information:\n",
      "\n",
      "The study of systems that behave intelligently, artificial intelligence (AI) includes many key areas where our faculty are recognized leaders: computer vision, machine listening, natural language processing, machine learning, and robotics. Computer vision systems can understand images and videos, such as building extensive geometric and physical models of cities from video or warning construction workers about nearby dangers. Natural language processing systems understand written and spoken language, including automatic translation of text from one language to another or understanding text on Wikipedia to produce knowledge about the world. Machine listening systems understand audio signals, such as speech recognition, acoustic monitoring, or transcribing polyphonic music automatically. Crucial to modern artificial intelligence, machine learning methods exploit examples to adjust systems to work as effectively as possible. Robotics puts artificial intelligence into practice using machines that perceive and interact with the physical world.\n",
      "\n",
      "The AI group at Illinois is strong, diverse, and growing, combining expertise in core strengths with promising new research directions. In machine learning, AI group faculty are studying theoretical foundations of deep and reinforcement learning, developing novel models and algorithms for deep neural networks, federated, and distributed learning, as well as investigating issues related to scalability, security, privacy, and fairness of learning systems. Computer vision faculty are developing novel approaches for 2D and 3D scene understanding from still images and video, joint understanding of images and language, low-shot learning, transfer learning, and domain adaptation. Natural language processing faculty are working on topics such as grounded language understanding, information extraction and text mining, and knowledge-driven natural language generation. Machine listening faculty are working on sound and speech understanding, source separation, and enhancement, as well as applications in music and computing. Robotics faculty are developing novel planning algorithms for grasping, locomotion, and navigation, investigating multi-robot systems, and pursuing high-impact applications of robotics to medicine, agriculture, home care, and autonomous driving.\"\n",
      "\n",
      "Here is passage number 2: \"Sure! Here is the passage after removing unnecessary information:\n",
      "\n",
      "Undergraduates at Illinois Computer Science are an important part of our world-renowned research. From summer programs to paid research positions with faculty, there are multiple ways for our students to contribute to high-impact research early in their careers. These programs include:\n",
      "\n",
      "* ISUR (Inclusive and Supportive Undergraduate Research) - A CS department program designed for University of Illinois undergraduate students who are interested in pursuing research while also serving as departmental leaders and community builders.\n",
      "* IBM-ILLINOIS and ISUR Partnership - An program that funds undergraduate research on AI and cognitive computing, from theory to practical application.\n",
      "* Promoting Undergraduate Research in Engineering (PURE) - A semester-long, student-run research program where freshmen and sophomore students are connected with graduate student mentors to get an early jump-start in their research career.\n",
      "* INCLUSION - A 10-week program for applicants from underrepresented communities to work in pairs with mentors on research aimed towards social impact.\n",
      "* Summer Research Program (SRP) - A program where students work on high-impact research with university faculty while also attending professional development programming aimed at helping students become stronger researchers and strong candidates for graduate school.\n",
      "\n",
      "Overall, Illinois Computer Science offers various research opportunities for undergraduate students to contribute to impactful projects, develop their skills, and prepare for their future careers.\"\n",
      "\n",
      "Here is passage number 3: \"Sure! Here's the modified passage without unnecessary information, retained in paragraph form:\n",
      "\n",
      "At the University of Illinois, the computer science department is one of the largest in the nation, offering a top-tier education to its students. Our students are the future entrepreneurs, researchers, scholars, and industry leaders. We provide hands-on learning experiences in the classroom and lab, preparing them for leadership positions in academia and industry. Our Computer Science alumni play a pivotal role in many high-tech companies around the world.\n",
      "\n",
      "We offer various opportunities for recruitment, including posting jobs on Handshake, our online job board, and reaching out to our student organizations. For companies looking to recruit only Computer Science and Electrical and Computer Engineering students, we offer the Corporate Connection Affiliates Program. This program provides a central point of entry for partnering with our departments.\n",
      "\n",
      "Our faculty members are internationally recognized and bring their expertise to solve real-world problems. Our research expenditures exceed $30 million annually. The Thomas M. Siebel Center for Computer Science features state-of-the-art facilities, including classrooms, research labs, and meeting spaces.\n",
      "\n",
      "Join us to make innovation a part of your business. Contact us at external-relations@cs.illinois.edu for more information on recruiting or research collaborations.\"\n",
      "\n",
      "\n",
      "Can you combine these passages into one summary?\n",
      "Before the end of each sentence in the summary, add a citation showing the original passage that the sentence came from.\n",
      "For example, add \"[Passage 1]\" before the ending period of the sentence if the sentence came from the original Passage 1.\n",
      "\n"
     ]
    }
   ],
   "source": [
    "prompt = ''\n",
    "for i in range(len(urls)):\n",
    "    s = ''.join(outputs_pl[i]).replace('  ', ' ')\n",
    "    prompt += f'Here is passage number {i+1}: \"{s}\"\\n\\n'\n",
    "prompt += \"\"\"\n",
    "Can you combine these passages into one summary?\n",
    "Before the end of each sentence in the summary, add a citation showing the original passage that the sentence came from.\n",
    "For example, add \"[Passage 1]\" before the ending period of the sentence if the sentence came from the original Passage 1.\n",
    "\"\"\"\n",
    "print(prompt)"
   ]
  },
  {
   "cell_type": "code",
   "execution_count": 84,
   "id": "4ed0f2a8-56dc-4518-80ab-f0d7f12f6e64",
   "metadata": {},
   "outputs": [
    {
     "name": "stdout",
     "output_type": "stream",
     "text": [
      "Of course! Here is a summary of the three passages, with citations added at the end of each sentence:\n",
      "\n",
      "The University of Illinois' Computer Science Department offers various research opportunities for undergraduate students to contribute to impactful projects, develop their skills, and prepare for their future careers [Passage 2]. The department is one of the largest in the nation, providing hands-on learning experiences in the classroom and lab, and preparing students for leadership positions in academia and industry [Passage 3]. Faculty members are internationally recognized and bring their expertise to solve real-world problems, with research expenditures exceeding $30 million annually [Passage 3]. The Thomas M. Siebel Center for Computer Science features state-of-the-art facilities, including classrooms, research labs, and meeting spaces [Passage 3]. Undergraduate students can contribute to high-impact research early in their careers through programs like ISUR, IBM-ILLINOIS and ISUR Partnership, PURE, INCLUSION, and SRP [Passage 2].\n",
      "\n",
      "Note: I have combined the passages in a way that makes sense and is easy to read, while maintaining the original meaning and integrity of the content. I have also added citations at the end of each sentence to indicate which passage the sentence came from.\n"
     ]
    }
   ],
   "source": [
    "out = prompt_llama2(prompt)\n",
    "print(out)"
   ]
  },
  {
   "cell_type": "markdown",
   "id": "83409d77-bac7-44cb-a9d1-05fda87e356b",
   "metadata": {},
   "source": [
    "#### Using the LLM-extracted trafilatura text"
   ]
  },
  {
   "cell_type": "code",
   "execution_count": 93,
   "id": "473ed152-4c50-44f2-afcd-68f46d3ebabd",
   "metadata": {},
   "outputs": [],
   "source": [
    "prompt = ''\n",
    "for i in range(len(urls)):\n",
    "    s = ''.join(outputs_tr[i]).replace('  ', ' ')\n",
    "    prompt += f'Here is passage number {i+1}: \"{s}\"\\n\\n'\n",
    "prompt += \"\"\"\n",
    "Can you combine these passages into one passage?\n",
    "Before the end of each sentence in the passage, add a citation showing the original passage that the sentence came from.\n",
    "For example, add \"[Passage 1]\" before the ending period of the sentence if the sentence came from the original Passage 1.\n",
    "\"\"\""
   ]
  },
  {
   "cell_type": "code",
   "execution_count": 97,
   "id": "3cbff79f-64bf-4a7e-bfb5-0862b4e86ebd",
   "metadata": {},
   "outputs": [],
   "source": [
    "# out = prompt_llama2(prompt)\n",
    "# print(out)"
   ]
  },
  {
   "cell_type": "markdown",
   "id": "c76a8862-78ca-4c6c-a9c9-739c34893290",
   "metadata": {},
   "source": [
    "#### Using webpage URL extracted method"
   ]
  },
  {
   "cell_type": "code",
   "execution_count": 106,
   "id": "2e573e5e-b976-4f8e-9e0c-2cf35007ed8b",
   "metadata": {
    "scrolled": true
   },
   "outputs": [],
   "source": [
    "prompt = ''\n",
    "for i in range(len(urls)):\n",
    "    s = ''.join(outputs_url[i]).replace('  ', ' ')\n",
    "    prompt += f'Here is passage number {i+1}: \"{s}\"\\n\\n'\n",
    "prompt += \"\"\"\n",
    "Can you combine these passages into one summary?\n",
    "Before the end of each sentence in the summary, add a citation showing the original passage that the sentence came from.\n",
    "For example, add \"[Passage 1]\" before the ending period of the sentence if the sentence came from the original Passage 1.\n",
    "\"\"\""
   ]
  },
  {
   "cell_type": "code",
   "execution_count": 96,
   "id": "4c4dd818-32a4-4623-870c-822ce2d5668d",
   "metadata": {},
   "outputs": [],
   "source": [
    "# out = prompt_llama2(prompt)\n",
    "# print(out)"
   ]
  }
 ],
 "metadata": {
  "kernelspec": {
   "display_name": "Python 3 (ipykernel)",
   "language": "python",
   "name": "python3"
  },
  "language_info": {
   "codemirror_mode": {
    "name": "ipython",
    "version": 3
   },
   "file_extension": ".py",
   "mimetype": "text/x-python",
   "name": "python",
   "nbconvert_exporter": "python",
   "pygments_lexer": "ipython3",
   "version": "3.8.18"
  }
 },
 "nbformat": 4,
 "nbformat_minor": 5
}
