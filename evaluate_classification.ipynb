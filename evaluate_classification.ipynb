{
 "cells": [
  {
   "cell_type": "code",
   "execution_count": 1,
   "id": "64306b92-5875-4331-9b38-d626978fe005",
   "metadata": {},
   "outputs": [],
   "source": [
    "import pandas as pd\n",
    "import re\n",
    "from sklearn.feature_extraction.text import TfidfVectorizer\n",
    "from sklearn.pipeline import Pipeline\n",
    "from sklearn.compose import ColumnTransformer\n",
    "from sklearn.model_selection import train_test_split\n",
    "from sklearn.metrics import classification_report\n",
    "from sklearn.metrics import accuracy_score, confusion_matrix\n",
    "\n",
    "from sklearn.ensemble import RandomForestClassifier\n",
    "from sklearn.linear_model import SGDClassifier\n",
    "from sklearn.linear_model import LogisticRegression\n",
    "\n",
    "from nltk.corpus import stopwords\n",
    "from nltk.tokenize import word_tokenize\n",
    "from nltk.stem import WordNetLemmatizer\n",
    "from nltk.corpus import wordnet"
   ]
  },
  {
   "cell_type": "code",
   "execution_count": 2,
   "id": "bea97371-53f7-406b-b9c5-bfb6d82b461b",
   "metadata": {},
   "outputs": [],
   "source": [
    "with open('classification_dataset/labels.txt') as f:\n",
    "    labels = f.read().splitlines()\n",
    "with open('classification_dataset/passages.txt') as f:\n",
    "    passages = f.read().splitlines()"
   ]
  },
  {
   "cell_type": "markdown",
   "id": "9823ffce-9761-4cbe-83c6-8fc4ea394f54",
   "metadata": {},
   "source": [
    "### Traditional methods"
   ]
  },
  {
   "cell_type": "code",
   "execution_count": 3,
   "id": "012e7c07-4517-44ff-a5a4-d0e0f28124c5",
   "metadata": {},
   "outputs": [],
   "source": [
    "def clean_document(strs):\n",
    "    strs = strs.replace('\\\\n', '').replace('\\\\r', '') # newline\n",
    "    strs = re.sub('[^a-zA-Z]', ' ', strs) # punctuation\n",
    "    strs = ' '.join(re.split('\\s+', strs)) # duplicate whitespace\n",
    "    strs = strs.lower().strip() # lowercase\n",
    "    \n",
    "    stop_words = set(stopwords.words('english'))\n",
    "    word_tokens = word_tokenize(strs)\n",
    "    lemmatizer = WordNetLemmatizer()\n",
    "    filtered = [lemmatizer.lemmatize(w) for w in word_tokens if w not in stop_words]\n",
    "    \n",
    "    return ' '.join(filtered)\n",
    "\n",
    "def num_years(sentence):\n",
    "    strs = sentence.split(' ')\n",
    "    count = 0\n",
    "    for s in strs:\n",
    "        match = re.match(r'.*([1-2][0-9]{3})', s)\n",
    "        if match is not None:\n",
    "            count += 1\n",
    "    \n",
    "    return count"
   ]
  },
  {
   "cell_type": "code",
   "execution_count": 4,
   "id": "4a79bd89-6a55-4893-9670-241d0148e816",
   "metadata": {},
   "outputs": [
    {
     "data": {
      "text/html": [
       "<div>\n",
       "<style scoped>\n",
       "    .dataframe tbody tr th:only-of-type {\n",
       "        vertical-align: middle;\n",
       "    }\n",
       "\n",
       "    .dataframe tbody tr th {\n",
       "        vertical-align: top;\n",
       "    }\n",
       "\n",
       "    .dataframe thead th {\n",
       "        text-align: right;\n",
       "    }\n",
       "</style>\n",
       "<table border=\"1\" class=\"dataframe\">\n",
       "  <thead>\n",
       "    <tr style=\"text-align: right;\">\n",
       "      <th></th>\n",
       "      <th>label</th>\n",
       "      <th>passage</th>\n",
       "      <th>cleaned_text</th>\n",
       "      <th>num_years</th>\n",
       "    </tr>\n",
       "  </thead>\n",
       "  <tbody>\n",
       "    <tr>\n",
       "      <th>0</th>\n",
       "      <td>academics</td>\n",
       "      <td>As a liberal arts and sciences college nestled...</td>\n",
       "      <td>liberal art science college nestled within wor...</td>\n",
       "      <td>0</td>\n",
       "    </tr>\n",
       "    <tr>\n",
       "      <th>1</th>\n",
       "      <td>academics</td>\n",
       "      <td>Harvard College's academic opportunities expos...</td>\n",
       "      <td>harvard college academic opportunity expose wo...</td>\n",
       "      <td>0</td>\n",
       "    </tr>\n",
       "    <tr>\n",
       "      <th>2</th>\n",
       "      <td>academics</td>\n",
       "      <td>Research is the key that unlocks new knowledge...</td>\n",
       "      <td>research key unlocks new knowledge harvard put...</td>\n",
       "      <td>0</td>\n",
       "    </tr>\n",
       "    <tr>\n",
       "      <th>3</th>\n",
       "      <td>academics</td>\n",
       "      <td>The Academic Resource Center (ARC) at Harvard ...</td>\n",
       "      <td>academic resource center arc harvard universit...</td>\n",
       "      <td>0</td>\n",
       "    </tr>\n",
       "    <tr>\n",
       "      <th>4</th>\n",
       "      <td>academics</td>\n",
       "      <td>We offer more than 3,700 courses in 50 undergr...</td>\n",
       "      <td>offer course undergraduate field study call co...</td>\n",
       "      <td>0</td>\n",
       "    </tr>\n",
       "  </tbody>\n",
       "</table>\n",
       "</div>"
      ],
      "text/plain": [
       "       label                                            passage  \\\n",
       "0  academics  As a liberal arts and sciences college nestled...   \n",
       "1  academics  Harvard College's academic opportunities expos...   \n",
       "2  academics  Research is the key that unlocks new knowledge...   \n",
       "3  academics  The Academic Resource Center (ARC) at Harvard ...   \n",
       "4  academics  We offer more than 3,700 courses in 50 undergr...   \n",
       "\n",
       "                                        cleaned_text  num_years  \n",
       "0  liberal art science college nestled within wor...          0  \n",
       "1  harvard college academic opportunity expose wo...          0  \n",
       "2  research key unlocks new knowledge harvard put...          0  \n",
       "3  academic resource center arc harvard universit...          0  \n",
       "4  offer course undergraduate field study call co...          0  "
      ]
     },
     "execution_count": 4,
     "metadata": {},
     "output_type": "execute_result"
    }
   ],
   "source": [
    "df = pd.DataFrame()\n",
    "df['label'] = labels\n",
    "df['passage'] = passages\n",
    "df['cleaned_text'] = df['passage'].apply(lambda x: clean_document(x))\n",
    "df['num_years'] = df['passage'].apply(lambda x: num_years(x))\n",
    "df.head()"
   ]
  },
  {
   "cell_type": "code",
   "execution_count": 5,
   "id": "4c3c9216-f430-40c6-ac32-5e2914405d3b",
   "metadata": {},
   "outputs": [
    {
     "data": {
      "text/plain": [
       "array(['academics', 'student life', 'campus', 'history'], dtype=object)"
      ]
     },
     "execution_count": 5,
     "metadata": {},
     "output_type": "execute_result"
    }
   ],
   "source": [
    "df['label'].unique()"
   ]
  },
  {
   "cell_type": "code",
   "execution_count": 6,
   "id": "6f5c6729-dede-4c57-8e1f-5dd51f54b6b1",
   "metadata": {},
   "outputs": [
    {
     "name": "stdout",
     "output_type": "stream",
     "text": [
      "label\n",
      "academics       68\n",
      "campus          51\n",
      "history         52\n",
      "student life    70\n",
      "Name: cleaned_text, dtype: int64\n"
     ]
    },
    {
     "data": {
      "text/plain": [
       "<Axes: xlabel='label'>"
      ]
     },
     "execution_count": 6,
     "metadata": {},
     "output_type": "execute_result"
    },
    {
     "data": {
      "image/png": "[encoded data removed]",
      "text/plain": [
       "<Figure size 640x480 with 1 Axes>"
      ]
     },
     "metadata": {},
     "output_type": "display_data"
    }
   ],
   "source": [
    "print(df.groupby('label').cleaned_text.count())\n",
    "df.groupby('label').cleaned_text.count().plot.bar()"
   ]
  },
  {
   "cell_type": "code",
   "execution_count": 7,
   "id": "55766c88-1357-4810-9147-836093bbe778",
   "metadata": {},
   "outputs": [],
   "source": [
    "X = df[['cleaned_text', 'num_years']]\n",
    "y = df['label']\n",
    "\n",
    "column_transformer = ColumnTransformer([\n",
    "    ('tfidf', TfidfVectorizer(), 'cleaned_text')\n",
    "])\n",
    "\n",
    "X_train, X_test, y_train, y_test = train_test_split(X, y, test_size=0.33, random_state=0, stratify=y)"
   ]
  },
  {
   "cell_type": "code",
   "execution_count": 8,
   "id": "829b4f0e-0c33-49ba-a137-d4320be2208c",
   "metadata": {},
   "outputs": [
    {
     "name": "stdout",
     "output_type": "stream",
     "text": [
      "accuracy: 0.925\n",
      "              precision    recall  f1-score   support\n",
      "\n",
      "   academics       0.88      1.00      0.94        23\n",
      "      campus       1.00      0.82      0.90        17\n",
      "     history       1.00      0.82      0.90        17\n",
      "student life       0.88      1.00      0.94        23\n",
      "\n",
      "    accuracy                           0.93        80\n",
      "   macro avg       0.94      0.91      0.92        80\n",
      "weighted avg       0.93      0.93      0.92        80\n",
      "\n"
     ]
    }
   ],
   "source": [
    "rfc = Pipeline([('preprocess', column_transformer),\n",
    "                ('rfc', RandomForestClassifier(n_estimators=100, random_state=0))])\n",
    "\n",
    "rfc.fit(X_train, y_train)\n",
    "y_pred = rfc.predict(X_test)\n",
    "\n",
    "print(f'accuracy: {accuracy_score(y_pred, y_test)}')\n",
    "print(classification_report(y_test, y_pred))"
   ]
  },
  {
   "cell_type": "code",
   "execution_count": 9,
   "id": "6627fa6c-6958-44a1-84e5-2212cb45d83f",
   "metadata": {},
   "outputs": [
    {
     "name": "stdout",
     "output_type": "stream",
     "text": [
      "accuracy: 1.0\n",
      "              precision    recall  f1-score   support\n",
      "\n",
      "   academics       1.00      1.00      1.00        23\n",
      "      campus       1.00      1.00      1.00        17\n",
      "     history       1.00      1.00      1.00        17\n",
      "student life       1.00      1.00      1.00        23\n",
      "\n",
      "    accuracy                           1.00        80\n",
      "   macro avg       1.00      1.00      1.00        80\n",
      "weighted avg       1.00      1.00      1.00        80\n",
      "\n"
     ]
    }
   ],
   "source": [
    "# SVM with sgd\n",
    "sgd = Pipeline([('preprocess', column_transformer),\n",
    "                ('clf', SGDClassifier(loss='hinge', penalty='l2', alpha=1e-3, random_state=0, tol=None))])\n",
    "\n",
    "sgd.fit(X_train, y_train)\n",
    "y_pred = sgd.predict(X_test)\n",
    "\n",
    "print(f'accuracy: {accuracy_score(y_pred, y_test)}')\n",
    "print(classification_report(y_test, y_pred))"
   ]
  },
  {
   "cell_type": "code",
   "execution_count": 10,
   "id": "e2fb2f67-1063-405f-a4e2-17a49866345b",
   "metadata": {},
   "outputs": [
    {
     "name": "stdout",
     "output_type": "stream",
     "text": [
      "accuracy: 1.0\n",
      "              precision    recall  f1-score   support\n",
      "\n",
      "   academics       1.00      1.00      1.00        23\n",
      "      campus       1.00      1.00      1.00        17\n",
      "     history       1.00      1.00      1.00        17\n",
      "student life       1.00      1.00      1.00        23\n",
      "\n",
      "    accuracy                           1.00        80\n",
      "   macro avg       1.00      1.00      1.00        80\n",
      "weighted avg       1.00      1.00      1.00        80\n",
      "\n"
     ]
    }
   ],
   "source": [
    "log_reg = Pipeline([('preprocess', column_transformer),\n",
    "                ('clf', LogisticRegression(C=1e5))])\n",
    "\n",
    "log_reg.fit(X_train, y_train)\n",
    "y_pred = log_reg.predict(X_test)\n",
    "\n",
    "print(f'accuracy: {accuracy_score(y_pred, y_test)}')\n",
    "print(classification_report(y_test, y_pred))"
   ]
  },
  {
   "cell_type": "markdown",
   "id": "085d45b7-14d7-4916-a04f-bae0c7921504",
   "metadata": {},
   "source": [
    "### LLM"
   ]
  },
  {
   "cell_type": "code",
   "execution_count": 11,
   "id": "7888be87-9cfd-406c-afe1-a2e0cedbf5c7",
   "metadata": {},
   "outputs": [],
   "source": [
    "from transformers import AutoTokenizer, pipeline\n",
    "import torch"
   ]
  },
  {
   "cell_type": "code",
   "execution_count": 12,
   "id": "d4a928a4-a0fd-4608-91b8-e9973d28b5bc",
   "metadata": {},
   "outputs": [
    {
     "data": {
      "application/vnd.jupyter.widget-view+json": {
       "model_id": "9bc1c10697a3428c88319cdee7463926",
       "version_major": 2,
       "version_minor": 0
      },
      "text/plain": [
       "Loading checkpoint shards:   0%|          | 0/3 [00:00<?, ?it/s]"
      ]
     },
     "metadata": {},
     "output_type": "display_data"
    }
   ],
   "source": [
    "model = \"meta-llama/Llama-2-13b-chat-hf\"\n",
    "tokenizer = AutoTokenizer.from_pretrained(model)\n",
    "pipeline = pipeline(\n",
    "    \"text-generation\",\n",
    "    model=model,\n",
    "    torch_dtype=torch.float16,\n",
    "    device_map=\"auto\",\n",
    ")"
   ]
  },
  {
   "cell_type": "code",
   "execution_count": 13,
   "id": "671c3ae1-7fe5-4f6f-8d9d-f98321dda8bb",
   "metadata": {},
   "outputs": [],
   "source": [
    "def prompt_llama2(prompt):\n",
    "    prompt_template=f'''[INST] <<SYS>>\n",
    "    You are a helpful, respectful and honest assistant.\n",
    "    <</SYS>> {prompt} [/INST]'''\n",
    "    \n",
    "    sequences = pipeline(\n",
    "        prompt_template,\n",
    "        do_sample=True,\n",
    "        num_return_sequences=1,\n",
    "        eos_token_id=tokenizer.eos_token_id,\n",
    "        #max_length=2048,\n",
    "        temperature=1, # same every time\n",
    "        top_p=0.95,\n",
    "        top_k=40,\n",
    "        repetition_penalty=1.1,\n",
    "    )\n",
    "    result = sequences[0]['generated_text']\n",
    "    return result.split('[/INST]')[1].strip()"
   ]
  },
  {
   "cell_type": "code",
   "execution_count": 14,
   "id": "00cdb8ca-8b81-475d-9af6-c6e01d869b39",
   "metadata": {},
   "outputs": [
    {
     "name": "stdout",
     "output_type": "stream",
     "text": [
      "Here is the passage: Our three main campuses—in Cambridge, Allston, and Boston—are a home to students and faculty, a hub of research and innovation, and a destination for visitors from all over the world.\n",
      "\n",
      "Which of these categories is the passage related to: academics, campus, history, or student life?\n",
      "No preamble, get right to the answer. Output one choice and one word only. For example,\n",
      "\n",
      "Input: Here is a passage...\n",
      "Output: 'category'\n",
      "\n"
     ]
    }
   ],
   "source": [
    "categories = ['academics', 'campus', 'history', 'student life']\n",
    "\n",
    "prompt = f\"\"\"Here is the passage: {passages[8]}\n",
    "\n",
    "Which of these categories is the passage related to: {categories[0]}, {categories[1]}, {categories[2]}, or {categories[3]}?\n",
    "No preamble, get right to the answer. Output one choice and one word only. For example,\n",
    "\n",
    "Input: Here is a passage...\n",
    "Output: 'category'\n",
    "\"\"\"\n",
    "print(prompt)"
   ]
  },
  {
   "cell_type": "code",
   "execution_count": 15,
   "id": "092c1466-84e5-4d50-94ea-0df5ca9555c0",
   "metadata": {},
   "outputs": [
    {
     "name": "stdout",
     "output_type": "stream",
     "text": [
      "Sure thing! Based on the content of the provided passage, the category is...\n",
      "\n",
      "Campus\n",
      "CPU times: user 1.8 s, sys: 646 ms, total: 2.45 s\n",
      "Wall time: 7.95 s\n"
     ]
    }
   ],
   "source": [
    "%%time\n",
    "out = prompt_llama2(prompt)\n",
    "print(out)"
   ]
  },
  {
   "cell_type": "code",
   "execution_count": 16,
   "id": "f3a187de-c88e-49b0-9d22-689bea4f53fd",
   "metadata": {},
   "outputs": [
    {
     "name": "stdout",
     "output_type": "stream",
     "text": [
      "0 done\n"
     ]
    },
    {
     "name": "stderr",
     "output_type": "stream",
     "text": [
      "/home/ericzc2/miniconda3/envs/llm/lib/python3.8/site-packages/transformers/pipelines/base.py:1101: UserWarning: You seem to be using the pipelines sequentially on GPU. In order to maximize efficiency please use a dataset\n",
      "  warnings.warn(\n"
     ]
    },
    {
     "name": "stdout",
     "output_type": "stream",
     "text": [
      "25 done\n",
      "50 done\n",
      "75 done\n",
      "100 done\n",
      "125 done\n",
      "150 done\n",
      "175 done\n",
      "200 done\n",
      "225 done\n",
      "CPU times: user 3min 45s, sys: 56.2 s, total: 4min 41s\n",
      "Wall time: 4min 42s\n"
     ]
    }
   ],
   "source": [
    "%%time\n",
    "categories = ['academics', 'campus', 'history', 'student life']\n",
    "pred = []\n",
    "outputs = []\n",
    "for i, (label, passage) in enumerate(zip(labels, passages)):\n",
    "    prompt = f\"\"\"Here is the passage: {passage}\n",
    "\n",
    "    Which of these categories is the passage related to: {categories[0]}, {categories[1]}, {categories[2]}, or {categories[3]}?\n",
    "    No preamble, get right to the answer. Output one choice and one word only. For example,\n",
    "    \n",
    "    Input: Here is a passage...\n",
    "    Output: 'category'\n",
    "    \"\"\"\n",
    "    output = prompt_llama2(prompt)\n",
    "    outputs.append(output)\n",
    "\n",
    "    if 'academics' in output.lower():\n",
    "        pred.append('academics')\n",
    "    elif 'campus' in output.lower():\n",
    "        pred.append('campus')\n",
    "    elif 'history' in output.lower():\n",
    "        pred.append('history')\n",
    "    elif 'student life' in output.lower():\n",
    "        pred.append('student life')\n",
    "    else:\n",
    "        pred.append('other')\n",
    "        \n",
    "    if i % 25 == 0:\n",
    "        print(f'{i} done')"
   ]
  },
  {
   "cell_type": "code",
   "execution_count": 17,
   "id": "1d72735e-268f-4c8d-8e49-7a6bb56842f0",
   "metadata": {},
   "outputs": [
    {
     "name": "stdout",
     "output_type": "stream",
     "text": [
      "accuracy: 0.8796680497925311\n",
      "              precision    recall  f1-score   support\n",
      "\n",
      "   academics       0.94      0.88      0.91        68\n",
      "      campus       0.94      0.67      0.78        51\n",
      "     history       0.77      0.98      0.86        52\n",
      "student life       0.89      0.96      0.92        70\n",
      "\n",
      "    accuracy                           0.88       241\n",
      "   macro avg       0.89      0.87      0.87       241\n",
      "weighted avg       0.89      0.88      0.88       241\n",
      "\n"
     ]
    }
   ],
   "source": [
    "print(f'accuracy: {accuracy_score(pred, labels)}')\n",
    "print(classification_report(labels, pred))"
   ]
  },
  {
   "cell_type": "code",
   "execution_count": 18,
   "id": "56afd09b-7f3f-480b-b1ce-296a2efa6813",
   "metadata": {},
   "outputs": [
    {
     "name": "stdout",
     "output_type": "stream",
     "text": [
      "Index: 0, label: academics, pred: student life\n",
      "--------------------------------------------------\n",
      "Index: 19, label: campus, pred: history\n",
      "--------------------------------------------------\n",
      "Index: 52, label: student life, pred: academics\n",
      "--------------------------------------------------\n",
      "Index: 53, label: student life, pred: campus\n",
      "--------------------------------------------------\n",
      "Index: 60, label: campus, pred: student life\n",
      "--------------------------------------------------\n",
      "Index: 70, label: campus, pred: history\n",
      "--------------------------------------------------\n",
      "Index: 71, label: campus, pred: history\n",
      "--------------------------------------------------\n",
      "Index: 72, label: campus, pred: history\n",
      "--------------------------------------------------\n",
      "Index: 86, label: student life, pred: campus\n",
      "--------------------------------------------------\n",
      "Index: 90, label: campus, pred: academics\n",
      "--------------------------------------------------\n",
      "Index: 107, label: campus, pred: student life\n",
      "--------------------------------------------------\n",
      "Index: 109, label: campus, pred: student life\n",
      "--------------------------------------------------\n",
      "Index: 110, label: campus, pred: student life\n",
      "--------------------------------------------------\n",
      "Index: 114, label: history, pred: academics\n",
      "--------------------------------------------------\n",
      "Index: 115, label: academics, pred: student life\n",
      "--------------------------------------------------\n",
      "Index: 120, label: campus, pred: history\n",
      "--------------------------------------------------\n",
      "Index: 133, label: campus, pred: student life\n",
      "--------------------------------------------------\n",
      "Index: 134, label: campus, pred: history\n",
      "--------------------------------------------------\n",
      "Index: 148, label: campus, pred: student life\n",
      "--------------------------------------------------\n",
      "Index: 150, label: campus, pred: history\n",
      "--------------------------------------------------\n",
      "Index: 161, label: campus, pred: academics\n",
      "--------------------------------------------------\n",
      "Index: 175, label: campus, pred: history\n",
      "--------------------------------------------------\n",
      "Index: 208, label: campus, pred: history\n",
      "--------------------------------------------------\n",
      "Index: 212, label: academics, pred: history\n",
      "--------------------------------------------------\n",
      "Index: 215, label: academics, pred: history\n",
      "--------------------------------------------------\n",
      "Index: 216, label: academics, pred: history\n",
      "--------------------------------------------------\n",
      "Index: 222, label: academics, pred: history\n",
      "--------------------------------------------------\n",
      "Index: 232, label: academics, pred: history\n",
      "--------------------------------------------------\n",
      "Index: 236, label: academics, pred: history\n",
      "--------------------------------------------------\n"
     ]
    }
   ],
   "source": [
    "for i, (l, p, o) in enumerate(zip(labels, pred, outputs)):\n",
    "    if l != p:\n",
    "        print(f'Index: {i}, label: {l}, pred: {p}')\n",
    "        #print(o)\n",
    "        print('-'*50)"
   ]
  }
 ],
 "metadata": {
  "kernelspec": {
   "display_name": "Python 3 (ipykernel)",
   "language": "python",
   "name": "python3"
  },
  "language_info": {
   "codemirror_mode": {
    "name": "ipython",
    "version": 3
   },
   "file_extension": ".py",
   "mimetype": "text/x-python",
   "name": "python",
   "nbconvert_exporter": "python",
   "pygments_lexer": "ipython3",
   "version": "3.8.18"
  },
  "vscode": {
   "interpreter": {
    "hash": "aee8b7b246df8f9039afb4144a1f6fd8d2ca17a180786b69acc140d282b71a49"
   }
  }
 },
 "nbformat": 4,
 "nbformat_minor": 5
}
