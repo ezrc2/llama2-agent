{
 "cells": [
  {
   "cell_type": "code",
   "execution_count": 1,
   "id": "9e878309-40d6-4a57-bd95-d80485158406",
   "metadata": {},
   "outputs": [],
   "source": [
    "import utils\n",
    "from bs4 import BeautifulSoup\n",
    "import requests\n",
    "from trafilatura import fetch_url, extract, baseline\n",
    "from trafilatura.settings import use_config"
   ]
  },
  {
   "cell_type": "code",
   "execution_count": 29,
   "id": "9b2d2e34-adc5-4ce4-b929-13f586a6cec0",
   "metadata": {},
   "outputs": [],
   "source": [
    "### testing links\n",
    "tab_links = ['https://cs.illinois.edu/', \n",
    "             'https://cs.illinois.edu/about/people/department-faculty', \n",
    "             'https://cs.illinois.edu/academics/undergraduate/degree-program-options'\n",
    "             'https://cs.illinois.edu/academics/courses',\n",
    "             'https://cs.illinois.edu/research'\n",
    "            ]\n",
    "text_links = ['https://cs.illinois.edu/research/areas/artificial-intelligence', \n",
    "              'https://cs.illinois.edu/research/areas/data-and-information-systems',\n",
    "              'https://cs.illinois.edu/academics/undergraduate/registration',\n",
    "              'https://cs.illinois.edu/student-life/student-organizations',\n",
    "              'https://cs.illinois.edu/academics/graduate',\n",
    "              'http://catalog.illinois.edu/courses-of-instruction/cs/'\n",
    "             ]"
   ]
  },
  {
   "cell_type": "markdown",
   "id": "825651be-ea47-4b6a-9611-40f40c1c0f70",
   "metadata": {},
   "source": [
    "## Webpage categorization"
   ]
  },
  {
   "cell_type": "markdown",
   "id": "e5969b94-1d14-47d9-84b2-f57943db004e",
   "metadata": {},
   "source": [
    "### By word count"
   ]
  },
  {
   "cell_type": "code",
   "execution_count": 3,
   "id": "b95efe0c-f14b-46e1-9601-51d06d49da40",
   "metadata": {},
   "outputs": [],
   "source": [
    "def text_density_by_word_count(url):\n",
    "    headers = {'user-agent': 'Mozilla/5.0 (X11; Linux x86_64) AppleWebKit/537.36 (KHTML, like Gecko) Chrome/86.0.4240.111 Safari/537.36'}\n",
    "    page = requests.get(url, headers=headers)\n",
    "    soup = BeautifulSoup(page.text, 'lxml')\n",
    "    \n",
    "    #all_text = utils.extract_all_text(url)\n",
    "    all_text = soup.body.get_text(' ', strip=True)\n",
    "    all_text = ''.join(set(all_text.split('.')))\n",
    "    paragraph_text = ' '.join(utils.extract_paragraphs(url))\n",
    "    paragraph_text = ''.join(set(paragraph_text.split('.')))\n",
    "    \n",
    "    a = len(all_text.split())\n",
    "    p = len(paragraph_text.split())\n",
    "    return round(p / a, 2), a, p, all_text, paragraph_text"
   ]
  },
  {
   "cell_type": "code",
   "execution_count": 4,
   "id": "87b03c3f-e145-4610-a72a-729596123fe8",
   "metadata": {},
   "outputs": [],
   "source": [
    "res = text_density_by_word_count(tab_links[1])"
   ]
  },
  {
   "cell_type": "code",
   "execution_count": 5,
   "id": "452f4d6d-81ab-43ce-ad5d-2b2abf5e15fe",
   "metadata": {},
   "outputs": [
    {
     "data": {
      "text/plain": [
       "(0.01, 1612, 17)"
      ]
     },
     "execution_count": 5,
     "metadata": {},
     "output_type": "execute_result"
    }
   ],
   "source": [
    "res[:3]"
   ]
  },
  {
   "cell_type": "code",
   "execution_count": 6,
   "id": "357543e7-366c-49ba-a7a1-80974957eaf2",
   "metadata": {
    "scrolled": true
   },
   "outputs": [
    {
     "data": {
      "text/plain": [
       "' Amato she/her/hers Abel Bliss Professor of Engineering and Department Head Lawrence Angrave he/him/his Teaching Professor, Gies RC Evans Innovation Fellow, CITL Fellow Tal August he/him/his Assistant Professor (starting August 2024) Brian P Bailey Professor Arindam  Banerjee Founder Professor in Engineering Adam Bates Associate Professor Mattox Alan Beckman Teaching Associate Professor Matthew Caesar Professor George  Chacko Research Associate Professor Geoffrey Werner Challen Teaching Associate Professor Timothy Moon-Yew Chan Founder Professor in Engineering Eshwar  Chandrasekharan he/him/his Assistant Professor Kevin Chenchuan Chang Professor Chandra Sekhar Chekuri Paul and Cynthia Saylor Professor Girish  Chowdhary Associate Professor Camille Cobb Assistant Professor Benjamin Cosman Teaching Assistant Professor Katie Cunningham Assistant Professor Ryan Matthew Cunningham Lecturer David M Hoiem Professor Reyhaneh  Jabbarvand Assistant Professor Sheldon Howard Jacobson Founder Professor in Engineering Heng  Ji Professor Nan  Jiang Assistant Professor Laxmikant V Gropp he/him/his Grainger Distinguished Chair Liangyan  Gui Research Assistant Professor Carl  Gunter George and Ann Fisher Distinguished Professor in Engineering Elsa  Gunter Research Professor and Senior Lecturer Indranil  Gupta Professor Dilek Hakkani Tur she/her/hers Professor (starting January 2024) Jiawei  Han Michael Aiken Chair Sariel  Har-Peled Donald Biggar Willett Professor in Engineering John C Fagen-Ulmschneider Teaching Professor Paul  Fischer Professor Margaret M Siebel Center for Computer Science 201 North Goodwin Avenue MC 258 Urbana , IL 61801 Phone: Fax: Email: Threads Twitter Instagram Facebook LinkedIn YouTube Sound Cloud The Grainger College of Engineering ph: 217-333-3426 (general) | 217-333-4428 (advising) fax: 217-333-3501 General email: head@cs Dalpiaz Teaching Associate Professor Payam  Delgosha Research Assistant Professor Mohammed  El-Kebir Assistant Professor Jeff Erickson he/him/his Sohaib and Sara Abbasi Professor Carl Evans Teaching Assistant Professor Wade ACS University of Illinois at Urbana-Champaign The Grainger College of Engineering Computer Science Search Menu Search About About Rankings & Statistics Contact Us & Office Locations History Timeline Accreditation Values & Code of Conduct CS CARES Committee Contact CS CARES Governance Members Resources People All Faculty Department Faculty Affiliate Faculty Adjunct Faculty Emeritus Faculty Postdoctoral Researchers Staff Office of the Department Head Communications & Engagement Team Undergraduate Advising Office Graduate Advising Office Instructional Development Team Business Office Faculty Support Contacts Facilities, Shipping and Receiving Graduating PhD Students Open Positions Faculty Positions Postdoctoral Positions Future Faculty Fellows Staff Positions Choose Illinois Computer Science Awards 2021 Celebration of Excellence 2022 Celebration of Excellence 2023 Celebration of Excellence Student Award Resources Faculty Awards Chairs and Professorships National & International Awards University of Illinois Awards Undergraduate Scholarships & Awards Graduate Fellowships & Awards Alumni Awards Alumni Awards Past Recipients National & International Awards University of Illinois Awards Staff Awards Calendar All Events Department Events Speaker Series Graduate Events Undergraduate Events Corporate Events CS CARES Events Student Group Events Admissions Ready to apply? Your path begins hereedu Webmaster: grainger-marcom@illinois Apply to UIUC Admissions Admitted Students Undergraduate Admissions Apply Now Degree & Program Options Application Deadlines Applications Process & Requirements Transfer Students Housing Accreditation Graduate Admissions Apply Now Degree & Program Options Professional Master of Computer Science (MCS) Program Application Deadlines Applications Process & Requirements Additional Required Application Materials for International Students Application Fee Waivers Data Structures Proficiency Exam Application Checklist FAQs iCAN FAQs Online MCS FAQs Check Application Status Impact of an Illinois CS Degree Financial Aid Academics Ready to apply? Your path begins here Gillies Memorial Lecture Equity & Justice in Computing Lectures Robert Mueller-Thuns Lecture Donor Profiles Impact Report & Publications Student Life Student Life Overview of CS Student Life Student Organizations Events Student Resources Career Services Course Assistants Broadening Participation Broadening Participation BPC Departmental Plan BPC Programs & Activities for Students CS Student Ambassadors/Research Scholars (CS STARS) CS STARS Participants CS Student Ambassadors/Research Scholars- Application Information Illinois CS Kickstart AI4ALL Apply Now iCAN Apply Now Summer Research Programs BPC Resources Cross-Cutting Educational Activities BPC Conferences & Workshops Equity & Justice in Computing Seminar Series K-12 Outreach & Resources K-12 Outreach Programs K-12 Resources Student Organizations Give Help ensure that Illinois continues to set a global standard for CS research and education Kale Research Professor & Paul and Cynthia Saylor Professor Emeritus Daniel  Kang Assistant Professor Karrie Karahalios Professor Dakshita  Khurana Assistant Professor Andreas Paul Eberhard Kloeckner Associate Professor Bill Kramer choose not to reply Research Professor Robin Hillary Kravets Professor Ranjitha  Kumar Associate Professor Fan  Lai Assistant Professor (starting August 2024) Steven M Make a Gift Give Give Now Ways to Give Donor Profiles Computer Science Visionary Scholarship Donors Home About People Department Faculty Home About People Department Faculty Department Faculty Department Faculty Tarek  Abdelzaher Sohaib and Sara Abbasi Professor and Willett Faculty Scholar Sarita Vedu Graduate Advising: academic@cs Gillies Chair in Computer Science Eric Gene Shaffer Teaching Associate Professor and Associate Director of Undergraduate Programs Mariana  Silva Teaching Associate Professor and Education Innovation Fellow Gagandeep Singh Assistant Professor Makrand SINHA he/him/his Assistant Professor Paris  Smaragdis Professor and Associate Head for Infrastructure and Operations Marc  Snir Research Professor & Michael Faiman Professor Emeritus Brad RS Williams Teaching Professor and Director of Onramp Programs Michael Joseph Woodley Clinical Assistant Professor Tianyin  Xu Assistant Professor Wenzhen Yuan choose not to reply Assistant Professor ChengXiang Zhai Donald Biggar Willett Professor in Engineering Lingming  Zhang Associate Professor Minjia Zhang he/him/his Assistant Professor (starting January 2024) Han Zhao Assistant Professor Craig Zilles he/him/his Professor and Severns Faculty Scholar Contact Us Computer Science Thomas M Reid choose not to reply Research Professor Ling  Ren Assistant Professor Talia Ringer they/them/theirs Assistant Professor Pablo D Gillies Professor in Computer Science Gul A Cheng Professor Vikram Adve Donald B / MD Forbes Assistant Professor David Forsyth Fulton Watson Copp Chair in Computer Science Aishwarya Ganesan she/her/hers Assistant Professor Yael  Gertner Teaching Assistant Professor Saugata  Ghose Assistant Professor Brighten Godfrey Professor William Dillinoisedu Undergraduate Advising: undergrad@cs LaValle Professor Svetlana  Lazebnik Professor, Willett Faculty Scholar, and DGS Colleen M Lewis she/her/hers Associate Professor Bo  Li Assistant Professor Yunzhu Li he/him/his Assistant Professor Hongye  Liu Teaching Assistant Professor Darko  Marinov Professor and Director of Graduate Programs Livingston McPherson they/them/theirs Teaching Assistant Professor (starting August 2024) Ruta  Mehta Associate Professor Charith Mendis Assistant Professor Jose  Meseguer Professor Sasa  Misailovic Associate Professor Marco Morales Aguirre Teaching Associate Professor William (Billy) Moses he/him/his Assistant Professor (starting January 2024) Klara  Nahrstedt Grainger Distinguished Chair in Engineering Michael Nowak Teaching Assistant Professor Luke  Olson Professor and Willett Faculty Scholar Yongjoo  Park Assistant Professor Madhusudan  Parthasarathy Professor Hao Peng Assistant Professor Jian  Peng Associate Professor and Willett Faculty Fellow Lawrence Rauchwerger he/him/his Professor Jim Rehg he/him/his Professor John F Thesis Format Review Guidelines MS Program MS in Bioinformatics Program Professional Master of Computer Science MCS in Chicago On-Campus Master of Computer Science Online Master of Computer Science Online Master of Computer Science in Data Science Fifth Year Masters Programs 5-year BS-MCS Program 5-year BS-MS Program Illinois Computing Accelerator for Non-Specialists (iCAN) Graduate Forms, Thesis & Advising Resources EPI Exam Requirements Graduate Advising Contacts Graduate Official Forms Graduate Student Annual Evaluation Process New Graduate Student Resources MCS On-Campus General Advising for Registration MS General Advising for Registration PhD General Advising for Registration Courses Honor Code Student Resources Research Research Illinois-Insper Partnership Collaborative Research Projects NSF Expeditions in Computing: Mind in Vitro Research Areas Architecture, Compilers, and Parallel Computing Artificial Intelligence Bioinformatics and Computational Biology Computers and Education Data and Information Systems Interactive Computing Programming Languages, Formal Methods, and Software Engineering Scientific Computing Security and Privacy Systems and Networking Theory and Algorithms Speaker Series Corporate Partners Research Overview Summer Research Research Opportunities for Undergraduates Directed Reading Program Trick or Research Summer Research Program Summer Research Program Participants News News Media Mentions News Notes E-News Speaker Series Banerjee Lecture Donald B in Statistics & Computer Science CS Minor CS + X Degree Programs CS + Advertising CS + Animal Sciences CS + Anthropology CS + Astronomy CS + Bioengineering CS + Chemistry CS + Crop Sciences CS + Economics CS + Education CS + Geography & Geographic Information Science CS + Linguistics CS + Music CS + Philosophy CS + Physics CS Undergraduate Degree Options FAQ Registration CS Course Restrictions & Enrollment Caps Policies and Procedures Undergraduate Advising Undergraduate Forms Honors Transfer Students Graduate Academics PhD Program PhD Requirements PhD Time Limits & Milestones PhD Program of Study Process Guidelines for Forming Ph Adve Richard T Hart Professor Kris Kedu Illinois Computer Science in Chicago 200 South Wacker Drive, 7th Floor Chicago, IL 60606 About Cookies Privacy Policy Copyright © 2023 Accessibility Contact Webmaster Powered by SiteManager Go to top in Computer Science B Hauser Professor David Heath Assistant Professor Geoffrey Lindsay Herman he/him/his Severns Teaching Associate Professor Julia Hockenmaier Professor and Willett Faculty Scholar Derek W Fleck Teaching Professor and Director of Undergraduate Programs Christopher Wardlaw Fletcher Associate Professor Michael A in Mathematics & Computer Science B Committee Qualifying Exam Preliminary Exam Final Exam (Thesis Defense) Ph Agha Research Professor and Professor Emeritus Ram Alagappan Assistant Professor Abdussalam Alawini Teaching Associate Professor Nancy M Solomon Teaching Assistant Professor Edgar Solomonik Associate Professor Elahe Soltanaghai Assistant Professor Sarah Gimbert Sterman she/her/hers Resarch Assistant Professor Sharifa Sultana she/her/hers Assistant Professor Jimeng  Sun Professor Hari  Sundaram Professor Ruby Tahboub Teaching Assistant Professor Matus Jan Telgarsky Assistant Professor Hanghang  Tong Associate Professor Josep  Torrellas Saburo Muroga Professor Gokhan Tur Research Professor (starting January 2024) Luther Tychonievich he/him/his Teaching Associate Professor Deepak Vasisht he/him/his Assistant Professor Mahesh  Viswanathan Professor and Associate Head for Academics Gang  Wang Associate Professor Shenlong Wang Assistant Professor Yuxiong  Wang Assistant Professor Tandy  Warnow Grainger Distinguished Chair in Engineering and Associate Head for Research and Faculty Development Tiffani L Apply to UIUC Academics Instructional Area Undergraduate Academics Degree & Program Options BUniversity of Illinois Urbana-Champaign Alumni Corporate People My Robles Granda Teaching Assistant Professor Grigore  Rosu Professor Koustuv Saha he/him/his Assistant Professor Jule Schatz she/her/hers Teaching Assistant Professor Lui Sha Donald B'"
      ]
     },
     "execution_count": 6,
     "metadata": {},
     "output_type": "execute_result"
    }
   ],
   "source": [
    "res[3]"
   ]
  },
  {
   "cell_type": "code",
   "execution_count": 7,
   "id": "88034084-5e16-4431-8709-a4cba7cb5e34",
   "metadata": {},
   "outputs": [
    {
     "data": {
      "text/plain": [
       "' Gillies Chair in Computer Science Gillies Professor in Computer Science Donald BRichard T Cheng Professor Donald B'"
      ]
     },
     "execution_count": 7,
     "metadata": {},
     "output_type": "execute_result"
    }
   ],
   "source": [
    "res[4]"
   ]
  },
  {
   "cell_type": "code",
   "execution_count": 8,
   "id": "d0d5d7f1-217e-4a1e-920d-50084e06d7f8",
   "metadata": {},
   "outputs": [
    {
     "data": {
      "text/plain": [
       "(0.29, 2330, 681)"
      ]
     },
     "execution_count": 8,
     "metadata": {},
     "output_type": "execute_result"
    }
   ],
   "source": [
    "res = text_density_by_word_count(text_links[0])\n",
    "res[:3]"
   ]
  },
  {
   "cell_type": "code",
   "execution_count": 9,
   "id": "a56b39ef-52cd-43eb-a58a-9397a020211a",
   "metadata": {
    "scrolled": true
   },
   "outputs": [
    {
     "data": {
      "text/plain": [
       "' Derek Hoiem is co-founder and Chief Science Officer of Reconstruct, which visually documents construction sites, matching images to plans and analyzing productivity and risk for delay The AI Institute for Molecular Discovery, Synthetic Strategy, and Manufacturing, led by Huimin Zhao from Chemical Engineering, involves Heng Ji and Jian Peng as investigators Amato Robot Motion and Task Planning, Multi-Agent Systems, Crowd Simulation Mark A The AI Institute for Future Agricultural Resilience, Management, and Sustainability (AIFARMS), led by Vikram Adve from CS, features Romit Chowdhary as Associate Director of Research, with other investigators including Alexander Schwing, Katherine Driggs-Campbell, Indranil Gupta, Kris Hauser, Julia Hockenmaier, Heng Ji, Sanmi Koyejo, and Paris Smaragdis Girish Chowdhary \\xa0is co-founder and CTO of EarthSense, a startup creating machine learning and robotics solutions for agriculture, whose work was featured in a 2020 New York Times article Do, Electrical & Computer Engineering Signal Processing, Computational Imaging, Machine Perception, Data Science Katherine Driggs-Campbell, Electrical & Computer Engineering Autonomous Vehicles, Validating Autonomous Systems, Interactive Control Policies for Intelligent Systems in Multi-Agent Settings Margaret Fleck Computational Linguistics David A Siebel Center for Computer Science 201 North Goodwin Avenue MC 258 Urbana , IL 61801 Phone: Fax: Email: Threads Twitter Instagram Facebook LinkedIn YouTube Sound Cloud The Grainger College of Engineering ph: 217-333-3426 (general) | 217-333-4428 (advising) fax: 217-333-3501 General email: head@cs Robotics puts artificial intelligence into practice using machines that perceive and interact with the physical worldCS University of Illinois at Urbana-Champaign The Grainger College of Engineering Computer Science Search Menu Search About About Rankings & Statistics Contact Us & Office Locations History Timeline Accreditation Values & Code of Conduct CS CARES Committee Contact CS CARES Governance Members Resources People All Faculty Department Faculty Affiliate Faculty Adjunct Faculty Emeritus Faculty Postdoctoral Researchers Staff Office of the Department Head Communications & Engagement Team Undergraduate Advising Office Graduate Advising Office Instructional Development Team Business Office Faculty Support Contacts Facilities, Shipping and Receiving Graduating PhD Students Open Positions Faculty Positions Postdoctoral Positions Future Faculty Fellows Staff Positions Choose Illinois Computer Science Awards 2021 Celebration of Excellence 2022 Celebration of Excellence 2023 Celebration of Excellence Student Award Resources Faculty Awards Chairs and Professorships National & International Awards University of Illinois Awards Undergraduate Scholarships & Awards Graduate Fellowships & Awards Alumni Awards Alumni Awards Past Recipients National & International Awards University of Illinois Awards Staff Awards Calendar All Events Department Events Speaker Series Graduate Events Undergraduate Events Corporate Events CS CARES Events Student Group Events Admissions Ready to apply? Your path begins hereedu Webmaster: grainger-marcom@illinois Anastasio, Department of Bioengineering Machine Learning Methods for Imaging Science, Image Reconstruction, Deep Learning for Inverse Problems Arindam Banerjee Machine Learning, Learning Theory, Optimization, Generative Models, Sequential Decision Making, Physics-Guided Machine Learning, Differential Privacy Timothy Bretl, Aerospace Engineering Motion Planning and Control Kevin C Apply to UIUC Admissions Admitted Students Undergraduate Admissions Apply Now Degree & Program Options Application Deadlines Applications Process & Requirements Transfer Students Housing Accreditation Graduate Admissions Apply Now Degree & Program Options Professional Master of Computer Science (MCS) Program Application Deadlines Applications Process & Requirements Additional Required Application Materials for International Students Application Fee Waivers Data Structures Proficiency Exam Application Checklist FAQs iCAN FAQs Online MCS FAQs Check Application Status Impact of an Illinois CS Degree Financial Aid Academics Ready to apply? Your path begins here Gillies Memorial Lecture Equity & Justice in Computing Lectures Robert Mueller-Thuns Lecture Donor Profiles Impact Report & Publications Student Life Student Life Overview of CS Student Life Student Organizations Events Student Resources Career Services Course Assistants Broadening Participation Broadening Participation BPC Departmental Plan BPC Programs & Activities for Students CS Student Ambassadors/Research Scholars (CS STARS) CS STARS Participants CS Student Ambassadors/Research Scholars- Application Information Illinois CS Kickstart AI4ALL Apply Now iCAN Apply Now Summer Research Programs BPC Resources Cross-Cutting Educational Activities BPC Conferences & Workshops Equity & Justice in Computing Seminar Series K-12 Outreach & Resources K-12 Outreach Programs K-12 Resources Student Organizations Give Help ensure that Illinois continues to set a global standard for CS research and education Make a Gift Give Give Now Ways to Give Donor Profiles Computer Science Visionary Scholarship Donors Home Research Research Areas Artificial Intelligence Home Research Research Areas Artificial Intelligence Artificial Intelligence About Faculty Research Groups/Events Related News The study of systems that behave intelligently, artificial intelligence includes several key areas where our faculty\\xa0are recognized leaders: computer vision, machine listening, natural language processing, machine learning and robotics Faculty & Affiliate Faculty Nancy M Research Awards The excellence and impact of the AI group’s research has been recognized by a number of awards, including NSF CAREER (Amato, Hauser, Hockenmaier, Hoiem, Ji, Koyejo, Lazebnik, Smaragdis, Telgarsky), Sloan Research Fellowship (Hoiem, Koyejo, Lazebnik), Microsoft Research Faculty Fellowship (Lazebnik), AFOSR Young Investigator (Chowdhary), IEEE PAMI Significant Young Researcher Award (Hoiem), MIT TR-35 (Li, Smaragdis), Intel Rising Star Award (Li), “Young Scientist” selected by World Economic Forum (Ji), “AI’s Top 10 to Watch” Award by IEEE Intelligent Systems (Ji), ACM Fellow (Amato, Forsyth, Warnow), IEEE Fellow (Amato, Forsyth, Lazebnik, Smaragdis), IEEE Technical Achievement Award (Forsyth), and Packard Fellowship (Warnow) Machine listening systems understand audio signals, with applications like speech recognition, acoustic monitoring, or transcribing polyphonic music automatically Research Focus In machine learning, AI group faculty are studying theoretical foundations of deep and reinforcement learning; developing novel models and algorithms for deep neural networks, federated and distributed learning; as well as investigating issues related to scalability, security, privacy, and fairness of learning systemsedu Graduate Advising: academic@csS Robotics faculty are developing novel planning algorithms for grasping, locomotion, and navigation; investigating multi-robot systems; as well as pursuing high-impact applications of robotics to medicine, agriculture, home care, and autonomous driving Chang Machine Learning, Natural Language Processing, AI Applications, Data Management Support for AI Girish Chowdhary Control, Autonomy and Decision Making, Vision and LIDAR Based Perception, GPS Denied Navigation David Dalpiaz Computational Statistics, Reproducible Research, Statistics Education, Machine Learning Payam Delgosha Graphs, Information Theory, Algorithms, Machine Learning Jana Diesner, School of Information Sciences Social Network Analysis, Natural Language Processing, Machine Learning Minh N It combines expertise in core strengths with promising new research directions David Forsyth advises a number of startups focusing on augmented reality and image synthesis, including Lightform, Revery, and Depix Crucial to modern artificial intelligence, machine learning methods exploit examples in order to adjust systems to work as effectively as possible Computer vision faculty are developing novel approaches for 2D and 3D scene understanding from still images and video; joint understanding of images and language; low-shot learning (recognition of rare or previously unseen categories); transfer learning and domain adaptation (adapting pre-trained systems to a changing data distribution); and image generation and editing approaches based on generative neural networks / MD Computer vision systems can understand images and video, for example, building extensive geometric and physical models of cities from video, or warning construction workers about nearby dangers Strengths and Impact The AI group at Illinois is strong, diverse, and growingillinoisedu Undergraduate Advising: undergrad@cs Forsyth Computer Vision, Object Recognition, Scene Understanding Roxana Girju, Linguistics Computational Linguistics Mani Golparvar-Fard, Civil Engineering Computer Vision Analytics for Building and Construction Performance Monitoring Liangyan Gui Computer Vision, Machine Learning, Motion Analysis, Robotics Saurabh Gupta, Electrical & Computer Engineering Computer Vision, Robotics, Machine Learning Dilek Hakkani Tur Conversational AI and Natural Language Processing Jiawei Han Machine Learning, Natural Language-Based Text Analysis, Text Summarization Mark Hasegawa-Johnson, Electrical & Computer Engineering Statistical Speech Technology Kris Hauser Motion Planning, Optimal Control, Integrated Planning and Learning, Robot Systems Julia Hockenmaier Natural Language Processing, Computational Linguistics Derek Hoiem Computer Vision, Object Recognition, Spatial Understanding, Scene Interpretation Ravi Iyer, Electrical & Computer Engineering Probabilistic Graphical Models; Deep Learning; Data Science; Health Analytics; Safety, Reliablity and Security of Autonomous Systems; Reinforcement Learning Reyhaneh Jabbarvand ML4Code, ML interpretability, testing, and debugging Heng Ji Natural Language Processing, especially on Information Extraction and Knowledge-driven Natural Language Generation, Text Mining, Knowledge Graph Construction for Scientific Discovery Nan Jiang Reinforcement Learning, Machine Learning, Sample Complexity Analyses Daniel Kang Analytics with Machine Learning, Databases with Machine Learning, Machine\\xa0Learning Security, Machine Learning + Cryptography Karrie Karahalios HCI for ML, AI Explainability Volodymyr Kindratenko, NCSA Cyberinfrastructure for Machine Learning, Machine Learning Systems Research, Deep Learning Applications Fan Lai Systems for Machine Learning, Machine Learning for Systems Svetlana Lazebnik Computer Vision, Scene Understanding, Visual Learning, Vision and Language Bo Li Adversarial Machine Learning, Robust Learning Ge Liu Artificial Intelligence Kenton McHenry, NCSA Cyberinfrastructure for Digital Preservation, Auto-Curation, and Managing Unstructured Digital Collections Marco Morales Motion Planning and Control, Autonomous Robots Jian Peng Machine Learning and Optimization Jim Rehg Computer Vision, Ego4D, VR/AR, Mobile Health, Health AI, Machine Learning, Developmental Machine Learning, Behavioral Imaging John Reid Field Robotics, Autonomous Systems Engineering, Machine Perception, Computer Vision Lane Oscar Schwartz, Linguistics Machine Translation, Computational Morphology & Syntax Alexander Schwing, Electrical & Computer Engineering Machine Learning, Computer Vision Gagandeep Singh Certified Artificial Intelligence, Adversarial Robustness, Neural Network Verification, Safe Deep Learning Paris Smaragdis Machine Learning for Audio, Speech and Music; Signal Processing; Source Separation; Sound Recognition and Classification Jimeng Sun Deep Learning for Drug Discovery, Clinical Trial Optimization, Computational Phenotyping, Clinical Predictive Modeling, Mobile Health and Health Monitoring, Tensor Factorization, and Graph Mining Matus Telgarsky Deep Learning Theory Hanghang Tong Explainable AI, Fairness in AI, Adversarial Maching Learning Gokhan Tur Conversational AI Shenlong Wang Computer Vision, Robotics Yuxiong Wang Computer Vision, Machine Learning, Meta-Learning, Robotics Tandy Warnow Machine Learning in Computational Genomics, Ensemble Methods, Statistical Estimation Jiaxuan You Machine Learning for Graphs and Databases,\\xa0Foundation Models, Large Language Models, Generative AI, AI Agents Minjia Zhang Artificial Intelligence Tong Zhang Machine Learning Theory and Applications, Optimization, Reinforcement Learning, Robustness, Generative AI, Large Language Models Han Zhao Machine Learning, Representation Learning, Algorithmic Fairness, Probabilistic Models Adjunct Faculty Eyal Amir, Parknav Machine Learning, Automatic Reasoning Sanmi Koyejo Machine Learning, Neuroimaging, Biomedical Imaging Dan Roth, University of Pennsylvania Machine Learning, Natural Language Processing, Knowledge Representation, Reasoning Related News AICE Celebrates Inaugural Event News | October 6, 2023 CS Professor Wang on NSF-funded team developing safe learning architecture for autonomous systems News | September 25, 2023 Record Number of Nearly 60 Faculty Join Grainger Engineering News | September 12, 2023 CS Affiliate professor Huang  part of OpenAI-funded project to represent underserved groups in AI development News | August 25, 2023 Load more news Contact Us Computer Science Thomas M Thesis Format Review Guidelines MS Program MS in Bioinformatics Program Professional Master of Computer Science MCS in Chicago On-Campus Master of Computer Science Online Master of Computer Science Online Master of Computer Science in Data Science Fifth Year Masters Programs 5-year BS-MCS Program 5-year BS-MS Program Illinois Computing Accelerator for Non-Specialists (iCAN) Graduate Forms, Thesis & Advising Resources EPI Exam Requirements Graduate Advising Contacts Graduate Official Forms Graduate Student Annual Evaluation Process New Graduate Student Resources MCS On-Campus General Advising for Registration MS General Advising for Registration PhD General Advising for Registration Courses Honor Code Student Resources Research Research Illinois-Insper Partnership Collaborative Research Projects NSF Expeditions in Computing: Mind in Vitro Research Areas Architecture, Compilers, and Parallel Computing Artificial Intelligence Bioinformatics and Computational Biology Computers and Education Data and Information Systems Interactive Computing Programming Languages, Formal Methods, and Software Engineering Scientific Computing Security and Privacy Systems and Networking Theory and Algorithms Speaker Series Corporate Partners Research Overview Summer Research Research Opportunities for Undergraduates Directed Reading Program Trick or Research Summer Research Program Summer Research Program Participants News News Media Mentions News Notes E-News Speaker Series Banerjee Lecture Donald B in Statistics & Computer Science CS Minor CS + X Degree Programs CS + Advertising CS + Animal Sciences CS + Anthropology CS + Astronomy CS + Bioengineering CS + Chemistry CS + Crop Sciences CS + Economics CS + Education CS + Geography & Geographic Information Science CS + Linguistics CS + Music CS + Philosophy CS + Physics CS Undergraduate Degree Options FAQ Registration CS Course Restrictions & Enrollment Caps Policies and Procedures Undergraduate Advising Undergraduate Forms Honors Transfer Students Graduate Academics PhD Program PhD Requirements PhD Time Limits & Milestones PhD Program of Study Process Guidelines for Forming Ph Group Research AI group research has led to a number of startupsedu Illinois Computer Science in Chicago 200 South Wacker Drive, 7th Floor Chicago, IL 60606 About Cookies Privacy Policy Copyright © 2023 Accessibility Contact Webmaster Powered by SiteManager Go to top Department of Agriculture’s National Institute of Food and Agriculture Natural language processing systems understand written and spoken language; possibilities include automatic translation of text from one language to another, or understanding text on Wikipedia to produce knowledge about the world in Computer Science B Research Efforts and Groups Beckman Institute Center for Artificial Intelligence Innovation (NCSA) Deep Learning Major Research Instrument Project (NCSA) Natural Language Processing Group Speech and Language Engineering Group Center for Autonomy Robotics Group Seminars Robotics Seminar Series (Friday) and student mailing list NLP: reading group, seminar Computer Vision: mailing list, vision lunch (Thursday), external speaker series (Tuesday) Illinois Computer Science Speaker Series : brings prominent leaders and experts to campus to share their ideas and promote conversations about important challenges and topics in the discipline in Mathematics & Computer Science B Committee Qualifying Exam Preliminary Exam Final Exam (Thesis Defense) Ph AI faculty are playing key roles in two $20 million AI institutes recently funded by the National Science Foundation and the U Apply to UIUC Academics Instructional Area Undergraduate Academics Degree & Program Options B Natural language processing faculty are working on topics such as grounded language understanding, information extraction and text mining, and knowledge-driven natural language generation for applications such as scientific discovery In the last few years, AI group members received a number of best paper awards, including: IEEE Signal Processing Society Best Paper Award (Smaragdis, 2018 and 2020), IEEE MLSP Best Paper Award (Smaragdis, 2017), Best Demo Paper Award at the 58th Annual Meeting of the Association for Computational Linguistics (Ji, 2020)University of Illinois Urbana-Champaign Alumni Corporate People My Machine listening faculty are working on sound and speech understanding, source separation, and enhancement, as well as applications in music and computing'"
      ]
     },
     "execution_count": 9,
     "metadata": {},
     "output_type": "execute_result"
    }
   ],
   "source": [
    "res[3]"
   ]
  },
  {
   "cell_type": "code",
   "execution_count": 10,
   "id": "de4158fa-683f-401f-92b6-fbd8a7537d79",
   "metadata": {
    "scrolled": true
   },
   "outputs": [
    {
     "data": {
      "text/plain": [
       "' Derek Hoiem is co-founder and Chief Science Officer of Reconstruct, which visually documents construction sites, matching images to plans and analyzing productivity and risk for delay The AI Institute for Molecular Discovery, Synthetic Strategy, and Manufacturing, led by Huimin Zhao from Chemical Engineering, involves Heng Ji and Jian Peng as investigators The AI Institute for Future Agricultural Resilience, Management, and Sustainability (AIFARMS), led by Vikram Adve from CS, features Romit Chowdhary as Associate Director of Research, with other investigators including Alexander Schwing, Katherine Driggs-Campbell, Indranil Gupta, Kris Hauser, Julia Hockenmaier, Heng Ji, Sanmi Koyejo, and Paris Smaragdis AI group research has led to a number of startups In machine learning, AI group faculty are studying theoretical foundations of deep and reinforcement learning; developing novel models and algorithms for deep neural networks, federated and distributed learning; as well as investigating issues related to scalability, security, privacy, and fairness of learning systems Robotics puts artificial intelligence into practice using machines that perceive and interact with the physical world Machine listening systems understand audio signals, with applications like speech recognition, acoustic monitoring, or transcribing polyphonic music automaticallyS Robotics faculty are developing novel planning algorithms for grasping, locomotion, and navigation; investigating multi-robot systems; as well as pursuing high-impact applications of robotics to medicine, agriculture, home care, and autonomous driving Girish Chowdhary is co-founder and CTO of EarthSense, a startup creating machine learning and robotics solutions for agriculture, whose work was featured in a 2020 New York Times article It combines expertise in core strengths with promising new research directions David Forsyth advises a number of startups focusing on augmented reality and image synthesis, including Lightform, Revery, and Depix Computer vision faculty are developing novel approaches for 2D and 3D scene understanding from still images and video; joint understanding of images and language; low-shot learning (recognition of rare or previously unseen categories); transfer learning and domain adaptation (adapting pre-trained systems to a changing data distribution); and image generation and editing approaches based on generative neural networks Crucial to modern artificial intelligence, machine learning methods exploit examples in order to adjust systems to work as effectively as possibleThe study of systems that behave intelligently, artificial intelligence includes several key areas where our faculty are recognized leaders: computer vision, machine listening, natural language processing, machine learning and robotics Computer vision systems can understand images and video, for example, building extensive geometric and physical models of cities from video, or warning construction workers about nearby dangers The excellence and impact of the AI group’s research has been recognized by a number of awards, including NSF CAREER (Amato, Hauser, Hockenmaier, Hoiem, Ji, Koyejo, Lazebnik, Smaragdis, Telgarsky), Sloan Research Fellowship (Hoiem, Koyejo, Lazebnik), Microsoft Research Faculty Fellowship (Lazebnik), AFOSR Young Investigator (Chowdhary), IEEE PAMI Significant Young Researcher Award (Hoiem), MIT TR-35 (Li, Smaragdis), Intel Rising Star Award (Li), “Young Scientist” selected by World Economic Forum (Ji), “AI’s Top 10 to Watch” Award by IEEE Intelligent Systems (Ji), ACM Fellow (Amato, Forsyth, Warnow), IEEE Fellow (Amato, Forsyth, Lazebnik, Smaragdis), IEEE Technical Achievement Award (Forsyth), and Packard Fellowship (Warnow) Department of Agriculture’s National Institute of Food and Agriculture Natural language processing systems understand written and spoken language; possibilities include automatic translation of text from one language to another, or understanding text on Wikipedia to produce knowledge about the world The AI group at Illinois is strong, diverse, and growing AI faculty are playing key roles in two $20 million AI institutes recently funded by the National Science Foundation and the U In the last few years, AI group members received a number of best paper awards, including: IEEE Signal Processing Society Best Paper Award (Smaragdis, 2018 and 2020), IEEE MLSP Best Paper Award (Smaragdis, 2017), Best Demo Paper Award at the 58th Annual Meeting of the Association for Computational Linguistics (Ji, 2020) Natural language processing faculty are working on topics such as grounded language understanding, information extraction and text mining, and knowledge-driven natural language generation for applications such as scientific discovery Machine listening faculty are working on sound and speech understanding, source separation, and enhancement, as well as applications in music and computing'"
      ]
     },
     "execution_count": 10,
     "metadata": {},
     "output_type": "execute_result"
    }
   ],
   "source": [
    "res[4]"
   ]
  },
  {
   "cell_type": "code",
   "execution_count": 11,
   "id": "ba4fbefb-ce63-42fa-8050-74ae05f60826",
   "metadata": {},
   "outputs": [
    {
     "name": "stdout",
     "output_type": "stream",
     "text": [
      "(0.03, 1545, 44)\n",
      "(0.01, 1612, 17)\n",
      "(0.0, 107, 0)\n",
      "(0.11, 1116, 127)\n"
     ]
    }
   ],
   "source": [
    "tab_wc = []\n",
    "for l in tab_links:\n",
    "    n = text_density_by_word_count(l)\n",
    "    tab_wc.append(n[0])\n",
    "    print(n[:3])"
   ]
  },
  {
   "cell_type": "code",
   "execution_count": 12,
   "id": "221d66db-94c5-4642-af39-86ba68cf20c7",
   "metadata": {},
   "outputs": [
    {
     "name": "stdout",
     "output_type": "stream",
     "text": [
      "(0.29, 2330, 681)\n",
      "(0.17, 1810, 316)\n",
      "(0.43, 3606, 1535)\n",
      "(0.11, 1236, 140)\n",
      "(0.16, 1051, 167)\n",
      "(0.96, 10516, 10119)\n"
     ]
    }
   ],
   "source": [
    "text_wc = []\n",
    "for l in text_links:\n",
    "    n = text_density_by_word_count(l)\n",
    "    text_wc.append(n[0])\n",
    "    print(n[:3])"
   ]
  },
  {
   "cell_type": "markdown",
   "id": "d453cddc-d026-467d-91b7-f0b857b598ac",
   "metadata": {},
   "source": [
    "### By average text block length"
   ]
  },
  {
   "cell_type": "code",
   "execution_count": 13,
   "id": "e29e8f04-d8a7-407d-a486-99b9594cce5c",
   "metadata": {},
   "outputs": [],
   "source": [
    "def get_avg_text_block_length(url):\n",
    "    headers = {'user-agent': 'Mozilla/5.0 (X11; Linux x86_64) AppleWebKit/537.36 (KHTML, like Gecko) Chrome/86.0.4240.111 Safari/537.36'}\n",
    "    config = use_config()\n",
    "    config.set(\"DEFAULT\", \"EXTRACTION_TIMEOUT\", \"0\")\n",
    "    downloaded = fetch_url(url)\n",
    "    try:  \n",
    "        result = extract(downloaded, config=config, output_format='xml', include_links=True, include_formatting=True)\n",
    "    except:\n",
    "        return 0\n",
    "    if result is None:\n",
    "        return 0\n",
    "\n",
    "    soup = BeautifulSoup(result, 'lxml')\n",
    "    lengths = []\n",
    "    for p in soup.find_all('p'):\n",
    "        text = p.get_text(strip=True, separator='\\n')\n",
    "        if text:\n",
    "            lengths.append(len(text.split()))\n",
    "                           \n",
    "    return sum(lengths) / len(lengths)"
   ]
  },
  {
   "cell_type": "code",
   "execution_count": 14,
   "id": "52c505c9-e484-460d-b526-9f5f3e8afc07",
   "metadata": {},
   "outputs": [
    {
     "name": "stdout",
     "output_type": "stream",
     "text": [
      "4.538461538461538\n",
      "2.9625\n",
      "0\n",
      "18.25\n"
     ]
    }
   ],
   "source": [
    "tab_avg = []\n",
    "for l in tab_links:\n",
    "    n = get_avg_text_block_length(l)\n",
    "    tab_avg.append(n)\n",
    "    print(n)"
   ]
  },
  {
   "cell_type": "code",
   "execution_count": 15,
   "id": "1535b0fa-adf0-44ad-9cdf-08c77b6b1453",
   "metadata": {},
   "outputs": [
    {
     "name": "stdout",
     "output_type": "stream",
     "text": [
      "17.875\n",
      "17.157894736842106\n",
      "44.10526315789474\n",
      "29.0\n",
      "16.09090909090909\n",
      "39.71134020618557\n"
     ]
    }
   ],
   "source": [
    "text_avg = []\n",
    "for l in text_links:\n",
    "    n = get_avg_text_block_length(l)\n",
    "    text_avg.append(n)\n",
    "    print(n)"
   ]
  },
  {
   "cell_type": "markdown",
   "id": "f2ac067e-a5ca-4f24-8126-808a94b05abf",
   "metadata": {},
   "source": [
    "### Multiple regression model"
   ]
  },
  {
   "cell_type": "code",
   "execution_count": 16,
   "id": "29b8ca43-f31d-4a75-b404-a91be32e7603",
   "metadata": {},
   "outputs": [],
   "source": [
    "import pandas as pd"
   ]
  },
  {
   "cell_type": "code",
   "execution_count": 17,
   "id": "445e59cb-9cf1-498f-b16c-73e5ac94f7bc",
   "metadata": {},
   "outputs": [],
   "source": [
    "data = []\n",
    "for i in range(len(tab_avg)):\n",
    "    row = [tab_wc[i], tab_avg[i], 'tabular']\n",
    "    data.append(row)\n",
    "\n",
    "for i in range(len(text_avg)):\n",
    "    row = [text_wc[i], text_avg[i], 'textual']\n",
    "    data.append(row)"
   ]
  },
  {
   "cell_type": "code",
   "execution_count": 18,
   "id": "5e80c775-455c-4cbb-80a2-6d087fb86c7e",
   "metadata": {},
   "outputs": [
    {
     "data": {
      "text/html": [
       "<div>\n",
       "<style scoped>\n",
       "    .dataframe tbody tr th:only-of-type {\n",
       "        vertical-align: middle;\n",
       "    }\n",
       "\n",
       "    .dataframe tbody tr th {\n",
       "        vertical-align: top;\n",
       "    }\n",
       "\n",
       "    .dataframe thead th {\n",
       "        text-align: right;\n",
       "    }\n",
       "</style>\n",
       "<table border=\"1\" class=\"dataframe\">\n",
       "  <thead>\n",
       "    <tr style=\"text-align: right;\">\n",
       "      <th></th>\n",
       "      <th>density_wc</th>\n",
       "      <th>density_avg</th>\n",
       "      <th>label</th>\n",
       "    </tr>\n",
       "  </thead>\n",
       "  <tbody>\n",
       "    <tr>\n",
       "      <th>0</th>\n",
       "      <td>0.03</td>\n",
       "      <td>4.538462</td>\n",
       "      <td>tabular</td>\n",
       "    </tr>\n",
       "    <tr>\n",
       "      <th>1</th>\n",
       "      <td>0.01</td>\n",
       "      <td>2.962500</td>\n",
       "      <td>tabular</td>\n",
       "    </tr>\n",
       "    <tr>\n",
       "      <th>2</th>\n",
       "      <td>0.00</td>\n",
       "      <td>0.000000</td>\n",
       "      <td>tabular</td>\n",
       "    </tr>\n",
       "    <tr>\n",
       "      <th>3</th>\n",
       "      <td>0.11</td>\n",
       "      <td>18.250000</td>\n",
       "      <td>tabular</td>\n",
       "    </tr>\n",
       "    <tr>\n",
       "      <th>4</th>\n",
       "      <td>0.29</td>\n",
       "      <td>17.875000</td>\n",
       "      <td>textual</td>\n",
       "    </tr>\n",
       "    <tr>\n",
       "      <th>5</th>\n",
       "      <td>0.17</td>\n",
       "      <td>17.157895</td>\n",
       "      <td>textual</td>\n",
       "    </tr>\n",
       "    <tr>\n",
       "      <th>6</th>\n",
       "      <td>0.43</td>\n",
       "      <td>44.105263</td>\n",
       "      <td>textual</td>\n",
       "    </tr>\n",
       "    <tr>\n",
       "      <th>7</th>\n",
       "      <td>0.11</td>\n",
       "      <td>29.000000</td>\n",
       "      <td>textual</td>\n",
       "    </tr>\n",
       "    <tr>\n",
       "      <th>8</th>\n",
       "      <td>0.16</td>\n",
       "      <td>16.090909</td>\n",
       "      <td>textual</td>\n",
       "    </tr>\n",
       "    <tr>\n",
       "      <th>9</th>\n",
       "      <td>0.96</td>\n",
       "      <td>39.711340</td>\n",
       "      <td>textual</td>\n",
       "    </tr>\n",
       "  </tbody>\n",
       "</table>\n",
       "</div>"
      ],
      "text/plain": [
       "   density_wc  density_avg    label\n",
       "0        0.03     4.538462  tabular\n",
       "1        0.01     2.962500  tabular\n",
       "2        0.00     0.000000  tabular\n",
       "3        0.11    18.250000  tabular\n",
       "4        0.29    17.875000  textual\n",
       "5        0.17    17.157895  textual\n",
       "6        0.43    44.105263  textual\n",
       "7        0.11    29.000000  textual\n",
       "8        0.16    16.090909  textual\n",
       "9        0.96    39.711340  textual"
      ]
     },
     "execution_count": 18,
     "metadata": {},
     "output_type": "execute_result"
    }
   ],
   "source": [
    "df = pd.DataFrame(data, columns=['density_wc', 'density_avg', 'label'])\n",
    "df"
   ]
  },
  {
   "cell_type": "code",
   "execution_count": null,
   "id": "4e9486e5-7e8f-4693-97b0-da610c4a1f96",
   "metadata": {},
   "outputs": [],
   "source": []
  },
  {
   "cell_type": "markdown",
   "id": "275e5285-b2f0-40b2-a0bb-e799e71112b0",
   "metadata": {},
   "source": [
    "### HTML"
   ]
  },
  {
   "cell_type": "code",
   "execution_count": 19,
   "id": "9578b857-e624-4331-b765-2bc78b687db0",
   "metadata": {},
   "outputs": [
    {
     "data": {
      "text/plain": [
       "'                  Alumni  Corporate  People  My.CS         University of Illinois at Urbana-Champaign   The Grainger College of Engineering  Computer Science          Search         Menu             Search        About    About  Rankings & Statistics  Contact Us & Office Locations  History Timeline  Accreditation  Values & Code of Conduct  CS CARES Committee  Contact CS CARES  Governance  Members  Resources    People  All Faculty  Department Faculty  Affiliate Faculty  Adjunct Faculty  Emeritus Faculty  Postdoctoral Researchers  Staff  Office of the Department Head  Communications & Engagement Team  Undergraduate Advising Office  Graduate Advising Office  Instructional Development Team  Business Office  Faculty Support Contacts  Facilities, Shipping and Receiving    Graduating PhD Students    Open Positions  Faculty Positions  Postdoctoral Positions  Future Faculty Fellows    Staff Positions  Choose Illinois Computer Science    Awards  2021 Celebration of Excellence  2022 Celebration of Excellence  2023 Celebration of Excellence  Student Award Resources  Faculty Awards  Chairs and Professorships  National & International Awards  University of Illinois Awards    Undergraduate Scholarships & Awards  Graduate Fellowships & Awards  Alumni Awards  Alumni Awards Past Recipients  National & International Awards  University of Illinois Awards    Staff Awards    Calendar  All Events  Department Events  Speaker Series  Graduate Events  Undergraduate Events  Corporate Events  CS CARES Events  Student Group Events        Admissions    Ready to apply? Your path begins here.  Apply to UIUC    Admissions  Admitted Students  Undergraduate Admissions  Apply Now  Degree & Program Options  Application Deadlines  Applications Process & Requirements  Transfer Students  Housing  Accreditation    Graduate Admissions  Apply Now  Degree & Program Options  Professional Master of Computer Science (MCS) Program    Application Deadlines  Applications Process & Requirements  Additional Required Application Materials for International Students  Application Fee Waivers  Data Structures Proficiency Exam    Application Checklist  FAQs  iCAN FAQs  Online MCS FAQs    Check Application Status    Impact of an Illinois CS Degree  Financial Aid      Academics    Ready to apply? Your path begins here.  Apply to UIUC    Academics  Instructional Area  Undergraduate Academics  Degree & Program Options  B.S. in Computer Science  B.S. in Mathematics & Computer Science  B.S. in Statistics & Computer Science  CS Minor  CS + X Degree Programs  CS + Advertising  CS + Animal Sciences  CS + Anthropology  CS + Astronomy  CS + Bioengineering  CS + Chemistry  CS + Crop Sciences  CS + Economics  CS + Education  CS + Geography & Geographic Information Science  CS + Linguistics  CS + Music  CS + Philosophy  CS + Physics    CS Undergraduate Degree Options FAQ    Registration  CS Course Restrictions & Enrollment Caps    Policies and Procedures  Undergraduate Advising  Undergraduate Forms  Honors  Transfer Students    Graduate Academics  PhD Program  PhD Requirements  PhD Time Limits & Milestones  PhD Program of Study Process  Guidelines for Forming Ph.D. Committee  Qualifying Exam  Preliminary Exam  Final Exam (Thesis Defense)  Ph.D. / M.S. Thesis Format Review Guidelines    MS Program  MS in Bioinformatics Program  Professional Master of Computer Science  MCS in Chicago  On-Campus Master of Computer Science  Online Master of Computer Science  Online Master of Computer Science in Data Science    Fifth Year Masters Programs  5-year BS-MCS Program  5-year BS-MS Program    Illinois Computing Accelerator for Non-Specialists (iCAN)  Graduate Forms, Thesis & Advising Resources  EPI Exam Requirements  Graduate Advising Contacts  Graduate Student Annual Evaluation Process  New Graduate Student Resources  MCS On-Campus General Advising for Registration  MS General Advising for Registration  PhD General Advising for Registration    Official Forms      Courses  Honor Code  Student Resources      Research    Research  Illinois-Insper Partnership  Collaborative Research Projects    NSF Expeditions in Computing: Mind in Vitro  Research Areas  Architecture, Compilers, and Parallel Computing  Artificial Intelligence  Bioinformatics and Computational Biology  Computers and Education  Data and Information Systems  Interactive Computing  Programming Languages, Formal Methods, and Software Engineering  Scientific Computing  Security and Privacy  Systems and Networking  Theory and Algorithms    Speaker Series  Corporate Partners  Research Overview  Summer Research  Research Opportunities for Undergraduates  Directed Reading Program  Trick or Research  Summer Research Program  Summer Research Program Participants          News    News  News Notes  Donor Profiles  Media Mentions  E-News  Impact Report & Publications  Speaker Series  Banerjee Lecture  Donald B. Gillies Memorial Lecture  Equity & Justice in Computing Lectures  Robert Mueller-Thuns Lecture        Student Life    Student Life  Overview of CS Student Life  Student Organizations  Events  Student Resources  Career Services  Course Assistants      Broadening Participation    Broadening Participation  BPC Departmental Plan  BPC Programs & Activities for Students  CS Student Ambassadors/Research Scholars (CS STARS)  CS STARS Participants  CS Student Ambassadors/Research Scholars- Application Information    Illinois CS Kickstart  AI4ALL  Apply Now    iCAN  Apply Now    Summer Research Programs    BPC Resources  Cross-Cutting Educational Activities  BPC Conferences & Workshops  Equity & Justice in Computing Seminar Series    K-12 Outreach & Resources  K-12 Outreach Programs  K-12 Resources    Student Organizations      Give    Help ensure that Illinois continues to set a global standard for CS research and education.  Make a Gift    Give  Give Now  Ways to Give  Donor Profiles  Computer Science Visionary Scholarship Donors              Home About People Department Faculty        Home About People Department Faculty  Department Faculty            Department Faculty     Tarek  Abdelzaher   Sohaib and Sara Abbasi Professor and Willett Faculty Scholar                        Sarita V. Adve   Richard T. Cheng Professor                        Vikram Adve   Donald B. Gillies Professor in Computer Science                        Gul A. Agha   Research Professor and Professor Emeritus                        Ram Alagappan   Assistant Professor                        Abdussalam Alawini   Teaching Associate Professor                        Nancy M. Amato  she/her/hers  Abel Bliss Professor of Engineering and Department Head                        Lawrence Angrave  he/him/his  Teaching Professor, Gies RC Evans Innovation Fellow, CITL Fellow                        Tal August  he/him/his  Assistant Professor (starting August 2024)                        Brian P. Bailey   Professor                        Arindam  Banerjee   Founder Professor in Engineering                        Adam Bates   Associate Professor                        Mattox Alan Beckman   Teaching Associate Professor                        Matthew Caesar   Professor                        George  Chacko   Research Associate Professor                        Geoffrey Werner Challen   Teaching Associate Professor                        Timothy Moon-Yew Chan   Founder Professor in Engineering                        Eshwar  Chandrasekharan  he/him/his  Assistant Professor                        Kevin Chenchuan Chang   Professor                        Chandra Sekhar Chekuri   Paul and Cynthia Saylor Professor                        Girish  Chowdhary   Associate Professor                        Camille Cobb   Assistant Professor                        Benjamin Cosman   Teaching Assistant Professor                        Katie Cunningham   Assistant Professor                        Ryan Matthew Cunningham   Lecturer                        David M. Dalpiaz   Teaching Associate Professor                        Payam  Delgosha   Research Assistant Professor                        Mohammed  El-Kebir   Assistant Professor                        Jeff Erickson  he/him/his  Sohaib and Sara Abbasi Professor                        Carl Evans   Teaching Assistant Professor                        Wade A. Fagen-Ulmschneider   Teaching Professor                        Paul  Fischer   Professor                        Margaret M. Fleck   Teaching Professor and Director of Undergraduate Programs                        Christopher Wardlaw Fletcher   Associate Professor                        Michael A. Forbes   Assistant Professor                        David Forsyth   Fulton Watson Copp Chair in Computer Science                        Aishwarya Ganesan  she/her/hers  Assistant Professor                        Yael  Gertner   Teaching Assistant Professor                        Saugata  Ghose   Assistant Professor                        Brighten Godfrey   Professor                        William D. Gropp  he/him/his  Grainger Distinguished Chair                        Liangyan  Gui   Research Assistant Professor                        Carl  Gunter   George and Ann Fisher Distinguished Professor in Engineering                        Elsa  Gunter   Research Professor and Senior Lecturer                        Indranil  Gupta   Professor                        Dilek Hakkani Tur  she/her/hers  Professor (starting January 2024)                        Jiawei  Han   Michael Aiken Chair                        Sariel  Har-Peled   Donald Biggar Willett Professor in Engineering                        John C. Hart   Professor                        Kris K. Hauser   Professor                        David Heath   Assistant Professor                        Geoffrey Lindsay Herman  he/him/his  Severns Teaching Associate Professor                        Julia Hockenmaier   Professor and Willett Faculty Scholar                        Derek W. Hoiem   Professor                        Reyhaneh  Jabbarvand   Assistant Professor                        Sheldon Howard Jacobson   Founder Professor in Engineering                        Heng  Ji   Professor                        Nan  Jiang   Assistant Professor                        Laxmikant V. Kale   Research Professor & Paul and Cynthia Saylor Professor Emeritus                        Daniel  Kang   Assistant Professor                        Karrie Karahalios   Professor                        Dakshita  Khurana   Assistant Professor                        Andreas Paul Eberhard Kloeckner   Associate Professor                        Bill Kramer  choose not to reply  Research Professor                        Robin Hillary Kravets   Professor                        Ranjitha  Kumar   Associate Professor                        Steven M. LaValle   Professor                        Svetlana  Lazebnik   Professor, Willett Faculty Scholar, and DGS                        Colleen M. Lewis  she/her/hers  Associate Professor                        Bo  Li   Assistant Professor                        Yunzhu Li  he/him/his  Assistant Professor                        Hongye  Liu   Teaching Assistant Professor                        Darko  Marinov   Professor and Director of Graduate Programs                        Livingston McPherson  they/them/theirs  Teaching Assistant Professor (starting August 2024)                        Ruta  Mehta   Associate Professor                        Charith Mendis   Assistant Professor                        Jose  Meseguer   Professor                        Sasa  Misailovic   Associate Professor                        Marco Morales Aguirre   Teaching Associate Professor                        William (Billy) Moses  he/him/his  Assistant Professor (starting January 2024)                        Klara  Nahrstedt   Grainger Distinguished Chair in Engineering                        Michael Nowak   Teaching Assistant Professor                        Luke  Olson   Professor and Willett Faculty Scholar                        Yongjoo  Park   Assistant Professor                        Madhusudan  Parthasarathy   Professor                        Hao Peng   Assistant Professor                        Jian  Peng   Associate Professor and Willett Faculty Fellow                        Lawrence Rauchwerger  he/him/his  Professor                        Jim Rehg  he/him/his  Professor                        John F. Reid  choose not to reply  Research Professor                        Ling  Ren   Assistant Professor                        Talia Ringer  they/them/theirs  Assistant Professor                        Pablo D. Robles Granda   Teaching Assistant Professor                        Grigore  Rosu   Professor                        Koustuv Saha  he/him/his  Assistant Professor                        Jule Schatz  she/her/hers  Teaching Assistant Professor                        Lui Sha   Donald B. Gillies Chair in Computer Science                        Eric Gene Shaffer   Teaching Associate Professor and Associate Director of Undergraduate Programs                        Mariana  Silva   Teaching Associate Professor and Education Innovation Fellow                        Gagandeep Singh   Assistant Professor                        Makrand SINHA  he/him/his  Assistant Professor                        Paris  Smaragdis   Professor and Associate Head for Infrastructure and Operations                        Marc  Snir   Research Professor & Michael Faiman Professor Emeritus                        Brad R. Solomon   Teaching Assistant Professor                        Edgar Solomonik   Associate Professor                        Elahe Soltanaghai   Assistant Professor                        Sarah Gimbert Sterman  she/her/hers  Resarch Assistant Professor                        Sharifa Sultana  she/her/hers  Assistant Professor                        Jimeng  Sun   Professor                        Hari  Sundaram   Professor                        Ruby Tahboub   Teaching Assistant Professor                        Matus Jan Telgarsky   Assistant Professor                        Hanghang  Tong   Associate Professor                        Josep  Torrellas   Saburo Muroga Professor                        Gokhan Tur   Research Professor (starting January 2024)                        Luther Tychonievich  he/him/his  Teaching Associate Professor                        Deepak Vasisht  he/him/his  Assistant Professor                        Mahesh  Viswanathan   Professor and Associate Head for Academics                        Gang  Wang   Associate Professor                        Shenlong Wang   Assistant Professor                        Yuxiong  Wang   Assistant Professor                        Tandy  Warnow   Grainger Distinguished Chair in Engineering and Associate Head for Research and Faculty Development                        Tiffani L. Williams   Teaching Professor and Director of Onramp Programs                        Michael Joseph Woodley   Clinical Assistant Professor                        Tianyin  Xu   Assistant Professor                        Wenzhen Yuan  choose not to reply  Assistant Professor                        ChengXiang Zhai   Donald Biggar Willett Professor in Engineering                        Lingming  Zhang   Associate Professor                        Minjia Zhang  he/him/his  Assistant Professor (starting January 2024)                        Han Zhao   Assistant Professor                        Craig Zilles  he/him/his  Professor and Severns Faculty Scholar                                        Contact Us          Computer Science  Thomas M. Siebel Center for Computer Science  201 North Goodwin Avenue MC 258  Urbana , IL 61801  Phone:  Fax:  Email:     Threads  Twitter  Instagram  Facebook  LinkedIn  YouTube  Sound Cloud       The Grainger College of Engineering       ph: 217-333-3426 (general) | 217-333-4428 (advising) fax: 217-333-3501  General email: head@cs.illinois.edu Graduate Advising: academic@cs.illinois.edu Undergraduate Advising: undergrad@cs.illinois.edu Webmaster: grainger-marcom@illinois.edu    Illinois Computer Science in Chicago 200 South Wacker Drive, 7th Floor Chicago, IL 60606            About Cookies  Privacy Policy  Copyright © 2023  Accessibility  Contact Webmaster  Powered by SiteManager       Go to top                          '"
      ]
     },
     "execution_count": 19,
     "metadata": {},
     "output_type": "execute_result"
    }
   ],
   "source": [
    "utils.extract_all_text(tab_links[1])"
   ]
  }
 ],
 "metadata": {
  "kernelspec": {
   "display_name": "Python 3 (ipykernel)",
   "language": "python",
   "name": "python3"
  },
  "language_info": {
   "codemirror_mode": {
    "name": "ipython",
    "version": 3
   },
   "file_extension": ".py",
   "mimetype": "text/x-python",
   "name": "python",
   "nbconvert_exporter": "python",
   "pygments_lexer": "ipython3",
   "version": "3.9.11"
  }
 },
 "nbformat": 4,
 "nbformat_minor": 5
}
