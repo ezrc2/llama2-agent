{
 "cells": [
  {
   "cell_type": "code",
   "execution_count": 1,
   "id": "0bb20de1-f827-4a89-8e56-88955131f073",
   "metadata": {},
   "outputs": [],
   "source": [
    "from transformers import AutoTokenizer\n",
    "from petals import AutoDistributedModelForCausalLM\n",
    "import transformers\n",
    "import torch\n",
    "import utils\n",
    "\n",
    "torch.cuda.empty_cache()"
   ]
  },
  {
   "cell_type": "code",
   "execution_count": 2,
   "id": "28aaf8d2-5d17-4a78-865a-3d2a73ef00e0",
   "metadata": {},
   "outputs": [
    {
     "name": "stderr",
     "output_type": "stream",
     "text": [
      "Oct 18 16:51:50.243 [\u001b[1m\u001b[34mINFO\u001b[0m] We will use 90% of the memory on device 0 for storing the model, and 10% for the buffer to avoid OOM. You can set `max_memory` in to a higher value to use more memory (at your own risk).\n"
     ]
    },
    {
     "data": {
      "application/vnd.jupyter.widget-view+json": {
       "model_id": "a2d636ec06214e4cad58c13f5e475f6b",
       "version_major": 2,
       "version_minor": 0
      },
      "text/plain": [
       "Loading checkpoint shards:   0%|          | 0/3 [00:00<?, ?it/s]"
      ]
     },
     "metadata": {},
     "output_type": "display_data"
    }
   ],
   "source": [
    "model = \"meta-llama/Llama-2-13b-chat-hf\"\n",
    "tokenizer = AutoTokenizer.from_pretrained(model)\n",
    "#tokenizer.pad_token_id = tokenizer.eos_token_id\n",
    "pipeline = transformers.pipeline(\n",
    "    \"text-generation\",\n",
    "    model=model,\n",
    "    torch_dtype=torch.float16,\n",
    "    device_map=\"auto\",\n",
    ")"
   ]
  },
  {
   "cell_type": "code",
   "execution_count": 3,
   "id": "a3f0f6f8-1d14-4c96-a025-b5d552b8a371",
   "metadata": {},
   "outputs": [],
   "source": [
    "def prompt_llama2(prompt):\n",
    "    prompt_template=f'''[INST] <<SYS>>\n",
    "    You are a helpful, respectful and honest assistant. Always answer as helpfully as possible, while being safe.  Your answers should not include any harmful, unethical, racist, sexist, toxic, dangerous, or illegal content. Please ensure that your responses are socially unbiased and positive in nature. If a question does not make any sense, or is not factually coherent, explain why instead of answering something not correct. If you don't know the answer to a question, please don't share false information.\n",
    "    <</SYS>> {prompt} [/INST]'''\n",
    "    \n",
    "    sequences = pipeline(\n",
    "        prompt_template,\n",
    "        do_sample=True,\n",
    "        num_return_sequences=1,\n",
    "        eos_token_id=tokenizer.eos_token_id,\n",
    "        #max_length=2048,\n",
    "        temperature=0.7,\n",
    "        top_p=0.95,\n",
    "        top_k=40,\n",
    "        repetition_penalty=1.1,\n",
    "    )\n",
    "    result = sequences[0]['generated_text']\n",
    "    return result.split('[/INST]')[1].strip()\n",
    "\n",
    "def count_tokens(prompt):\n",
    "    tokens = tokenizer.tokenize(prompt)\n",
    "    return len(tokens)\n",
    "\n",
    "def shorten_tokens(prompt):\n",
    "    tokens = tokenizer.tokenize(prompt)\n",
    "    tokens = tokens[:4000]\n",
    "    return tokenizer.convert_tokens_to_string(tokens)"
   ]
  },
  {
   "cell_type": "markdown",
   "id": "ac2bb479-fe11-4caf-9371-7151c54dcdd1",
   "metadata": {},
   "source": [
    "#### Get paragraphs for testing"
   ]
  },
  {
   "cell_type": "code",
   "execution_count": 11,
   "id": "b3bfc10d-e400-49c5-b057-b533c2872ae7",
   "metadata": {},
   "outputs": [],
   "source": [
    "urls = ['https://cs.illinois.edu/research/areas/artificial-intelligence',\n",
    "        'https://cs.illinois.edu/research/undergraduate-research',\n",
    "        'https://cs.illinois.edu/corporate#research']\n",
    "from trafilatura import fetch_url, extract\n",
    "paragraphs_dict = {}\n",
    "for i in range(len(urls)):\n",
    "    #p = utils.extract_paragraphs(urls[i])\n",
    "    #p = utils.extract_paragraphs_trafilatura(urls[i])\n",
    "    p = extract(fetch_url(urls[i]), favor_precision=True)\n",
    "    paragraphs_dict[i] = p"
   ]
  },
  {
   "cell_type": "markdown",
   "id": "95505df9-a5b4-4c18-b999-de44135804e3",
   "metadata": {},
   "source": [
    "### Try specific prompts"
   ]
  },
  {
   "cell_type": "code",
   "execution_count": 12,
   "id": "12629861-cd0a-409c-90ed-831d20c723ac",
   "metadata": {},
   "outputs": [
    {
     "name": "stdout",
     "output_type": "stream",
     "text": [
      "Here is passage number 1: \"Artificial Intelligence\n",
      "The study of systems that behave intelligently, artificial intelligence includes several key areas where our faculty are recognized leaders: computer vision, machine listening, natural language processing, machine learning and robotics.\n",
      "Computer vision systems can understand images and video, for example, building extensive geometric and physical models of cities from video, or warning construction workers about nearby dangers. Natural language processing systems understand written and spoken language; possibilities include automatic translation of text from one language to another, or understanding text on Wikipedia to produce knowledge about the world. Machine listening systems understand audio signals, with applications like speech recognition, acoustic monitoring, or transcribing polyphonic music automatically. Crucial to modern artificial intelligence, machine learning methods exploit examples in order to adjust systems to work as effectively as possible. Robotics puts artificial intelligence into practice using machines that perceive and interact with the physical world.\n",
      "Strengths and Impact\n",
      "The AI group at Illinois is strong, diverse, and growing. It combines expertise in core strengths with promising new research directions.\n",
      "In machine learning, AI group faculty are studying theoretical foundations of deep and reinforcement learning; developing novel models and algorithms for deep neural networks, federated and distributed learning; as well as investigating issues related to scalability, security, privacy, and fairness of learning systems. Computer vision faculty are developing novel approaches for 2D and 3D scene understanding from still images and video; joint understanding of images and language; low-shot learning (recognition of rare or previously unseen categories); transfer learning and domain adaptation (adapting pre-trained systems to a changing data distribution); and image generation and editing approaches based on generative neural networks. Natural language processing faculty are working on topics such as grounded language understanding, information extraction and text mining, and knowledge-driven natural language generation for applications such as scientific discovery. Machine listening faculty are working on sound and speech understanding, source separation, and enhancement, as well as applications in music and computing. Robotics faculty are developing novel planning algorithms for grasping, locomotion, and navigation; investigating multi-robot systems; as well as pursuing high-impact applications of robotics to medicine, agriculture, home care, and autonomous driving.\n",
      "The excellence and impact of the AI group’s research has been recognized by a number of awards, including NSF CAREER (Amato, Hauser, Hockenmaier, Hoiem, Ji, Koyejo, Lazebnik, Smaragdis, Telgarsky), Sloan Research Fellowship (Hoiem, Koyejo, Lazebnik), Microsoft Research Faculty Fellowship (Lazebnik), AFOSR Young Investigator (Chowdhary), IEEE PAMI Significant Young Researcher Award (Hoiem), MIT TR-35 (Li, Smaragdis), Intel Rising Star Award (Li), “Young Scientist” selected by World Economic Forum (Ji), “AI’s Top 10 to Watch” Award by IEEE Intelligent Systems (Ji), ACM Fellow (Amato, Forsyth, Warnow), IEEE Fellow (Amato, Forsyth, Lazebnik, Smaragdis), IEEE Technical Achievement Award (Forsyth), and Packard Fellowship (Warnow).\n",
      "In the last few years, AI group members received a number of best paper awards, including: IEEE Signal Processing Society Best Paper Award (Smaragdis, 2018 and 2020), IEEE MLSP Best Paper Award (Smaragdis, 2017), Best Demo Paper Award at the 58th Annual Meeting of the Association for Computational Linguistics (Ji, 2020).\n",
      "AI group research has led to a number of startups. Derek Hoiem is co-founder and Chief Science Officer of Reconstruct, which visually documents construction sites, matching images to plans and analyzing productivity and risk for delay. Girish Chowdhary is co-founder and CTO of EarthSense, a startup creating machine learning and robotics solutions for agriculture, whose work was featured in a 2020 New York Times article. David Forsyth advises a number of startups focusing on augmented reality and image synthesis, including Lightform, Revery, and Depix.\n",
      "AI faculty are playing key roles in two $20 million AI institutes recently funded by the National Science Foundation and the U.S. Department of Agriculture’s National Institute of Food and Agriculture. The AI Institute for Future Agricultural Resilience, Management, and Sustainability (AIFARMS), led by Vikram Adve from CS, features Romit Chowdhary as Associate Director of Research, with other investigators including Alexander Schwing, Katherine Driggs-Campbell, Indranil Gupta, Kris Hauser, Julia Hockenmaier, Heng Ji, Sanmi Koyejo, and Paris Smaragdis. The AI Institute for Molecular Discovery, Synthetic Strategy, and Manufacturing, led by Huimin Zhao from Chemical Engineering, involves Heng Ji and Jian Peng as investigators.\n",
      "Seminars\n",
      "- Robotics Seminar Series (Friday)and student mailing list\n",
      "- NLP: reading group, seminar\n",
      "- Computer Vision: mailing list, vision lunch (Thursday), external speaker series (Tuesday)\n",
      "- Illinois Computer Science Speaker Series: brings prominent leaders and experts to campus to share their ideas and promote conversations about important challenges and topics in the discipline.\n",
      "Faculty & Affiliate Faculty\n",
      "Robot Motion and Task Planning, Multi-Agent Systems, Crowd Simulation\n",
      "Machine Learning Methods for Imaging Science, Image Reconstruction, Deep Learning for Inverse Problems\n",
      "Machine Learning, Learning Theory, Optimization, Generative Models, Sequential Decision Making, Physics-Guided Machine Learning, Differential Privacy\n",
      "Motion Planning and Control\n",
      "Machine Learning, Natural Language Processing, AI Applications, Data Management Support for AI\n",
      "Control, Autonomy and Decision Making, Vision and LIDAR Based Perception, GPS Denied Navigation\n",
      "Computational Statistics, Reproducible Research, Statistics Education, Machine Learning\n",
      "Graphs, Information Theory, Algorithms, Machine Learning\n",
      "Social Network Analysis, Natural Language Processing, Machine Learning\n",
      "Signal Processing, Computational Imaging, Machine Perception, Data Science\n",
      "Autonomous Vehicles, Validating Autonomous Systems, Interactive Control Policies for Intelligent Systems in Multi-Agent Settings\n",
      "Computational Linguistics\n",
      "Computer Vision, Object Recognition, Scene Understanding\n",
      "Computational Linguistics\n",
      "Computer Vision Analytics for Building and Construction Performance Monitoring\n",
      "Computer Vision, Machine Learning, Motion Analysis, Robotics\n",
      "Computer Vision, Robotics, Machine Learning\n",
      "Conversational AI and Natural Language Processing\n",
      "Machine Learning, Natural Language-Based Text Analysis, Text Summarization\n",
      "Statistical Speech Technology\n",
      "Motion Planning, Optimal Control, Integrated Planning and Learning, Robot Systems\n",
      "Natural Language Processing, Computational Linguistics\n",
      "Computer Vision, Object Recognition, Spatial Understanding, Scene Interpretation\n",
      "Probabilistic Graphical Models; Deep Learning; Data Science; Health Analytics; Safety, Reliablity and Security of Autonomous Systems; Reinforcement Learning\n",
      "ML4Code, ML interpretability, testing, and debugging\n",
      "Natural Language Processing, especially on Information Extraction and Knowledge-driven Natural Language Generation, Text Mining, Knowledge Graph Construction for Scientific Discovery\n",
      "Reinforcement Learning, Machine Learning, Sample Complexity Analyses\n",
      "Analytics with Machine Learning, Databases with Machine Learning, Machine Learning Security, Machine Learning + Cryptography\n",
      "HCI for ML, AI Explainability\n",
      "Cyberinfrastructure for Machine Learning, Machine Learning Systems Research, Deep Learning Applications\n",
      "Systems for Machine Learning, Machine Learning for Systems\n",
      "Computer Vision, Scene Understanding, Visual Learning, Vision and Language\n",
      "Adversarial Machine Learning, Robust Learning\n",
      "Artificial Intelligence\n",
      "Cyberinfrastructure for Digital Preservation, Auto-Curation, and Managing Unstructured Digital Collections\n",
      "Motion Planning and Control, Autonomous Robots\n",
      "Machine Learning and Optimization\n",
      "Computer Vision, Ego4D, VR/AR, Mobile Health, Health AI, Machine Learning, Developmental Machine Learning, Behavioral Imaging\n",
      "Field Robotics, Autonomous Systems Engineering, Machine Perception, Computer Vision\n",
      "Machine Translation, Computational Morphology & Syntax\n",
      "Machine Learning, Computer Vision\n",
      "Certified Artificial Intelligence, Adversarial Robustness, Neural Network Verification, Safe Deep Learning\n",
      "Machine Learning for Audio, Speech and Music; Signal Processing; Source Separation; Sound Recognition and Classification\n",
      "Deep Learning for Drug Discovery, Clinical Trial Optimization, Computational Phenotyping, Clinical Predictive Modeling, Mobile Health and Health Monitoring, Tensor Factorization, and Graph Mining\n",
      "Deep Learning Theory\n",
      "Explainable AI, Fairness in AI, Adversarial Maching Learning\n",
      "Conversational AI\n",
      "Computer Vision, Robotics\n",
      "Computer Vision, Machine Learning, Meta-Learning, Robotics\n",
      "Machine Learning in Computational Genomics, Ensemble Methods, Statistical Estimation\n",
      "Artificial Intelligence\n",
      "Machine Learning Theory and Applications, Optimization, Reinforcement Learning, Robustness, Generative AI, Large Language Models\n",
      "Machine Learning, Representation Learning, Algorithmic Fairness, Probabilistic Models\"\n",
      "\n",
      "Here is passage number 2: \"Research Opportunities for Undergraduates\n",
      "Undergraduates at Illinois Computer Science are an important part of our world-renowned research. From summer programs to paid research positions with faculty, there are multiple ways for our students to contribute to high impact research early in their careers.\n",
      "Year Long Research Opportunities\n",
      "- CS Student Ambassador/Research Scholars (CS STARS) - A CS department program designed for University of Illinois undergraduate students who are interested in pursuing research while also serving as departmental leaders and community builders.\n",
      "- Illinois Scholars Undergraduate Research (ISUR) Program - A college of engineering wide program. ISUR includes multiple components, from a research focused seminar to a number of paid undergraduate research programs. ISUR programs follow an apprenticeship model, where students work closely with faculty mentors. Some distinct programs supported by ISUR include:\n",
      "- Clare Boothe Luce Research Scholars - An ISUR affiliated program to support women undergraduates in research and teaching in science, mathematics, and engineering. Eight scholars are selected and funded each year.\n",
      "- C3SR-Undergraduate Research in Artificial Intelligence - An IBM-ILLINOIS and ISUR partnership which funds undergraduate research on AI and cognitive computing, from theory to practical application. Students additionally worked with a C3SR faculty mentor.\n",
      "- The National Center for Supercomputing Applications (NCSA) SPIN - An academic year long internship program where Illinois undergraduate students get to participate in high-impact work in the fields of supercomputing, visualization, data analytics, and other similar fields. Pay covers 5 hours a week toward exciting research opportunities.\n",
      "Semester Long Research Opportunities\n",
      "- CS Job Portal - Our department's employment opportunities include course assistant and undergraduate research positions.\n",
      "- PURE - Promoting Undergraduate Research in Engineering is a semester long , student-run research program where freshmen and sophomore students are connected with graduate student mentors to get an early jump-start in their research career.\n",
      "Summer Research Opportunities\n",
      "- DaRin Butz Research Scholars - An ISUR-affliated program which offers undergraduate women funding for a 10 week summer research program. The program uses a learning-by-apprenticeship model for high impact work in computer science, aerospace, engineering, physics, or astronomy.\n",
      "- The National Center for Supercomputing Applications (NCSA) INCLUSION program - INCLUSION is a 10 week program for applicants from underrepresented communities to work in pairs with mentors on research aimed towards social impact. All work is based around open source software development.\n",
      "- Summer Research Program for Undergraduates (SRP) - In the SRP, students work on high impact research with university faculty while also attending professional development programming aimed at helping students become stronger researchers and strong candidates for graduate school.\n",
      "- Mind in Vitro Undergraduate Summer Research Program - Undergraduate students in the program will work with faculty mentors and graduate students on topics related to the Mind in Vitro Expeditions in Computing Project. Students will participate in Illinois summer research program activities including networking and social events, weekly lunch and learn seminars covering topics such as research skills, presentation skills, information about graduate school, including applications, career opportunities, etc.\n",
      "Mentorship Opportunities\n",
      "- Mentoring Undergraduates in Science and Engineering (MUSE) - A mentoring program for The Grainger College of Engineering. Undergraduates may apply to be mentored for a range of reasons, such as career development or research and thesis guidance.\n",
      "Showcase Opportunities\n",
      "- Engineering Research Fair - A research fair hosted by the College of Engineering every semester. The goal of this fair is for researchers to share their work, labs and companies to recruit researchers, and continue to inspire future generations of excellent research at Illinois.\n",
      "- Undergraduate Research Symposium - A campus wide research symposium for undergraduate researchers to present the results of their research endeavors and gain valuable experience presenting work to a wide audience. Typically held in the late Spring.\n",
      "Oct 18, 2023 - Oct 18, 2024\n",
      "No events found\n",
      "Grainger Engineering Seminars and Speakers\n",
      "Oct 18, 2023 - Oct 18, 2024\n",
      "Siyu Tang, Assistant Professor, ETH Zürich\n",
      "https://illinois.zoom.us/j/85220445765?pwd=MlJUTjRXRWF3KzYrclgwdmRIb1FRZz09\n",
      "Zack Riedel (Shoemaker)\n",
      "100 Materials Science and Engineering Building, 1304 W. Green Street, Urbana\n",
      "Lalith Krishna Samantha Bonagiri (Zhang)\n",
      "100 Materials Science and Engineering Building, 1304 W. Green Street\n",
      "Juan de Bedout, Ph.D. - Senior Vice President of Aerospace Technology at Raytheon Technologies\n",
      "1002 Grainger Auditorium ECEB\"\n",
      "\n",
      "Here is passage number 3: \"Corporate\n",
      "The University of Illinois boasts one of the largest computer science departments in the nation. With a top-tier student body and a broad faculty base, our students have opportunities to explore the full depth and breadth of the computing challenges that lie ahead.\n",
      "Illinois Computer Science students are the next generation of entrepreneurs, researchers, scholars, academicians, and business and industry giants. A hands-on education at Illinois means our students learn from the best in the classroom and in the laboratory, preparing them for leadership positions in the academy and industry. Odds are, one or more of your company's senior leaders is an Illinois alumnus. CS alumni play a pivotal role in nearly every high-tech company in this country and around the world.\n",
      "Recruiting\n",
      "There are many engagement opportunities to explore—you can recruit at the Campus-level, from The Grainger College of Engineering, or directly from Illinois Computer Science—and we can help you create a custom recruiting strategy for your company.\n",
      "The Career Center at Illinois offers opportunities to reach students from a wide variety of majors or for positons that do not require a specific major. They can also assist in connecting recruiters with unit-specific career services.\n",
      "Engineering Career Services (ECS) offers a wide range of services and programs to assist you with your recruiting needs and in accessing the more than 10,000 undergraduate and graduate students from top-ranked programs within the College. Companies can post to the Handshake online job board for free. And job-seeking Engineering at Illinois alumni also have access to post resumes on Handshake.\n",
      "For companies who are looking to recruit exclusively CS and ECE students, please explore our Corporate Connection Affiliates Program or start with some of our Ad Hoc Events opportunities.\n",
      "Corporate Affiliates Program\n",
      "The Corporate Connection provides a main point of entry for partnering with Illinois Computer Science and Electrical & Computer Engineering. Your company should join the Corporate Connection if it:\n",
      "- Is committed to recruiting at Illinois\n",
      "- Hires or would like to hire ECE and/or CS students\n",
      "- Wants to collaborate with leading experts to address research challenges\n",
      "- Is looking for input into education, curriculum development, and research direction\n",
      "- Would like a high level of service that is coordinated, efficient, and effective\n",
      "Ad Hoc Events\n",
      "Even if The Corporate Connection is not a fit for you, we can still work with you to get your messaging to our students and the CS community. Some examples of popular events to host at the Siebel Center for Computer Science are:\n",
      "- Tech talks\n",
      "- Corporate days\n",
      "- HACKS/competitions\n",
      "Contact Us\n",
      "For more information on recruiting with Illinois Computer Science, please email external-relations@cs.illinois.edu.\n",
      "Work with CS Student Groups\n",
      "The CS Student Organizations have many opportunities for companies to engage. We encourage you to learn about them, connect with them directly, or CS can advise you on what student organizations might be the best fit for your company.\n",
      "Senior Design\n",
      "Learn how your company can sponsor a CS 492/4 Senior Design project, which gives company representatives the opportunity to pitch their projects to all the enrolled students at the start of the fall semester. After reviewing student resumes, company reps can help select students for their project.\n",
      "Research Collaboration\n",
      "Illinois Computer Science has a global reputation for developing revolutionary technology--where groundbreaking research addresses real-world problems. The demand for computer science research, education, and application has exploded because computing underpins just about every aspect of modern life. The arts, science, business, medicine, and engineering all benefit from the computational power, modeling, and thinking found in computer science. Our faculty and students are bringing their expertise to bear on many of society's most challenging problems.\n",
      "Our collaborative culture allows industry partners to learn from and work with some of the best CS faculty in the world. Our internationally recognized faculty include numerous ACM Fellows, IEEE Fellows, Sloan Research Fellows, and NSF CAREER Award winners. And our faculty generate well over $30 million in research expenditures every year. The Thomas M. Siebel Center for Computer Science has some of the best classrooms, research and instructional labs, and informal meeting spaces on the Illinois campus.\n",
      "Innovation is our business. Partner with us to make it yours.\"\n",
      "\n",
      "\n",
      "Can you combine these passages into a summary? First, display the summary in paragraph form.\n",
      "Then, display the summary as a numbered list of sentences, and tell me the original passage that each numbered sentence came from.\n",
      "\n"
     ]
    }
   ],
   "source": [
    "prompt = ''\n",
    "for i in range(len(urls)):\n",
    "    s = ''.join(paragraphs_dict[i]).replace('  ', ' ')\n",
    "    prompt += f'Here is passage number {i+1}: \"{s}\"\\n\\n'\n",
    "prompt += \"\"\"\n",
    "Can you combine these passages into a summary? First, display the summary in paragraph form.\n",
    "Then, display the summary as a numbered list of sentences, and tell me the original passage that each numbered sentence came from.\n",
    "\"\"\"\n",
    "print(prompt)"
   ]
  },
  {
   "cell_type": "code",
   "execution_count": 12,
   "id": "28b80326-ba9c-433c-95da-3348736423e8",
   "metadata": {},
   "outputs": [
    {
     "name": "stdout",
     "output_type": "stream",
     "text": [
      "Sure! Here is a summary of the three passages:\n",
      "\n",
      "The University of Illinois has a highly regarded computer science program with world-renowned research in artificial intelligence, machine learning, natural language processing, computer vision, and robotics. Undergraduate students play an important role in this research and have opportunities to contribute early in their careers. The university has a large computer science department with a broad faculty base and a top-tier student body, offering students hands-on education and preparing them for leadership positions in academia and industry. Companies can recruit from the university through various means, including posting job openings on the online job board Handshake and partnering with the Corporate Connection affiliates program.\n",
      "\n",
      "Here is the same summary in a numbered list of sentences, along with the original passage that each sentence came from:\n",
      "\n",
      "1. The University of Illinois has a highly regarded computer science program with world-renowned research in artificial intelligence, machine learning, natural language processing, computer vision, and robotics. (Passage 1)\n",
      "2. Undergraduate students play an important role in this research and have opportunities to contribute early in their careers. (Passage 2)\n",
      "3. The university has a large computer science department with a broad faculty base and a top-tier student body, offering students hands-on education and preparing them for leadership positions in academia and industry. (Passage 1)\n",
      "4. Companies can recruit from the university through various means, including posting job openings on the online job board Handshake and partnering with the Corporate Connection affiliates program. (Passage 3)\n",
      "\n",
      "I hope this helps! Let me know if you have any further questions.\n"
     ]
    }
   ],
   "source": [
    "out = prompt_llama2(prompt)\n",
    "print(out)"
   ]
  },
  {
   "cell_type": "code",
   "execution_count": 21,
   "id": "347f1b72-3bbd-4b48-abd3-b766b31fcc20",
   "metadata": {
    "scrolled": true
   },
   "outputs": [
    {
     "name": "stdout",
     "output_type": "stream",
     "text": [
      "Here is passage number 1: \"The study of systems that behave intelligently, artificial intelligence includes several key areas where our faculty are recognized leaders: computer vision, machine listening, natural language processing, machine learning and robotics.Computer vision systems can understand images and video, for example, building extensive geometric and physical models of cities from video, or warning construction workers about nearby dangers. Natural language processing systems understand written and spoken language; possibilities include automatic translation of text from one language to another, or understanding text on Wikipedia to produce knowledge about the world. Machine listening systems understand audio signals, with applications like speech recognition, acoustic monitoring, or transcribing polyphonic music automatically. Crucial to modern artificial intelligence, machine learning methods exploit examples in order to adjust systems to work as effectively as possible. Robotics puts artificial intelligence into practice using machines that perceive and interact with the physical world.The AI group at Illinois is strong, diverse, and growing. It combines expertise in core strengths with promising new research directions.In machine learning, AI group faculty are studying theoretical foundations of deep and reinforcement learning; developing novel models and algorithms for deep neural networks, federated and distributed learning; as well as investigating issues related to scalability, security, privacy, and fairness of learning systems. Computer vision faculty are developing novel approaches for 2D and 3D scene understanding from still images and video; joint understanding of images and language; low-shot learning (recognition of rare or previously unseen categories); transfer learning and domain adaptation (adapting pre-trained systems to a changing data distribution); and image generation and editing approaches based on generative neural networks. Natural language processing faculty are working on topics such as grounded language understanding, information extraction and text mining, and knowledge-driven natural language generation for applications such as scientific discovery. Machine listening faculty are working on sound and speech understanding, source separation, and enhancement, as well as applications in music and computing. Robotics faculty are developing novel planning algorithms for grasping, locomotion, and navigation; investigating multi-robot systems; as well as pursuing high-impact applications of robotics to medicine, agriculture, home care, and autonomous driving.The excellence and impact of the AI group’s research has been recognized by a number of awards, including NSF CAREER (Amato, Hauser, Hockenmaier, Hoiem, Ji, Koyejo, Lazebnik, Smaragdis, Telgarsky), Sloan Research Fellowship (Hoiem, Koyejo, Lazebnik), Microsoft Research Faculty Fellowship (Lazebnik), AFOSR Young Investigator (Chowdhary), IEEE PAMI Significant Young Researcher Award (Hoiem), MIT TR-35 (Li, Smaragdis), Intel Rising Star Award (Li), “Young Scientist” selected by World Economic Forum (Ji), “AI’s Top 10 to Watch” Award by IEEE Intelligent Systems (Ji), ACM Fellow (Amato, Forsyth, Warnow), IEEE Fellow (Amato, Forsyth, Lazebnik, Smaragdis), IEEE Technical Achievement Award (Forsyth), and Packard Fellowship (Warnow).In the last few years, AI group members received a number of best paper awards, including: IEEE Signal Processing Society Best Paper Award (Smaragdis, 2018 and 2020), IEEE MLSP Best Paper Award (Smaragdis, 2017), Best Demo Paper Award at the 58th Annual Meeting of the Association for Computational Linguistics (Ji, 2020).AI group research has led to a number of startups. Derek Hoiem is co-founder and Chief Science Officer of Reconstruct, which visually documents construction sites, matching images to plans and analyzing productivity and risk for delay. Girish Chowdhary is co-founder and CTO of EarthSense, a startup creating machine learning and robotics solutions for agriculture, whose work was featured in a 2020 New York Times article. David Forsyth advises a number of startups focusing on augmented reality and image synthesis, including Lightform, Revery, and Depix.AI faculty are playing key roles in two $20 million AI institutes recently funded by the National Science Foundation and the U.S. Department of Agriculture’s National Institute of Food and Agriculture. The AI Institute for Future Agricultural Resilience, Management, and Sustainability (AIFARMS), led by Vikram Adve from CS, features Romit Chowdhary as Associate Director of Research, with other investigators including Alexander Schwing, Katherine Driggs-Campbell, Indranil Gupta, Kris Hauser, Julia Hockenmaier, Heng Ji, Sanmi Koyejo, and Paris Smaragdis. The AI Institute for Molecular Discovery, Synthetic Strategy, and Manufacturing, led by Huimin Zhao from Chemical Engineering, involves Heng Ji and Jian Peng as investigators.\"\n",
      "\n",
      "Here is passage number 2: \"Undergraduates at Illinois Computer Science are an important part of our world-renowned research. From summer programs to paid research positions with faculty, there are multiple ways for our students to contribute to high impact research early in their careers.100 Materials Science and Engineering Building, 1304 W. Green Street, Urbana100 Materials Science and Engineering Building, 1304 W. Green StreetJuan de Bedout, Ph.D. - Senior Vice President of Aerospace Technology at Raytheon Technologies\"\n",
      "\n",
      "Here is passage number 3: \"The University of Illinois boasts one of the largest computer science departments in the nation. With a top-tier student body and a broad faculty base, our students have opportunities to explore the full depth and breadth of the computing challenges that lie ahead.Illinois Computer Science students are the next generation of entrepreneurs, researchers, scholars, academicians, and business and industry giants. A hands-on education at Illinois means our students learn from the best in the classroom and in the laboratory, preparing them for leadership positions in the academy and industry. Odds are, one or more of your company's senior leaders is an Illinois alumnus. CS alumni play a pivotal role in nearly every high-tech company in this country and around the world.There are many engagement opportunities to explore—you can recruit at the Campus-level, from The Grainger College of Engineering, or directly from Illinois Computer Science—and we can help you create a custom recruiting strategy for your company.The Career Center at Illinois offers opportunities to reach students from a wide variety of majors or for positons that do not require a specific major. They can also assist in connecting recruiters with unit-specific career services.Engineering Career Services (ECS) offers a wide range of services and programs to assist you with your recruiting needs and in accessing the more than 10,000 undergraduate and graduate students from top-ranked programs within the College. Companies can post to the\n",
      "Handshake\n",
      "online job board for free. And job-seeking Engineering at Illinois alumni also have access to post resumes on Handshake.For companies who are looking to recruit exclusively CS and ECE students, please explore our\n",
      "Corporate Connection\n",
      "Affiliates Program or start with some of our Ad Hoc Events opportunities.The\n",
      "Corporate Connection\n",
      "provides a main point of entry for partnering with Illinois Computer Science and Electrical & Computer Engineering. Your company should join the Corporate Connection if it:Even if The Corporate Connection is not a fit for you, we can still work with you to get your messaging to our students and the CS community. Some examples of popular events to host at the Siebel Center for Computer Science are:For more information on recruiting with Illinois Computer Science, please email\n",
      "external-relations@cs.illinois.edu\n",
      ".The CS Student Organizations have many opportunities for companies to engage. We encourage you to learn about them, connect with them directly, or CS can advise you on what student organizations might be the best fit for your company.Learn how your company can sponsor a CS 492/4\n",
      "Senior Design\n",
      "project, which gives company representatives the opportunity to pitch their projects to all the enrolled students at the start of the fall semester. After reviewing student resumes, company reps can help select students for their project.Illinois Computer Science has a global reputation for developing revolutionary technology--where groundbreaking research addresses real-world problems. The demand for computer science research, education, and application has exploded because computing underpins just about every aspect of modern life. The arts, science, business, medicine, and engineering all benefit from the computational power, modeling, and thinking found in computer science. Our faculty and students are bringing their expertise to bear on many of society's most challenging problems.Our collaborative culture allows industry partners to learn from and work with some of the best CS faculty in the world. Our internationally recognized faculty include numerous ACM Fellows, IEEE Fellows, Sloan Research Fellows, and NSF CAREER Award winners. And our faculty generate well over $30 million in research expenditures every year. The Thomas M. Siebel Center for Computer Science has some of the best classrooms, research and instructional labs, and informal meeting spaces on the Illinois campus.Innovation is our business. Partner with us to make it yours.For more information on recruiting or research collaborations, email\n",
      "external-relations@cs.illinois.edu\n",
      ".\"\n",
      "\n",
      "\n",
      "Can you combine these passages into one short summary?\n",
      "Before the end of each sentence in the summary, add a citation showing the original passage that the sentence came from.\n",
      "For example, add \"[Passage 1]\" before the ending period of the sentence if the sentence came from the original Passage 1.\n",
      "\n"
     ]
    }
   ],
   "source": [
    "prompt = ''\n",
    "for i in range(len(urls)):\n",
    "    s = ''.join(paragraphs_dict[i]).replace('  ', ' ')\n",
    "    prompt += f'Here is passage number {i+1}: \"{s}\"\\n\\n'\n",
    "prompt += \"\"\"\n",
    "Can you combine these passages into one short summary?\n",
    "Before the end of each sentence in the summary, add a citation showing the original passage that the sentence came from.\n",
    "For example, add \"[Passage 1]\" before the ending period of the sentence if the sentence came from the original Passage 1.\n",
    "\"\"\"\n",
    "print(prompt)"
   ]
  },
  {
   "cell_type": "code",
   "execution_count": 22,
   "id": "8b4694a5-bd03-4955-9835-883e1afcacb5",
   "metadata": {},
   "outputs": [
    {
     "name": "stdout",
     "output_type": "stream",
     "text": [
      "Of course! I would be happy to assist you. Here is the combined summary with citations:\n",
      "\n",
      "The University of Illinois has a world-renowned computer science department that offers various research opportunities for undergraduate students [Passage 2]. Additionally, the university boasts one of the largest computer science departments in the nation, providing students with a broad range of academic and research experiences [Passage 3]. The department has a strong reputation for revolutionary technology and groundbreaking research, addressing real-world problems in various fields, including medicine, engineering, business, and science [Passage 3].\n",
      "\n",
      "The computer science department offers various research collaborations and recruitment opportunities for companies, including the Corporate Connection program, which provides a main point of entry for partnering with the department [Passage 3]. Companies can also sponsor senior design projects, which give company representatives the opportunity to pitch their projects to all enrolled students at the start of the fall semester [Passage 3]. Furthermore, the department has a global reputation for developing innovative technology, and its faculty and students are bringing their expertise to bear on many of society's most challenging problems [Passage 3].\n",
      "\n",
      "Overall, the University of Illinois's computer science department is a great place for companies to find talented and highly educated individuals for recruitment and research collaborations. With its strong reputation, cutting-edge research, and various opportunities for student involvement, the department offers a unique and valuable experience for both companies and students [Passage 3].\n",
      "\n",
      "Please let me know if there is anything else I can assist you with!\n"
     ]
    }
   ],
   "source": [
    "out = prompt_llama2(prompt)\n",
    "print(out)"
   ]
  },
  {
   "cell_type": "markdown",
   "id": "e4ace41f-e92c-4b49-baaf-9e4ea3403dcd",
   "metadata": {
    "jp-MarkdownHeadingCollapsed": true
   },
   "source": [
    "### Clustering with K-Means"
   ]
  },
  {
   "cell_type": "code",
   "execution_count": 62,
   "id": "496f68c8-c01b-4b6a-95d7-f460cf68e246",
   "metadata": {},
   "outputs": [],
   "source": [
    "import numpy as np\n",
    "from sklearn.feature_extraction.text import TfidfVectorizer\n",
    "from sklearn.cluster import KMeans\n",
    "from sklearn.metrics import silhouette_score\n",
    "from sklearn.preprocessing import StandardScaler"
   ]
  },
  {
   "cell_type": "code",
   "execution_count": 63,
   "id": "47406b74-e59b-44e3-8ba3-5351b6d8b45d",
   "metadata": {},
   "outputs": [
    {
     "data": {
      "text/plain": [
       "['The study of systems that behave intelligently, artificial intelligence includes several key areas where our faculty are recognized leaders: computer vision, machine listening, natural language processing, machine learning and robotics.',\n",
       " 'Computer vision systems can understand images and video, for example, building extensive geometric and physical models of cities from video, or warning construction workers about nearby dangers. Natural language processing systems understand written and spoken language; possibilities include automatic translation of text from one language to another, or understanding text on Wikipedia to produce knowledge about the world. Machine listening systems understand audio signals, with applications like speech recognition, acoustic monitoring, or transcribing polyphonic music automatically. Crucial to modern artificial intelligence, machine learning methods exploit examples in order to adjust systems to work as effectively as possible. Robotics puts artificial intelligence into practice using machines that perceive and interact with the physical world.',\n",
       " 'The AI group at Illinois is strong, diverse, and growing. It combines expertise in core strengths with promising new research directions.',\n",
       " 'In machine learning, AI group faculty are studying theoretical foundations of deep and reinforcement learning; developing novel models and algorithms for deep neural networks, federated and distributed learning; as well as investigating issues related to scalability, security, privacy, and fairness of learning systems. Computer vision faculty are developing novel approaches for 2D and 3D scene understanding from still images and video; joint understanding of images and language; low-shot learning (recognition of rare or previously unseen categories); transfer learning and domain adaptation (adapting pre-trained systems to a changing data distribution); and image generation and editing approaches based on generative neural networks. Natural language processing faculty are working on topics such as grounded language understanding, information extraction and text mining, and knowledge-driven natural language generation for applications such as scientific discovery. Machine listening faculty are working on sound and speech understanding, source separation, and enhancement, as well as applications in music and computing. Robotics faculty are developing novel planning algorithms for grasping, locomotion, and navigation; investigating multi-robot systems; as well as pursuing high-impact applications of robotics to medicine, agriculture, home care, and autonomous driving.',\n",
       " 'The excellence and impact of the AI group’s research has been recognized by a number of awards, including NSF CAREER (Amato, Hauser, Hockenmaier, Hoiem, Ji, Koyejo, Lazebnik, Smaragdis, Telgarsky), Sloan Research Fellowship (Hoiem, Koyejo, Lazebnik), Microsoft Research Faculty Fellowship (Lazebnik), AFOSR Young Investigator (Chowdhary), IEEE PAMI Significant Young Researcher Award (Hoiem), MIT TR-35 (Li, Smaragdis), Intel Rising Star Award (Li), “Young Scientist” selected by World Economic Forum (Ji), “AI’s Top 10 to Watch” Award by IEEE Intelligent Systems (Ji), ACM Fellow (Amato, Forsyth, Warnow), IEEE Fellow (Amato, Forsyth, Lazebnik, Smaragdis), IEEE Technical Achievement Award (Forsyth), and Packard Fellowship (Warnow).',\n",
       " 'In the last few years, AI group members received a number of best paper awards, including: IEEE Signal Processing Society Best Paper Award (Smaragdis, 2018 and 2020), IEEE MLSP Best Paper Award (Smaragdis, 2017), Best Demo Paper Award at the 58th Annual Meeting of the Association for Computational Linguistics (Ji, 2020).',\n",
       " 'AI group research has led to a number of startups. Derek Hoiem is co-founder and Chief Science Officer of Reconstruct, which visually documents construction sites, matching images to plans and analyzing productivity and risk for delay. Girish Chowdhary is co-founder and CTO of EarthSense, a startup creating machine learning and robotics solutions for agriculture, whose work was featured in a 2020 New York Times article. David Forsyth advises a number of startups focusing on augmented reality and image synthesis, including Lightform, Revery, and Depix.',\n",
       " 'AI faculty are playing key roles in two $20 million AI institutes recently funded by the National Science Foundation and the U.S. Department of Agriculture’s National Institute of Food and Agriculture. The AI Institute for Future Agricultural Resilience, Management, and Sustainability (AIFARMS), led by Vikram Adve from CS, features Romit Chowdhary as Associate Director of Research, with other investigators including Alexander Schwing, Katherine Driggs-Campbell, Indranil Gupta, Kris Hauser, Julia Hockenmaier, Heng Ji, Sanmi Koyejo, and Paris Smaragdis. The AI Institute for Molecular Discovery, Synthetic Strategy, and Manufacturing, led by Huimin Zhao from Chemical Engineering, involves Heng Ji and Jian Peng as investigators.',\n",
       " 'Undergraduates at Illinois Computer Science are an important part of our world-renowned research. From summer programs to paid research positions with faculty, there are multiple ways for our students to contribute to high impact research early in their careers.',\n",
       " '3269 Beckman Institute (3rd floor tower room).',\n",
       " '100 Materials Science and Engineering Building, 1304 W. Green St. Urbana, IL 61801',\n",
       " 'In the Illinois Computer Science Summer Research Program (SRP), students work with Illinois faculty mentors and graduate students over the summer to get an introduction to computer science research. This is an outstanding opportunity for aspiring scientists and faculty to learn from leading experts in computer science.',\n",
       " 'The Illinois CS SRP activities include networking and social events, weekly lunch and learn seminars covering topics such as research skills, presentation skills, information about graduate school, including applications, career opportunities, etc. The experience is capped off with an end-of-summer research symposium providing participants an opportunity to share their work.',\n",
       " 'Learn more about program dates, format, and funding for the summer research program.',\n",
       " 'The SRP will take place from\\nMay 30-August 4, 2023.',\n",
       " 'The SRP will take place in a hybrid format with both in-person and online offerings.',\n",
       " 'Funding, including rate of pay and number of hours of work, is determined on an individual basis between the participant and faculty research mentor after the student has been accepted to the program and matched with a faculty mentor.',\n",
       " 'Applications are accepted on a rolling basis, however, students are encouraged to apply as soon as possible.']"
      ]
     },
     "execution_count": 63,
     "metadata": {},
     "output_type": "execute_result"
    }
   ],
   "source": [
    "paragraphs = []\n",
    "paragraphs_tag = []\n",
    "for i in range(len(urls)):\n",
    "    arr = paragraphs_dict[i]\n",
    "    paragraphs.extend(arr)\n",
    "    arr = [f'{i+1}:' + s for s in arr]\n",
    "    paragraphs_tag.extend(arr)\n",
    "paragraphs"
   ]
  },
  {
   "cell_type": "code",
   "execution_count": 64,
   "id": "f3fa12b4-a743-4107-bff9-794c23ecf0bb",
   "metadata": {},
   "outputs": [],
   "source": [
    "tfidf_vectorizer = TfidfVectorizer()\n",
    "tfidf_matrix = tfidf_vectorizer.fit_transform(paragraphs)"
   ]
  },
  {
   "cell_type": "code",
   "execution_count": 65,
   "id": "5ec8ce3c-8138-4193-8c7c-c1b49f38eab5",
   "metadata": {},
   "outputs": [
    {
     "data": {
      "text/html": [
       "<style>#sk-container-id-4 {color: black;}#sk-container-id-4 pre{padding: 0;}#sk-container-id-4 div.sk-toggleable {background-color: white;}#sk-container-id-4 label.sk-toggleable__label {cursor: pointer;display: block;width: 100%;margin-bottom: 0;padding: 0.3em;box-sizing: border-box;text-align: center;}#sk-container-id-4 label.sk-toggleable__label-arrow:before {content: \"▸\";float: left;margin-right: 0.25em;color: #696969;}#sk-container-id-4 label.sk-toggleable__label-arrow:hover:before {color: black;}#sk-container-id-4 div.sk-estimator:hover label.sk-toggleable__label-arrow:before {color: black;}#sk-container-id-4 div.sk-toggleable__content {max-height: 0;max-width: 0;overflow: hidden;text-align: left;background-color: #f0f8ff;}#sk-container-id-4 div.sk-toggleable__content pre {margin: 0.2em;color: black;border-radius: 0.25em;background-color: #f0f8ff;}#sk-container-id-4 input.sk-toggleable__control:checked~div.sk-toggleable__content {max-height: 200px;max-width: 100%;overflow: auto;}#sk-container-id-4 input.sk-toggleable__control:checked~label.sk-toggleable__label-arrow:before {content: \"▾\";}#sk-container-id-4 div.sk-estimator input.sk-toggleable__control:checked~label.sk-toggleable__label {background-color: #d4ebff;}#sk-container-id-4 div.sk-label input.sk-toggleable__control:checked~label.sk-toggleable__label {background-color: #d4ebff;}#sk-container-id-4 input.sk-hidden--visually {border: 0;clip: rect(1px 1px 1px 1px);clip: rect(1px, 1px, 1px, 1px);height: 1px;margin: -1px;overflow: hidden;padding: 0;position: absolute;width: 1px;}#sk-container-id-4 div.sk-estimator {font-family: monospace;background-color: #f0f8ff;border: 1px dotted black;border-radius: 0.25em;box-sizing: border-box;margin-bottom: 0.5em;}#sk-container-id-4 div.sk-estimator:hover {background-color: #d4ebff;}#sk-container-id-4 div.sk-parallel-item::after {content: \"\";width: 100%;border-bottom: 1px solid gray;flex-grow: 1;}#sk-container-id-4 div.sk-label:hover label.sk-toggleable__label {background-color: #d4ebff;}#sk-container-id-4 div.sk-serial::before {content: \"\";position: absolute;border-left: 1px solid gray;box-sizing: border-box;top: 0;bottom: 0;left: 50%;z-index: 0;}#sk-container-id-4 div.sk-serial {display: flex;flex-direction: column;align-items: center;background-color: white;padding-right: 0.2em;padding-left: 0.2em;position: relative;}#sk-container-id-4 div.sk-item {position: relative;z-index: 1;}#sk-container-id-4 div.sk-parallel {display: flex;align-items: stretch;justify-content: center;background-color: white;position: relative;}#sk-container-id-4 div.sk-item::before, #sk-container-id-4 div.sk-parallel-item::before {content: \"\";position: absolute;border-left: 1px solid gray;box-sizing: border-box;top: 0;bottom: 0;left: 50%;z-index: -1;}#sk-container-id-4 div.sk-parallel-item {display: flex;flex-direction: column;z-index: 1;position: relative;background-color: white;}#sk-container-id-4 div.sk-parallel-item:first-child::after {align-self: flex-end;width: 50%;}#sk-container-id-4 div.sk-parallel-item:last-child::after {align-self: flex-start;width: 50%;}#sk-container-id-4 div.sk-parallel-item:only-child::after {width: 0;}#sk-container-id-4 div.sk-dashed-wrapped {border: 1px dashed gray;margin: 0 0.4em 0.5em 0.4em;box-sizing: border-box;padding-bottom: 0.4em;background-color: white;}#sk-container-id-4 div.sk-label label {font-family: monospace;font-weight: bold;display: inline-block;line-height: 1.2em;}#sk-container-id-4 div.sk-label-container {text-align: center;}#sk-container-id-4 div.sk-container {/* jupyter's `normalize.less` sets `[hidden] { display: none; }` but bootstrap.min.css set `[hidden] { display: none !important; }` so we also need the `!important` here to be able to override the default hidden behavior on the sphinx rendered scikit-learn.org. See: https://github.com/scikit-learn/scikit-learn/issues/21755 */display: inline-block !important;position: relative;}#sk-container-id-4 div.sk-text-repr-fallback {display: none;}</style><div id=\"sk-container-id-4\" class=\"sk-top-container\"><div class=\"sk-text-repr-fallback\"><pre>KMeans(n_clusters=3, n_init=5, random_state=42)</pre><b>In a Jupyter environment, please rerun this cell to show the HTML representation or trust the notebook. <br />On GitHub, the HTML representation is unable to render, please try loading this page with nbviewer.org.</b></div><div class=\"sk-container\" hidden><div class=\"sk-item\"><div class=\"sk-estimator sk-toggleable\"><input class=\"sk-toggleable__control sk-hidden--visually\" id=\"sk-estimator-id-4\" type=\"checkbox\" checked><label for=\"sk-estimator-id-4\" class=\"sk-toggleable__label sk-toggleable__label-arrow\">KMeans</label><div class=\"sk-toggleable__content\"><pre>KMeans(n_clusters=3, n_init=5, random_state=42)</pre></div></div></div></div></div>"
      ],
      "text/plain": [
       "KMeans(n_clusters=3, n_init=5, random_state=42)"
      ]
     },
     "execution_count": 65,
     "metadata": {},
     "output_type": "execute_result"
    }
   ],
   "source": [
    "k = 3\n",
    "kmeans = KMeans(n_clusters=k, n_init=5, random_state=42)\n",
    "kmeans.fit(tfidf_matrix)"
   ]
  },
  {
   "cell_type": "code",
   "execution_count": 66,
   "id": "7ffed906-9558-44ff-a65b-e394c48a8a81",
   "metadata": {},
   "outputs": [
    {
     "data": {
      "text/plain": [
       "0.03879463564652888"
      ]
     },
     "execution_count": 66,
     "metadata": {},
     "output_type": "execute_result"
    }
   ],
   "source": [
    "silhouette_avg = silhouette_score(tfidf_matrix, kmeans.labels_)\n",
    "silhouette_avg"
   ]
  },
  {
   "cell_type": "code",
   "execution_count": 67,
   "id": "715f5dd8-527b-4e9f-be2d-11683ed50718",
   "metadata": {},
   "outputs": [
    {
     "name": "stdout",
     "output_type": "stream",
     "text": [
      "Cluster 1:\n",
      "3:The SRP will take place from\n",
      "May 30-August 4, 2023.\n",
      "3:The SRP will take place in a hybrid format with both in-person and online offerings.\n",
      "\n",
      "Cluster 2:\n",
      "1:The AI group at Illinois is strong, diverse, and growing. It combines expertise in core strengths with promising new research directions.\n",
      "2:Undergraduates at Illinois Computer Science are an important part of our world-renowned research. From summer programs to paid research positions with faculty, there are multiple ways for our students to contribute to high impact research early in their careers.\n",
      "2:100 Materials Science and Engineering Building, 1304 W. Green St. Urbana, IL 61801\n",
      "3:In the Illinois Computer Science Summer Research Program (SRP), students work with Illinois faculty mentors and graduate students over the summer to get an introduction to computer science research. This is an outstanding opportunity for aspiring scientists and faculty to learn from leading experts in computer science.\n",
      "3:The Illinois CS SRP activities include networking and social events, weekly lunch and learn seminars covering topics such as research skills, presentation skills, information about graduate school, including applications, career opportunities, etc. The experience is capped off with an end-of-summer research symposium providing participants an opportunity to share their work.\n",
      "3:Learn more about program dates, format, and funding for the summer research program.\n",
      "3:Funding, including rate of pay and number of hours of work, is determined on an individual basis between the participant and faculty research mentor after the student has been accepted to the program and matched with a faculty mentor.\n",
      "\n",
      "Cluster 3:\n",
      "1:The study of systems that behave intelligently, artificial intelligence includes several key areas where our faculty are recognized leaders: computer vision, machine listening, natural language processing, machine learning and robotics.\n",
      "1:Computer vision systems can understand images and video, for example, building extensive geometric and physical models of cities from video, or warning construction workers about nearby dangers. Natural language processing systems understand written and spoken language; possibilities include automatic translation of text from one language to another, or understanding text on Wikipedia to produce knowledge about the world. Machine listening systems understand audio signals, with applications like speech recognition, acoustic monitoring, or transcribing polyphonic music automatically. Crucial to modern artificial intelligence, machine learning methods exploit examples in order to adjust systems to work as effectively as possible. Robotics puts artificial intelligence into practice using machines that perceive and interact with the physical world.\n",
      "1:In machine learning, AI group faculty are studying theoretical foundations of deep and reinforcement learning; developing novel models and algorithms for deep neural networks, federated and distributed learning; as well as investigating issues related to scalability, security, privacy, and fairness of learning systems. Computer vision faculty are developing novel approaches for 2D and 3D scene understanding from still images and video; joint understanding of images and language; low-shot learning (recognition of rare or previously unseen categories); transfer learning and domain adaptation (adapting pre-trained systems to a changing data distribution); and image generation and editing approaches based on generative neural networks. Natural language processing faculty are working on topics such as grounded language understanding, information extraction and text mining, and knowledge-driven natural language generation for applications such as scientific discovery. Machine listening faculty are working on sound and speech understanding, source separation, and enhancement, as well as applications in music and computing. Robotics faculty are developing novel planning algorithms for grasping, locomotion, and navigation; investigating multi-robot systems; as well as pursuing high-impact applications of robotics to medicine, agriculture, home care, and autonomous driving.\n",
      "1:The excellence and impact of the AI group’s research has been recognized by a number of awards, including NSF CAREER (Amato, Hauser, Hockenmaier, Hoiem, Ji, Koyejo, Lazebnik, Smaragdis, Telgarsky), Sloan Research Fellowship (Hoiem, Koyejo, Lazebnik), Microsoft Research Faculty Fellowship (Lazebnik), AFOSR Young Investigator (Chowdhary), IEEE PAMI Significant Young Researcher Award (Hoiem), MIT TR-35 (Li, Smaragdis), Intel Rising Star Award (Li), “Young Scientist” selected by World Economic Forum (Ji), “AI’s Top 10 to Watch” Award by IEEE Intelligent Systems (Ji), ACM Fellow (Amato, Forsyth, Warnow), IEEE Fellow (Amato, Forsyth, Lazebnik, Smaragdis), IEEE Technical Achievement Award (Forsyth), and Packard Fellowship (Warnow).\n",
      "1:In the last few years, AI group members received a number of best paper awards, including: IEEE Signal Processing Society Best Paper Award (Smaragdis, 2018 and 2020), IEEE MLSP Best Paper Award (Smaragdis, 2017), Best Demo Paper Award at the 58th Annual Meeting of the Association for Computational Linguistics (Ji, 2020).\n",
      "1:AI group research has led to a number of startups. Derek Hoiem is co-founder and Chief Science Officer of Reconstruct, which visually documents construction sites, matching images to plans and analyzing productivity and risk for delay. Girish Chowdhary is co-founder and CTO of EarthSense, a startup creating machine learning and robotics solutions for agriculture, whose work was featured in a 2020 New York Times article. David Forsyth advises a number of startups focusing on augmented reality and image synthesis, including Lightform, Revery, and Depix.\n",
      "1:AI faculty are playing key roles in two $20 million AI institutes recently funded by the National Science Foundation and the U.S. Department of Agriculture’s National Institute of Food and Agriculture. The AI Institute for Future Agricultural Resilience, Management, and Sustainability (AIFARMS), led by Vikram Adve from CS, features Romit Chowdhary as Associate Director of Research, with other investigators including Alexander Schwing, Katherine Driggs-Campbell, Indranil Gupta, Kris Hauser, Julia Hockenmaier, Heng Ji, Sanmi Koyejo, and Paris Smaragdis. The AI Institute for Molecular Discovery, Synthetic Strategy, and Manufacturing, led by Huimin Zhao from Chemical Engineering, involves Heng Ji and Jian Peng as investigators.\n",
      "2:3269 Beckman Institute (3rd floor tower room).\n",
      "3:Applications are accepted on a rolling basis, however, students are encouraged to apply as soon as possible.\n",
      "\n"
     ]
    }
   ],
   "source": [
    "clusters = {1:[], 2:[], 3:[]}\n",
    "for cluster_num in range(k):\n",
    "    print(f\"Cluster {cluster_num + 1}:\")\n",
    "    cluster_paragraphs = [paragraphs_tag[i] for i in range(len(paragraphs)) if kmeans.labels_[i] == cluster_num]\n",
    "    for paragraph in cluster_paragraphs:\n",
    "        clusters[cluster_num + 1] = paragraph\n",
    "        print(paragraph)\n",
    "    print()"
   ]
  },
  {
   "cell_type": "code",
   "execution_count": 74,
   "id": "b982d35e-3086-4794-a7ba-5306a3c3539e",
   "metadata": {},
   "outputs": [],
   "source": [
    "from sklearn.decomposition import PCA\n",
    "import matplotlib.pyplot as plt"
   ]
  },
  {
   "cell_type": "code",
   "execution_count": 79,
   "id": "17adc568-e846-41a5-b6f6-4f4748eb549e",
   "metadata": {},
   "outputs": [
    {
     "data": {
      "image/png": "[encoded data removed]",
      "text/plain": [
       "<Figure size 640x480 with 1 Axes>"
      ]
     },
     "metadata": {},
     "output_type": "display_data"
    }
   ],
   "source": [
    "colors = ['red', 'green', 'blue'] \n",
    "cluster = [0, 1, 2] \n",
    "for i in range(3): \n",
    "    plt.scatter(reduced_data[kmeans.labels_ == i, 0], \n",
    "                reduced_data[kmeans.labels_ == i, 1],\n",
    "                s=10, color=colors[i],  \n",
    "                label=f' {cluster[i]}') \n",
    "plt.legend() \n",
    "plt.show()"
   ]
  },
  {
   "cell_type": "markdown",
   "id": "3839d2b9-e108-454a-94aa-ec6d512ee038",
   "metadata": {},
   "source": [
    "#### Doc2Vec"
   ]
  },
  {
   "cell_type": "code",
   "execution_count": 68,
   "id": "dd2842b8-4ecc-4211-83c4-a6955718439a",
   "metadata": {},
   "outputs": [],
   "source": [
    "from gensim.models.doc2vec import Doc2Vec, TaggedDocument\n",
    "from nltk.tokenize import word_tokenize"
   ]
  },
  {
   "cell_type": "code",
   "execution_count": 69,
   "id": "5cc0199f-573c-428e-a10c-7be3270f911d",
   "metadata": {},
   "outputs": [],
   "source": [
    "tokenized_paragraphs = [word_tokenize(p) for p in paragraphs]"
   ]
  },
  {
   "cell_type": "code",
   "execution_count": 70,
   "id": "f1b3a20f-501b-4d1c-816e-4c683f235d64",
   "metadata": {},
   "outputs": [
    {
     "data": {
      "text/plain": [
       "TaggedDocument(words=['The', 'study', 'of', 'systems', 'that', 'behave', 'intelligently', ',', 'artificial', 'intelligence', 'includes', 'several', 'key', 'areas', 'where', 'our', 'faculty', 'are', 'recognized', 'leaders', ':', 'computer', 'vision', ',', 'machine', 'listening', ',', 'natural', 'language', 'processing', ',', 'machine', 'learning', 'and', 'robotics', '.'], tags=['0'])"
      ]
     },
     "execution_count": 70,
     "metadata": {},
     "output_type": "execute_result"
    }
   ],
   "source": [
    "tagged_data = [TaggedDocument(words=words, tags=[str(i)]) for i, words in enumerate(tokenized_paragraphs)]\n",
    "tagged_data[0]"
   ]
  },
  {
   "cell_type": "code",
   "execution_count": 71,
   "id": "83e964ef-4069-48fc-8e8c-14ad14beeaea",
   "metadata": {},
   "outputs": [],
   "source": [
    "model = Doc2Vec(vector_size=20, window=2, min_count=1, workers=4, epochs=100)\n",
    "model.build_vocab(tagged_data)\n",
    "model.train(tagged_data, total_examples=model.corpus_count, epochs=model.epochs)"
   ]
  },
  {
   "cell_type": "code",
   "execution_count": 72,
   "id": "4e0aed98-aefb-4202-aaa1-c08abb1b1854",
   "metadata": {},
   "outputs": [],
   "source": [
    "similarity_threshold = 0.7\n",
    "clusters = {}\n",
    "for i, passage in enumerate(paragraphs):\n",
    "    similar_passages = model.dv.most_similar(str(i), topn=len(paragraphs))\n",
    "    group = [int(p[0]) for p in similar_passages if p[1] >= similarity_threshold]\n",
    "    clusters[i] = group"
   ]
  },
  {
   "cell_type": "code",
   "execution_count": 73,
   "id": "786f6c23-a427-44de-933e-1f910e1411e2",
   "metadata": {},
   "outputs": [
    {
     "name": "stdout",
     "output_type": "stream",
     "text": [
      "Group 1:\n",
      "Applications are accepted on a rolling basis, however, students are encouraged to apply as soon as possible.\n",
      "100 Materials Science and Engineering Building, 1304 W. Green St. Urbana, IL 61801\n",
      "Learn more about program dates, format, and funding for the summer research program.\n",
      "The SRP will take place in a hybrid format with both in-person and online offerings.\n",
      "Undergraduates at Illinois Computer Science are an important part of our world-renowned research. From summer programs to paid research positions with faculty, there are multiple ways for our students to contribute to high impact research early in their careers.\n",
      "The AI group at Illinois is strong, diverse, and growing. It combines expertise in core strengths with promising new research directions.\n",
      "Funding, including rate of pay and number of hours of work, is determined on an individual basis between the participant and faculty research mentor after the student has been accepted to the program and matched with a faculty mentor.\n",
      "The SRP will take place from\n",
      "May 30-August 4, 2023.\n",
      "3269 Beckman Institute (3rd floor tower room).\n",
      "The Illinois CS SRP activities include networking and social events, weekly lunch and learn seminars covering topics such as research skills, presentation skills, information about graduate school, including applications, career opportunities, etc. The experience is capped off with an end-of-summer research symposium providing participants an opportunity to share their work.\n",
      "In the Illinois Computer Science Summer Research Program (SRP), students work with Illinois faculty mentors and graduate students over the summer to get an introduction to computer science research. This is an outstanding opportunity for aspiring scientists and faculty to learn from leading experts in computer science.\n",
      "Computer vision systems can understand images and video, for example, building extensive geometric and physical models of cities from video, or warning construction workers about nearby dangers. Natural language processing systems understand written and spoken language; possibilities include automatic translation of text from one language to another, or understanding text on Wikipedia to produce knowledge about the world. Machine listening systems understand audio signals, with applications like speech recognition, acoustic monitoring, or transcribing polyphonic music automatically. Crucial to modern artificial intelligence, machine learning methods exploit examples in order to adjust systems to work as effectively as possible. Robotics puts artificial intelligence into practice using machines that perceive and interact with the physical world.\n",
      "AI group research has led to a number of startups. Derek Hoiem is co-founder and Chief Science Officer of Reconstruct, which visually documents construction sites, matching images to plans and analyzing productivity and risk for delay. Girish Chowdhary is co-founder and CTO of EarthSense, a startup creating machine learning and robotics solutions for agriculture, whose work was featured in a 2020 New York Times article. David Forsyth advises a number of startups focusing on augmented reality and image synthesis, including Lightform, Revery, and Depix.\n",
      "In machine learning, AI group faculty are studying theoretical foundations of deep and reinforcement learning; developing novel models and algorithms for deep neural networks, federated and distributed learning; as well as investigating issues related to scalability, security, privacy, and fairness of learning systems. Computer vision faculty are developing novel approaches for 2D and 3D scene understanding from still images and video; joint understanding of images and language; low-shot learning (recognition of rare or previously unseen categories); transfer learning and domain adaptation (adapting pre-trained systems to a changing data distribution); and image generation and editing approaches based on generative neural networks. Natural language processing faculty are working on topics such as grounded language understanding, information extraction and text mining, and knowledge-driven natural language generation for applications such as scientific discovery. Machine listening faculty are working on sound and speech understanding, source separation, and enhancement, as well as applications in music and computing. Robotics faculty are developing novel planning algorithms for grasping, locomotion, and navigation; investigating multi-robot systems; as well as pursuing high-impact applications of robotics to medicine, agriculture, home care, and autonomous driving.\n",
      "In the last few years, AI group members received a number of best paper awards, including: IEEE Signal Processing Society Best Paper Award (Smaragdis, 2018 and 2020), IEEE MLSP Best Paper Award (Smaragdis, 2017), Best Demo Paper Award at the 58th Annual Meeting of the Association for Computational Linguistics (Ji, 2020).\n",
      "\n",
      "Group 2:\n",
      "The study of systems that behave intelligently, artificial intelligence includes several key areas where our faculty are recognized leaders: computer vision, machine listening, natural language processing, machine learning and robotics.\n",
      "Applications are accepted on a rolling basis, however, students are encouraged to apply as soon as possible.\n",
      "Undergraduates at Illinois Computer Science are an important part of our world-renowned research. From summer programs to paid research positions with faculty, there are multiple ways for our students to contribute to high impact research early in their careers.\n",
      "100 Materials Science and Engineering Building, 1304 W. Green St. Urbana, IL 61801\n",
      "Learn more about program dates, format, and funding for the summer research program.\n",
      "The SRP will take place in a hybrid format with both in-person and online offerings.\n",
      "\n",
      "Group 3:\n",
      "100 Materials Science and Engineering Building, 1304 W. Green St. Urbana, IL 61801\n",
      "3269 Beckman Institute (3rd floor tower room).\n",
      "The SRP will take place from\n",
      "May 30-August 4, 2023.\n",
      "Learn more about program dates, format, and funding for the summer research program.\n",
      "The SRP will take place in a hybrid format with both in-person and online offerings.\n",
      "Funding, including rate of pay and number of hours of work, is determined on an individual basis between the participant and faculty research mentor after the student has been accepted to the program and matched with a faculty mentor.\n",
      "Undergraduates at Illinois Computer Science are an important part of our world-renowned research. From summer programs to paid research positions with faculty, there are multiple ways for our students to contribute to high impact research early in their careers.\n",
      "Applications are accepted on a rolling basis, however, students are encouraged to apply as soon as possible.\n",
      "The Illinois CS SRP activities include networking and social events, weekly lunch and learn seminars covering topics such as research skills, presentation skills, information about graduate school, including applications, career opportunities, etc. The experience is capped off with an end-of-summer research symposium providing participants an opportunity to share their work.\n",
      "The study of systems that behave intelligently, artificial intelligence includes several key areas where our faculty are recognized leaders: computer vision, machine listening, natural language processing, machine learning and robotics.\n",
      "In the Illinois Computer Science Summer Research Program (SRP), students work with Illinois faculty mentors and graduate students over the summer to get an introduction to computer science research. This is an outstanding opportunity for aspiring scientists and faculty to learn from leading experts in computer science.\n",
      "AI group research has led to a number of startups. Derek Hoiem is co-founder and Chief Science Officer of Reconstruct, which visually documents construction sites, matching images to plans and analyzing productivity and risk for delay. Girish Chowdhary is co-founder and CTO of EarthSense, a startup creating machine learning and robotics solutions for agriculture, whose work was featured in a 2020 New York Times article. David Forsyth advises a number of startups focusing on augmented reality and image synthesis, including Lightform, Revery, and Depix.\n",
      "In the last few years, AI group members received a number of best paper awards, including: IEEE Signal Processing Society Best Paper Award (Smaragdis, 2018 and 2020), IEEE MLSP Best Paper Award (Smaragdis, 2017), Best Demo Paper Award at the 58th Annual Meeting of the Association for Computational Linguistics (Ji, 2020).\n",
      "AI faculty are playing key roles in two $20 million AI institutes recently funded by the National Science Foundation and the U.S. Department of Agriculture’s National Institute of Food and Agriculture. The AI Institute for Future Agricultural Resilience, Management, and Sustainability (AIFARMS), led by Vikram Adve from CS, features Romit Chowdhary as Associate Director of Research, with other investigators including Alexander Schwing, Katherine Driggs-Campbell, Indranil Gupta, Kris Hauser, Julia Hockenmaier, Heng Ji, Sanmi Koyejo, and Paris Smaragdis. The AI Institute for Molecular Discovery, Synthetic Strategy, and Manufacturing, led by Huimin Zhao from Chemical Engineering, involves Heng Ji and Jian Peng as investigators.\n",
      "\n",
      "Group 4:\n",
      "The study of systems that behave intelligently, artificial intelligence includes several key areas where our faculty are recognized leaders: computer vision, machine listening, natural language processing, machine learning and robotics.\n",
      "Applications are accepted on a rolling basis, however, students are encouraged to apply as soon as possible.\n",
      "\n",
      "Group 5:\n",
      "In the last few years, AI group members received a number of best paper awards, including: IEEE Signal Processing Society Best Paper Award (Smaragdis, 2018 and 2020), IEEE MLSP Best Paper Award (Smaragdis, 2017), Best Demo Paper Award at the 58th Annual Meeting of the Association for Computational Linguistics (Ji, 2020).\n",
      "3269 Beckman Institute (3rd floor tower room).\n",
      "AI faculty are playing key roles in two $20 million AI institutes recently funded by the National Science Foundation and the U.S. Department of Agriculture’s National Institute of Food and Agriculture. The AI Institute for Future Agricultural Resilience, Management, and Sustainability (AIFARMS), led by Vikram Adve from CS, features Romit Chowdhary as Associate Director of Research, with other investigators including Alexander Schwing, Katherine Driggs-Campbell, Indranil Gupta, Kris Hauser, Julia Hockenmaier, Heng Ji, Sanmi Koyejo, and Paris Smaragdis. The AI Institute for Molecular Discovery, Synthetic Strategy, and Manufacturing, led by Huimin Zhao from Chemical Engineering, involves Heng Ji and Jian Peng as investigators.\n",
      "\n",
      "Group 6:\n",
      "3269 Beckman Institute (3rd floor tower room).\n",
      "The excellence and impact of the AI group’s research has been recognized by a number of awards, including NSF CAREER (Amato, Hauser, Hockenmaier, Hoiem, Ji, Koyejo, Lazebnik, Smaragdis, Telgarsky), Sloan Research Fellowship (Hoiem, Koyejo, Lazebnik), Microsoft Research Faculty Fellowship (Lazebnik), AFOSR Young Investigator (Chowdhary), IEEE PAMI Significant Young Researcher Award (Hoiem), MIT TR-35 (Li, Smaragdis), Intel Rising Star Award (Li), “Young Scientist” selected by World Economic Forum (Ji), “AI’s Top 10 to Watch” Award by IEEE Intelligent Systems (Ji), ACM Fellow (Amato, Forsyth, Warnow), IEEE Fellow (Amato, Forsyth, Lazebnik, Smaragdis), IEEE Technical Achievement Award (Forsyth), and Packard Fellowship (Warnow).\n",
      "The SRP will take place from\n",
      "May 30-August 4, 2023.\n",
      "The AI group at Illinois is strong, diverse, and growing. It combines expertise in core strengths with promising new research directions.\n",
      "100 Materials Science and Engineering Building, 1304 W. Green St. Urbana, IL 61801\n",
      "Learn more about program dates, format, and funding for the summer research program.\n",
      "The SRP will take place in a hybrid format with both in-person and online offerings.\n",
      "Funding, including rate of pay and number of hours of work, is determined on an individual basis between the participant and faculty research mentor after the student has been accepted to the program and matched with a faculty mentor.\n",
      "AI group research has led to a number of startups. Derek Hoiem is co-founder and Chief Science Officer of Reconstruct, which visually documents construction sites, matching images to plans and analyzing productivity and risk for delay. Girish Chowdhary is co-founder and CTO of EarthSense, a startup creating machine learning and robotics solutions for agriculture, whose work was featured in a 2020 New York Times article. David Forsyth advises a number of startups focusing on augmented reality and image synthesis, including Lightform, Revery, and Depix.\n",
      "Applications are accepted on a rolling basis, however, students are encouraged to apply as soon as possible.\n",
      "Undergraduates at Illinois Computer Science are an important part of our world-renowned research. From summer programs to paid research positions with faculty, there are multiple ways for our students to contribute to high impact research early in their careers.\n",
      "AI faculty are playing key roles in two $20 million AI institutes recently funded by the National Science Foundation and the U.S. Department of Agriculture’s National Institute of Food and Agriculture. The AI Institute for Future Agricultural Resilience, Management, and Sustainability (AIFARMS), led by Vikram Adve from CS, features Romit Chowdhary as Associate Director of Research, with other investigators including Alexander Schwing, Katherine Driggs-Campbell, Indranil Gupta, Kris Hauser, Julia Hockenmaier, Heng Ji, Sanmi Koyejo, and Paris Smaragdis. The AI Institute for Molecular Discovery, Synthetic Strategy, and Manufacturing, led by Huimin Zhao from Chemical Engineering, involves Heng Ji and Jian Peng as investigators.\n",
      "The study of systems that behave intelligently, artificial intelligence includes several key areas where our faculty are recognized leaders: computer vision, machine listening, natural language processing, machine learning and robotics.\n",
      "The Illinois CS SRP activities include networking and social events, weekly lunch and learn seminars covering topics such as research skills, presentation skills, information about graduate school, including applications, career opportunities, etc. The experience is capped off with an end-of-summer research symposium providing participants an opportunity to share their work.\n",
      "\n",
      "Group 7:\n",
      "Funding, including rate of pay and number of hours of work, is determined on an individual basis between the participant and faculty research mentor after the student has been accepted to the program and matched with a faculty mentor.\n",
      "The SRP will take place in a hybrid format with both in-person and online offerings.\n",
      "Learn more about program dates, format, and funding for the summer research program.\n",
      "The SRP will take place from\n",
      "May 30-August 4, 2023.\n",
      "The AI group at Illinois is strong, diverse, and growing. It combines expertise in core strengths with promising new research directions.\n",
      "3269 Beckman Institute (3rd floor tower room).\n",
      "The Illinois CS SRP activities include networking and social events, weekly lunch and learn seminars covering topics such as research skills, presentation skills, information about graduate school, including applications, career opportunities, etc. The experience is capped off with an end-of-summer research symposium providing participants an opportunity to share their work.\n",
      "Applications are accepted on a rolling basis, however, students are encouraged to apply as soon as possible.\n",
      "Undergraduates at Illinois Computer Science are an important part of our world-renowned research. From summer programs to paid research positions with faculty, there are multiple ways for our students to contribute to high impact research early in their careers.\n",
      "100 Materials Science and Engineering Building, 1304 W. Green St. Urbana, IL 61801\n",
      "The study of systems that behave intelligently, artificial intelligence includes several key areas where our faculty are recognized leaders: computer vision, machine listening, natural language processing, machine learning and robotics.\n",
      "In the Illinois Computer Science Summer Research Program (SRP), students work with Illinois faculty mentors and graduate students over the summer to get an introduction to computer science research. This is an outstanding opportunity for aspiring scientists and faculty to learn from leading experts in computer science.\n",
      "In the last few years, AI group members received a number of best paper awards, including: IEEE Signal Processing Society Best Paper Award (Smaragdis, 2018 and 2020), IEEE MLSP Best Paper Award (Smaragdis, 2017), Best Demo Paper Award at the 58th Annual Meeting of the Association for Computational Linguistics (Ji, 2020).\n",
      "\n",
      "Group 8:\n",
      "3269 Beckman Institute (3rd floor tower room).\n",
      "The AI group at Illinois is strong, diverse, and growing. It combines expertise in core strengths with promising new research directions.\n",
      "The SRP will take place from\n",
      "May 30-August 4, 2023.\n",
      "100 Materials Science and Engineering Building, 1304 W. Green St. Urbana, IL 61801\n",
      "Learn more about program dates, format, and funding for the summer research program.\n",
      "Funding, including rate of pay and number of hours of work, is determined on an individual basis between the participant and faculty research mentor after the student has been accepted to the program and matched with a faculty mentor.\n",
      "The SRP will take place in a hybrid format with both in-person and online offerings.\n",
      "Undergraduates at Illinois Computer Science are an important part of our world-renowned research. From summer programs to paid research positions with faculty, there are multiple ways for our students to contribute to high impact research early in their careers.\n",
      "The Illinois CS SRP activities include networking and social events, weekly lunch and learn seminars covering topics such as research skills, presentation skills, information about graduate school, including applications, career opportunities, etc. The experience is capped off with an end-of-summer research symposium providing participants an opportunity to share their work.\n",
      "In the last few years, AI group members received a number of best paper awards, including: IEEE Signal Processing Society Best Paper Award (Smaragdis, 2018 and 2020), IEEE MLSP Best Paper Award (Smaragdis, 2017), Best Demo Paper Award at the 58th Annual Meeting of the Association for Computational Linguistics (Ji, 2020).\n",
      "The excellence and impact of the AI group’s research has been recognized by a number of awards, including NSF CAREER (Amato, Hauser, Hockenmaier, Hoiem, Ji, Koyejo, Lazebnik, Smaragdis, Telgarsky), Sloan Research Fellowship (Hoiem, Koyejo, Lazebnik), Microsoft Research Faculty Fellowship (Lazebnik), AFOSR Young Investigator (Chowdhary), IEEE PAMI Significant Young Researcher Award (Hoiem), MIT TR-35 (Li, Smaragdis), Intel Rising Star Award (Li), “Young Scientist” selected by World Economic Forum (Ji), “AI’s Top 10 to Watch” Award by IEEE Intelligent Systems (Ji), ACM Fellow (Amato, Forsyth, Warnow), IEEE Fellow (Amato, Forsyth, Lazebnik, Smaragdis), IEEE Technical Achievement Award (Forsyth), and Packard Fellowship (Warnow).\n",
      "In the Illinois Computer Science Summer Research Program (SRP), students work with Illinois faculty mentors and graduate students over the summer to get an introduction to computer science research. This is an outstanding opportunity for aspiring scientists and faculty to learn from leading experts in computer science.\n",
      "\n",
      "Group 9:\n",
      "The Illinois CS SRP activities include networking and social events, weekly lunch and learn seminars covering topics such as research skills, presentation skills, information about graduate school, including applications, career opportunities, etc. The experience is capped off with an end-of-summer research symposium providing participants an opportunity to share their work.\n",
      "The SRP will take place in a hybrid format with both in-person and online offerings.\n",
      "The AI group at Illinois is strong, diverse, and growing. It combines expertise in core strengths with promising new research directions.\n",
      "In the Illinois Computer Science Summer Research Program (SRP), students work with Illinois faculty mentors and graduate students over the summer to get an introduction to computer science research. This is an outstanding opportunity for aspiring scientists and faculty to learn from leading experts in computer science.\n",
      "Learn more about program dates, format, and funding for the summer research program.\n",
      "Applications are accepted on a rolling basis, however, students are encouraged to apply as soon as possible.\n",
      "Funding, including rate of pay and number of hours of work, is determined on an individual basis between the participant and faculty research mentor after the student has been accepted to the program and matched with a faculty mentor.\n",
      "The SRP will take place from\n",
      "May 30-August 4, 2023.\n",
      "100 Materials Science and Engineering Building, 1304 W. Green St. Urbana, IL 61801\n",
      "3269 Beckman Institute (3rd floor tower room).\n",
      "The study of systems that behave intelligently, artificial intelligence includes several key areas where our faculty are recognized leaders: computer vision, machine listening, natural language processing, machine learning and robotics.\n",
      "AI group research has led to a number of startups. Derek Hoiem is co-founder and Chief Science Officer of Reconstruct, which visually documents construction sites, matching images to plans and analyzing productivity and risk for delay. Girish Chowdhary is co-founder and CTO of EarthSense, a startup creating machine learning and robotics solutions for agriculture, whose work was featured in a 2020 New York Times article. David Forsyth advises a number of startups focusing on augmented reality and image synthesis, including Lightform, Revery, and Depix.\n",
      "AI faculty are playing key roles in two $20 million AI institutes recently funded by the National Science Foundation and the U.S. Department of Agriculture’s National Institute of Food and Agriculture. The AI Institute for Future Agricultural Resilience, Management, and Sustainability (AIFARMS), led by Vikram Adve from CS, features Romit Chowdhary as Associate Director of Research, with other investigators including Alexander Schwing, Katherine Driggs-Campbell, Indranil Gupta, Kris Hauser, Julia Hockenmaier, Heng Ji, Sanmi Koyejo, and Paris Smaragdis. The AI Institute for Molecular Discovery, Synthetic Strategy, and Manufacturing, led by Huimin Zhao from Chemical Engineering, involves Heng Ji and Jian Peng as investigators.\n",
      "Computer vision systems can understand images and video, for example, building extensive geometric and physical models of cities from video, or warning construction workers about nearby dangers. Natural language processing systems understand written and spoken language; possibilities include automatic translation of text from one language to another, or understanding text on Wikipedia to produce knowledge about the world. Machine listening systems understand audio signals, with applications like speech recognition, acoustic monitoring, or transcribing polyphonic music automatically. Crucial to modern artificial intelligence, machine learning methods exploit examples in order to adjust systems to work as effectively as possible. Robotics puts artificial intelligence into practice using machines that perceive and interact with the physical world.\n",
      "In the last few years, AI group members received a number of best paper awards, including: IEEE Signal Processing Society Best Paper Award (Smaragdis, 2018 and 2020), IEEE MLSP Best Paper Award (Smaragdis, 2017), Best Demo Paper Award at the 58th Annual Meeting of the Association for Computational Linguistics (Ji, 2020).\n",
      "\n",
      "Group 10:\n",
      "100 Materials Science and Engineering Building, 1304 W. Green St. Urbana, IL 61801\n",
      "The AI group at Illinois is strong, diverse, and growing. It combines expertise in core strengths with promising new research directions.\n",
      "The SRP will take place from\n",
      "May 30-August 4, 2023.\n",
      "Learn more about program dates, format, and funding for the summer research program.\n",
      "The SRP will take place in a hybrid format with both in-person and online offerings.\n",
      "Funding, including rate of pay and number of hours of work, is determined on an individual basis between the participant and faculty research mentor after the student has been accepted to the program and matched with a faculty mentor.\n",
      "Applications are accepted on a rolling basis, however, students are encouraged to apply as soon as possible.\n",
      "Undergraduates at Illinois Computer Science are an important part of our world-renowned research. From summer programs to paid research positions with faculty, there are multiple ways for our students to contribute to high impact research early in their careers.\n",
      "The Illinois CS SRP activities include networking and social events, weekly lunch and learn seminars covering topics such as research skills, presentation skills, information about graduate school, including applications, career opportunities, etc. The experience is capped off with an end-of-summer research symposium providing participants an opportunity to share their work.\n",
      "The study of systems that behave intelligently, artificial intelligence includes several key areas where our faculty are recognized leaders: computer vision, machine listening, natural language processing, machine learning and robotics.\n",
      "AI group research has led to a number of startups. Derek Hoiem is co-founder and Chief Science Officer of Reconstruct, which visually documents construction sites, matching images to plans and analyzing productivity and risk for delay. Girish Chowdhary is co-founder and CTO of EarthSense, a startup creating machine learning and robotics solutions for agriculture, whose work was featured in a 2020 New York Times article. David Forsyth advises a number of startups focusing on augmented reality and image synthesis, including Lightform, Revery, and Depix.\n",
      "In the Illinois Computer Science Summer Research Program (SRP), students work with Illinois faculty mentors and graduate students over the summer to get an introduction to computer science research. This is an outstanding opportunity for aspiring scientists and faculty to learn from leading experts in computer science.\n",
      "In the last few years, AI group members received a number of best paper awards, including: IEEE Signal Processing Society Best Paper Award (Smaragdis, 2018 and 2020), IEEE MLSP Best Paper Award (Smaragdis, 2017), Best Demo Paper Award at the 58th Annual Meeting of the Association for Computational Linguistics (Ji, 2020).\n",
      "AI faculty are playing key roles in two $20 million AI institutes recently funded by the National Science Foundation and the U.S. Department of Agriculture’s National Institute of Food and Agriculture. The AI Institute for Future Agricultural Resilience, Management, and Sustainability (AIFARMS), led by Vikram Adve from CS, features Romit Chowdhary as Associate Director of Research, with other investigators including Alexander Schwing, Katherine Driggs-Campbell, Indranil Gupta, Kris Hauser, Julia Hockenmaier, Heng Ji, Sanmi Koyejo, and Paris Smaragdis. The AI Institute for Molecular Discovery, Synthetic Strategy, and Manufacturing, led by Huimin Zhao from Chemical Engineering, involves Heng Ji and Jian Peng as investigators.\n",
      "The excellence and impact of the AI group’s research has been recognized by a number of awards, including NSF CAREER (Amato, Hauser, Hockenmaier, Hoiem, Ji, Koyejo, Lazebnik, Smaragdis, Telgarsky), Sloan Research Fellowship (Hoiem, Koyejo, Lazebnik), Microsoft Research Faculty Fellowship (Lazebnik), AFOSR Young Investigator (Chowdhary), IEEE PAMI Significant Young Researcher Award (Hoiem), MIT TR-35 (Li, Smaragdis), Intel Rising Star Award (Li), “Young Scientist” selected by World Economic Forum (Ji), “AI’s Top 10 to Watch” Award by IEEE Intelligent Systems (Ji), ACM Fellow (Amato, Forsyth, Warnow), IEEE Fellow (Amato, Forsyth, Lazebnik, Smaragdis), IEEE Technical Achievement Award (Forsyth), and Packard Fellowship (Warnow).\n",
      "\n",
      "Group 11:\n",
      "The AI group at Illinois is strong, diverse, and growing. It combines expertise in core strengths with promising new research directions.\n",
      "3269 Beckman Institute (3rd floor tower room).\n",
      "The SRP will take place from\n",
      "May 30-August 4, 2023.\n",
      "Learn more about program dates, format, and funding for the summer research program.\n",
      "The SRP will take place in a hybrid format with both in-person and online offerings.\n",
      "Applications are accepted on a rolling basis, however, students are encouraged to apply as soon as possible.\n",
      "Funding, including rate of pay and number of hours of work, is determined on an individual basis between the participant and faculty research mentor after the student has been accepted to the program and matched with a faculty mentor.\n",
      "Undergraduates at Illinois Computer Science are an important part of our world-renowned research. From summer programs to paid research positions with faculty, there are multiple ways for our students to contribute to high impact research early in their careers.\n",
      "The study of systems that behave intelligently, artificial intelligence includes several key areas where our faculty are recognized leaders: computer vision, machine listening, natural language processing, machine learning and robotics.\n",
      "The Illinois CS SRP activities include networking and social events, weekly lunch and learn seminars covering topics such as research skills, presentation skills, information about graduate school, including applications, career opportunities, etc. The experience is capped off with an end-of-summer research symposium providing participants an opportunity to share their work.\n",
      "In the Illinois Computer Science Summer Research Program (SRP), students work with Illinois faculty mentors and graduate students over the summer to get an introduction to computer science research. This is an outstanding opportunity for aspiring scientists and faculty to learn from leading experts in computer science.\n",
      "AI group research has led to a number of startups. Derek Hoiem is co-founder and Chief Science Officer of Reconstruct, which visually documents construction sites, matching images to plans and analyzing productivity and risk for delay. Girish Chowdhary is co-founder and CTO of EarthSense, a startup creating machine learning and robotics solutions for agriculture, whose work was featured in a 2020 New York Times article. David Forsyth advises a number of startups focusing on augmented reality and image synthesis, including Lightform, Revery, and Depix.\n",
      "In the last few years, AI group members received a number of best paper awards, including: IEEE Signal Processing Society Best Paper Award (Smaragdis, 2018 and 2020), IEEE MLSP Best Paper Award (Smaragdis, 2017), Best Demo Paper Award at the 58th Annual Meeting of the Association for Computational Linguistics (Ji, 2020).\n",
      "AI faculty are playing key roles in two $20 million AI institutes recently funded by the National Science Foundation and the U.S. Department of Agriculture’s National Institute of Food and Agriculture. The AI Institute for Future Agricultural Resilience, Management, and Sustainability (AIFARMS), led by Vikram Adve from CS, features Romit Chowdhary as Associate Director of Research, with other investigators including Alexander Schwing, Katherine Driggs-Campbell, Indranil Gupta, Kris Hauser, Julia Hockenmaier, Heng Ji, Sanmi Koyejo, and Paris Smaragdis. The AI Institute for Molecular Discovery, Synthetic Strategy, and Manufacturing, led by Huimin Zhao from Chemical Engineering, involves Heng Ji and Jian Peng as investigators.\n",
      "Computer vision systems can understand images and video, for example, building extensive geometric and physical models of cities from video, or warning construction workers about nearby dangers. Natural language processing systems understand written and spoken language; possibilities include automatic translation of text from one language to another, or understanding text on Wikipedia to produce knowledge about the world. Machine listening systems understand audio signals, with applications like speech recognition, acoustic monitoring, or transcribing polyphonic music automatically. Crucial to modern artificial intelligence, machine learning methods exploit examples in order to adjust systems to work as effectively as possible. Robotics puts artificial intelligence into practice using machines that perceive and interact with the physical world.\n",
      "\n",
      "Group 12:\n",
      "The Illinois CS SRP activities include networking and social events, weekly lunch and learn seminars covering topics such as research skills, presentation skills, information about graduate school, including applications, career opportunities, etc. The experience is capped off with an end-of-summer research symposium providing participants an opportunity to share their work.\n",
      "Undergraduates at Illinois Computer Science are an important part of our world-renowned research. From summer programs to paid research positions with faculty, there are multiple ways for our students to contribute to high impact research early in their careers.\n",
      "The SRP will take place in a hybrid format with both in-person and online offerings.\n",
      "Funding, including rate of pay and number of hours of work, is determined on an individual basis between the participant and faculty research mentor after the student has been accepted to the program and matched with a faculty mentor.\n",
      "The SRP will take place from\n",
      "May 30-August 4, 2023.\n",
      "Learn more about program dates, format, and funding for the summer research program.\n",
      "Applications are accepted on a rolling basis, however, students are encouraged to apply as soon as possible.\n",
      "The AI group at Illinois is strong, diverse, and growing. It combines expertise in core strengths with promising new research directions.\n",
      "100 Materials Science and Engineering Building, 1304 W. Green St. Urbana, IL 61801\n",
      "The study of systems that behave intelligently, artificial intelligence includes several key areas where our faculty are recognized leaders: computer vision, machine listening, natural language processing, machine learning and robotics.\n",
      "3269 Beckman Institute (3rd floor tower room).\n",
      "AI group research has led to a number of startups. Derek Hoiem is co-founder and Chief Science Officer of Reconstruct, which visually documents construction sites, matching images to plans and analyzing productivity and risk for delay. Girish Chowdhary is co-founder and CTO of EarthSense, a startup creating machine learning and robotics solutions for agriculture, whose work was featured in a 2020 New York Times article. David Forsyth advises a number of startups focusing on augmented reality and image synthesis, including Lightform, Revery, and Depix.\n",
      "AI faculty are playing key roles in two $20 million AI institutes recently funded by the National Science Foundation and the U.S. Department of Agriculture’s National Institute of Food and Agriculture. The AI Institute for Future Agricultural Resilience, Management, and Sustainability (AIFARMS), led by Vikram Adve from CS, features Romit Chowdhary as Associate Director of Research, with other investigators including Alexander Schwing, Katherine Driggs-Campbell, Indranil Gupta, Kris Hauser, Julia Hockenmaier, Heng Ji, Sanmi Koyejo, and Paris Smaragdis. The AI Institute for Molecular Discovery, Synthetic Strategy, and Manufacturing, led by Huimin Zhao from Chemical Engineering, involves Heng Ji and Jian Peng as investigators.\n",
      "\n",
      "Group 13:\n",
      "Undergraduates at Illinois Computer Science are an important part of our world-renowned research. From summer programs to paid research positions with faculty, there are multiple ways for our students to contribute to high impact research early in their careers.\n",
      "The SRP will take place in a hybrid format with both in-person and online offerings.\n",
      "In the Illinois Computer Science Summer Research Program (SRP), students work with Illinois faculty mentors and graduate students over the summer to get an introduction to computer science research. This is an outstanding opportunity for aspiring scientists and faculty to learn from leading experts in computer science.\n",
      "The SRP will take place from\n",
      "May 30-August 4, 2023.\n",
      "Funding, including rate of pay and number of hours of work, is determined on an individual basis between the participant and faculty research mentor after the student has been accepted to the program and matched with a faculty mentor.\n",
      "Learn more about program dates, format, and funding for the summer research program.\n",
      "The AI group at Illinois is strong, diverse, and growing. It combines expertise in core strengths with promising new research directions.\n",
      "Applications are accepted on a rolling basis, however, students are encouraged to apply as soon as possible.\n",
      "100 Materials Science and Engineering Building, 1304 W. Green St. Urbana, IL 61801\n",
      "3269 Beckman Institute (3rd floor tower room).\n",
      "The study of systems that behave intelligently, artificial intelligence includes several key areas where our faculty are recognized leaders: computer vision, machine listening, natural language processing, machine learning and robotics.\n",
      "AI group research has led to a number of startups. Derek Hoiem is co-founder and Chief Science Officer of Reconstruct, which visually documents construction sites, matching images to plans and analyzing productivity and risk for delay. Girish Chowdhary is co-founder and CTO of EarthSense, a startup creating machine learning and robotics solutions for agriculture, whose work was featured in a 2020 New York Times article. David Forsyth advises a number of startups focusing on augmented reality and image synthesis, including Lightform, Revery, and Depix.\n",
      "AI faculty are playing key roles in two $20 million AI institutes recently funded by the National Science Foundation and the U.S. Department of Agriculture’s National Institute of Food and Agriculture. The AI Institute for Future Agricultural Resilience, Management, and Sustainability (AIFARMS), led by Vikram Adve from CS, features Romit Chowdhary as Associate Director of Research, with other investigators including Alexander Schwing, Katherine Driggs-Campbell, Indranil Gupta, Kris Hauser, Julia Hockenmaier, Heng Ji, Sanmi Koyejo, and Paris Smaragdis. The AI Institute for Molecular Discovery, Synthetic Strategy, and Manufacturing, led by Huimin Zhao from Chemical Engineering, involves Heng Ji and Jian Peng as investigators.\n",
      "In the last few years, AI group members received a number of best paper awards, including: IEEE Signal Processing Society Best Paper Award (Smaragdis, 2018 and 2020), IEEE MLSP Best Paper Award (Smaragdis, 2017), Best Demo Paper Award at the 58th Annual Meeting of the Association for Computational Linguistics (Ji, 2020).\n",
      "\n",
      "Group 14:\n",
      "The SRP will take place in a hybrid format with both in-person and online offerings.\n",
      "The SRP will take place from\n",
      "May 30-August 4, 2023.\n",
      "Funding, including rate of pay and number of hours of work, is determined on an individual basis between the participant and faculty research mentor after the student has been accepted to the program and matched with a faculty mentor.\n",
      "100 Materials Science and Engineering Building, 1304 W. Green St. Urbana, IL 61801\n",
      "The AI group at Illinois is strong, diverse, and growing. It combines expertise in core strengths with promising new research directions.\n",
      "3269 Beckman Institute (3rd floor tower room).\n",
      "Applications are accepted on a rolling basis, however, students are encouraged to apply as soon as possible.\n",
      "Undergraduates at Illinois Computer Science are an important part of our world-renowned research. From summer programs to paid research positions with faculty, there are multiple ways for our students to contribute to high impact research early in their careers.\n",
      "The Illinois CS SRP activities include networking and social events, weekly lunch and learn seminars covering topics such as research skills, presentation skills, information about graduate school, including applications, career opportunities, etc. The experience is capped off with an end-of-summer research symposium providing participants an opportunity to share their work.\n",
      "The study of systems that behave intelligently, artificial intelligence includes several key areas where our faculty are recognized leaders: computer vision, machine listening, natural language processing, machine learning and robotics.\n",
      "In the Illinois Computer Science Summer Research Program (SRP), students work with Illinois faculty mentors and graduate students over the summer to get an introduction to computer science research. This is an outstanding opportunity for aspiring scientists and faculty to learn from leading experts in computer science.\n",
      "AI group research has led to a number of startups. Derek Hoiem is co-founder and Chief Science Officer of Reconstruct, which visually documents construction sites, matching images to plans and analyzing productivity and risk for delay. Girish Chowdhary is co-founder and CTO of EarthSense, a startup creating machine learning and robotics solutions for agriculture, whose work was featured in a 2020 New York Times article. David Forsyth advises a number of startups focusing on augmented reality and image synthesis, including Lightform, Revery, and Depix.\n",
      "In the last few years, AI group members received a number of best paper awards, including: IEEE Signal Processing Society Best Paper Award (Smaragdis, 2018 and 2020), IEEE MLSP Best Paper Award (Smaragdis, 2017), Best Demo Paper Award at the 58th Annual Meeting of the Association for Computational Linguistics (Ji, 2020).\n",
      "AI faculty are playing key roles in two $20 million AI institutes recently funded by the National Science Foundation and the U.S. Department of Agriculture’s National Institute of Food and Agriculture. The AI Institute for Future Agricultural Resilience, Management, and Sustainability (AIFARMS), led by Vikram Adve from CS, features Romit Chowdhary as Associate Director of Research, with other investigators including Alexander Schwing, Katherine Driggs-Campbell, Indranil Gupta, Kris Hauser, Julia Hockenmaier, Heng Ji, Sanmi Koyejo, and Paris Smaragdis. The AI Institute for Molecular Discovery, Synthetic Strategy, and Manufacturing, led by Huimin Zhao from Chemical Engineering, involves Heng Ji and Jian Peng as investigators.\n",
      "Computer vision systems can understand images and video, for example, building extensive geometric and physical models of cities from video, or warning construction workers about nearby dangers. Natural language processing systems understand written and spoken language; possibilities include automatic translation of text from one language to another, or understanding text on Wikipedia to produce knowledge about the world. Machine listening systems understand audio signals, with applications like speech recognition, acoustic monitoring, or transcribing polyphonic music automatically. Crucial to modern artificial intelligence, machine learning methods exploit examples in order to adjust systems to work as effectively as possible. Robotics puts artificial intelligence into practice using machines that perceive and interact with the physical world.\n",
      "\n",
      "Group 15:\n",
      "The SRP will take place in a hybrid format with both in-person and online offerings.\n",
      "Learn more about program dates, format, and funding for the summer research program.\n",
      "100 Materials Science and Engineering Building, 1304 W. Green St. Urbana, IL 61801\n",
      "The AI group at Illinois is strong, diverse, and growing. It combines expertise in core strengths with promising new research directions.\n",
      "Funding, including rate of pay and number of hours of work, is determined on an individual basis between the participant and faculty research mentor after the student has been accepted to the program and matched with a faculty mentor.\n",
      "3269 Beckman Institute (3rd floor tower room).\n",
      "Applications are accepted on a rolling basis, however, students are encouraged to apply as soon as possible.\n",
      "The Illinois CS SRP activities include networking and social events, weekly lunch and learn seminars covering topics such as research skills, presentation skills, information about graduate school, including applications, career opportunities, etc. The experience is capped off with an end-of-summer research symposium providing participants an opportunity to share their work.\n",
      "Undergraduates at Illinois Computer Science are an important part of our world-renowned research. From summer programs to paid research positions with faculty, there are multiple ways for our students to contribute to high impact research early in their careers.\n",
      "In the Illinois Computer Science Summer Research Program (SRP), students work with Illinois faculty mentors and graduate students over the summer to get an introduction to computer science research. This is an outstanding opportunity for aspiring scientists and faculty to learn from leading experts in computer science.\n",
      "The study of systems that behave intelligently, artificial intelligence includes several key areas where our faculty are recognized leaders: computer vision, machine listening, natural language processing, machine learning and robotics.\n",
      "AI group research has led to a number of startups. Derek Hoiem is co-founder and Chief Science Officer of Reconstruct, which visually documents construction sites, matching images to plans and analyzing productivity and risk for delay. Girish Chowdhary is co-founder and CTO of EarthSense, a startup creating machine learning and robotics solutions for agriculture, whose work was featured in a 2020 New York Times article. David Forsyth advises a number of startups focusing on augmented reality and image synthesis, including Lightform, Revery, and Depix.\n",
      "In the last few years, AI group members received a number of best paper awards, including: IEEE Signal Processing Society Best Paper Award (Smaragdis, 2018 and 2020), IEEE MLSP Best Paper Award (Smaragdis, 2017), Best Demo Paper Award at the 58th Annual Meeting of the Association for Computational Linguistics (Ji, 2020).\n",
      "AI faculty are playing key roles in two $20 million AI institutes recently funded by the National Science Foundation and the U.S. Department of Agriculture’s National Institute of Food and Agriculture. The AI Institute for Future Agricultural Resilience, Management, and Sustainability (AIFARMS), led by Vikram Adve from CS, features Romit Chowdhary as Associate Director of Research, with other investigators including Alexander Schwing, Katherine Driggs-Campbell, Indranil Gupta, Kris Hauser, Julia Hockenmaier, Heng Ji, Sanmi Koyejo, and Paris Smaragdis. The AI Institute for Molecular Discovery, Synthetic Strategy, and Manufacturing, led by Huimin Zhao from Chemical Engineering, involves Heng Ji and Jian Peng as investigators.\n",
      "\n",
      "Group 16:\n",
      "Learn more about program dates, format, and funding for the summer research program.\n",
      "The SRP will take place from\n",
      "May 30-August 4, 2023.\n",
      "Funding, including rate of pay and number of hours of work, is determined on an individual basis between the participant and faculty research mentor after the student has been accepted to the program and matched with a faculty mentor.\n",
      "The AI group at Illinois is strong, diverse, and growing. It combines expertise in core strengths with promising new research directions.\n",
      "100 Materials Science and Engineering Building, 1304 W. Green St. Urbana, IL 61801\n",
      "3269 Beckman Institute (3rd floor tower room).\n",
      "Applications are accepted on a rolling basis, however, students are encouraged to apply as soon as possible.\n",
      "Undergraduates at Illinois Computer Science are an important part of our world-renowned research. From summer programs to paid research positions with faculty, there are multiple ways for our students to contribute to high impact research early in their careers.\n",
      "The Illinois CS SRP activities include networking and social events, weekly lunch and learn seminars covering topics such as research skills, presentation skills, information about graduate school, including applications, career opportunities, etc. The experience is capped off with an end-of-summer research symposium providing participants an opportunity to share their work.\n",
      "In the Illinois Computer Science Summer Research Program (SRP), students work with Illinois faculty mentors and graduate students over the summer to get an introduction to computer science research. This is an outstanding opportunity for aspiring scientists and faculty to learn from leading experts in computer science.\n",
      "The study of systems that behave intelligently, artificial intelligence includes several key areas where our faculty are recognized leaders: computer vision, machine listening, natural language processing, machine learning and robotics.\n",
      "AI group research has led to a number of startups. Derek Hoiem is co-founder and Chief Science Officer of Reconstruct, which visually documents construction sites, matching images to plans and analyzing productivity and risk for delay. Girish Chowdhary is co-founder and CTO of EarthSense, a startup creating machine learning and robotics solutions for agriculture, whose work was featured in a 2020 New York Times article. David Forsyth advises a number of startups focusing on augmented reality and image synthesis, including Lightform, Revery, and Depix.\n",
      "In the last few years, AI group members received a number of best paper awards, including: IEEE Signal Processing Society Best Paper Award (Smaragdis, 2018 and 2020), IEEE MLSP Best Paper Award (Smaragdis, 2017), Best Demo Paper Award at the 58th Annual Meeting of the Association for Computational Linguistics (Ji, 2020).\n",
      "AI faculty are playing key roles in two $20 million AI institutes recently funded by the National Science Foundation and the U.S. Department of Agriculture’s National Institute of Food and Agriculture. The AI Institute for Future Agricultural Resilience, Management, and Sustainability (AIFARMS), led by Vikram Adve from CS, features Romit Chowdhary as Associate Director of Research, with other investigators including Alexander Schwing, Katherine Driggs-Campbell, Indranil Gupta, Kris Hauser, Julia Hockenmaier, Heng Ji, Sanmi Koyejo, and Paris Smaragdis. The AI Institute for Molecular Discovery, Synthetic Strategy, and Manufacturing, led by Huimin Zhao from Chemical Engineering, involves Heng Ji and Jian Peng as investigators.\n",
      "Computer vision systems can understand images and video, for example, building extensive geometric and physical models of cities from video, or warning construction workers about nearby dangers. Natural language processing systems understand written and spoken language; possibilities include automatic translation of text from one language to another, or understanding text on Wikipedia to produce knowledge about the world. Machine listening systems understand audio signals, with applications like speech recognition, acoustic monitoring, or transcribing polyphonic music automatically. Crucial to modern artificial intelligence, machine learning methods exploit examples in order to adjust systems to work as effectively as possible. Robotics puts artificial intelligence into practice using machines that perceive and interact with the physical world.\n",
      "\n",
      "Group 17:\n",
      "Learn more about program dates, format, and funding for the summer research program.\n",
      "The SRP will take place in a hybrid format with both in-person and online offerings.\n",
      "The SRP will take place from\n",
      "May 30-August 4, 2023.\n",
      "The AI group at Illinois is strong, diverse, and growing. It combines expertise in core strengths with promising new research directions.\n",
      "Applications are accepted on a rolling basis, however, students are encouraged to apply as soon as possible.\n",
      "3269 Beckman Institute (3rd floor tower room).\n",
      "100 Materials Science and Engineering Building, 1304 W. Green St. Urbana, IL 61801\n",
      "The Illinois CS SRP activities include networking and social events, weekly lunch and learn seminars covering topics such as research skills, presentation skills, information about graduate school, including applications, career opportunities, etc. The experience is capped off with an end-of-summer research symposium providing participants an opportunity to share their work.\n",
      "Undergraduates at Illinois Computer Science are an important part of our world-renowned research. From summer programs to paid research positions with faculty, there are multiple ways for our students to contribute to high impact research early in their careers.\n",
      "AI group research has led to a number of startups. Derek Hoiem is co-founder and Chief Science Officer of Reconstruct, which visually documents construction sites, matching images to plans and analyzing productivity and risk for delay. Girish Chowdhary is co-founder and CTO of EarthSense, a startup creating machine learning and robotics solutions for agriculture, whose work was featured in a 2020 New York Times article. David Forsyth advises a number of startups focusing on augmented reality and image synthesis, including Lightform, Revery, and Depix.\n",
      "In the Illinois Computer Science Summer Research Program (SRP), students work with Illinois faculty mentors and graduate students over the summer to get an introduction to computer science research. This is an outstanding opportunity for aspiring scientists and faculty to learn from leading experts in computer science.\n",
      "The study of systems that behave intelligently, artificial intelligence includes several key areas where our faculty are recognized leaders: computer vision, machine listening, natural language processing, machine learning and robotics.\n",
      "In the last few years, AI group members received a number of best paper awards, including: IEEE Signal Processing Society Best Paper Award (Smaragdis, 2018 and 2020), IEEE MLSP Best Paper Award (Smaragdis, 2017), Best Demo Paper Award at the 58th Annual Meeting of the Association for Computational Linguistics (Ji, 2020).\n",
      "AI faculty are playing key roles in two $20 million AI institutes recently funded by the National Science Foundation and the U.S. Department of Agriculture’s National Institute of Food and Agriculture. The AI Institute for Future Agricultural Resilience, Management, and Sustainability (AIFARMS), led by Vikram Adve from CS, features Romit Chowdhary as Associate Director of Research, with other investigators including Alexander Schwing, Katherine Driggs-Campbell, Indranil Gupta, Kris Hauser, Julia Hockenmaier, Heng Ji, Sanmi Koyejo, and Paris Smaragdis. The AI Institute for Molecular Discovery, Synthetic Strategy, and Manufacturing, led by Huimin Zhao from Chemical Engineering, involves Heng Ji and Jian Peng as investigators.\n",
      "\n",
      "Group 18:\n",
      "The study of systems that behave intelligently, artificial intelligence includes several key areas where our faculty are recognized leaders: computer vision, machine listening, natural language processing, machine learning and robotics.\n",
      "Learn more about program dates, format, and funding for the summer research program.\n",
      "100 Materials Science and Engineering Building, 1304 W. Green St. Urbana, IL 61801\n",
      "The SRP will take place in a hybrid format with both in-person and online offerings.\n",
      "Funding, including rate of pay and number of hours of work, is determined on an individual basis between the participant and faculty research mentor after the student has been accepted to the program and matched with a faculty mentor.\n",
      "The AI group at Illinois is strong, diverse, and growing. It combines expertise in core strengths with promising new research directions.\n",
      "The SRP will take place from\n",
      "May 30-August 4, 2023.\n",
      "3269 Beckman Institute (3rd floor tower room).\n",
      "Undergraduates at Illinois Computer Science are an important part of our world-renowned research. From summer programs to paid research positions with faculty, there are multiple ways for our students to contribute to high impact research early in their careers.\n",
      "The Illinois CS SRP activities include networking and social events, weekly lunch and learn seminars covering topics such as research skills, presentation skills, information about graduate school, including applications, career opportunities, etc. The experience is capped off with an end-of-summer research symposium providing participants an opportunity to share their work.\n",
      "In the Illinois Computer Science Summer Research Program (SRP), students work with Illinois faculty mentors and graduate students over the summer to get an introduction to computer science research. This is an outstanding opportunity for aspiring scientists and faculty to learn from leading experts in computer science.\n",
      "AI group research has led to a number of startups. Derek Hoiem is co-founder and Chief Science Officer of Reconstruct, which visually documents construction sites, matching images to plans and analyzing productivity and risk for delay. Girish Chowdhary is co-founder and CTO of EarthSense, a startup creating machine learning and robotics solutions for agriculture, whose work was featured in a 2020 New York Times article. David Forsyth advises a number of startups focusing on augmented reality and image synthesis, including Lightform, Revery, and Depix.\n",
      "Computer vision systems can understand images and video, for example, building extensive geometric and physical models of cities from video, or warning construction workers about nearby dangers. Natural language processing systems understand written and spoken language; possibilities include automatic translation of text from one language to another, or understanding text on Wikipedia to produce knowledge about the world. Machine listening systems understand audio signals, with applications like speech recognition, acoustic monitoring, or transcribing polyphonic music automatically. Crucial to modern artificial intelligence, machine learning methods exploit examples in order to adjust systems to work as effectively as possible. Robotics puts artificial intelligence into practice using machines that perceive and interact with the physical world.\n",
      "In the last few years, AI group members received a number of best paper awards, including: IEEE Signal Processing Society Best Paper Award (Smaragdis, 2018 and 2020), IEEE MLSP Best Paper Award (Smaragdis, 2017), Best Demo Paper Award at the 58th Annual Meeting of the Association for Computational Linguistics (Ji, 2020).\n",
      "In machine learning, AI group faculty are studying theoretical foundations of deep and reinforcement learning; developing novel models and algorithms for deep neural networks, federated and distributed learning; as well as investigating issues related to scalability, security, privacy, and fairness of learning systems. Computer vision faculty are developing novel approaches for 2D and 3D scene understanding from still images and video; joint understanding of images and language; low-shot learning (recognition of rare or previously unseen categories); transfer learning and domain adaptation (adapting pre-trained systems to a changing data distribution); and image generation and editing approaches based on generative neural networks. Natural language processing faculty are working on topics such as grounded language understanding, information extraction and text mining, and knowledge-driven natural language generation for applications such as scientific discovery. Machine listening faculty are working on sound and speech understanding, source separation, and enhancement, as well as applications in music and computing. Robotics faculty are developing novel planning algorithms for grasping, locomotion, and navigation; investigating multi-robot systems; as well as pursuing high-impact applications of robotics to medicine, agriculture, home care, and autonomous driving.\n",
      "\n"
     ]
    }
   ],
   "source": [
    "for group, members in clusters.items():\n",
    "    print(f\"Group {group + 1}:\")\n",
    "    for member in members:\n",
    "        print(paragraphs[member])\n",
    "    print()"
   ]
  },
  {
   "cell_type": "code",
   "execution_count": null,
   "id": "9f81fdca-fcb8-49b9-9d44-ae9fbd43948a",
   "metadata": {},
   "outputs": [],
   "source": []
  }
 ],
 "metadata": {
  "kernelspec": {
   "display_name": "Python 3 (ipykernel)",
   "language": "python",
   "name": "python3"
  },
  "language_info": {
   "codemirror_mode": {
    "name": "ipython",
    "version": 3
   },
   "file_extension": ".py",
   "mimetype": "text/x-python",
   "name": "python",
   "nbconvert_exporter": "python",
   "pygments_lexer": "ipython3",
   "version": "3.8.18"
  }
 },
 "nbformat": 4,
 "nbformat_minor": 5
}
